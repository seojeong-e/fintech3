{
 "cells": [
  {
   "cell_type": "markdown",
   "id": "fd18380a",
   "metadata": {},
   "source": [
    "# 클래스\n",
    "* 객체지향 프로그래밍\n",
    "* 코드를 재사용하는데 특화\n",
    "* 여러 사람이 이용할 때 같은 코드를 독립적으로 사용 가능\n",
    "* 캡슐화, 상속, 다형성 같은 개념 사용"
   ]
  },
  {
   "cell_type": "markdown",
   "id": "6686cc48",
   "metadata": {},
   "source": [
    "## 1) 절차적 프로그래밍\n",
    "* 프로그래밍을 순차적으로 하는 것\n",
    "* 코드가 위에서 아래로 절차적으로 실행"
   ]
  },
  {
   "cell_type": "code",
   "execution_count": 1,
   "id": "2ca48816",
   "metadata": {},
   "outputs": [
    {
     "name": "stdout",
     "output_type": "stream",
     "text": [
      "[1, 4, 9, 16]\n"
     ]
    }
   ],
   "source": [
    "# nums = [1,2,3,4] 의 각 요소를 제곱한 리스트를 출력하세요\n",
    "nums = [1,2,3,4]\n",
    "squares = []\n",
    "for i in nums:\n",
    "    squares.append(i**2)\n",
    "print(squares)"
   ]
  },
  {
   "cell_type": "markdown",
   "id": "593cd705",
   "metadata": {},
   "source": [
    "## 2) 함수형 프로그래밍\n",
    "* 여러 개의 함수를 작성해서 함수에 기반해 프로그래밍 실행\n",
    "* 코드의 재사용 가능\n",
    "* 유지보수가 쉬워짐\n",
    "* 버그 발생률이 낮고 예측 가능성이 높음\n",
    "* 병렬처리, 동시성 처리에 강함 - 멀티코어를 이용할 때 유리"
   ]
  },
  {
   "cell_type": "code",
   "execution_count": 2,
   "id": "9bdcf32f",
   "metadata": {},
   "outputs": [
    {
     "name": "stdout",
     "output_type": "stream",
     "text": [
      "[1, 4, 9, 16]\n"
     ]
    }
   ],
   "source": [
    "nums = [1,2,3,4]\n",
    "squares = list(map(lambda x: x**2, nums))\n",
    "print(squares)"
   ]
  },
  {
   "cell_type": "markdown",
   "id": "242c9f2e",
   "metadata": {},
   "source": [
    "## 3) 객체지향형 프로그래밍\n",
    "* Java, C++\n",
    "* 클래스 기반으로 프로그래밍\n",
    "* 코드를 재사용하는데 특화\n",
    "* 여러 사람이 이용할 때 같은 코드를 독립적으로 사용 가능 "
   ]
  },
  {
   "cell_type": "code",
   "execution_count": 3,
   "id": "c81b5740",
   "metadata": {},
   "outputs": [],
   "source": [
    "class NumberList():\n",
    "    def __init__(self, numbers):\n",
    "        self.numbers= numbers\n",
    "    def squared(self):\n",
    "        return [x**2 for x in self.numbers]"
   ]
  },
  {
   "cell_type": "code",
   "execution_count": 4,
   "id": "70867724",
   "metadata": {},
   "outputs": [
    {
     "data": {
      "text/plain": [
       "[1, 4, 9, 16]"
      ]
     },
     "execution_count": 4,
     "metadata": {},
     "output_type": "execute_result"
    }
   ],
   "source": [
    "squared = NumberList([1,2,3,4])\n",
    "squared.squared()"
   ]
  },
  {
   "cell_type": "markdown",
   "id": "e72b815f",
   "metadata": {},
   "source": [
    "# 클래스 만들기\n",
    "* 클래스 하나에 여러개의 함수(메서드)를 포함\n",
    "* 클래스 = 공장(커피머신 공장) - 커피머신\n",
    "* 메서드 = 커피머신의 기능(에스프레소, 아메리카노, 카페라떼, 스팀)"
   ]
  },
  {
   "cell_type": "markdown",
   "id": "6285712b",
   "metadata": {},
   "source": [
    "# 클래스를 사용해야 하는 이유"
   ]
  },
  {
   "cell_type": "code",
   "execution_count": 5,
   "id": "8aa46c92",
   "metadata": {},
   "outputs": [],
   "source": [
    "# 더하기 함수 만들기\n",
    "def add(num1, num2):\n",
    "    result = num1 + num2\n",
    "    return result"
   ]
  },
  {
   "cell_type": "code",
   "execution_count": 6,
   "id": "661d7e7e",
   "metadata": {},
   "outputs": [
    {
     "data": {
      "text/plain": [
       "8"
      ]
     },
     "execution_count": 6,
     "metadata": {},
     "output_type": "execute_result"
    }
   ],
   "source": [
    "add(3, 5)"
   ]
  },
  {
   "cell_type": "markdown",
   "id": "1c72ea41",
   "metadata": {},
   "source": [
    "* 이전에 계산했던 결과를 기억하는 계산기"
   ]
  },
  {
   "cell_type": "code",
   "execution_count": 7,
   "id": "e00e459a",
   "metadata": {},
   "outputs": [],
   "source": [
    "result_cal = 0\n",
    "def add(num, result_cal):\n",
    "    print(\"result_cal:\", result_cal)\n",
    "    result_cal += num\n",
    "    return result_cal\n",
    "\n",
    "# 내부에 있는 함수의 값은 외부 함수에 영향을 주지 않는다"
   ]
  },
  {
   "cell_type": "code",
   "execution_count": 8,
   "id": "ec1a135f",
   "metadata": {},
   "outputs": [
    {
     "name": "stdout",
     "output_type": "stream",
     "text": [
      "result_cal: 0\n"
     ]
    },
    {
     "data": {
      "text/plain": [
       "10"
      ]
     },
     "execution_count": 8,
     "metadata": {},
     "output_type": "execute_result"
    }
   ],
   "source": [
    "add(10, result_cal)"
   ]
  },
  {
   "cell_type": "code",
   "execution_count": 9,
   "id": "3e7668be",
   "metadata": {},
   "outputs": [
    {
     "name": "stdout",
     "output_type": "stream",
     "text": [
      "result_cal: 0\n"
     ]
    },
    {
     "data": {
      "text/plain": [
       "5"
      ]
     },
     "execution_count": 9,
     "metadata": {},
     "output_type": "execute_result"
    }
   ],
   "source": [
    "add(5, result_cal)"
   ]
  },
  {
   "cell_type": "code",
   "execution_count": 10,
   "id": "ea93c990",
   "metadata": {},
   "outputs": [
    {
     "name": "stdout",
     "output_type": "stream",
     "text": [
      "1\n",
      "3\n",
      "6\n",
      "10\n"
     ]
    }
   ],
   "source": [
    "hap = 0\n",
    "for i in range(1,5):\n",
    "    hap += i\n",
    "    print(hap)"
   ]
  },
  {
   "cell_type": "markdown",
   "id": "22011047",
   "metadata": {},
   "source": [
    "* 지역변수를 전역변수로 변경 global"
   ]
  },
  {
   "cell_type": "code",
   "execution_count": 14,
   "id": "0ce30daa",
   "metadata": {},
   "outputs": [],
   "source": [
    "result_cal = 0\n",
    "def add2(num):\n",
    "    global result_cal\n",
    "    print(\"result_cal:\", result_cal)\n",
    "    result_cal += num\n",
    "    return result_cal"
   ]
  },
  {
   "cell_type": "code",
   "execution_count": 16,
   "id": "64d48e05",
   "metadata": {},
   "outputs": [
    {
     "name": "stdout",
     "output_type": "stream",
     "text": [
      "result_cal: 0\n"
     ]
    },
    {
     "data": {
      "text/plain": [
       "10"
      ]
     },
     "execution_count": 16,
     "metadata": {},
     "output_type": "execute_result"
    }
   ],
   "source": [
    "add2(10)"
   ]
  },
  {
   "cell_type": "code",
   "execution_count": 17,
   "id": "8bc05f91",
   "metadata": {},
   "outputs": [
    {
     "name": "stdout",
     "output_type": "stream",
     "text": [
      "result_cal: 10\n"
     ]
    },
    {
     "data": {
      "text/plain": [
       "15"
      ]
     },
     "execution_count": 17,
     "metadata": {},
     "output_type": "execute_result"
    }
   ],
   "source": [
    "add2(5)"
   ]
  },
  {
   "cell_type": "code",
   "execution_count": null,
   "id": "fc6fd570",
   "metadata": {},
   "outputs": [],
   "source": []
  },
  {
   "cell_type": "markdown",
   "id": "ba716aa5",
   "metadata": {},
   "source": [
    "* 만약 mul함수를 길동이와 둘리가 동시에 같이 쓰고 싶다면?\n",
    "* 함수를 여러개 만들면 된다.\n",
    "* 사용자가 많을 경우 매우 비효율적이 된다.\n",
    "* 하나의 코드로 여러 사람이 이용해도 독립적으로 작동하게 하는 것이 클래스"
   ]
  },
  {
   "cell_type": "code",
   "execution_count": 21,
   "id": "d530860e",
   "metadata": {},
   "outputs": [],
   "source": [
    "result_cal = 0\n",
    "def add_gildong(num):\n",
    "    global result_cal\n",
    "    print(\"result_cal:\", result_cal)\n",
    "    result_cal += num\n",
    "    return result_cal"
   ]
  },
  {
   "cell_type": "code",
   "execution_count": 23,
   "id": "31a39399",
   "metadata": {},
   "outputs": [],
   "source": [
    "result_cal = 0\n",
    "def add_dulli(num):\n",
    "    global result_cal\n",
    "    print(\"result_cal:\", result_cal)\n",
    "    result_cal += num\n",
    "    return result_cal"
   ]
  },
  {
   "attachments": {},
   "cell_type": "markdown",
   "id": "24e6bdc6",
   "metadata": {},
   "source": [
    "# 클래스 만들기\n",
    "* 클래스의 이름은 대문자로 시작하는 카멜표기법으로 만든다. class CalcGildong()\n",
    "class 클래스명():<br>\n",
    "____def 메소드명1():<br>\n",
    "________실행할 코드<br>\n",
    "_________return<br>\n",
    "____def 메소드명2():<br>\n",
    "________실행할 코드<br>\n",
    "_________return<br>"
   ]
  },
  {
   "cell_type": "markdown",
   "id": "4c29157a",
   "metadata": {},
   "source": [
    "클래스로 계산기 만들기"
   ]
  },
  {
   "cell_type": "code",
   "execution_count": 27,
   "id": "737de94f",
   "metadata": {},
   "outputs": [],
   "source": [
    "class Calc():\n",
    "    def __init__(self):\n",
    "        self.result = 0\n",
    "    def add(self, num):\n",
    "        self.result += num\n",
    "        return self.result"
   ]
  },
  {
   "cell_type": "markdown",
   "id": "85d08ad2",
   "metadata": {},
   "source": [
    "# 인스턴스\n",
    "* 만들어진 클래스를 변수에 담는 것 \n",
    "* 만들어진 물건을 사용자에게 배송 "
   ]
  },
  {
   "cell_type": "code",
   "execution_count": 28,
   "id": "5d66ec46",
   "metadata": {},
   "outputs": [],
   "source": [
    "gil = Calc()"
   ]
  },
  {
   "cell_type": "code",
   "execution_count": 29,
   "id": "dc303e0a",
   "metadata": {},
   "outputs": [
    {
     "data": {
      "text/plain": [
       "5"
      ]
     },
     "execution_count": 29,
     "metadata": {},
     "output_type": "execute_result"
    }
   ],
   "source": [
    "gil.add(5)"
   ]
  },
  {
   "cell_type": "code",
   "execution_count": 30,
   "id": "f2c06de2",
   "metadata": {},
   "outputs": [
    {
     "data": {
      "text/plain": [
       "15"
      ]
     },
     "execution_count": 30,
     "metadata": {},
     "output_type": "execute_result"
    }
   ],
   "source": [
    "gil.add(10)"
   ]
  },
  {
   "cell_type": "code",
   "execution_count": 31,
   "id": "48ff0962",
   "metadata": {},
   "outputs": [
    {
     "data": {
      "text/plain": [
       "35"
      ]
     },
     "execution_count": 31,
     "metadata": {},
     "output_type": "execute_result"
    }
   ],
   "source": [
    "gil.add(20)"
   ]
  },
  {
   "cell_type": "code",
   "execution_count": 32,
   "id": "cd9bd405",
   "metadata": {},
   "outputs": [],
   "source": [
    "dul = Calc()"
   ]
  },
  {
   "cell_type": "code",
   "execution_count": 33,
   "id": "5a76d907",
   "metadata": {},
   "outputs": [
    {
     "data": {
      "text/plain": [
       "100"
      ]
     },
     "execution_count": 33,
     "metadata": {},
     "output_type": "execute_result"
    }
   ],
   "source": [
    "dul.add(100)"
   ]
  },
  {
   "cell_type": "markdown",
   "id": "bba1f0a6",
   "metadata": {},
   "source": [
    "# 클래스 사용방법\n",
    "* 변수에 클래스를 담아서 인스턴스 생성(배송)\n",
    "* 공장에서 만든 커피머신을 사용자에게 배송(인스턴스)\n",
    "* 인스턴스 변수명 = 클래스명() => 인스턴스 생성 \n",
    "* 인스턴스를 생성하면 인스턴스변수명.메소드명으로 클래스에 정의한 메소드는 사용할 수 있다."
   ]
  },
  {
   "cell_type": "markdown",
   "id": "aaf8692a",
   "metadata": {},
   "source": [
    "# 메소드(method)\n",
    "* 클래스 안에 정의하는 함수 \n",
    "* 클래스에 기능을 만들어 준다. \n",
    "* def 메소드명(self, 매개변수1, *매개변수2, **kwargs):<br>\n",
    "  ____self.매개변수 = 매개변수"
   ]
  },
  {
   "cell_type": "markdown",
   "id": "8f559055",
   "metadata": {},
   "source": [
    "* 사칙연산이 가능한 FourCal 계산기 만들기"
   ]
  },
  {
   "cell_type": "code",
   "execution_count": 34,
   "id": "3598cffc",
   "metadata": {},
   "outputs": [],
   "source": [
    "class FourCal():\n",
    "    #데이터 입력을 받는 역할의 setdata method\n",
    "    def setdata(self, num1, *num2):\n",
    "        self.num1 = num1\n",
    "        self.num2 = num2\n",
    "        print(\"self.num1:\", self.num1)\n",
    "        print(\"self.num2:\", self.num2)"
   ]
  },
  {
   "cell_type": "code",
   "execution_count": 35,
   "id": "98cfcf09",
   "metadata": {},
   "outputs": [],
   "source": [
    "sam = FourCal()"
   ]
  },
  {
   "cell_type": "code",
   "execution_count": 36,
   "id": "778ab4ea",
   "metadata": {},
   "outputs": [
    {
     "name": "stdout",
     "output_type": "stream",
     "text": [
      "self.num1: 1\n",
      "self.num2: (2, 3, 4)\n"
     ]
    }
   ],
   "source": [
    "sam.setdata(1,2,3,4)"
   ]
  },
  {
   "cell_type": "code",
   "execution_count": 37,
   "id": "464106a9",
   "metadata": {},
   "outputs": [],
   "source": [
    "dul = FourCal()"
   ]
  },
  {
   "cell_type": "code",
   "execution_count": 38,
   "id": "0cb854be",
   "metadata": {},
   "outputs": [
    {
     "name": "stdout",
     "output_type": "stream",
     "text": [
      "self.num1: 5\n",
      "self.num2: (6, 7, 8)\n"
     ]
    }
   ],
   "source": [
    "dul.setdata(5,6,7,8)"
   ]
  },
  {
   "cell_type": "markdown",
   "id": "6f728b6c",
   "metadata": {},
   "source": [
    "클래스에 기능 추가하기"
   ]
  },
  {
   "cell_type": "code",
   "execution_count": 47,
   "id": "dc0229ed",
   "metadata": {},
   "outputs": [],
   "source": [
    "class FourCal():\n",
    "    def setdata(self, num1, num2):\n",
    "        self.num1 = num1\n",
    "        self.num2 = num2\n",
    "        print(f\"self.num1:{self.num1}\")\n",
    "        print(f\"self.num2:{self.num2}\")\n",
    "    \n",
    "    # 덧셈\n",
    "    def add(self):\n",
    "        result = self.num1 + self.num2\n",
    "        return result\n",
    "    \n",
    "    def sub(self):\n",
    "        result = self.num1 - self.num2\n",
    "        return result\n",
    "    \n",
    "    def mul(self):\n",
    "        result = self.num1 * self.num2\n",
    "        return result\n",
    "    \n",
    "    def div(self):\n",
    "        result = self.num1 / self.num2\n",
    "        return result"
   ]
  },
  {
   "cell_type": "code",
   "execution_count": 48,
   "id": "739a28cf",
   "metadata": {},
   "outputs": [],
   "source": [
    "sam = FourCal()"
   ]
  },
  {
   "cell_type": "code",
   "execution_count": 49,
   "id": "848bcdec",
   "metadata": {},
   "outputs": [
    {
     "ename": "AttributeError",
     "evalue": "'FourCal' object has no attribute 'num1'",
     "output_type": "error",
     "traceback": [
      "\u001b[1;31m---------------------------------------------------------------------------\u001b[0m",
      "\u001b[1;31mAttributeError\u001b[0m                            Traceback (most recent call last)",
      "Cell \u001b[1;32mIn[49], line 1\u001b[0m\n\u001b[1;32m----> 1\u001b[0m \u001b[43msam\u001b[49m\u001b[38;5;241;43m.\u001b[39;49m\u001b[43madd\u001b[49m\u001b[43m(\u001b[49m\u001b[43m)\u001b[49m\n",
      "Cell \u001b[1;32mIn[47], line 10\u001b[0m, in \u001b[0;36mFourCal.add\u001b[1;34m(self)\u001b[0m\n\u001b[0;32m      9\u001b[0m \u001b[38;5;28;01mdef\u001b[39;00m\u001b[38;5;250m \u001b[39m\u001b[38;5;21madd\u001b[39m(\u001b[38;5;28mself\u001b[39m):\n\u001b[1;32m---> 10\u001b[0m     result \u001b[38;5;241m=\u001b[39m \u001b[38;5;28;43mself\u001b[39;49m\u001b[38;5;241;43m.\u001b[39;49m\u001b[43mnum1\u001b[49m \u001b[38;5;241m+\u001b[39m \u001b[38;5;28mself\u001b[39m\u001b[38;5;241m.\u001b[39mnum2\n\u001b[0;32m     11\u001b[0m     \u001b[38;5;28;01mreturn\u001b[39;00m result\n",
      "\u001b[1;31mAttributeError\u001b[0m: 'FourCal' object has no attribute 'num1'"
     ]
    }
   ],
   "source": [
    "sam.add()"
   ]
  },
  {
   "cell_type": "code",
   "execution_count": 50,
   "id": "be5434e3",
   "metadata": {},
   "outputs": [
    {
     "name": "stdout",
     "output_type": "stream",
     "text": [
      "self.num1:3\n",
      "self.num2:5\n"
     ]
    }
   ],
   "source": [
    "sam.setdata(3, 5)"
   ]
  },
  {
   "cell_type": "code",
   "execution_count": 51,
   "id": "6fa7565e",
   "metadata": {},
   "outputs": [
    {
     "data": {
      "text/plain": [
       "8"
      ]
     },
     "execution_count": 51,
     "metadata": {},
     "output_type": "execute_result"
    }
   ],
   "source": [
    "sam.add()"
   ]
  },
  {
   "cell_type": "code",
   "execution_count": 52,
   "id": "e27369fa",
   "metadata": {},
   "outputs": [
    {
     "data": {
      "text/plain": [
       "-2"
      ]
     },
     "execution_count": 52,
     "metadata": {},
     "output_type": "execute_result"
    }
   ],
   "source": [
    "sam.sub()"
   ]
  },
  {
   "cell_type": "code",
   "execution_count": 53,
   "id": "5683500b",
   "metadata": {},
   "outputs": [
    {
     "data": {
      "text/plain": [
       "15"
      ]
     },
     "execution_count": 53,
     "metadata": {},
     "output_type": "execute_result"
    }
   ],
   "source": [
    "sam.mul()"
   ]
  },
  {
   "cell_type": "code",
   "execution_count": 54,
   "id": "804236ef",
   "metadata": {},
   "outputs": [
    {
     "data": {
      "text/plain": [
       "0.6"
      ]
     },
     "execution_count": 54,
     "metadata": {},
     "output_type": "execute_result"
    }
   ],
   "source": [
    "sam.div()"
   ]
  },
  {
   "cell_type": "code",
   "execution_count": 55,
   "id": "fcfb95dc",
   "metadata": {},
   "outputs": [],
   "source": [
    "dul = FourCal()"
   ]
  },
  {
   "cell_type": "code",
   "execution_count": 57,
   "id": "15358f2f",
   "metadata": {},
   "outputs": [
    {
     "name": "stdout",
     "output_type": "stream",
     "text": [
      "self.num1:10\n",
      "self.num2:5\n"
     ]
    }
   ],
   "source": [
    "dul.setdata(10, 5)"
   ]
  },
  {
   "cell_type": "code",
   "execution_count": 58,
   "id": "f6cf71f7",
   "metadata": {},
   "outputs": [
    {
     "data": {
      "text/plain": [
       "15"
      ]
     },
     "execution_count": 58,
     "metadata": {},
     "output_type": "execute_result"
    }
   ],
   "source": [
    "dul.add()"
   ]
  },
  {
   "cell_type": "code",
   "execution_count": 59,
   "id": "5735e040",
   "metadata": {},
   "outputs": [
    {
     "data": {
      "text/plain": [
       "50"
      ]
     },
     "execution_count": 59,
     "metadata": {},
     "output_type": "execute_result"
    }
   ],
   "source": [
    "dul.mul()"
   ]
  },
  {
   "cell_type": "markdown",
   "id": "194d0061",
   "metadata": {},
   "source": [
    "# 생성자 \n",
    "* 클래스를 실행해서 인스턴스를 만들 때 자동실행되고 초기값을 받도록 해주는 메소드 \n",
    "* 생성자(constructor)는 객체(인스턴스)(포장지)가 생성될 때 자동으로 호출되는 메서드, 주로 초기값을 받을 때 사용\n",
    "* 클래스 내에서 메서드명으로 __init__ 를 사용하면 그것이 생성자가 된다. "
   ]
  },
  {
   "cell_type": "markdown",
   "id": "40897287",
   "metadata": {},
   "source": [
    "* 생성자를 이용해 초기값을 받는 FourCal2"
   ]
  },
  {
   "cell_type": "code",
   "execution_count": 60,
   "id": "8c4a38c3",
   "metadata": {},
   "outputs": [],
   "source": [
    "class FourCal2():\n",
    "    def __init__(self, num1, num2):\n",
    "        self.num1 = num1\n",
    "        self.num2 = num2\n",
    "    # 덧셈\n",
    "    def add(self):\n",
    "        result = self.num1 + self.num2\n",
    "        return result\n",
    "    \n",
    "    def sub(self):\n",
    "        result = self.num1 - self.num2\n",
    "        return result\n",
    "    \n",
    "    def mul(self):\n",
    "        result = self.num1 * self.num2\n",
    "        return result\n",
    "    \n",
    "    def div(self):\n",
    "        result = self.num1 / self.num2\n",
    "        return result"
   ]
  },
  {
   "cell_type": "code",
   "execution_count": 62,
   "id": "c7731449",
   "metadata": {},
   "outputs": [],
   "source": [
    "gil = FourCal2(3, 5)"
   ]
  },
  {
   "cell_type": "code",
   "execution_count": 63,
   "id": "b719429c",
   "metadata": {},
   "outputs": [
    {
     "data": {
      "text/plain": [
       "8"
      ]
     },
     "execution_count": 63,
     "metadata": {},
     "output_type": "execute_result"
    }
   ],
   "source": [
    "gil.add()"
   ]
  },
  {
   "cell_type": "code",
   "execution_count": 64,
   "id": "3179f032",
   "metadata": {},
   "outputs": [
    {
     "data": {
      "text/plain": [
       "15"
      ]
     },
     "execution_count": 64,
     "metadata": {},
     "output_type": "execute_result"
    }
   ],
   "source": [
    "gil.mul()"
   ]
  },
  {
   "cell_type": "code",
   "execution_count": 65,
   "id": "b1823c24",
   "metadata": {},
   "outputs": [
    {
     "data": {
      "text/plain": [
       "0.6"
      ]
     },
     "execution_count": 65,
     "metadata": {},
     "output_type": "execute_result"
    }
   ],
   "source": [
    "gil.div()"
   ]
  },
  {
   "cell_type": "markdown",
   "id": "ac5f3332",
   "metadata": {},
   "source": [
    "# 클래스의 상속(엄카)\n",
    "* 어떤 클래스를 만들 때 다른 클래스의 기능을 물려받는 것\n",
    "* 기존 클래스에 기능을 추가할 때, 기능을 변경할 때 \n",
    "* A클래스를 상속받아 B클래스를 생성하면 B클래스는 A클래스의 모든 기능을 사용할 수 있다. "
   ]
  },
  {
   "cell_type": "markdown",
   "id": "f3d486ea",
   "metadata": {},
   "source": [
    "* FourCal2을 상속받아 제곱기능을 추가한 MoreFourCal 만들기"
   ]
  },
  {
   "cell_type": "code",
   "execution_count": 66,
   "id": "39e8fe4b",
   "metadata": {},
   "outputs": [],
   "source": [
    "class MoreFourCal(FourCal2):\n",
    "    def pow(self):\n",
    "        result = self.num1 ** self.num2\n",
    "        return result "
   ]
  },
  {
   "cell_type": "code",
   "execution_count": 68,
   "id": "c1c864cb",
   "metadata": {},
   "outputs": [],
   "source": [
    "dul = MoreFourCal(3, 5)"
   ]
  },
  {
   "cell_type": "code",
   "execution_count": 69,
   "id": "f3d8876f",
   "metadata": {},
   "outputs": [
    {
     "data": {
      "text/plain": [
       "243"
      ]
     },
     "execution_count": 69,
     "metadata": {},
     "output_type": "execute_result"
    }
   ],
   "source": [
    "dul.pow()"
   ]
  },
  {
   "cell_type": "code",
   "execution_count": 70,
   "id": "71c819c0",
   "metadata": {},
   "outputs": [
    {
     "data": {
      "text/plain": [
       "8"
      ]
     },
     "execution_count": 70,
     "metadata": {},
     "output_type": "execute_result"
    }
   ],
   "source": [
    "dul.add()"
   ]
  },
  {
   "cell_type": "code",
   "execution_count": 71,
   "id": "db46b0ac",
   "metadata": {},
   "outputs": [
    {
     "data": {
      "text/plain": [
       "-2"
      ]
     },
     "execution_count": 71,
     "metadata": {},
     "output_type": "execute_result"
    }
   ],
   "source": [
    "dul.sub()"
   ]
  },
  {
   "cell_type": "code",
   "execution_count": 72,
   "id": "5738680c",
   "metadata": {},
   "outputs": [
    {
     "data": {
      "text/plain": [
       "15"
      ]
     },
     "execution_count": 72,
     "metadata": {},
     "output_type": "execute_result"
    }
   ],
   "source": [
    "dul.mul()"
   ]
  },
  {
   "cell_type": "code",
   "execution_count": null,
   "id": "fa472d2b",
   "metadata": {},
   "outputs": [],
   "source": []
  },
  {
   "cell_type": "markdown",
   "id": "57b46f42",
   "metadata": {},
   "source": [
    "# 메서드 오버라이딩(method overriding)\n",
    "* 부모 클래스에서 상속한 메서드를 자식 클래스에서 동일한 이름으로 재정의\n",
    "* 기존에 있던 메서드의 기능을 수정할 때 사용"
   ]
  },
  {
   "cell_type": "code",
   "execution_count": 73,
   "id": "feef1936",
   "metadata": {},
   "outputs": [],
   "source": [
    "kim = FourCal2(4,0)"
   ]
  },
  {
   "cell_type": "code",
   "execution_count": 74,
   "id": "96ad45f2",
   "metadata": {},
   "outputs": [
    {
     "data": {
      "text/plain": [
       "4"
      ]
     },
     "execution_count": 74,
     "metadata": {},
     "output_type": "execute_result"
    }
   ],
   "source": [
    "kim.add()"
   ]
  },
  {
   "cell_type": "code",
   "execution_count": 75,
   "id": "bfcca5a6",
   "metadata": {},
   "outputs": [
    {
     "data": {
      "text/plain": [
       "0"
      ]
     },
     "execution_count": 75,
     "metadata": {},
     "output_type": "execute_result"
    }
   ],
   "source": [
    "kim.mul()"
   ]
  },
  {
   "cell_type": "code",
   "execution_count": 76,
   "id": "43499a01",
   "metadata": {},
   "outputs": [
    {
     "ename": "ZeroDivisionError",
     "evalue": "division by zero",
     "output_type": "error",
     "traceback": [
      "\u001b[1;31m---------------------------------------------------------------------------\u001b[0m",
      "\u001b[1;31mZeroDivisionError\u001b[0m                         Traceback (most recent call last)",
      "Cell \u001b[1;32mIn[76], line 1\u001b[0m\n\u001b[1;32m----> 1\u001b[0m \u001b[43mkim\u001b[49m\u001b[38;5;241;43m.\u001b[39;49m\u001b[43mdiv\u001b[49m\u001b[43m(\u001b[49m\u001b[43m)\u001b[49m\n",
      "Cell \u001b[1;32mIn[60], line 19\u001b[0m, in \u001b[0;36mFourCal2.div\u001b[1;34m(self)\u001b[0m\n\u001b[0;32m     18\u001b[0m \u001b[38;5;28;01mdef\u001b[39;00m\u001b[38;5;250m \u001b[39m\u001b[38;5;21mdiv\u001b[39m(\u001b[38;5;28mself\u001b[39m):\n\u001b[1;32m---> 19\u001b[0m     result \u001b[38;5;241m=\u001b[39m \u001b[38;5;28;43mself\u001b[39;49m\u001b[38;5;241;43m.\u001b[39;49m\u001b[43mnum1\u001b[49m\u001b[43m \u001b[49m\u001b[38;5;241;43m/\u001b[39;49m\u001b[43m \u001b[49m\u001b[38;5;28;43mself\u001b[39;49m\u001b[38;5;241;43m.\u001b[39;49m\u001b[43mnum2\u001b[49m\n\u001b[0;32m     20\u001b[0m     \u001b[38;5;28;01mreturn\u001b[39;00m result\n",
      "\u001b[1;31mZeroDivisionError\u001b[0m: division by zero"
     ]
    }
   ],
   "source": [
    "kim.div()\n",
    "\n",
    "# num1/num2로 되어있는데 num2에 0이 들어가있기 때문"
   ]
  },
  {
   "cell_type": "code",
   "execution_count": 77,
   "id": "399a134b",
   "metadata": {},
   "outputs": [],
   "source": [
    "class SafeFourCal(FourCal2):\n",
    "    def div(self):\n",
    "        if self.num2 == 0:\n",
    "            return 0\n",
    "        else:\n",
    "            return self.num1 / self.num2"
   ]
  },
  {
   "cell_type": "code",
   "execution_count": 78,
   "id": "4ff530ee",
   "metadata": {},
   "outputs": [],
   "source": [
    "kim = SafeFourCal(5,0)"
   ]
  },
  {
   "cell_type": "code",
   "execution_count": 79,
   "id": "27a645ab",
   "metadata": {},
   "outputs": [
    {
     "data": {
      "text/plain": [
       "0"
      ]
     },
     "execution_count": 79,
     "metadata": {},
     "output_type": "execute_result"
    }
   ],
   "source": [
    "kim.div()"
   ]
  },
  {
   "cell_type": "markdown",
   "id": "9e2e0def",
   "metadata": {},
   "source": [
    "# 메서드 오버로딩\n",
    "* 한 클래스 안에서 동일한 이름의 메서의 기능을 다르게 재정의\n",
    "* 동일한 이름의 메서드가 기능이 약간 변경된 채로 여러 개 존재"
   ]
  },
  {
   "cell_type": "code",
   "execution_count": 83,
   "id": "189ef356",
   "metadata": {},
   "outputs": [],
   "source": [
    "class OverLoading():\n",
    "    \n",
    "    def add(self, x, y, z):\n",
    "        return x + y + z\n",
    "    def add(self, x,y,z,a):\n",
    "        return x + y + z + a\n",
    "    def add(self, x, y):\n",
    "        return x + y\n",
    "    \n",
    "# 마지막 것만 실행되는 거 "
   ]
  },
  {
   "cell_type": "code",
   "execution_count": 85,
   "id": "d4f426fe",
   "metadata": {},
   "outputs": [],
   "source": [
    "sam = OverLoading()"
   ]
  },
  {
   "cell_type": "code",
   "execution_count": 86,
   "id": "e23aaa86",
   "metadata": {},
   "outputs": [
    {
     "data": {
      "text/plain": [
       "7"
      ]
     },
     "execution_count": 86,
     "metadata": {},
     "output_type": "execute_result"
    }
   ],
   "source": [
    "sam.add(3,4)"
   ]
  },
  {
   "cell_type": "code",
   "execution_count": 87,
   "id": "8121dba2",
   "metadata": {},
   "outputs": [
    {
     "ename": "TypeError",
     "evalue": "add() takes 3 positional arguments but 4 were given",
     "output_type": "error",
     "traceback": [
      "\u001b[1;31m---------------------------------------------------------------------------\u001b[0m",
      "\u001b[1;31mTypeError\u001b[0m                                 Traceback (most recent call last)",
      "Cell \u001b[1;32mIn[87], line 1\u001b[0m\n\u001b[1;32m----> 1\u001b[0m \u001b[43msam\u001b[49m\u001b[38;5;241;43m.\u001b[39;49m\u001b[43madd\u001b[49m\u001b[43m(\u001b[49m\u001b[38;5;241;43m3\u001b[39;49m\u001b[43m,\u001b[49m\u001b[38;5;241;43m4\u001b[39;49m\u001b[43m,\u001b[49m\u001b[38;5;241;43m5\u001b[39;49m\u001b[43m)\u001b[49m\n",
      "\u001b[1;31mTypeError\u001b[0m: add() takes 3 positional arguments but 4 were given"
     ]
    }
   ],
   "source": [
    "sam.add(3,4,5) # self = sam"
   ]
  },
  {
   "cell_type": "markdown",
   "id": "785b5262",
   "metadata": {},
   "source": [
    "multipledispatch 패키지를 통한 메서드 오버로딩"
   ]
  },
  {
   "cell_type": "code",
   "execution_count": 89,
   "id": "00e7dda0",
   "metadata": {},
   "outputs": [
    {
     "name": "stdout",
     "output_type": "stream",
     "text": [
      "Collecting multipledispatch\n",
      "  Downloading multipledispatch-1.0.0-py3-none-any.whl.metadata (3.8 kB)\n",
      "Downloading multipledispatch-1.0.0-py3-none-any.whl (12 kB)\n",
      "Installing collected packages: multipledispatch\n",
      "Successfully installed multipledispatch-1.0.0\n"
     ]
    }
   ],
   "source": [
    "!pip install multipledispatch"
   ]
  },
  {
   "cell_type": "code",
   "execution_count": 90,
   "id": "67d91507",
   "metadata": {},
   "outputs": [],
   "source": [
    "from multipledispatch import dispatch"
   ]
  },
  {
   "cell_type": "code",
   "execution_count": 97,
   "id": "aa1a0ea9",
   "metadata": {},
   "outputs": [],
   "source": [
    "class OverLoading2():    \n",
    "    @dispatch(int, int, int)\n",
    "    def add(self, x, y, z):\n",
    "        return x + y + z\n",
    "    @dispatch(int,int,int,int)\n",
    "    def add(self, x, y, z, a):\n",
    "        return x + y + z + a\n",
    "    @dispatch(int, int)\n",
    "    def add(self, x, y):\n",
    "        return x + y"
   ]
  },
  {
   "cell_type": "code",
   "execution_count": 98,
   "id": "1a933777",
   "metadata": {},
   "outputs": [],
   "source": [
    "sam = OverLoading2()"
   ]
  },
  {
   "cell_type": "code",
   "execution_count": 99,
   "id": "e770f1e1",
   "metadata": {},
   "outputs": [
    {
     "data": {
      "text/plain": [
       "8"
      ]
     },
     "execution_count": 99,
     "metadata": {},
     "output_type": "execute_result"
    }
   ],
   "source": [
    "sam.add(3,5)"
   ]
  },
  {
   "cell_type": "code",
   "execution_count": 101,
   "id": "7ad5f054",
   "metadata": {},
   "outputs": [
    {
     "data": {
      "text/plain": [
       "21"
      ]
     },
     "execution_count": 101,
     "metadata": {},
     "output_type": "execute_result"
    }
   ],
   "source": [
    "sam.add(3,5,6,7)"
   ]
  },
  {
   "cell_type": "markdown",
   "id": "fc1aeae4",
   "metadata": {},
   "source": [
    "# 클래스 속성과 인스턴스 속성\n",
    "* 클래스속성: 클래스 전체에서 공유하는 속성(변수), 모든 인스턴스에서 공유\n",
    "* 인스턴스 속성: 인스턴스에서만 사용하는 속성, 인스턴스간 공유 안됨 "
   ]
  },
  {
   "cell_type": "code",
   "execution_count": 102,
   "id": "9da808ea",
   "metadata": {},
   "outputs": [],
   "source": [
    "class DoorLock():\n",
    "    # 클래스 속성\n",
    "    password = \"0000\""
   ]
  },
  {
   "cell_type": "code",
   "execution_count": 103,
   "id": "7a1d5693",
   "metadata": {},
   "outputs": [],
   "source": [
    "dul = DoorLock()"
   ]
  },
  {
   "cell_type": "code",
   "execution_count": 104,
   "id": "a64c9096",
   "metadata": {},
   "outputs": [
    {
     "data": {
      "text/plain": [
       "'0000'"
      ]
     },
     "execution_count": 104,
     "metadata": {},
     "output_type": "execute_result"
    }
   ],
   "source": [
    "dul.password"
   ]
  },
  {
   "cell_type": "code",
   "execution_count": 105,
   "id": "298c2b53",
   "metadata": {},
   "outputs": [],
   "source": [
    "gil = DoorLock()"
   ]
  },
  {
   "cell_type": "code",
   "execution_count": 106,
   "id": "50fa2c93",
   "metadata": {},
   "outputs": [
    {
     "data": {
      "text/plain": [
       "'0000'"
      ]
     },
     "execution_count": 106,
     "metadata": {},
     "output_type": "execute_result"
    }
   ],
   "source": [
    "gil.password"
   ]
  },
  {
   "cell_type": "markdown",
   "id": "91a12a99",
   "metadata": {},
   "source": [
    "park의 인스턴스 속성(비번 변경)"
   ]
  },
  {
   "cell_type": "code",
   "execution_count": 107,
   "id": "df6540bf",
   "metadata": {},
   "outputs": [],
   "source": [
    "park = DoorLock()"
   ]
  },
  {
   "cell_type": "code",
   "execution_count": 108,
   "id": "2c863ca1",
   "metadata": {},
   "outputs": [
    {
     "data": {
      "text/plain": [
       "'0000'"
      ]
     },
     "execution_count": 108,
     "metadata": {},
     "output_type": "execute_result"
    }
   ],
   "source": [
    "park.password"
   ]
  },
  {
   "cell_type": "code",
   "execution_count": 109,
   "id": "1a3cf958",
   "metadata": {},
   "outputs": [],
   "source": [
    "# 인스턴스 속성으로 변경 \n",
    "park.password = \"1234\""
   ]
  },
  {
   "cell_type": "code",
   "execution_count": 110,
   "id": "14e93d27",
   "metadata": {},
   "outputs": [
    {
     "data": {
      "text/plain": [
       "'1234'"
      ]
     },
     "execution_count": 110,
     "metadata": {},
     "output_type": "execute_result"
    }
   ],
   "source": [
    "park.password"
   ]
  },
  {
   "cell_type": "code",
   "execution_count": 111,
   "id": "27aea94f",
   "metadata": {},
   "outputs": [
    {
     "data": {
      "text/plain": [
       "'0000'"
      ]
     },
     "execution_count": 111,
     "metadata": {},
     "output_type": "execute_result"
    }
   ],
   "source": [
    "DoorLock.password"
   ]
  },
  {
   "cell_type": "code",
   "execution_count": 112,
   "id": "a6794a82",
   "metadata": {},
   "outputs": [
    {
     "data": {
      "text/plain": [
       "'0000'"
      ]
     },
     "execution_count": 112,
     "metadata": {},
     "output_type": "execute_result"
    }
   ],
   "source": [
    "gil.password"
   ]
  },
  {
   "cell_type": "code",
   "execution_count": 113,
   "id": "19afc2c9",
   "metadata": {},
   "outputs": [],
   "source": [
    "gil.password = \"4567\""
   ]
  },
  {
   "cell_type": "code",
   "execution_count": 114,
   "id": "e830bfba",
   "metadata": {},
   "outputs": [
    {
     "data": {
      "text/plain": [
       "'4567'"
      ]
     },
     "execution_count": 114,
     "metadata": {},
     "output_type": "execute_result"
    }
   ],
   "source": [
    "gil.password"
   ]
  },
  {
   "cell_type": "code",
   "execution_count": 115,
   "id": "22f23fbb",
   "metadata": {},
   "outputs": [
    {
     "data": {
      "text/plain": [
       "'0000'"
      ]
     },
     "execution_count": 115,
     "metadata": {},
     "output_type": "execute_result"
    }
   ],
   "source": [
    "DoorLock.password"
   ]
  },
  {
   "cell_type": "markdown",
   "id": "cefe453e",
   "metadata": {},
   "source": [
    "# 비공개 클래스 속성\n",
    "* __변수명 - 비공개 속성 변수 \n",
    "* 보안이 필요해서 남들에게 정보를 노출하고 싶지 않을 때 사용"
   ]
  },
  {
   "cell_type": "code",
   "execution_count": 129,
   "id": "d58cd13b",
   "metadata": {},
   "outputs": [],
   "source": [
    "class PInfo():\n",
    "    lastname = \"홍\"\n",
    "    __first_name = \"길동\"\n",
    "    __password = \"9513\""
   ]
  },
  {
   "cell_type": "code",
   "execution_count": 122,
   "id": "7f811bb9",
   "metadata": {},
   "outputs": [
    {
     "data": {
      "text/plain": [
       "'홍'"
      ]
     },
     "execution_count": 122,
     "metadata": {},
     "output_type": "execute_result"
    }
   ],
   "source": [
    "PInfo.lastname"
   ]
  },
  {
   "cell_type": "code",
   "execution_count": 125,
   "id": "c03f83f9",
   "metadata": {},
   "outputs": [
    {
     "ename": "AttributeError",
     "evalue": "type object 'PInfo' has no attribute '__frist_name'",
     "output_type": "error",
     "traceback": [
      "\u001b[1;31m---------------------------------------------------------------------------\u001b[0m",
      "\u001b[1;31mAttributeError\u001b[0m                            Traceback (most recent call last)",
      "Cell \u001b[1;32mIn[125], line 1\u001b[0m\n\u001b[1;32m----> 1\u001b[0m \u001b[43mPInfo\u001b[49m\u001b[38;5;241;43m.\u001b[39;49m\u001b[43m__frist_name\u001b[49m\n",
      "\u001b[1;31mAttributeError\u001b[0m: type object 'PInfo' has no attribute '__frist_name'"
     ]
    }
   ],
   "source": [
    "PInfo.__first_name"
   ]
  },
  {
   "cell_type": "code",
   "execution_count": 126,
   "id": "652a77a6",
   "metadata": {},
   "outputs": [
    {
     "ename": "AttributeError",
     "evalue": "type object 'PInfo' has no attribute '__password'",
     "output_type": "error",
     "traceback": [
      "\u001b[1;31m---------------------------------------------------------------------------\u001b[0m",
      "\u001b[1;31mAttributeError\u001b[0m                            Traceback (most recent call last)",
      "Cell \u001b[1;32mIn[126], line 1\u001b[0m\n\u001b[1;32m----> 1\u001b[0m \u001b[43mPInfo\u001b[49m\u001b[38;5;241;43m.\u001b[39;49m\u001b[43m__password\u001b[49m\n",
      "\u001b[1;31mAttributeError\u001b[0m: type object 'PInfo' has no attribute '__password'"
     ]
    }
   ],
   "source": [
    "PInfo.__password"
   ]
  },
  {
   "cell_type": "code",
   "execution_count": 120,
   "id": "81a6295f",
   "metadata": {},
   "outputs": [],
   "source": [
    "hong = PInfo()"
   ]
  },
  {
   "cell_type": "code",
   "execution_count": 127,
   "id": "00dc8f24",
   "metadata": {},
   "outputs": [
    {
     "data": {
      "text/plain": [
       "'홍'"
      ]
     },
     "execution_count": 127,
     "metadata": {},
     "output_type": "execute_result"
    }
   ],
   "source": [
    "hong.lastname"
   ]
  },
  {
   "cell_type": "code",
   "execution_count": 128,
   "id": "ca093fa2",
   "metadata": {},
   "outputs": [
    {
     "ename": "AttributeError",
     "evalue": "'PInfo' object has no attribute '__first_name'",
     "output_type": "error",
     "traceback": [
      "\u001b[1;31m---------------------------------------------------------------------------\u001b[0m",
      "\u001b[1;31mAttributeError\u001b[0m                            Traceback (most recent call last)",
      "Cell \u001b[1;32mIn[128], line 1\u001b[0m\n\u001b[1;32m----> 1\u001b[0m \u001b[43mhong\u001b[49m\u001b[38;5;241;43m.\u001b[39;49m\u001b[43m__first_name\u001b[49m\n",
      "\u001b[1;31mAttributeError\u001b[0m: 'PInfo' object has no attribute '__first_name'"
     ]
    }
   ],
   "source": [
    "hong.__first_name"
   ]
  },
  {
   "cell_type": "markdown",
   "id": "9375641a",
   "metadata": {},
   "source": [
    "* 비공개 클래스 속성을 직접 출력하려고 하면 에러\n",
    "* 클래스 내에서 메서드를 만들어서 출력하면 출력 가능"
   ]
  },
  {
   "cell_type": "code",
   "execution_count": 130,
   "id": "80c918a6",
   "metadata": {},
   "outputs": [],
   "source": [
    "class PInfo():\n",
    "    lastname = \"홍\"\n",
    "    __first_name = \"길동\"\n",
    "    __password = \"9513\"\n",
    "    \n",
    "    def print_name(self):\n",
    "        print(self.__first_name)\n",
    "        \n",
    "    def print_password(self):\n",
    "        print(self.__password)"
   ]
  },
  {
   "cell_type": "code",
   "execution_count": 131,
   "id": "8dbad4c1",
   "metadata": {},
   "outputs": [],
   "source": [
    "sam = PInfo()"
   ]
  },
  {
   "cell_type": "code",
   "execution_count": 132,
   "id": "376c74ee",
   "metadata": {},
   "outputs": [
    {
     "ename": "AttributeError",
     "evalue": "'PInfo' object has no attribute '__first_name'",
     "output_type": "error",
     "traceback": [
      "\u001b[1;31m---------------------------------------------------------------------------\u001b[0m",
      "\u001b[1;31mAttributeError\u001b[0m                            Traceback (most recent call last)",
      "Cell \u001b[1;32mIn[132], line 1\u001b[0m\n\u001b[1;32m----> 1\u001b[0m \u001b[43msam\u001b[49m\u001b[38;5;241;43m.\u001b[39;49m\u001b[43m__first_name\u001b[49m\n",
      "\u001b[1;31mAttributeError\u001b[0m: 'PInfo' object has no attribute '__first_name'"
     ]
    }
   ],
   "source": [
    "sam.__first_name"
   ]
  },
  {
   "cell_type": "code",
   "execution_count": 133,
   "id": "98425b70",
   "metadata": {},
   "outputs": [
    {
     "name": "stdout",
     "output_type": "stream",
     "text": [
      "길동\n"
     ]
    }
   ],
   "source": [
    "sam.print_name()"
   ]
  },
  {
   "cell_type": "code",
   "execution_count": 134,
   "id": "77102bc3",
   "metadata": {},
   "outputs": [
    {
     "name": "stdout",
     "output_type": "stream",
     "text": [
      "9513\n"
     ]
    }
   ],
   "source": [
    "sam.print_password()"
   ]
  },
  {
   "cell_type": "markdown",
   "id": "29519fdb",
   "metadata": {},
   "source": [
    "# 정적메서드 static method\n",
    "* 인스턴스를 만들지 않고도 클래스의 메서드를 바로 사용할 수 있는 메서드\n",
    "* 메서드 위에 @staticmethod라는 데코레이터를 붙여서 만든다.\n",
    "* static method는 self를 받지 않으므로 인스턴스 속성, 인스턴스 메서드가 필요하지 않을 때 사용 "
   ]
  },
  {
   "cell_type": "code",
   "execution_count": 135,
   "id": "40881549",
   "metadata": {},
   "outputs": [],
   "source": [
    "class Cal():\n",
    "    @staticmethod\n",
    "    def add(a,b):\n",
    "        print(a+b)\n",
    "    \n",
    "    @staticmethod\n",
    "    def sub(a, b):\n",
    "        print(a-b)"
   ]
  },
  {
   "cell_type": "code",
   "execution_count": 136,
   "id": "15d9eebf",
   "metadata": {},
   "outputs": [],
   "source": [
    "dul = Cal()"
   ]
  },
  {
   "cell_type": "code",
   "execution_count": 137,
   "id": "7bc7cdc3",
   "metadata": {},
   "outputs": [
    {
     "name": "stdout",
     "output_type": "stream",
     "text": [
      "10\n"
     ]
    }
   ],
   "source": [
    "dul.add(4,6)"
   ]
  },
  {
   "cell_type": "code",
   "execution_count": 139,
   "id": "6f1a3e55",
   "metadata": {},
   "outputs": [
    {
     "name": "stdout",
     "output_type": "stream",
     "text": [
      "10\n"
     ]
    }
   ],
   "source": [
    "Cal.add(4,6)"
   ]
  },
  {
   "cell_type": "code",
   "execution_count": 140,
   "id": "eda17a59",
   "metadata": {
    "scrolled": true
   },
   "outputs": [
    {
     "ename": "TypeError",
     "evalue": "setdata() missing 1 required positional argument: 'num2'",
     "output_type": "error",
     "traceback": [
      "\u001b[1;31m---------------------------------------------------------------------------\u001b[0m",
      "\u001b[1;31mTypeError\u001b[0m                                 Traceback (most recent call last)",
      "Cell \u001b[1;32mIn[140], line 1\u001b[0m\n\u001b[1;32m----> 1\u001b[0m \u001b[43mFourCal\u001b[49m\u001b[38;5;241;43m.\u001b[39;49m\u001b[43msetdata\u001b[49m\u001b[43m(\u001b[49m\u001b[38;5;241;43m3\u001b[39;49m\u001b[43m,\u001b[49m\u001b[43m \u001b[49m\u001b[38;5;241;43m5\u001b[39;49m\u001b[43m)\u001b[49m\n",
      "\u001b[1;31mTypeError\u001b[0m: setdata() missing 1 required positional argument: 'num2'"
     ]
    }
   ],
   "source": [
    "FourCal.setdata(3, 5)"
   ]
  },
  {
   "cell_type": "markdown",
   "id": "70b47d2c",
   "metadata": {},
   "source": [
    "# 클래스 메서드 class method\n",
    "* 메서드 위에 @classmethod를 붙여서 만든다. \n",
    "* 클래스 메서드의 첫 번째 매개변수에는 cls를 지정해야 한다. \n",
    "* 클래스 메서드도 staticmethod처럼 인스턴스 생성 없이 호출이 가능하다.\n",
    "* 클래스 메서드는 메서드 안에서 클래스 속성, 클래스 메서드에 접근해야 할 때 사용"
   ]
  },
  {
   "cell_type": "code",
   "execution_count": 142,
   "id": "c449f220",
   "metadata": {},
   "outputs": [],
   "source": [
    "class Factory():\n",
    "    # 클래스 속성\n",
    "    n_coffice_machine = 0\n",
    "    \n",
    "    def __init__(self):\n",
    "        # 인스턴스가 생성될 때 클래스 속성에 1을 더 함\n",
    "        Factory.n_coffice_machine += 1\n",
    "    \n",
    "    @classmethod\n",
    "    def print_n_coffice_machine(cls):\n",
    "        print(f\"{cls.n_coffice_machine}개가 제조되었습니다.\")\n",
    "        "
   ]
  },
  {
   "cell_type": "code",
   "execution_count": 146,
   "id": "a0556aba",
   "metadata": {},
   "outputs": [
    {
     "data": {
      "text/plain": [
       "2"
      ]
     },
     "execution_count": 146,
     "metadata": {},
     "output_type": "execute_result"
    }
   ],
   "source": [
    "Factory.n_coffice_machine"
   ]
  },
  {
   "cell_type": "code",
   "execution_count": 144,
   "id": "0887ea4f",
   "metadata": {},
   "outputs": [],
   "source": [
    "sam = Factory()"
   ]
  },
  {
   "cell_type": "code",
   "execution_count": 145,
   "id": "cc80353d",
   "metadata": {},
   "outputs": [],
   "source": [
    "sally = Factory()"
   ]
  },
  {
   "cell_type": "markdown",
   "id": "242f6411",
   "metadata": {},
   "source": [
    "* init 외에 객체(인스턴스)를 생성하는 대체 생성 방식을 제공\n",
    "* 입력 데이터의 형식이 다양할 때 classmethod 사용"
   ]
  },
  {
   "cell_type": "code",
   "execution_count": 149,
   "id": "88ee1904",
   "metadata": {},
   "outputs": [],
   "source": [
    "class Date():\n",
    "    def __init__(self, year, month, day):\n",
    "        self.year, self.month, self.day = year, month, day\n",
    "        \n",
    "    def print_date(self):\n",
    "        print(self.year, self.month, self.day)\n",
    "        \n",
    "    @classmethod\n",
    "    def from_string(cls, date_str):\n",
    "        year, month, day = map(int, date_str.split(\"-\"))\n",
    "        return cls(year, month, day)"
   ]
  },
  {
   "cell_type": "code",
   "execution_count": 151,
   "id": "415c6d8b",
   "metadata": {},
   "outputs": [],
   "source": [
    "dul = Date(2025, 10, 2)"
   ]
  },
  {
   "cell_type": "code",
   "execution_count": 152,
   "id": "de5604f2",
   "metadata": {},
   "outputs": [
    {
     "name": "stdout",
     "output_type": "stream",
     "text": [
      "2025 10 2\n"
     ]
    }
   ],
   "source": [
    "dul.print_date()"
   ]
  },
  {
   "cell_type": "code",
   "execution_count": 153,
   "id": "340966bb",
   "metadata": {},
   "outputs": [
    {
     "ename": "TypeError",
     "evalue": "__init__() missing 2 required positional arguments: 'month' and 'day'",
     "output_type": "error",
     "traceback": [
      "\u001b[1;31m---------------------------------------------------------------------------\u001b[0m",
      "\u001b[1;31mTypeError\u001b[0m                                 Traceback (most recent call last)",
      "Cell \u001b[1;32mIn[153], line 1\u001b[0m\n\u001b[1;32m----> 1\u001b[0m dul \u001b[38;5;241m=\u001b[39m \u001b[43mDate\u001b[49m\u001b[43m(\u001b[49m\u001b[38;5;124;43m\"\u001b[39;49m\u001b[38;5;124;43m2025-10-2\u001b[39;49m\u001b[38;5;124;43m\"\u001b[39;49m\u001b[43m)\u001b[49m\n",
      "\u001b[1;31mTypeError\u001b[0m: __init__() missing 2 required positional arguments: 'month' and 'day'"
     ]
    }
   ],
   "source": [
    "dul = Date(\"2025-10-2\")"
   ]
  },
  {
   "cell_type": "code",
   "execution_count": 157,
   "id": "993e143c",
   "metadata": {},
   "outputs": [],
   "source": [
    "dul2 = Date.from_string(\"2025-10-03\")"
   ]
  },
  {
   "cell_type": "code",
   "execution_count": 158,
   "id": "499dd642",
   "metadata": {},
   "outputs": [
    {
     "name": "stdout",
     "output_type": "stream",
     "text": [
      "2025 10 3\n"
     ]
    }
   ],
   "source": [
    "dul2.print_date()"
   ]
  },
  {
   "cell_type": "markdown",
   "id": "d3b9a404",
   "metadata": {},
   "source": [
    "# 추상 클래스 abc(abstract base class)\n",
    "* abc 모듈 필요\n",
    "* 추상 클래스는 추상 클래스를 상속 받아 클래스를 만들 때 반드시 만들어야 하는 메소드를 지정해주는 클래스(업무 매뉴얼, todo list)\n",
    "* 인터페이스\n",
    "* 규칙을 부여해서 그 규칙에 따라 클래스를 만들도록 강제 함\n",
    "* 추상 클래스를 상속받은 클래스는 반드시 추상클래스에서 정의한 메소드를 overriding으로 구현해야 한다.\n",
    "* 이력서 양식에 맞추어 내용 적기 "
   ]
  },
  {
   "cell_type": "code",
   "execution_count": 159,
   "id": "76f1c384",
   "metadata": {},
   "outputs": [],
   "source": [
    "from abc import *"
   ]
  },
  {
   "cell_type": "code",
   "execution_count": 160,
   "id": "c9af8d20",
   "metadata": {},
   "outputs": [],
   "source": [
    "# 추상 클래스 \n",
    "class CoffeeBase(metaclass=ABCMeta):\n",
    "    @abstractmethod\n",
    "    def bean_input(self):\n",
    "        pass\n",
    "    \n",
    "    @abstractmethod\n",
    "    def grind(self):\n",
    "        pass    "
   ]
  },
  {
   "cell_type": "code",
   "execution_count": 161,
   "id": "8e83dfb9",
   "metadata": {},
   "outputs": [
    {
     "ename": "TypeError",
     "evalue": "Can't instantiate abstract class CoffeeBase with abstract methods bean_input, grind",
     "output_type": "error",
     "traceback": [
      "\u001b[1;31m---------------------------------------------------------------------------\u001b[0m",
      "\u001b[1;31mTypeError\u001b[0m                                 Traceback (most recent call last)",
      "Cell \u001b[1;32mIn[161], line 1\u001b[0m\n\u001b[1;32m----> 1\u001b[0m bob \u001b[38;5;241m=\u001b[39m \u001b[43mCoffeeBase\u001b[49m\u001b[43m(\u001b[49m\u001b[43m)\u001b[49m\n",
      "\u001b[1;31mTypeError\u001b[0m: Can't instantiate abstract class CoffeeBase with abstract methods bean_input, grind"
     ]
    }
   ],
   "source": [
    "bob = CoffeeBase()"
   ]
  },
  {
   "cell_type": "code",
   "execution_count": 165,
   "id": "f2693ea3",
   "metadata": {},
   "outputs": [],
   "source": [
    "class CoffeeMachine(CoffeeBase):\n",
    "    def bean_input(self):\n",
    "        print(\"커피 원두 넣기\")\n",
    "        \n",
    "    def grind(self):\n",
    "        print(\"커피 원두 갈기\")  "
   ]
  },
  {
   "cell_type": "code",
   "execution_count": 166,
   "id": "d362ae5a",
   "metadata": {},
   "outputs": [],
   "source": [
    "sam = CoffeeMachine()"
   ]
  },
  {
   "cell_type": "code",
   "execution_count": 169,
   "id": "ba6475a1",
   "metadata": {},
   "outputs": [
    {
     "name": "stdout",
     "output_type": "stream",
     "text": [
      "커피 원두 넣기\n"
     ]
    }
   ],
   "source": [
    "sam.bean_input()"
   ]
  },
  {
   "cell_type": "code",
   "execution_count": 168,
   "id": "185126f6",
   "metadata": {},
   "outputs": [
    {
     "name": "stdout",
     "output_type": "stream",
     "text": [
      "커피 원두 갈기\n"
     ]
    }
   ],
   "source": [
    "sam.grind()"
   ]
  },
  {
   "cell_type": "code",
   "execution_count": null,
   "id": "f69d22fe",
   "metadata": {},
   "outputs": [],
   "source": []
  },
  {
   "cell_type": "code",
   "execution_count": null,
   "id": "385b5be3",
   "metadata": {},
   "outputs": [],
   "source": []
  }
 ],
 "metadata": {
  "kernelspec": {
   "display_name": "Python 3 (ipykernel)",
   "language": "python",
   "name": "python3"
  },
  "language_info": {
   "codemirror_mode": {
    "name": "ipython",
    "version": 3
   },
   "file_extension": ".py",
   "mimetype": "text/x-python",
   "name": "python",
   "nbconvert_exporter": "python",
   "pygments_lexer": "ipython3",
   "version": "3.9.23"
  }
 },
 "nbformat": 4,
 "nbformat_minor": 5
}
