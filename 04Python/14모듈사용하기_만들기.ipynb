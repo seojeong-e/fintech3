{
 "cells": [
  {
   "cell_type": "markdown",
   "id": "9e63fd89",
   "metadata": {},
   "source": [
    "# 모듈\n",
    "* 누군가가 미리 사용하기 편하게 만들어 놓은 함수, 클래스\n",
    "* import 명령을 이용해서 프로그램 가장 위에서 모듈을 불러와 사용할 수 있음\n",
    "* 모듈에 너무 많은 기능이 있는 경우 from 모듈명 import 함수/클래스 형식으로 일부 기능만 불러올 수도 있음\n",
    "* 모듈은 사용자가 직접 만들 수도 있음\n",
    "* 사용자 모듈을 불러올 때는 실행하는 파일과 같은 위치에 있어야 함"
   ]
  },
  {
   "cell_type": "markdown",
   "id": "83bbf481",
   "metadata": {},
   "source": [
    "# datetime 모듈 사용하기"
   ]
  },
  {
   "cell_type": "code",
   "execution_count": 1,
   "id": "538d1905",
   "metadata": {},
   "outputs": [],
   "source": [
    "from datetime import datetime"
   ]
  },
  {
   "cell_type": "code",
   "execution_count": 2,
   "id": "183f8816",
   "metadata": {},
   "outputs": [
    {
     "data": {
      "text/plain": [
       "datetime.datetime(2025, 10, 13, 9, 13, 18, 299106)"
      ]
     },
     "execution_count": 2,
     "metadata": {},
     "output_type": "execute_result"
    }
   ],
   "source": [
    "datetime.now()"
   ]
  },
  {
   "cell_type": "code",
   "execution_count": 3,
   "id": "645e0289",
   "metadata": {},
   "outputs": [
    {
     "name": "stdout",
     "output_type": "stream",
     "text": [
      "2025-10-13 09:13:49.590221\n"
     ]
    }
   ],
   "source": [
    "now = datetime.now()\n",
    "print(now)"
   ]
  },
  {
   "cell_type": "code",
   "execution_count": 5,
   "id": "a80ef94b",
   "metadata": {},
   "outputs": [
    {
     "name": "stdout",
     "output_type": "stream",
     "text": [
      "<class 'datetime.datetime'>\n"
     ]
    }
   ],
   "source": [
    "print(type(now))"
   ]
  },
  {
   "cell_type": "code",
   "execution_count": 4,
   "id": "e439f598",
   "metadata": {
    "scrolled": true
   },
   "outputs": [
    {
     "data": {
      "text/plain": [
       "2025"
      ]
     },
     "execution_count": 4,
     "metadata": {},
     "output_type": "execute_result"
    }
   ],
   "source": [
    "now.year"
   ]
  },
  {
   "cell_type": "code",
   "execution_count": 6,
   "id": "05745368",
   "metadata": {},
   "outputs": [
    {
     "data": {
      "text/plain": [
       "10"
      ]
     },
     "execution_count": 6,
     "metadata": {},
     "output_type": "execute_result"
    }
   ],
   "source": [
    "now.month"
   ]
  },
  {
   "cell_type": "code",
   "execution_count": 7,
   "id": "a9d48f67",
   "metadata": {},
   "outputs": [
    {
     "data": {
      "text/plain": [
       "13"
      ]
     },
     "execution_count": 7,
     "metadata": {},
     "output_type": "execute_result"
    }
   ],
   "source": [
    "now.day"
   ]
  },
  {
   "cell_type": "markdown",
   "id": "5fe93f6d",
   "metadata": {},
   "source": [
    "\"2025-10-13\""
   ]
  },
  {
   "cell_type": "code",
   "execution_count": 15,
   "id": "9c73b804",
   "metadata": {},
   "outputs": [
    {
     "name": "stdout",
     "output_type": "stream",
     "text": [
      "2025-10-13\n"
     ]
    }
   ],
   "source": [
    "print(f\"{now.year}-{now.month:02d}-{now.day:02d}\")"
   ]
  },
  {
   "cell_type": "code",
   "execution_count": 9,
   "id": "39f9897f",
   "metadata": {},
   "outputs": [
    {
     "data": {
      "text/plain": [
       "9"
      ]
     },
     "execution_count": 9,
     "metadata": {},
     "output_type": "execute_result"
    }
   ],
   "source": [
    "now.hour"
   ]
  },
  {
   "cell_type": "code",
   "execution_count": 10,
   "id": "ed74ff32",
   "metadata": {},
   "outputs": [
    {
     "data": {
      "text/plain": [
       "13"
      ]
     },
     "execution_count": 10,
     "metadata": {},
     "output_type": "execute_result"
    }
   ],
   "source": [
    "now.minute"
   ]
  },
  {
   "cell_type": "code",
   "execution_count": 12,
   "id": "368b5dc1",
   "metadata": {},
   "outputs": [
    {
     "data": {
      "text/plain": [
       "49"
      ]
     },
     "execution_count": 12,
     "metadata": {},
     "output_type": "execute_result"
    }
   ],
   "source": [
    "now.second"
   ]
  },
  {
   "cell_type": "markdown",
   "id": "c59d3b1d",
   "metadata": {},
   "source": [
    "시간을 포멧에 맞춰 출력하기 strftime(%Y, %m)"
   ]
  },
  {
   "cell_type": "code",
   "execution_count": 13,
   "id": "9b76c823",
   "metadata": {},
   "outputs": [
    {
     "data": {
      "text/plain": [
       "'2025.10.13 09:13:49'"
      ]
     },
     "execution_count": 13,
     "metadata": {},
     "output_type": "execute_result"
    }
   ],
   "source": [
    "now.strftime(\"%Y.%m.%d %H:%M:%S\")"
   ]
  },
  {
   "cell_type": "code",
   "execution_count": 14,
   "id": "1f9e635c",
   "metadata": {},
   "outputs": [
    {
     "data": {
      "text/plain": [
       "'25.10.13 09:13:49'"
      ]
     },
     "execution_count": 14,
     "metadata": {},
     "output_type": "execute_result"
    }
   ],
   "source": [
    "now.strftime(\"%y.%m.%d %H:%M:%S\")"
   ]
  },
  {
   "cell_type": "markdown",
   "id": "4189edfd",
   "metadata": {},
   "source": [
    "# OS 모듈\n",
    "* cmd 명령어를 python 코드에서 실행하는 모듈"
   ]
  },
  {
   "cell_type": "code",
   "execution_count": 16,
   "id": "c8634eb0",
   "metadata": {},
   "outputs": [],
   "source": [
    "import os"
   ]
  },
  {
   "cell_type": "code",
   "execution_count": 19,
   "id": "5a389921",
   "metadata": {},
   "outputs": [
    {
     "name": "stdout",
     "output_type": "stream",
     "text": [
      "현재 운영체제:  nt\n",
      "현재 사용하는 폴더:  c:\\fintech3\\04Python\n",
      "현재 폴더 내부의 파일 리스트:  ['.ipynb_checkpoints', '01주피터노트북사용법.ipynb', '02파이썬 기초 문법.ipynb', '03변수_자료형_연산자.ipynb', '04문자열과_문자열함수_input.ipynb', '05리스트와 튜플 사용하기.ipynb', '06딕셔너리 사용하기.ipynb', '07서식지정자와 문자열 포메팅.ipynb', '08조건문.ipynb', '09반복문_for_while.ipynb', '10리스트표현식_파일읽기쓰기_json자료정리.ipynb', '11-1연습.ipynb', '11JSON데이터 언패킹해서 CSV파일로 만들기.ipynb', '12함수만들기_예외처리.ipynb', '13클래스_객체지향형프로그래밍.ipynb', '14모듈사용하기_만들기.ipynb', 'data', 'Python 300제_01~100.ipynb', 'Python 300제_101~200.ipynb', 'Python 300제_201~240.ipynb', 'Python 300제_241~300(모듈제외).ipynb', 'result.csv', '신서정_연습문제_01_print_자료형_연산자.ipynb', '신서정_연습문제_04_딕셔너리_30문제.ipynb', '연습문제_03_리스트_튜플_20문제.ipynb', '연습문제_05_딕셔너리_조건문_반복문연습문제_48문제.ipynb']\n"
     ]
    }
   ],
   "source": [
    "# 내가 사용하는 컴퓨터의 기본정보 출력하기\n",
    "print(\"현재 운영체제: \", os.name)\n",
    "print(\"현재 사용하는 폴더: \", os.getcwd())\n",
    "print(\"현재 폴더 내부의 파일 리스트: \", os.listdir())"
   ]
  },
  {
   "cell_type": "code",
   "execution_count": 20,
   "id": "778dc14b",
   "metadata": {},
   "outputs": [],
   "source": [
    "# 현재 위치에서 폴더 만들기 \n",
    "os.mkdir(\"testdir\")"
   ]
  },
  {
   "cell_type": "code",
   "execution_count": 21,
   "id": "275c55b5",
   "metadata": {},
   "outputs": [],
   "source": [
    "# 현재 위치에서 폴더 삭제하기\n",
    "os.rmdir(\"testdir\")"
   ]
  },
  {
   "cell_type": "code",
   "execution_count": 22,
   "id": "31503338",
   "metadata": {},
   "outputs": [
    {
     "data": {
      "text/plain": [
       "0"
      ]
     },
     "execution_count": 22,
     "metadata": {},
     "output_type": "execute_result"
    }
   ],
   "source": [
    "# cmd 명령어 실행하기 실행완료 0, 실행실패 1\n",
    "os.system(\"dir\")"
   ]
  },
  {
   "cell_type": "code",
   "execution_count": 25,
   "id": "170a127a",
   "metadata": {},
   "outputs": [],
   "source": [
    "# 파일을 생성하고 파일 이름 변경하기 \n",
    "with open(\"original.txt\", \"w\") as file:\n",
    "    file.write(\"안녕하세요\")"
   ]
  },
  {
   "cell_type": "code",
   "execution_count": 26,
   "id": "2bbfe581",
   "metadata": {},
   "outputs": [],
   "source": [
    "os.rename(\"original.txt\", \"new_name.txt\")"
   ]
  },
  {
   "cell_type": "code",
   "execution_count": null,
   "id": "c6ae20a6",
   "metadata": {},
   "outputs": [],
   "source": [
    "# 폴더가 있는지 확인하고 없으면 폴더 생성하기\n",
    "if not os.path.exists(\"./testdir\"):\n",
    "    os.mkdir(\"testdir\")\n",
    "else:\n",
    "    print(\"testdir이 이미 있습니다.\")"
   ]
  },
  {
   "cell_type": "code",
   "execution_count": 27,
   "id": "d4171070",
   "metadata": {},
   "outputs": [
    {
     "name": "stdout",
     "output_type": "stream",
     "text": [
      "value\n"
     ]
    }
   ],
   "source": [
    "# 환경변수에 변수와 값 추가하기/ 읽어오기, 현재 파일이 실행되는 동안에만 저장됨\n",
    "os.environ['key'] = \"value\"\n",
    "\n",
    "# 등록된 환경변수 값 불러오기\n",
    "print(os.environ.get('key'))\n"
   ]
  },
  {
   "cell_type": "markdown",
   "id": "bc5254ec",
   "metadata": {},
   "source": [
    "# 내가 만든 함수, 클래스 불러와서 사용하기"
   ]
  },
  {
   "cell_type": "code",
   "execution_count": 28,
   "id": "73e9c403",
   "metadata": {},
   "outputs": [],
   "source": [
    "from mymodule import Cal, add"
   ]
  },
  {
   "cell_type": "code",
   "execution_count": 29,
   "id": "f9c0d450",
   "metadata": {},
   "outputs": [
    {
     "data": {
      "text/plain": [
       "7"
      ]
     },
     "execution_count": 29,
     "metadata": {},
     "output_type": "execute_result"
    }
   ],
   "source": [
    "add(3,4)"
   ]
  },
  {
   "cell_type": "code",
   "execution_count": 31,
   "id": "bb65a497",
   "metadata": {},
   "outputs": [],
   "source": [
    "sam = Cal(3,4)"
   ]
  },
  {
   "cell_type": "code",
   "execution_count": 32,
   "id": "22d3a8f7",
   "metadata": {},
   "outputs": [
    {
     "data": {
      "text/plain": [
       "7"
      ]
     },
     "execution_count": 32,
     "metadata": {},
     "output_type": "execute_result"
    }
   ],
   "source": [
    "sam.add()"
   ]
  },
  {
   "cell_type": "code",
   "execution_count": 33,
   "id": "cf7459d6",
   "metadata": {},
   "outputs": [
    {
     "data": {
      "text/plain": [
       "-1"
      ]
     },
     "execution_count": 33,
     "metadata": {},
     "output_type": "execute_result"
    }
   ],
   "source": [
    "sam.sub()"
   ]
  },
  {
   "cell_type": "code",
   "execution_count": null,
   "id": "02f7fea8",
   "metadata": {},
   "outputs": [],
   "source": []
  },
  {
   "cell_type": "code",
   "execution_count": null,
   "id": "7ce28046",
   "metadata": {},
   "outputs": [],
   "source": []
  }
 ],
 "metadata": {
  "kernelspec": {
   "display_name": "Python 3 (ipykernel)",
   "language": "python",
   "name": "python3"
  },
  "language_info": {
   "codemirror_mode": {
    "name": "ipython",
    "version": 3
   },
   "file_extension": ".py",
   "mimetype": "text/x-python",
   "name": "python",
   "nbconvert_exporter": "python",
   "pygments_lexer": "ipython3",
   "version": "3.9.23"
  }
 },
 "nbformat": 4,
 "nbformat_minor": 5
}
