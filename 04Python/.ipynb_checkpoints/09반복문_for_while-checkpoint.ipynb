{
 "cells": [
  {
   "cell_type": "markdown",
   "id": "2b314dd5",
   "metadata": {},
   "source": [
    "# 반복문 for, while\n",
    "* 반복문은 동일한 작업을 여러 번 반복해야 할 경우 사용\n",
    "* for, while 두 종류의 반복문이 있음\n",
    "* for는 **반복 횟수가 정해져 있는 경우** 사용\n",
    "* while은 **반복 횟수가 정해져 있지 않은 경우** 사용 **(무한반복)**"
   ]
  },
  {
   "cell_type": "markdown",
   "id": "da0bcc86",
   "metadata": {},
   "source": [
    "# for 반복문: 반복할 횟수가 정해져 있는 경우 \n",
    "for 변수1, 변수2 in 반복할 객체/자료(문자열, 리스트, 튜플, 딕셔너리):<br>\n",
    "____반복할 코드"
   ]
  },
  {
   "cell_type": "code",
   "execution_count": 1,
   "id": "16eb6386",
   "metadata": {},
   "outputs": [],
   "source": [
    "# 숫자 생성 함수 range(시작, 끝+1, step)"
   ]
  },
  {
   "cell_type": "code",
   "execution_count": 2,
   "id": "a27d412a",
   "metadata": {},
   "outputs": [
    {
     "name": "stdout",
     "output_type": "stream",
     "text": [
      "1 2 3 4 5 6 7 8 9 10 "
     ]
    }
   ],
   "source": [
    "# for 문을 이용해서 숫자 1-10 출력\n",
    "for num in range(1, 11):\n",
    "    print(num, end=\" \")"
   ]
  },
  {
   "cell_type": "markdown",
   "id": "17b6277c",
   "metadata": {},
   "source": [
    "## 반복문에서 사용할 수 있는 자료형"
   ]
  },
  {
   "cell_type": "markdown",
   "id": "89c0bc92",
   "metadata": {},
   "source": [
    "* 문자열"
   ]
  },
  {
   "cell_type": "code",
   "execution_count": 3,
   "id": "905d80d9",
   "metadata": {},
   "outputs": [
    {
     "name": "stdout",
     "output_type": "stream",
     "text": [
      "파\n",
      "이\n",
      "썬\n",
      "은\n",
      " \n",
      "문\n",
      "자\n",
      "열\n",
      "을\n",
      " \n",
      "반\n",
      "복\n",
      "문\n",
      "에\n",
      " \n",
      "넣\n",
      "어\n",
      "서\n",
      " \n",
      "출\n",
      "력\n",
      " \n",
      "가\n",
      "능\n"
     ]
    }
   ],
   "source": [
    "for i in \"파이썬은 문자열을 반복문에 넣어서 출력 가능\":\n",
    "    print(i)"
   ]
  },
  {
   "cell_type": "markdown",
   "id": "83d8803a",
   "metadata": {},
   "source": [
    "* 리스트/튜플"
   ]
  },
  {
   "cell_type": "code",
   "execution_count": 6,
   "id": "d8f64230",
   "metadata": {},
   "outputs": [
    {
     "name": "stdout",
     "output_type": "stream",
     "text": [
      "<class 'list'> <class 'tuple'>\n",
      "[1, 2, 3, 4.5, '리스트', [1, 2, 3], (4, 5, 6), {'key': 'vlaue'}]\n",
      "(1, 2, 3, 4.5, '리스트', [1, 2, 3], (4, 5, 6), {'key': 'vlaue'})\n"
     ]
    }
   ],
   "source": [
    "l1 = [1,2,3, 4.5, \"리스트\", [1,2,3], (4,5,6), {\"key\" : \"vlaue\"}]\n",
    "t1 = tuple(l1)\n",
    "print(type(l1), type(t1))\n",
    "print(l1)\n",
    "print(t1)"
   ]
  },
  {
   "cell_type": "code",
   "execution_count": 8,
   "id": "8bb5984d",
   "metadata": {},
   "outputs": [
    {
     "name": "stdout",
     "output_type": "stream",
     "text": [
      "1 <class 'int'>\n",
      "2 <class 'int'>\n",
      "3 <class 'int'>\n",
      "4.5 <class 'float'>\n",
      "리스트 <class 'str'>\n",
      "[1, 2, 3] <class 'list'>\n",
      "(4, 5, 6) <class 'tuple'>\n",
      "{'key': 'vlaue'} <class 'dict'>\n"
     ]
    }
   ],
   "source": [
    "# 리스트를 반복문에 넣어서 요소를 하나씩 출력\n",
    "for i in l1:\n",
    "    print(i, type(i))"
   ]
  },
  {
   "cell_type": "code",
   "execution_count": 10,
   "id": "52d2f11c",
   "metadata": {},
   "outputs": [
    {
     "name": "stdout",
     "output_type": "stream",
     "text": [
      "1 <class 'int'>\n",
      "2 <class 'int'>\n",
      "3 <class 'int'>\n",
      "4.5 <class 'float'>\n",
      "리스트 <class 'str'>\n",
      "[1, 2, 3] <class 'list'>\n",
      "(4, 5, 6) <class 'tuple'>\n",
      "{'key': 'vlaue'} <class 'dict'>\n"
     ]
    }
   ],
   "source": [
    "# 튜플을 반복문에 넣어서 요소를 하나씩 출력\n",
    "for i in t1:\n",
    "    print(i, type(i))"
   ]
  },
  {
   "cell_type": "markdown",
   "id": "bd061fef",
   "metadata": {},
   "source": [
    "* 딕셔너리"
   ]
  },
  {
   "cell_type": "code",
   "execution_count": 11,
   "id": "5fb07b7c",
   "metadata": {},
   "outputs": [
    {
     "data": {
      "text/plain": [
       "{'이름': '홍길동', '나이': 40, '주소': '서울', '전화번호': '010-1111-1111'}"
      ]
     },
     "execution_count": 11,
     "metadata": {},
     "output_type": "execute_result"
    }
   ],
   "source": [
    "d = dict(이름=\"홍길동\", 나이=40, 주소=\"서울\", 전화번호=\"010-1111-1111\")\n",
    "d"
   ]
  },
  {
   "cell_type": "code",
   "execution_count": 13,
   "id": "c1a84e0e",
   "metadata": {},
   "outputs": [
    {
     "data": {
      "text/plain": [
       "4"
      ]
     },
     "execution_count": 13,
     "metadata": {},
     "output_type": "execute_result"
    }
   ],
   "source": [
    "# 딕셔너리는 len을 사용시 가장 상위key의 개수가 출력됨\n",
    "len(d)"
   ]
  },
  {
   "cell_type": "code",
   "execution_count": 12,
   "id": "eec8b231",
   "metadata": {},
   "outputs": [
    {
     "name": "stdout",
     "output_type": "stream",
     "text": [
      "이름\n",
      "나이\n",
      "주소\n",
      "전화번호\n"
     ]
    }
   ],
   "source": [
    "# 딕셔너리를 반복문에 넣으면 딕셔너리의 key가 출력됨\n",
    "for i in d:\n",
    "    print(i)"
   ]
  },
  {
   "cell_type": "code",
   "execution_count": 15,
   "id": "51210352",
   "metadata": {},
   "outputs": [
    {
     "name": "stdout",
     "output_type": "stream",
     "text": [
      "이름\n",
      "홍길동\n",
      "나이\n",
      "40\n",
      "주소\n",
      "서울\n",
      "전화번호\n",
      "010-1111-1111\n"
     ]
    }
   ],
   "source": [
    "# key를 이용해 value를 출력\n",
    "for i in d:\n",
    "    print(i)\n",
    "    print(d[i]) # d 에서 i로"
   ]
  },
  {
   "cell_type": "code",
   "execution_count": 17,
   "id": "e1e152de",
   "metadata": {},
   "outputs": [
    {
     "name": "stdout",
     "output_type": "stream",
     "text": [
      "홍길동\n",
      "40\n",
      "서울\n",
      "010-1111-1111\n"
     ]
    }
   ],
   "source": [
    "# 혹시라도 key가 없는 경우\n",
    "for i in d:\n",
    "    #print(i)\n",
    "    print(d.get(i, \"key 없음\"))"
   ]
  },
  {
   "cell_type": "code",
   "execution_count": 20,
   "id": "04b5c3b3",
   "metadata": {},
   "outputs": [
    {
     "name": "stdout",
     "output_type": "stream",
     "text": [
      "<class 'dict_values'>\n"
     ]
    }
   ],
   "source": [
    "# 딕셔너리 함수인 values()\n",
    "d.values()\n",
    "print(type(d.values()))"
   ]
  },
  {
   "cell_type": "code",
   "execution_count": 21,
   "id": "13ea638e",
   "metadata": {},
   "outputs": [
    {
     "name": "stdout",
     "output_type": "stream",
     "text": [
      "홍길동\n",
      "40\n",
      "서울\n",
      "010-1111-1111\n"
     ]
    }
   ],
   "source": [
    "for i in d.values():\n",
    "    print(i)"
   ]
  },
  {
   "cell_type": "code",
   "execution_count": 22,
   "id": "69f8c5ab",
   "metadata": {},
   "outputs": [
    {
     "name": "stdout",
     "output_type": "stream",
     "text": [
      "('이름', '홍길동')\n",
      "('나이', 40)\n",
      "('주소', '서울')\n",
      "('전화번호', '010-1111-1111')\n"
     ]
    }
   ],
   "source": [
    "# 딕셔너리의 key와 value를 동시에 출력\n",
    "for i in d.items():\n",
    "    print(i)"
   ]
  },
  {
   "cell_type": "code",
   "execution_count": 23,
   "id": "8398e991",
   "metadata": {},
   "outputs": [
    {
     "name": "stdout",
     "output_type": "stream",
     "text": [
      "key: 이름, value: 홍길동\n",
      "key: 나이, value: 40\n",
      "key: 주소, value: 서울\n",
      "key: 전화번호, value: 010-1111-1111\n"
     ]
    }
   ],
   "source": [
    "# 딕셔너리의 key와 value를 동시에 출력\n",
    "for k, v in d.items():\n",
    "    print(f\"key: {k}, value: {v}\")"
   ]
  },
  {
   "cell_type": "markdown",
   "id": "ebdc08a4",
   "metadata": {},
   "source": [
    "* for 반복문을 이용해서 1부터 10까지 정수를 더한 합을 출력하세요"
   ]
  },
  {
   "cell_type": "code",
   "execution_count": 25,
   "id": "800bf5d7",
   "metadata": {},
   "outputs": [
    {
     "name": "stdout",
     "output_type": "stream",
     "text": [
      "55\n"
     ]
    }
   ],
   "source": [
    "print(1+2+3+4+5+6+7+8+9+10)"
   ]
  },
  {
   "cell_type": "code",
   "execution_count": 27,
   "id": "e45b4490",
   "metadata": {
    "scrolled": true
   },
   "outputs": [
    {
     "name": "stdout",
     "output_type": "stream",
     "text": [
      "55\n"
     ]
    }
   ],
   "source": [
    "hap = 0 \n",
    "for num in range(1, 11):\n",
    "    hap = hap + num # for문 블록은 여기서 끝남\n",
    "print(hap)"
   ]
  },
  {
   "cell_type": "markdown",
   "id": "2af8d4e2",
   "metadata": {},
   "source": [
    "* 1에서 50사이의 숫자 중에서 짝수만 더한 합을 구하세요\n",
    "  * 숫자 1-50 사이로 생성\n",
    "  * 짝수인지 판별 for문 안쪽에서 if문\n",
    "  * hap 변수에서 짝수만 합하기\n",
    "  * 합계 출력하기"
   ]
  },
  {
   "cell_type": "code",
   "execution_count": 59,
   "id": "7a9aa3bd",
   "metadata": {},
   "outputs": [
    {
     "name": "stdout",
     "output_type": "stream",
     "text": [
      "650\n"
     ]
    }
   ],
   "source": [
    "hap = 0\n",
    "for num in range(1, 51):\n",
    "    #print(num, end=\" \") -확인 필수!!!\n",
    "    if num % 2 == 0:\n",
    "        hap += num # hap = hap + num\n",
    "print(hap)"
   ]
  },
  {
   "cell_type": "code",
   "execution_count": 60,
   "id": "a6858fcf",
   "metadata": {},
   "outputs": [
    {
     "name": "stdout",
     "output_type": "stream",
     "text": [
      "hap: 0, num: 1\n",
      "hap: 2, num: 2\n",
      "hap: 2, num: 3\n",
      "hap: 6, num: 4\n",
      "hap: 6, num: 5\n",
      "hap: 12, num: 6\n",
      "hap: 12, num: 7\n",
      "hap: 20, num: 8\n",
      "hap: 20, num: 9\n",
      "hap: 30, num: 10\n",
      "hap: 30, num: 11\n",
      "hap: 42, num: 12\n",
      "hap: 42, num: 13\n",
      "hap: 56, num: 14\n",
      "hap: 56, num: 15\n",
      "hap: 72, num: 16\n",
      "hap: 72, num: 17\n",
      "hap: 90, num: 18\n",
      "hap: 90, num: 19\n",
      "hap: 110, num: 20\n",
      "hap: 110, num: 21\n",
      "hap: 132, num: 22\n",
      "hap: 132, num: 23\n",
      "hap: 156, num: 24\n",
      "hap: 156, num: 25\n",
      "hap: 182, num: 26\n",
      "hap: 182, num: 27\n",
      "hap: 210, num: 28\n",
      "hap: 210, num: 29\n",
      "hap: 240, num: 30\n",
      "hap: 240, num: 31\n",
      "hap: 272, num: 32\n",
      "hap: 272, num: 33\n",
      "hap: 306, num: 34\n",
      "hap: 306, num: 35\n",
      "hap: 342, num: 36\n",
      "hap: 342, num: 37\n",
      "hap: 380, num: 38\n",
      "hap: 380, num: 39\n",
      "hap: 420, num: 40\n",
      "hap: 420, num: 41\n",
      "hap: 462, num: 42\n",
      "hap: 462, num: 43\n",
      "hap: 506, num: 44\n",
      "hap: 506, num: 45\n",
      "hap: 552, num: 46\n",
      "hap: 552, num: 47\n",
      "hap: 600, num: 48\n",
      "hap: 600, num: 49\n",
      "hap: 650, num: 50\n"
     ]
    }
   ],
   "source": [
    "hap = 0\n",
    "for num in range(1, 51):\n",
    "    #print(num, end=\" \") -확인 필수!!!\n",
    "    if num % 2 == 0:\n",
    "        hap += num # hap = hap + num\n",
    "    print(f\"hap: {hap}, num: {num}\")"
   ]
  },
  {
   "cell_type": "code",
   "execution_count": 61,
   "id": "0f951c62",
   "metadata": {},
   "outputs": [
    {
     "name": "stdout",
     "output_type": "stream",
     "text": [
      "hap: 650, num: 50\n"
     ]
    }
   ],
   "source": [
    "hap = 0\n",
    "for num in range(1, 51):\n",
    "    #print(num, end=\" \") -확인 필수!!!\n",
    "    if num % 2 == 0:\n",
    "        hap += num # hap = hap + num\n",
    "print(f\"hap: {hap}, num: {num}\")"
   ]
  },
  {
   "cell_type": "markdown",
   "id": "73316c44",
   "metadata": {},
   "source": [
    "## 반복문에 사용할 자료를 일부 구간만 사용하기\n",
    "* 슬라이싱 "
   ]
  },
  {
   "cell_type": "markdown",
   "id": "fe7e58ea",
   "metadata": {},
   "source": [
    "* 1부터 100까지 숫자를 생성하고 그중에서 30-70까지만 더해서 출력하세요. "
   ]
  },
  {
   "cell_type": "code",
   "execution_count": 63,
   "id": "cb3b7fa8",
   "metadata": {},
   "outputs": [
    {
     "name": "stdout",
     "output_type": "stream",
     "text": [
      "2050\n"
     ]
    }
   ],
   "source": [
    "# if 조건문을 이용해서 필터링\n",
    "hap = 0\n",
    "for num in range(1,101):\n",
    "    #print(num, end=\" \")\n",
    "    if 30 <= num <= 70:\n",
    "        hap += num\n",
    "print(hap)"
   ]
  },
  {
   "cell_type": "code",
   "execution_count": 65,
   "id": "e0e9797b",
   "metadata": {},
   "outputs": [
    {
     "name": "stdout",
     "output_type": "stream",
     "text": [
      "num: 30, hap: 30\n",
      "num: 31, hap: 61\n",
      "num: 32, hap: 93\n",
      "num: 33, hap: 126\n",
      "num: 34, hap: 160\n",
      "num: 35, hap: 195\n",
      "num: 36, hap: 231\n",
      "num: 37, hap: 268\n",
      "num: 38, hap: 306\n",
      "num: 39, hap: 345\n",
      "num: 40, hap: 385\n",
      "num: 41, hap: 426\n",
      "num: 42, hap: 468\n",
      "num: 43, hap: 511\n",
      "num: 44, hap: 555\n",
      "num: 45, hap: 600\n",
      "num: 46, hap: 646\n",
      "num: 47, hap: 693\n",
      "num: 48, hap: 741\n",
      "num: 49, hap: 790\n",
      "num: 50, hap: 840\n",
      "num: 51, hap: 891\n",
      "num: 52, hap: 943\n",
      "num: 53, hap: 996\n",
      "num: 54, hap: 1050\n",
      "num: 55, hap: 1105\n",
      "num: 56, hap: 1161\n",
      "num: 57, hap: 1218\n",
      "num: 58, hap: 1276\n",
      "num: 59, hap: 1335\n",
      "num: 60, hap: 1395\n",
      "num: 61, hap: 1456\n",
      "num: 62, hap: 1518\n",
      "num: 63, hap: 1581\n",
      "num: 64, hap: 1645\n",
      "num: 65, hap: 1710\n",
      "num: 66, hap: 1776\n",
      "num: 67, hap: 1843\n",
      "num: 68, hap: 1911\n",
      "num: 69, hap: 1980\n",
      "num: 70, hap: 2050\n"
     ]
    }
   ],
   "source": [
    "hap = 0\n",
    "for num in range(1,101):\n",
    "    #print(num, end=\" \")\n",
    "    if 30 <= num <= 70:\n",
    "        hap += num\n",
    "        print(f\"num: {num}, hap: {hap}\")"
   ]
  },
  {
   "cell_type": "code",
   "execution_count": 66,
   "id": "f17aef2b",
   "metadata": {},
   "outputs": [
    {
     "name": "stdout",
     "output_type": "stream",
     "text": [
      "2050\n"
     ]
    }
   ],
   "source": [
    "# 슬라이싱 활용\n",
    "hap = 0\n",
    "for num in range(1,101)[29:70]:\n",
    "    #print(num, end=\" \")\n",
    "    hap += num\n",
    "print(hap)"
   ]
  },
  {
   "cell_type": "markdown",
   "id": "57ce6c13",
   "metadata": {},
   "source": [
    "* 1-100까지 숫자중에서 짝수만 합 구하기 (슬라이싱 이용)"
   ]
  },
  {
   "cell_type": "code",
   "execution_count": 68,
   "id": "e94c610e",
   "metadata": {},
   "outputs": [
    {
     "name": "stdout",
     "output_type": "stream",
     "text": [
      "2550\n"
     ]
    }
   ],
   "source": [
    "# \n",
    "hap = 0\n",
    "for num in range(1,101)[1::2]:\n",
    "    #print(num, end=\" \") 꼭 프린트해서 확인해보기 !!!\n",
    "    hap += num\n",
    "print(hap) "
   ]
  },
  {
   "cell_type": "code",
   "execution_count": null,
   "id": "de2d1992",
   "metadata": {},
   "outputs": [],
   "source": []
  },
  {
   "cell_type": "markdown",
   "id": "4c4a68ca",
   "metadata": {},
   "source": [
    "* 1-100까지 숫자를 생성하고 역순으로 출력하세요."
   ]
  },
  {
   "cell_type": "code",
   "execution_count": 71,
   "id": "9fd049fa",
   "metadata": {},
   "outputs": [
    {
     "name": "stdout",
     "output_type": "stream",
     "text": [
      "100 99 98 97 96 95 94 93 92 91 90 89 88 87 86 85 84 83 82 81 80 79 78 77 76 75 74 73 72 71 70 69 68 67 66 65 64 63 62 61 60 59 58 57 56 55 54 53 52 51 50 49 48 47 46 45 44 43 42 41 40 39 38 37 36 35 34 33 32 31 30 29 28 27 26 25 24 23 22 21 20 19 18 17 16 15 14 13 12 11 10 9 8 7 6 5 4 3 2 1 "
     ]
    }
   ],
   "source": [
    "# range 함수에서 숫자를 역순으로 만들기 \n",
    "for i in range(100,0, -1):\n",
    "     print(i, end=\" \")"
   ]
  },
  {
   "cell_type": "code",
   "execution_count": 72,
   "id": "a80b61db",
   "metadata": {},
   "outputs": [
    {
     "name": "stdout",
     "output_type": "stream",
     "text": [
      "100 99 98 97 96 95 94 93 92 91 90 89 88 87 86 85 84 83 82 81 80 79 78 77 76 75 74 73 72 71 70 69 68 67 66 65 64 63 62 61 60 59 58 57 56 55 54 53 52 51 50 49 48 47 46 45 44 43 42 41 40 39 38 37 36 35 34 33 32 31 30 29 28 27 26 25 24 23 22 21 20 19 18 17 16 15 14 13 12 11 10 9 8 7 6 5 4 3 2 1 "
     ]
    }
   ],
   "source": [
    "# 슬라이싱을 이용한 역인덱싱 ***\n",
    "for i in range(1,101)[::-1]:\n",
    "     print(i, end=\" \")"
   ]
  },
  {
   "cell_type": "code",
   "execution_count": 74,
   "id": "00f79771",
   "metadata": {},
   "outputs": [
    {
     "name": "stdout",
     "output_type": "stream",
     "text": [
      "100 99 98 97 96 95 94 93 92 91 90 89 88 87 86 85 84 83 82 81 80 79 78 77 76 75 74 73 72 71 70 69 68 67 66 65 64 63 62 61 60 59 58 57 56 55 54 53 52 51 50 49 48 47 46 45 44 43 42 41 40 39 38 37 36 35 34 33 32 31 30 29 28 27 26 25 24 23 22 21 20 19 18 17 16 15 14 13 12 11 10 9 8 7 6 5 4 3 2 1 "
     ]
    }
   ],
   "source": [
    "# reversed() 함수 사용\n",
    "for i in reversed(range(1,101)):\n",
    "     print(i, end=\" \")"
   ]
  },
  {
   "cell_type": "code",
   "execution_count": 79,
   "id": "1c4fa235",
   "metadata": {},
   "outputs": [
    {
     "name": "stdout",
     "output_type": "stream",
     "text": [
      "5 4 3 2 1 "
     ]
    }
   ],
   "source": [
    "# sorted(reverse=True) 함수 사용\n",
    "for i in sorted([1,2,3,4,5], reverse=True):\n",
    "     print(i, end=\" \")"
   ]
  },
  {
   "cell_type": "code",
   "execution_count": 80,
   "id": "cf8f189b",
   "metadata": {},
   "outputs": [
    {
     "name": "stdout",
     "output_type": "stream",
     "text": [
      "100 99 98 97 96 95 94 93 92 91 90 89 88 87 86 85 84 83 82 81 80 79 78 77 76 75 74 73 72 71 70 69 68 67 66 65 64 63 62 61 60 59 58 57 56 55 54 53 52 51 50 49 48 47 46 45 44 43 42 41 40 39 38 37 36 35 34 33 32 31 30 29 28 27 26 25 24 23 22 21 20 19 18 17 16 15 14 13 12 11 10 9 8 7 6 5 4 3 2 1 "
     ]
    }
   ],
   "source": [
    "# sorted(reverse=True) 함수 사용\n",
    "for i in sorted(range(1,101), reverse=True):\n",
    "     print(i, end=\" \")"
   ]
  },
  {
   "cell_type": "markdown",
   "id": "f6c7dd1e",
   "metadata": {},
   "source": [
    "# enumerate() 반복문에서 자료의 인덱스를 만들어주는 함수 "
   ]
  },
  {
   "cell_type": "code",
   "execution_count": 81,
   "id": "d6cbe6d9",
   "metadata": {},
   "outputs": [],
   "source": [
    "s = \"enumerate 함수는 반복문에서 index를 만들어 출력해 주는 함수입니다.\""
   ]
  },
  {
   "cell_type": "code",
   "execution_count": 82,
   "id": "b8dfac69",
   "metadata": {},
   "outputs": [],
   "source": [
    "import time"
   ]
  },
  {
   "cell_type": "code",
   "execution_count": 85,
   "id": "3b916588",
   "metadata": {},
   "outputs": [
    {
     "name": "stdout",
     "output_type": "stream",
     "text": [
      "e\n",
      "u\n",
      "e\n",
      "a\n",
      "e\n",
      "함\n",
      "는\n",
      "반\n",
      "문\n",
      "서\n",
      "i\n",
      "d\n",
      "x\n",
      " \n",
      "들\n",
      " \n",
      "력\n",
      " \n",
      "는\n",
      "함\n",
      "입\n",
      "다\n"
     ]
    }
   ],
   "source": [
    "for idx, i in enumerate(s):\n",
    "    #print(idx, i)\n",
    "    if idx % 2 == 0: # 인덱스가 짝수번째인 것만 찍어라\n",
    "        print(i)"
   ]
  },
  {
   "cell_type": "code",
   "execution_count": 91,
   "id": "a2b0a4a7",
   "metadata": {},
   "outputs": [
    {
     "name": "stdout",
     "output_type": "stream",
     "text": [
      "44/44 실행중\r"
     ]
    }
   ],
   "source": [
    "for idx, i in enumerate(s):\n",
    "    print(f\"{idx+1}/{len(s)} 실행중\", end=\"\\r\")\n",
    "    time.sleep(0.1)"
   ]
  },
  {
   "cell_type": "code",
   "execution_count": 92,
   "id": "a66a481c",
   "metadata": {},
   "outputs": [
    {
     "name": "stdout",
     "output_type": "stream",
     "text": [
      "e\n",
      "n\n",
      "u\n",
      "m\n",
      "e\n",
      "r\n",
      "a\n",
      "t\n",
      "e\n",
      " \n",
      "함\n",
      "수\n",
      "는\n",
      " \n",
      "반\n",
      "복\n",
      "문\n",
      "에\n",
      "서\n",
      " \n",
      "i\n",
      "n\n",
      "d\n",
      "e\n",
      "x\n",
      "를\n",
      " \n",
      "만\n",
      "들\n",
      "어\n",
      " \n",
      "출\n",
      "력\n",
      "해\n",
      " \n",
      "주\n",
      "는\n",
      " \n",
      "함\n",
      "수\n",
      "입\n",
      "니\n",
      "다\n",
      ".\n"
     ]
    }
   ],
   "source": [
    "for idx, i in enumerate(s):\n",
    "#    print(f\"{idx+1}/{len(s)} 실행중\", end=\"\\r\")\n",
    "    print(i)\n",
    "    time.sleep(0.1)"
   ]
  },
  {
   "cell_type": "markdown",
   "id": "0e56cf8e",
   "metadata": {},
   "source": [
    "# continue / break\n",
    "* continue: 코드 실행을 건너 뛰고 반복 계속 진행 \n",
    "* break: 특정 조건이 되었을 때 반복문 정지 "
   ]
  },
  {
   "cell_type": "code",
   "execution_count": 98,
   "id": "3970ba48",
   "metadata": {},
   "outputs": [
    {
     "name": "stdout",
     "output_type": "stream",
     "text": [
      "1 n\n",
      "3 m\n",
      "5 r\n",
      "7 t\n",
      "9  \n",
      "11 수\n",
      "13  \n",
      "15 복\n",
      "17 에\n",
      "19  \n"
     ]
    }
   ],
   "source": [
    "for idx, i in enumerate(s):\n",
    "    if idx % 2 == 0:\n",
    "        continue\n",
    "        print(idx, i)\n",
    "    else:\n",
    "        if idx > 19:\n",
    "            break\n",
    "            pass\n",
    "        print(idx, i)"
   ]
  },
  {
   "cell_type": "code",
   "execution_count": 100,
   "id": "30b2675f",
   "metadata": {},
   "outputs": [
    {
     "name": "stdout",
     "output_type": "stream",
     "text": [
      "홀수의 합: 1225\n",
      "짝수의 리스트: [2, 4, 6, 8, 10, 12, 14, 16, 18, 20, 22, 24, 26, 28, 30, 32, 34, 36, 38, 40, 42, 44, 46, 48, 50, 52, 54, 56, 58, 60, 62, 64, 66, 68, 70]\n"
     ]
    }
   ],
   "source": [
    "# 1-100까지 숫자를 생성하고 홀수만 합계를 구하세요.\n",
    "# 만약에 짝수면 짝수만 모인 리스트를 만들고 출력하세요.\n",
    "# 숫자가 70을 초과하면 멈추세요.\n",
    "\n",
    "hap = 0\n",
    "even = []\n",
    "for i in range(1, 101):\n",
    "    if i > 70:\n",
    "        break\n",
    "    else:\n",
    "        if i % 2 != 0:\n",
    "            hap += i\n",
    "        else:\n",
    "            even.append(i)\n",
    "print(f\"홀수의 합: {hap}\")\n",
    "print(f\"짝수의 리스트: {even}\")"
   ]
  },
  {
   "cell_type": "markdown",
   "id": "be53f1f2",
   "metadata": {},
   "source": [
    "# while: 반복할 횟수가 정해지지 않은 경우 \n",
    "* 무한반복 가능 \n",
    "* 무한반복이 되지 않도록 조건식을 잘 짜주는 것이 중요\n",
    "\n",
    "변수 선언 및 초기화 num = 0<br>\n",
    "while 조건식:<br>\n",
    "____반복할 코드<br>\n",
    "____변수 증가/감소 코드<br>\n",
    "____반복문이 종료되는 조건 + break\n",
    "\n",
    "**조건을 잘 줘야함**"
   ]
  },
  {
   "cell_type": "markdown",
   "id": "cc4a882d",
   "metadata": {},
   "source": [
    "* while 문으로 1-10까지 출력하기"
   ]
  },
  {
   "cell_type": "code",
   "execution_count": 104,
   "id": "cb444798",
   "metadata": {},
   "outputs": [
    {
     "name": "stdout",
     "output_type": "stream",
     "text": [
      "1 2 3 4 5 6 7 8 9 10 "
     ]
    }
   ],
   "source": [
    "i = 1\n",
    "while i <= 10:\n",
    "    print(i, end =\" \")\n",
    "    i += 1"
   ]
  },
  {
   "cell_type": "code",
   "execution_count": 108,
   "id": "eca44329",
   "metadata": {},
   "outputs": [
    {
     "name": "stdout",
     "output_type": "stream",
     "text": [
      "1 2 3 4 5 6 7 8 9 10 "
     ]
    }
   ],
   "source": [
    "i = 1\n",
    "while True:\n",
    "    print(i, end =\" \")\n",
    "    if i >= 10:\n",
    "        break\n",
    "    i += 1"
   ]
  },
  {
   "cell_type": "code",
   "execution_count": 109,
   "id": "c881e4aa",
   "metadata": {},
   "outputs": [
    {
     "name": "stdout",
     "output_type": "stream",
     "text": [
      "1 2 3 4 5 6 7 8 9 10 11 "
     ]
    }
   ],
   "source": [
    "i = 1\n",
    "while True:\n",
    "    print(i, end =\" \")\n",
    "    if i > 10:\n",
    "        break\n",
    "    i += 1"
   ]
  },
  {
   "cell_type": "markdown",
   "id": "287648a6",
   "metadata": {},
   "source": [
    "* 1-50까지 수 중에서 3의 배수이거나 짝수인 수를 찾아서 합계를 출력하세요."
   ]
  },
  {
   "cell_type": "code",
   "execution_count": 117,
   "id": "b1227cd2",
   "metadata": {},
   "outputs": [
    {
     "name": "stdout",
     "output_type": "stream",
     "text": [
      "i: 2, hap: 2\n",
      "i: 3, hap: 5\n",
      "i: 4, hap: 9\n",
      "i: 6, hap: 15\n",
      "i: 8, hap: 23\n",
      "i: 9, hap: 32\n",
      "i: 10, hap: 42\n",
      "i: 12, hap: 54\n",
      "i: 14, hap: 68\n",
      "i: 15, hap: 83\n",
      "i: 16, hap: 99\n",
      "i: 18, hap: 117\n",
      "i: 20, hap: 137\n",
      "i: 21, hap: 158\n",
      "i: 22, hap: 180\n",
      "i: 24, hap: 204\n",
      "i: 26, hap: 230\n",
      "i: 27, hap: 257\n",
      "i: 28, hap: 285\n",
      "i: 30, hap: 315\n",
      "i: 32, hap: 347\n",
      "i: 33, hap: 380\n",
      "i: 34, hap: 414\n",
      "i: 36, hap: 450\n",
      "i: 38, hap: 488\n",
      "i: 39, hap: 527\n",
      "i: 40, hap: 567\n",
      "i: 42, hap: 609\n",
      "i: 44, hap: 653\n",
      "i: 45, hap: 698\n",
      "i: 46, hap: 744\n",
      "i: 48, hap: 792\n",
      "i: 50, hap: 842\n",
      "842\n",
      "[4, 8, 12, 16, 20, 24, 28, 32, 36, 40, 44, 48]\n"
     ]
    }
   ],
   "source": [
    "i = 1\n",
    "hap = 0\n",
    "list_4s = []\n",
    "while i <= 50:\n",
    "    if i % 3 == 0 or i % 2 == 0:\n",
    "        hap += i \n",
    "        print(f\"i: {i}, hap: {hap}\")\n",
    "    if i % 4 == 0:\n",
    "        list_4s.append(i)\n",
    "    i += 1\n",
    "print(hap)\n",
    "print(list_4s)"
   ]
  },
  {
   "cell_type": "markdown",
   "id": "4ad99b77",
   "metadata": {},
   "source": [
    "# while의 무한 반복\n",
    "* while 뒤의 조건이 True인 경우 무한 반복 \n",
    "* while문 내에서 if 조건문으로 break를 걸어주어야 멈춤\n",
    "* True가 되는 조건: True, 1, 정수, 실수, 문자열, list(자료 한 개만?) 등 자료가 들어있는 모든 변수나 자료 \n",
    "* False가 되는 조건: False, 0, 0.0(실수), \"\", '', [], (), {}"
   ]
  },
  {
   "cell_type": "code",
   "execution_count": 125,
   "id": "af925ea0",
   "metadata": {},
   "outputs": [],
   "source": [
    "i = 1\n",
    "while '': \n",
    "    print(i, \"무한 반복\")\n",
    "    i += 1 "
   ]
  },
  {
   "cell_type": "markdown",
   "id": "0d514d09",
   "metadata": {},
   "source": [
    "# 중첩 반복문\n",
    "* 반복문을 2개 이상 겹쳐서 사용\n",
    "* 시계의 원리와 같음 \n",
    "* 초 60 -> 1분 60분 -> 1시간 24시간 \n",
    "* 안쪽 반복문이 끝난 후 바깥쪽 반복문이 실행\n",
    "* 아날로그 시계의 초침 -> 분침 -> 시침 "
   ]
  },
  {
   "cell_type": "markdown",
   "id": "428fecf9",
   "metadata": {},
   "source": [
    "* 구구단 만들기 2종 중첩 for문으로 작성\n",
    "* 2단 - 9단 \n",
    "* 각 단마다 1-9\n",
    "* 2*1 = 2\n",
    "* 2*2 = 4"
   ]
  },
  {
   "cell_type": "code",
   "execution_count": 1,
   "id": "196b6920",
   "metadata": {},
   "outputs": [
    {
     "name": "stdout",
     "output_type": "stream",
     "text": [
      "1\n",
      "2\n",
      "3\n",
      "4\n",
      "5\n",
      "6\n",
      "7\n",
      "8\n",
      "9\n",
      "1\n",
      "2\n",
      "3\n",
      "4\n",
      "5\n",
      "6\n",
      "7\n",
      "8\n",
      "9\n",
      "1\n",
      "2\n",
      "3\n",
      "4\n",
      "5\n",
      "6\n",
      "7\n",
      "8\n",
      "9\n",
      "1\n",
      "2\n",
      "3\n",
      "4\n",
      "5\n",
      "6\n",
      "7\n",
      "8\n",
      "9\n",
      "1\n",
      "2\n",
      "3\n",
      "4\n",
      "5\n",
      "6\n",
      "7\n",
      "8\n",
      "9\n",
      "1\n",
      "2\n",
      "3\n",
      "4\n",
      "5\n",
      "6\n",
      "7\n",
      "8\n",
      "9\n",
      "1\n",
      "2\n",
      "3\n",
      "4\n",
      "5\n",
      "6\n",
      "7\n",
      "8\n",
      "9\n",
      "1\n",
      "2\n",
      "3\n",
      "4\n",
      "5\n",
      "6\n",
      "7\n",
      "8\n",
      "9\n"
     ]
    }
   ],
   "source": [
    "# 2단 - 9단 시침\n",
    "for num1 in range(2, 10):\n",
    "#    print(num1)\n",
    "    pass\n",
    "    # 분침\n",
    "    for num2 in range(1, 10):\n",
    "        print(num2)"
   ]
  },
  {
   "cell_type": "code",
   "execution_count": 4,
   "id": "caa17aef",
   "metadata": {},
   "outputs": [
    {
     "name": "stdout",
     "output_type": "stream",
     "text": [
      "2 x 1 = 2\n",
      "2 x 2 = 4\n",
      "2 x 3 = 6\n",
      "2 x 4 = 8\n",
      "2 x 5 = 10\n",
      "2 x 6 = 12\n",
      "2 x 7 = 14\n",
      "2 x 8 = 16\n",
      "2 x 9 = 18\n",
      "3 x 1 = 3\n",
      "3 x 2 = 6\n",
      "3 x 3 = 9\n",
      "3 x 4 = 12\n",
      "3 x 5 = 15\n",
      "3 x 6 = 18\n",
      "3 x 7 = 21\n",
      "3 x 8 = 24\n",
      "3 x 9 = 27\n",
      "4 x 1 = 4\n",
      "4 x 2 = 8\n",
      "4 x 3 = 12\n",
      "4 x 4 = 16\n",
      "4 x 5 = 20\n",
      "4 x 6 = 24\n",
      "4 x 7 = 28\n",
      "4 x 8 = 32\n",
      "4 x 9 = 36\n",
      "5 x 1 = 5\n",
      "5 x 2 = 10\n",
      "5 x 3 = 15\n",
      "5 x 4 = 20\n",
      "5 x 5 = 25\n",
      "5 x 6 = 30\n",
      "5 x 7 = 35\n",
      "5 x 8 = 40\n",
      "5 x 9 = 45\n",
      "6 x 1 = 6\n",
      "6 x 2 = 12\n",
      "6 x 3 = 18\n",
      "6 x 4 = 24\n",
      "6 x 5 = 30\n",
      "6 x 6 = 36\n",
      "6 x 7 = 42\n",
      "6 x 8 = 48\n",
      "6 x 9 = 54\n",
      "7 x 1 = 7\n",
      "7 x 2 = 14\n",
      "7 x 3 = 21\n",
      "7 x 4 = 28\n",
      "7 x 5 = 35\n",
      "7 x 6 = 42\n",
      "7 x 7 = 49\n",
      "7 x 8 = 56\n",
      "7 x 9 = 63\n",
      "8 x 1 = 8\n",
      "8 x 2 = 16\n",
      "8 x 3 = 24\n",
      "8 x 4 = 32\n",
      "8 x 5 = 40\n",
      "8 x 6 = 48\n",
      "8 x 7 = 56\n",
      "8 x 8 = 64\n",
      "8 x 9 = 72\n",
      "9 x 1 = 9\n",
      "9 x 2 = 18\n",
      "9 x 3 = 27\n",
      "9 x 4 = 36\n",
      "9 x 5 = 45\n",
      "9 x 6 = 54\n",
      "9 x 7 = 63\n",
      "9 x 8 = 72\n",
      "9 x 9 = 81\n"
     ]
    }
   ],
   "source": [
    "# 2단 - 9단 시침\n",
    "for num1 in range(2, 10):\n",
    "#    print(num1)\n",
    "    pass\n",
    "    # 분침\n",
    "    for num2 in range(1, 10):\n",
    "        print(f\"{num1} x {num2} = {num1 * num2}\")"
   ]
  },
  {
   "cell_type": "markdown",
   "id": "87d8abf5",
   "metadata": {},
   "source": [
    "* 반복문 3개로 시계 만들기 \n",
    "* 초: 00-59\n",
    "* 분: 00-59\n",
    "* 시: 00-23\n",
    "import time\n",
    "time.sleep(0.1)\n",
    "* 00:00:00 - 23:59:59\n"
   ]
  },
  {
   "cell_type": "code",
   "execution_count": 1,
   "id": "01388d97",
   "metadata": {},
   "outputs": [
    {
     "name": "stdout",
     "output_type": "stream",
     "text": [
      "00:00:21\r"
     ]
    },
    {
     "ename": "KeyboardInterrupt",
     "evalue": "",
     "output_type": "error",
     "traceback": [
      "\u001b[1;31m---------------------------------------------------------------------------\u001b[0m",
      "\u001b[1;31mKeyboardInterrupt\u001b[0m                         Traceback (most recent call last)",
      "Cell \u001b[1;32mIn[1], line 6\u001b[0m\n\u001b[0;32m      4\u001b[0m \u001b[38;5;28;01mfor\u001b[39;00m cho \u001b[38;5;129;01min\u001b[39;00m \u001b[38;5;28mrange\u001b[39m(\u001b[38;5;241m0\u001b[39m, \u001b[38;5;241m60\u001b[39m):\n\u001b[0;32m      5\u001b[0m     \u001b[38;5;28mprint\u001b[39m(\u001b[38;5;124mf\u001b[39m\u001b[38;5;124m\"\u001b[39m\u001b[38;5;132;01m{\u001b[39;00msi\u001b[38;5;132;01m:\u001b[39;00m\u001b[38;5;124m02d\u001b[39m\u001b[38;5;132;01m}\u001b[39;00m\u001b[38;5;124m:\u001b[39m\u001b[38;5;132;01m{\u001b[39;00mbun\u001b[38;5;132;01m:\u001b[39;00m\u001b[38;5;124m02d\u001b[39m\u001b[38;5;132;01m}\u001b[39;00m\u001b[38;5;124m:\u001b[39m\u001b[38;5;132;01m{\u001b[39;00mcho\u001b[38;5;132;01m:\u001b[39;00m\u001b[38;5;124m02d\u001b[39m\u001b[38;5;132;01m}\u001b[39;00m\u001b[38;5;124m\"\u001b[39m, end\u001b[38;5;241m=\u001b[39m\u001b[38;5;124m\"\u001b[39m\u001b[38;5;130;01m\\r\u001b[39;00m\u001b[38;5;124m\"\u001b[39m) \u001b[38;5;66;03m# 02d : 두자리까지 표시하고 부족하면 0으로 표시하라\u001b[39;00m\n\u001b[1;32m----> 6\u001b[0m     \u001b[43mtime\u001b[49m\u001b[38;5;241;43m.\u001b[39;49m\u001b[43msleep\u001b[49m\u001b[43m(\u001b[49m\u001b[38;5;241;43m1\u001b[39;49m\u001b[43m)\u001b[49m\n",
      "\u001b[1;31mKeyboardInterrupt\u001b[0m: "
     ]
    }
   ],
   "source": [
    "import time\n",
    "for si in range(0, 24):\n",
    "    for bun in range(0, 60):\n",
    "        for cho in range(0, 60):\n",
    "            print(f\"{si:02d}:{bun:02d}:{cho:02d}\", end=\"\\r\") # 02d : 두자리까지 표시하고 부족하면 0으로 표시하라\n",
    "            time.sleep(1)"
   ]
  },
  {
   "cell_type": "markdown",
   "id": "1d827802",
   "metadata": {},
   "source": [
    "## 중첩 반복문을 이용해서 다중 리스트 출력하기 "
   ]
  },
  {
   "cell_type": "code",
   "execution_count": 1,
   "id": "ab8afa7b",
   "metadata": {},
   "outputs": [],
   "source": [
    "l1 = []"
   ]
  },
  {
   "cell_type": "code",
   "execution_count": 10,
   "id": "b9af9198",
   "metadata": {},
   "outputs": [],
   "source": [
    "l2 = [\"오\", 1,2,3,4,5]"
   ]
  },
  {
   "cell_type": "code",
   "execution_count": 11,
   "id": "018ff8c2",
   "metadata": {},
   "outputs": [
    {
     "data": {
      "text/plain": [
       "[['일', 1, 2, 3, 4, 5],\n",
       " ['이', 1, 2, 3, 4, 5],\n",
       " ['삼', 1, 2, 3, 4, 5],\n",
       " ['사', 1, 2, 3, 4, 5],\n",
       " ['오', 1, 2, 3, 4, 5]]"
      ]
     },
     "execution_count": 11,
     "metadata": {},
     "output_type": "execute_result"
    }
   ],
   "source": [
    "l1.append(l2)\n",
    "l1"
   ]
  },
  {
   "cell_type": "code",
   "execution_count": 20,
   "id": "bc267b9b",
   "metadata": {},
   "outputs": [
    {
     "data": {
      "text/plain": [
       "['일',\n",
       " 1,\n",
       " 2,\n",
       " 3,\n",
       " 4,\n",
       " 5,\n",
       " '이',\n",
       " 1,\n",
       " 2,\n",
       " 3,\n",
       " 4,\n",
       " 5,\n",
       " '삼',\n",
       " 1,\n",
       " 2,\n",
       " 3,\n",
       " 4,\n",
       " 5,\n",
       " '사',\n",
       " 1,\n",
       " 2,\n",
       " 3,\n",
       " 4,\n",
       " 5,\n",
       " '오',\n",
       " 1,\n",
       " 2,\n",
       " 3,\n",
       " 4,\n",
       " 5]"
      ]
     },
     "execution_count": 20,
     "metadata": {},
     "output_type": "execute_result"
    }
   ],
   "source": [
    "result = []\n",
    "for i in l1:\n",
    "    for j in i:\n",
    "        result.append(j)\n",
    "result"
   ]
  },
  {
   "cell_type": "code",
   "execution_count": null,
   "id": "3f532154",
   "metadata": {},
   "outputs": [],
   "source": []
  }
 ],
 "metadata": {
  "kernelspec": {
   "display_name": "Python 3 (ipykernel)",
   "language": "python",
   "name": "python3"
  },
  "language_info": {
   "codemirror_mode": {
    "name": "ipython",
    "version": 3
   },
   "file_extension": ".py",
   "mimetype": "text/x-python",
   "name": "python",
   "nbconvert_exporter": "python",
   "pygments_lexer": "ipython3",
   "version": "3.9.23"
  }
 },
 "nbformat": 4,
 "nbformat_minor": 5
}
