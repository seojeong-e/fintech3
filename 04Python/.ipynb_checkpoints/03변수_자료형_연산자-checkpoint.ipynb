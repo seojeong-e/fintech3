{
 "cells": [
  {
   "cell_type": "markdown",
   "id": "a6ea77e1",
   "metadata": {},
   "source": [
    "# 변수\n",
    "* 자료를 담는 택배상자 \n",
    "* 택배상자에는 자료를 1개만 넣을 수 있다.\n",
    "* 변수는 영문과 숫자를 조합해서 만들 수 있다.\n",
    "* 변수명의 시작은 반드시 영문자로 시작 OR \\_영문자 로 시작\n",
    "* 변수명이 숫자로 시작하거나 -같은 특수문자로 시작하면 오류\n",
    "* **예약어(이미 파이썬에서 사용하고 있는 함수명, 문법용 단어 ex) for, list, if, id)**는 변수명으로 사용할 수 없다.\n",
    "  * **주의!!** 파이썬에서는 예약어를 써도 변수가 만들어진다.\n",
    "  * 예약어로 변수를 만들지 않도록 주의!\n",
    "* 변수명은 스네이크 표기법으로 작성한다. ex) user_name\n",
    "* a = 1 -> 오른쪽 변수를 왼쪽 변수에 넣는다는 의미"
   ]
  },
  {
   "cell_type": "code",
   "execution_count": 1,
   "id": "accf60cc",
   "metadata": {},
   "outputs": [],
   "source": [
    "a = 1"
   ]
  },
  {
   "cell_type": "code",
   "execution_count": 2,
   "id": "feb7c47d",
   "metadata": {},
   "outputs": [
    {
     "name": "stdout",
     "output_type": "stream",
     "text": [
      "1\n"
     ]
    }
   ],
   "source": [
    "print(a)"
   ]
  },
  {
   "cell_type": "code",
   "execution_count": 3,
   "id": "758cfa37",
   "metadata": {},
   "outputs": [
    {
     "data": {
      "text/plain": [
       "1"
      ]
     },
     "execution_count": 3,
     "metadata": {},
     "output_type": "execute_result"
    }
   ],
   "source": [
    "a"
   ]
  },
  {
   "cell_type": "code",
   "execution_count": 4,
   "id": "8fa44327",
   "metadata": {},
   "outputs": [],
   "source": [
    "b = 2"
   ]
  },
  {
   "cell_type": "code",
   "execution_count": 5,
   "id": "fb9023c1",
   "metadata": {},
   "outputs": [
    {
     "name": "stdout",
     "output_type": "stream",
     "text": [
      "2\n"
     ]
    }
   ],
   "source": [
    "print(b)"
   ]
  },
  {
   "cell_type": "code",
   "execution_count": 6,
   "id": "05d63dc2",
   "metadata": {},
   "outputs": [
    {
     "data": {
      "text/plain": [
       "1955704957232"
      ]
     },
     "execution_count": 6,
     "metadata": {},
     "output_type": "execute_result"
    }
   ],
   "source": [
    "id(a)"
   ]
  },
  {
   "cell_type": "code",
   "execution_count": 8,
   "id": "26e1cd31",
   "metadata": {},
   "outputs": [
    {
     "data": {
      "text/plain": [
       "1834302925136"
      ]
     },
     "execution_count": 8,
     "metadata": {},
     "output_type": "execute_result"
    }
   ],
   "source": [
    "id(b)"
   ]
  },
  {
   "cell_type": "code",
   "execution_count": 9,
   "id": "fa3288ca",
   "metadata": {},
   "outputs": [],
   "source": [
    "#id = 10"
   ]
  },
  {
   "cell_type": "code",
   "execution_count": 10,
   "id": "106ebadf",
   "metadata": {},
   "outputs": [
    {
     "name": "stdout",
     "output_type": "stream",
     "text": [
      "10\n"
     ]
    }
   ],
   "source": [
    "#print(id)"
   ]
  },
  {
   "cell_type": "code",
   "execution_count": 7,
   "id": "f2a2c5a7",
   "metadata": {},
   "outputs": [
    {
     "data": {
      "text/plain": [
       "1955704957264"
      ]
     },
     "execution_count": 7,
     "metadata": {},
     "output_type": "execute_result"
    }
   ],
   "source": [
    "id(b)"
   ]
  },
  {
   "cell_type": "code",
   "execution_count": 8,
   "id": "99300db4",
   "metadata": {},
   "outputs": [],
   "source": [
    "# 변수명 작성하기\n",
    "adffaddaf124221 = 10"
   ]
  },
  {
   "cell_type": "code",
   "execution_count": 9,
   "id": "9abfad87",
   "metadata": {},
   "outputs": [
    {
     "data": {
      "text/plain": [
       "10"
      ]
     },
     "execution_count": 9,
     "metadata": {},
     "output_type": "execute_result"
    }
   ],
   "source": [
    "adffaddaf124221"
   ]
  },
  {
   "cell_type": "code",
   "execution_count": 10,
   "id": "debabd06",
   "metadata": {},
   "outputs": [
    {
     "ename": "SyntaxError",
     "evalue": "invalid syntax (1883882313.py, line 1)",
     "output_type": "error",
     "traceback": [
      "\u001b[1;36m  Cell \u001b[1;32mIn[10], line 1\u001b[1;36m\u001b[0m\n\u001b[1;33m    10a = 10\u001b[0m\n\u001b[1;37m      ^\u001b[0m\n\u001b[1;31mSyntaxError\u001b[0m\u001b[1;31m:\u001b[0m invalid syntax\n"
     ]
    }
   ],
   "source": [
    "10a = 10"
   ]
  },
  {
   "cell_type": "code",
   "execution_count": 11,
   "id": "ff634919",
   "metadata": {},
   "outputs": [
    {
     "ename": "SyntaxError",
     "evalue": "invalid syntax (875084040.py, line 1)",
     "output_type": "error",
     "traceback": [
      "\u001b[1;36m  Cell \u001b[1;32mIn[11], line 1\u001b[1;36m\u001b[0m\n\u001b[1;33m    $a = 1\u001b[0m\n\u001b[1;37m    ^\u001b[0m\n\u001b[1;31mSyntaxError\u001b[0m\u001b[1;31m:\u001b[0m invalid syntax\n"
     ]
    }
   ],
   "source": [
    "$a = 1"
   ]
  },
  {
   "cell_type": "code",
   "execution_count": 12,
   "id": "a756db86",
   "metadata": {},
   "outputs": [
    {
     "ename": "SyntaxError",
     "evalue": "cannot assign to operator (3337602241.py, line 1)",
     "output_type": "error",
     "traceback": [
      "\u001b[1;36m  Cell \u001b[1;32mIn[12], line 1\u001b[1;36m\u001b[0m\n\u001b[1;33m    -a = 1\u001b[0m\n\u001b[1;37m    ^\u001b[0m\n\u001b[1;31mSyntaxError\u001b[0m\u001b[1;31m:\u001b[0m cannot assign to operator\n"
     ]
    }
   ],
   "source": [
    "-a = 1"
   ]
  },
  {
   "cell_type": "code",
   "execution_count": 13,
   "id": "d7c68128",
   "metadata": {},
   "outputs": [],
   "source": [
    "_a = 1"
   ]
  },
  {
   "cell_type": "code",
   "execution_count": 14,
   "id": "bebe16b3",
   "metadata": {},
   "outputs": [
    {
     "data": {
      "text/plain": [
       "'홍길동'"
      ]
     },
     "execution_count": 14,
     "metadata": {},
     "output_type": "execute_result"
    }
   ],
   "source": [
    "# 변수명을 2단어 이상으로 만들 때는 _로 연결하는 스네이크 표기법을 쓴다.\n",
    "user_name = \"홍길동\"\n",
    "user_name"
   ]
  },
  {
   "cell_type": "code",
   "execution_count": 15,
   "id": "4f319344",
   "metadata": {},
   "outputs": [],
   "source": [
    "# 변수명은 변수명만으로 안에 무엇이 있을지 예측 가능해야 한다. \n",
    "all_reviews = \"모든 리뷰\""
   ]
  },
  {
   "cell_type": "code",
   "execution_count": 16,
   "id": "4a1f7282",
   "metadata": {},
   "outputs": [],
   "source": [
    "review_one = \"리뷰한개\""
   ]
  },
  {
   "cell_type": "code",
   "execution_count": 18,
   "id": "4531eb41",
   "metadata": {},
   "outputs": [],
   "source": [
    "hap = 0"
   ]
  },
  {
   "cell_type": "code",
   "execution_count": 19,
   "id": "12262329",
   "metadata": {},
   "outputs": [
    {
     "name": "stdout",
     "output_type": "stream",
     "text": [
      "0\n"
     ]
    }
   ],
   "source": [
    "# 변수 지우기 del\n",
    "print(hap)"
   ]
  },
  {
   "cell_type": "code",
   "execution_count": 20,
   "id": "ee6e95af",
   "metadata": {},
   "outputs": [],
   "source": [
    "del hap"
   ]
  },
  {
   "cell_type": "code",
   "execution_count": 21,
   "id": "bf661360",
   "metadata": {},
   "outputs": [
    {
     "ename": "NameError",
     "evalue": "name 'pirnt' is not defined",
     "output_type": "error",
     "traceback": [
      "\u001b[1;31m---------------------------------------------------------------------------\u001b[0m",
      "\u001b[1;31mNameError\u001b[0m                                 Traceback (most recent call last)",
      "Cell \u001b[1;32mIn[21], line 1\u001b[0m\n\u001b[1;32m----> 1\u001b[0m \u001b[43mpirnt\u001b[49m(hap)\n",
      "\u001b[1;31mNameError\u001b[0m: name 'pirnt' is not defined"
     ]
    }
   ],
   "source": [
    "pirnt(hap)"
   ]
  },
  {
   "cell_type": "markdown",
   "id": "26c2fe88",
   "metadata": {},
   "source": [
    "여러개의 변수 동시에 만들고 자료 입력하기"
   ]
  },
  {
   "cell_type": "code",
   "execution_count": 22,
   "id": "d945c246",
   "metadata": {},
   "outputs": [],
   "source": [
    "a = 1\n",
    "b = 2"
   ]
  },
  {
   "cell_type": "code",
   "execution_count": 23,
   "id": "9c15ed75",
   "metadata": {},
   "outputs": [],
   "source": [
    "a, b, c = 1,2,3"
   ]
  },
  {
   "cell_type": "code",
   "execution_count": 24,
   "id": "0c76c678",
   "metadata": {},
   "outputs": [
    {
     "name": "stdout",
     "output_type": "stream",
     "text": [
      "1 2 3\n"
     ]
    }
   ],
   "source": [
    "print(a,b,c)"
   ]
  },
  {
   "cell_type": "code",
   "execution_count": 25,
   "id": "0474a72e",
   "metadata": {},
   "outputs": [],
   "source": [
    "a, b, c = [5,6,7]"
   ]
  },
  {
   "cell_type": "code",
   "execution_count": 26,
   "id": "966882b1",
   "metadata": {},
   "outputs": [
    {
     "name": "stdout",
     "output_type": "stream",
     "text": [
      "5 6 7\n"
     ]
    }
   ],
   "source": [
    "print(a,b,c)"
   ]
  },
  {
   "cell_type": "code",
   "execution_count": 27,
   "id": "bf91a455",
   "metadata": {},
   "outputs": [],
   "source": [
    "a, b, c = (8, 9, 10)"
   ]
  },
  {
   "cell_type": "code",
   "execution_count": 28,
   "id": "2e0d5362",
   "metadata": {},
   "outputs": [
    {
     "name": "stdout",
     "output_type": "stream",
     "text": [
      "8 9 10\n"
     ]
    }
   ],
   "source": [
    "print(a,b,c)"
   ]
  },
  {
   "cell_type": "code",
   "execution_count": null,
   "id": "1dca0657",
   "metadata": {},
   "outputs": [],
   "source": []
  },
  {
   "cell_type": "markdown",
   "id": "a224ac9d",
   "metadata": {},
   "source": [
    "# 자료형(data type)\n",
    "## 파이썬의 자료형은 동적으로 변화\n",
    "* int : 정수(소수점이 없는 숫자)\n",
    "* float : 실수(소수점이 있는 숫자)\n",
    "* str : 문자 / 문자열 \n",
    "* list : 여러개의 자료가 순서대로 저장된 자료형, 모든 자료형을 넣어 만들 수 있음 [자료]\n",
    "* tuple : list 비슷하나 한 번 만들면 수정이 안됨, 모든 자료형을 넣어 만들 수 있음 (자료)\n",
    "* dictionary(dict) : key:value 쌍으로 이루어진 자료형, 모든 자료형 넣어 만들 수 있음 {key : value}\n",
    "* set : 집합자료형, 자료의 중복이 되지 않음 {자료} "
   ]
  },
  {
   "cell_type": "markdown",
   "id": "d3db99ec",
   "metadata": {},
   "source": [
    "# 데이터 타입을 출력하는 함수 tyep(변수)"
   ]
  },
  {
   "cell_type": "markdown",
   "id": "ca758534",
   "metadata": {},
   "source": [
    "# 1.정수형 변수(int)"
   ]
  },
  {
   "cell_type": "code",
   "execution_count": 30,
   "id": "8c496fcd",
   "metadata": {},
   "outputs": [
    {
     "name": "stdout",
     "output_type": "stream",
     "text": [
      "10\n",
      "<class 'int'>\n"
     ]
    }
   ],
   "source": [
    "a = 10\n",
    "print(a)\n",
    "print(type(a))"
   ]
  },
  {
   "cell_type": "markdown",
   "id": "d6fea332",
   "metadata": {},
   "source": [
    "# 2.실수형 변수(float)"
   ]
  },
  {
   "cell_type": "code",
   "execution_count": 32,
   "id": "3010aecb",
   "metadata": {},
   "outputs": [
    {
     "name": "stdout",
     "output_type": "stream",
     "text": [
      "3.14\n",
      "<class 'float'>\n"
     ]
    }
   ],
   "source": [
    "b = 3.14\n",
    "print(b)\n",
    "print(type(b))"
   ]
  },
  {
   "cell_type": "markdown",
   "id": "b5bfe6e0",
   "metadata": {},
   "source": [
    "# 3.문자형 변수(str)\n",
    "* 문자형 데이터는 반드시 따옴표 \\', \\\" 안에 작성해야 한다.\n",
    "* 문자 : 문자 1개 \n",
    "* 문자열 : 문자가 여러개 있는 것, **열** 즉, **순서**가 있다."
   ]
  },
  {
   "cell_type": "code",
   "execution_count": 34,
   "id": "98c09569",
   "metadata": {},
   "outputs": [
    {
     "name": "stdout",
     "output_type": "stream",
     "text": [
      "문\n"
     ]
    }
   ],
   "source": [
    "c = \"문\"\n",
    "print(c)"
   ]
  },
  {
   "cell_type": "code",
   "execution_count": 36,
   "id": "9cf330ea",
   "metadata": {},
   "outputs": [
    {
     "name": "stdout",
     "output_type": "stream",
     "text": [
      "문\n"
     ]
    }
   ],
   "source": [
    "c = '문'\n",
    "print(c)"
   ]
  },
  {
   "cell_type": "code",
   "execution_count": 37,
   "id": "e62118a5",
   "metadata": {},
   "outputs": [
    {
     "name": "stdout",
     "output_type": "stream",
     "text": [
      "문자열\n"
     ]
    }
   ],
   "source": [
    "c = \"문자열\"\n",
    "print(c)"
   ]
  },
  {
   "cell_type": "markdown",
   "id": "e24d6f0e",
   "metadata": {},
   "source": [
    "# 문자열 인덱싱: 문자열은 순서가 있으므로 변수명 뒤에 대괄호 [번호] 형태로 해당 위치의 문자를 출력/추출 가능"
   ]
  },
  {
   "cell_type": "code",
   "execution_count": 38,
   "id": "61b696b6",
   "metadata": {},
   "outputs": [
    {
     "data": {
      "text/plain": [
       "'문자열'"
      ]
     },
     "execution_count": 38,
     "metadata": {},
     "output_type": "execute_result"
    }
   ],
   "source": [
    " c"
   ]
  },
  {
   "cell_type": "code",
   "execution_count": 39,
   "id": "b64c78c1",
   "metadata": {},
   "outputs": [
    {
     "data": {
      "text/plain": [
       "'자'"
      ]
     },
     "execution_count": 39,
     "metadata": {},
     "output_type": "execute_result"
    }
   ],
   "source": [
    "c[1]"
   ]
  },
  {
   "cell_type": "code",
   "execution_count": 40,
   "id": "c76b2cdd",
   "metadata": {},
   "outputs": [
    {
     "data": {
      "text/plain": [
       "'문'"
      ]
     },
     "execution_count": 40,
     "metadata": {},
     "output_type": "execute_result"
    }
   ],
   "source": [
    "c[0]"
   ]
  },
  {
   "cell_type": "code",
   "execution_count": 41,
   "id": "e5314ca2",
   "metadata": {},
   "outputs": [
    {
     "data": {
      "text/plain": [
       "'열'"
      ]
     },
     "execution_count": 41,
     "metadata": {},
     "output_type": "execute_result"
    }
   ],
   "source": [
    "c[2]"
   ]
  },
  {
   "cell_type": "code",
   "execution_count": 42,
   "id": "8f209cdd",
   "metadata": {},
   "outputs": [],
   "source": [
    "long_char = \"문자열은 아무리 길이가 길어도 한 줄로 입력해야 한다. 만약 줄바꿈을 하고 싶다면 \\\\를 줄바꿈할 곳 끝에 넣고 줄바꿈을 할 수 있다.\""
   ]
  },
  {
   "cell_type": "code",
   "execution_count": 43,
   "id": "ca33c0cb",
   "metadata": {},
   "outputs": [
    {
     "name": "stdout",
     "output_type": "stream",
     "text": [
      "문자열은 아무리 길이가 길어도 한 줄로 입력해야 한다. 만약 줄바꿈을 하고 싶다면 \\를 줄바꿈할 곳 끝에 넣고 줄바꿈을 할 수 있다.\n"
     ]
    }
   ],
   "source": [
    "print(long_char)"
   ]
  },
  {
   "cell_type": "code",
   "execution_count": 44,
   "id": "a1ae641e",
   "metadata": {},
   "outputs": [],
   "source": [
    "long_char2 = \"문자열은 아무리 길이가 길어도 한 줄로 입력해야 한다. \\\n",
    "만약 줄바꿈을 하고 싶다면 \\\\를 줄바꿈할 곳 끝에 넣고 \\\n",
    "줄바꿈을 할 수 있다.\""
   ]
  },
  {
   "cell_type": "code",
   "execution_count": 45,
   "id": "de76dc27",
   "metadata": {},
   "outputs": [
    {
     "name": "stdout",
     "output_type": "stream",
     "text": [
      "문자열은 아무리 길이가 길어도 한 줄로 입력해야 한다. 만약 줄바꿈을 하고 싶다면 \\를 줄바꿈할 곳 끝에 넣고 줄바꿈을 할 수 있다.\n"
     ]
    }
   ],
   "source": [
    "print(long_char2)"
   ]
  },
  {
   "cell_type": "code",
   "execution_count": null,
   "id": "80b4b302",
   "metadata": {},
   "outputs": [],
   "source": [
    "long_char3 = \"문자열은 아무리 길이가 길어도 한 줄로 입력해야 한다.\n",
    "만약 줄바꿈을 하고 싶다면 \\\\를 줄바꿈할 곳 끝에 넣고 \n",
    "줄바꿈을 할 수 있다.\""
   ]
  },
  {
   "cell_type": "code",
   "execution_count": 47,
   "id": "f288323c",
   "metadata": {},
   "outputs": [],
   "source": [
    "# 출력시 줄바꿈으로 하고 싶을 때 \\n\n",
    "long_char4 = \"문자열은 아무리 길이가 길어도 한 줄로 입력해야 한다. \\n \\\n",
    "만약 줄바꿈을 하고 싶다면 \\\\를 줄바꿈할 곳 끝에 넣고 \\n \\\n",
    "줄바꿈을 할 수 있다.\""
   ]
  },
  {
   "cell_type": "code",
   "execution_count": 48,
   "id": "6594ba7f",
   "metadata": {},
   "outputs": [
    {
     "name": "stdout",
     "output_type": "stream",
     "text": [
      "문자열은 아무리 길이가 길어도 한 줄로 입력해야 한다. \n",
      " 만약 줄바꿈을 하고 싶다면 \\를 줄바꿈할 곳 끝에 넣고 \n",
      " 줄바꿈을 할 수 있다.\n"
     ]
    }
   ],
   "source": [
    "print(long_char4)"
   ]
  },
  {
   "cell_type": "markdown",
   "id": "bef63e04",
   "metadata": {},
   "source": [
    "# 이스케이프 문자 없이 줄바꿈하며 입력하고 싶을 때 \n",
    "# \"\"\" \"\"\", ''' '''"
   ]
  },
  {
   "cell_type": "code",
   "execution_count": 50,
   "id": "12f2ebd7",
   "metadata": {},
   "outputs": [],
   "source": [
    "long_char5 = \"\"\"문자열은 아무리 길이가 길어도 한 줄로 입력해야 한다. \n",
    "만약 줄바꿈을 하고 싶다면 \\\\를 줄바꿈할 곳 끝에 넣고 \n",
    "줄바꿈을 할 수 있다.\"\"\""
   ]
  },
  {
   "cell_type": "code",
   "execution_count": 51,
   "id": "bb9a8612",
   "metadata": {},
   "outputs": [
    {
     "name": "stdout",
     "output_type": "stream",
     "text": [
      "문자열은 아무리 길이가 길어도 한 줄로 입력해야 한다. \n",
      "만약 줄바꿈을 하고 싶다면 \\를 줄바꿈할 곳 끝에 넣고 \n",
      "줄바꿈을 할 수 있다.\n"
     ]
    }
   ],
   "source": [
    "print(long_char5)"
   ]
  },
  {
   "cell_type": "code",
   "execution_count": 52,
   "id": "67262f5b",
   "metadata": {},
   "outputs": [],
   "source": [
    "long_char6 = '''문자열은 아무리 길이가 길어도 한 줄로 입력해야 한다. \n",
    "만약 줄바꿈을 하고 싶다면 \\\\를 줄바꿈할 곳 끝에 넣고 \n",
    "줄바꿈을 할 수 있다.'''"
   ]
  },
  {
   "cell_type": "code",
   "execution_count": 53,
   "id": "d205a1a9",
   "metadata": {},
   "outputs": [
    {
     "name": "stdout",
     "output_type": "stream",
     "text": [
      "문자열은 아무리 길이가 길어도 한 줄로 입력해야 한다. \n",
      "만약 줄바꿈을 하고 싶다면 \\를 줄바꿈할 곳 끝에 넣고 \n",
      "줄바꿈을 할 수 있다.\n"
     ]
    }
   ],
   "source": [
    "print(long_char6)"
   ]
  },
  {
   "cell_type": "code",
   "execution_count": 54,
   "id": "de7e8d40",
   "metadata": {},
   "outputs": [
    {
     "data": {
      "text/plain": [
       "'문자열은 아무리 길이가 길어도 한 줄로 입력해야 한다. \\n만약 줄바꿈을 하고 싶다면 \\\\를 줄바꿈할 곳 끝에 넣고 \\n줄바꿈을 할 수 있다.'"
      ]
     },
     "execution_count": 54,
     "metadata": {},
     "output_type": "execute_result"
    }
   ],
   "source": [
    "long_char6"
   ]
  },
  {
   "cell_type": "markdown",
   "id": "f0e397da",
   "metadata": {},
   "source": [
    "# 문자열의 길이 재기 len(문자열/변수)"
   ]
  },
  {
   "cell_type": "code",
   "execution_count": 56,
   "id": "391212aa",
   "metadata": {},
   "outputs": [
    {
     "data": {
      "text/plain": [
       "76"
      ]
     },
     "execution_count": 56,
     "metadata": {},
     "output_type": "execute_result"
    }
   ],
   "source": [
    "len(\"문자열은 아무리 길이가 길어도 한 줄로 입력해야 한다. \\n만약 줄바꿈을 하고 싶다면 \\\\를 줄바꿈할 곳 끝에 넣고 \\n줄바꿈을 할 수 있다.\")"
   ]
  },
  {
   "cell_type": "code",
   "execution_count": 58,
   "id": "3339e173",
   "metadata": {},
   "outputs": [
    {
     "data": {
      "text/plain": [
       "'가'"
      ]
     },
     "execution_count": 58,
     "metadata": {},
     "output_type": "execute_result"
    }
   ],
   "source": [
    "long_char6[11]"
   ]
  },
  {
   "cell_type": "markdown",
   "id": "509cc68d",
   "metadata": {},
   "source": [
    "# 문자열의 번호(index)는 길이 - 1\n",
    "* len의 결과가 76일 경우 인덱스는 0-75번까지 "
   ]
  },
  {
   "cell_type": "code",
   "execution_count": 59,
   "id": "02ce693f",
   "metadata": {},
   "outputs": [
    {
     "data": {
      "text/plain": [
       "'.'"
      ]
     },
     "execution_count": 59,
     "metadata": {},
     "output_type": "execute_result"
    }
   ],
   "source": [
    "long_char6[75]"
   ]
  },
  {
   "cell_type": "code",
   "execution_count": 60,
   "id": "b4a6e750",
   "metadata": {},
   "outputs": [
    {
     "ename": "IndexError",
     "evalue": "string index out of range",
     "output_type": "error",
     "traceback": [
      "\u001b[1;31m---------------------------------------------------------------------------\u001b[0m",
      "\u001b[1;31mIndexError\u001b[0m                                Traceback (most recent call last)",
      "Cell \u001b[1;32mIn[60], line 1\u001b[0m\n\u001b[1;32m----> 1\u001b[0m \u001b[43mlong_char6\u001b[49m\u001b[43m[\u001b[49m\u001b[38;5;241;43m76\u001b[39;49m\u001b[43m]\u001b[49m\n",
      "\u001b[1;31mIndexError\u001b[0m: string index out of range"
     ]
    }
   ],
   "source": [
    "long_char6[76]"
   ]
  },
  {
   "cell_type": "markdown",
   "id": "4ddd5540",
   "metadata": {},
   "source": [
    "# 문자의 덧셈, 곱셈\n",
    "* 문자의 덧셈 : 붙이기\n",
    "* 문자의 곱셈 : 반복"
   ]
  },
  {
   "cell_type": "code",
   "execution_count": 61,
   "id": "be630e48",
   "metadata": {},
   "outputs": [],
   "source": [
    "c = \"python\"\n",
    "d = \"쉬워요\""
   ]
  },
  {
   "cell_type": "code",
   "execution_count": 62,
   "id": "39868a45",
   "metadata": {},
   "outputs": [
    {
     "name": "stdout",
     "output_type": "stream",
     "text": [
      "python 쉬워요\n"
     ]
    }
   ],
   "source": [
    "print(c, d)"
   ]
  },
  {
   "cell_type": "code",
   "execution_count": 64,
   "id": "5873113d",
   "metadata": {},
   "outputs": [
    {
     "name": "stdout",
     "output_type": "stream",
     "text": [
      "python쉬워요\n"
     ]
    }
   ],
   "source": [
    "e = c + d\n",
    "print(e)"
   ]
  },
  {
   "cell_type": "code",
   "execution_count": 65,
   "id": "f0739e7f",
   "metadata": {},
   "outputs": [
    {
     "name": "stdout",
     "output_type": "stream",
     "text": [
      "python 쉬워요\n"
     ]
    }
   ],
   "source": [
    "# 문자 + 문자2 == 문자문자2\n",
    "f = c + \" \" + d\n",
    "print(f)"
   ]
  },
  {
   "cell_type": "code",
   "execution_count": 68,
   "id": "742c148c",
   "metadata": {},
   "outputs": [
    {
     "name": "stdout",
     "output_type": "stream",
     "text": [
      "***********\n",
      "Hello world\n",
      "***********\n"
     ]
    }
   ],
   "source": [
    "# 문자 곱셈 == 문자의 반복\n",
    "a = \"*\"\n",
    "b = \"Hello world\"\n",
    "print(a*11)\n",
    "print(b)\n",
    "print(a*11)"
   ]
  },
  {
   "cell_type": "markdown",
   "id": "b0f2f101",
   "metadata": {},
   "source": [
    "# 문자열의 인덱싱과 슬라이싱\n",
    "* 인덱싱 : 문자열에 앞에서부터 부여된 숫자를 대괄호 안에 넣어서 그 위치의 문자를 출력하는 것. \n",
    "  * 변수[숫자]\n",
    "* 슬라이싱 : 문자열에 부여된 인덱스 번호를 범위로 묶어서 가져오는 것.\n",
    "  * 변수[시작번호:끝번호+1:간격]"
   ]
  },
  {
   "cell_type": "code",
   "execution_count": 77,
   "id": "d8afb24e",
   "metadata": {},
   "outputs": [],
   "source": [
    "sliceing = \"슬라이싱: 문자열에 부여된 인덱스 번호를 범위로 묶어서 가져오는 것.\""
   ]
  },
  {
   "cell_type": "code",
   "execution_count": 78,
   "id": "004066ee",
   "metadata": {},
   "outputs": [
    {
     "data": {
      "text/plain": [
       "'슬'"
      ]
     },
     "execution_count": 78,
     "metadata": {},
     "output_type": "execute_result"
    }
   ],
   "source": [
    "sliceing[0]"
   ]
  },
  {
   "cell_type": "code",
   "execution_count": 79,
   "id": "32efa5aa",
   "metadata": {},
   "outputs": [
    {
     "data": {
      "text/plain": [
       "'문자열에'"
      ]
     },
     "execution_count": 79,
     "metadata": {},
     "output_type": "execute_result"
    }
   ],
   "source": [
    "sliceing[6:10]"
   ]
  },
  {
   "cell_type": "code",
   "execution_count": 80,
   "id": "edfdb9e1",
   "metadata": {},
   "outputs": [
    {
     "data": {
      "text/plain": [
       "'슬이:문열 여 덱 호 위 어 져는것'"
      ]
     },
     "execution_count": 80,
     "metadata": {},
     "output_type": "execute_result"
    }
   ],
   "source": [
    "sliceing[::2]"
   ]
  },
  {
   "cell_type": "markdown",
   "id": "4e6f6084",
   "metadata": {},
   "source": [
    "# 4.리스트 list ***\n",
    "* 리스트는 [] 안에 정수, 실수, 문자/문자열, 리스트, 튜플, 딕셔너리 를 모두 넣어서 만든다. \n",
    "* 리스트는 여러가지 자료가 나열된 형태이므로 순서가 있다.\n",
    "* 인덱싱, 슬라이싱 가능 \n",
    "* 자료의 추가/삭제가 가능"
   ]
  },
  {
   "cell_type": "code",
   "execution_count": 81,
   "id": "1586905c",
   "metadata": {},
   "outputs": [],
   "source": [
    "a = [1, 3.5, \"삼\", \"사십오\", [1,2,3], (4,5,6), {\"key\": \"value\"}]"
   ]
  },
  {
   "cell_type": "code",
   "execution_count": 82,
   "id": "6132d37d",
   "metadata": {},
   "outputs": [
    {
     "name": "stdout",
     "output_type": "stream",
     "text": [
      "[1, 3.5, '삼', '사십오', [1, 2, 3], (4, 5, 6), {'key': 'value'}]\n"
     ]
    }
   ],
   "source": [
    "print(a)"
   ]
  },
  {
   "cell_type": "code",
   "execution_count": 83,
   "id": "8b86b59e",
   "metadata": {},
   "outputs": [
    {
     "name": "stdout",
     "output_type": "stream",
     "text": [
      "1\n"
     ]
    }
   ],
   "source": [
    "print(a[0])"
   ]
  },
  {
   "cell_type": "code",
   "execution_count": 84,
   "id": "31c20f75",
   "metadata": {},
   "outputs": [
    {
     "name": "stdout",
     "output_type": "stream",
     "text": [
      "사십오\n"
     ]
    }
   ],
   "source": [
    "print(a[3])"
   ]
  },
  {
   "cell_type": "code",
   "execution_count": 86,
   "id": "5aba73ee",
   "metadata": {},
   "outputs": [
    {
     "name": "stdout",
     "output_type": "stream",
     "text": [
      "[[1, 2, 3], (4, 5, 6), {'key': 'value'}]\n"
     ]
    }
   ],
   "source": [
    "print(a[4:7])"
   ]
  },
  {
   "cell_type": "code",
   "execution_count": 87,
   "id": "6e356cf3",
   "metadata": {},
   "outputs": [
    {
     "name": "stdout",
     "output_type": "stream",
     "text": [
      "<class 'list'>\n"
     ]
    }
   ],
   "source": [
    "print(type(a))"
   ]
  },
  {
   "cell_type": "code",
   "execution_count": 88,
   "id": "b866c4d3",
   "metadata": {},
   "outputs": [
    {
     "name": "stdout",
     "output_type": "stream",
     "text": [
      "<class 'int'>\n"
     ]
    }
   ],
   "source": [
    "print(type(a[0]))"
   ]
  },
  {
   "cell_type": "code",
   "execution_count": 89,
   "id": "c4c9fe4c",
   "metadata": {},
   "outputs": [
    {
     "name": "stdout",
     "output_type": "stream",
     "text": [
      "<class 'float'>\n"
     ]
    }
   ],
   "source": [
    "print(type(a[1]))"
   ]
  },
  {
   "cell_type": "code",
   "execution_count": 90,
   "id": "7783aa3d",
   "metadata": {},
   "outputs": [
    {
     "name": "stdout",
     "output_type": "stream",
     "text": [
      "<class 'str'>\n"
     ]
    }
   ],
   "source": [
    "print(type(a[3]))"
   ]
  },
  {
   "cell_type": "code",
   "execution_count": 91,
   "id": "744be42a",
   "metadata": {},
   "outputs": [
    {
     "name": "stdout",
     "output_type": "stream",
     "text": [
      "<class 'tuple'>\n"
     ]
    }
   ],
   "source": [
    "print(type(a[5]))"
   ]
  },
  {
   "cell_type": "code",
   "execution_count": 92,
   "id": "15435a64",
   "metadata": {},
   "outputs": [
    {
     "name": "stdout",
     "output_type": "stream",
     "text": [
      "<class 'dict'>\n"
     ]
    }
   ],
   "source": [
    "print(type(a[6]))"
   ]
  },
  {
   "cell_type": "markdown",
   "id": "276b8c6c",
   "metadata": {},
   "source": [
    "# 리스트 안에 리스트/튜플이 있는 경우는 ?"
   ]
  },
  {
   "cell_type": "code",
   "execution_count": 93,
   "id": "e924a9c7",
   "metadata": {},
   "outputs": [
    {
     "data": {
      "text/plain": [
       "[1, 3.5, '삼', '사십오', [1, 2, 3], (4, 5, 6), {'key': 'value'}]"
      ]
     },
     "execution_count": 93,
     "metadata": {},
     "output_type": "execute_result"
    }
   ],
   "source": [
    "a"
   ]
  },
  {
   "cell_type": "code",
   "execution_count": 95,
   "id": "9102cba6",
   "metadata": {},
   "outputs": [
    {
     "data": {
      "text/plain": [
       "'사십오'"
      ]
     },
     "execution_count": 95,
     "metadata": {},
     "output_type": "execute_result"
    }
   ],
   "source": [
    "a[3]"
   ]
  },
  {
   "cell_type": "code",
   "execution_count": 96,
   "id": "7ca0a7eb",
   "metadata": {},
   "outputs": [
    {
     "data": {
      "text/plain": [
       "'오'"
      ]
     },
     "execution_count": 96,
     "metadata": {},
     "output_type": "execute_result"
    }
   ],
   "source": [
    "a[3][2]"
   ]
  },
  {
   "cell_type": "code",
   "execution_count": 98,
   "id": "60a4213b",
   "metadata": {},
   "outputs": [
    {
     "data": {
      "text/plain": [
       "[1, 2, 3]"
      ]
     },
     "execution_count": 98,
     "metadata": {},
     "output_type": "execute_result"
    }
   ],
   "source": [
    "a[4]"
   ]
  },
  {
   "cell_type": "code",
   "execution_count": 99,
   "id": "c6b8c350",
   "metadata": {},
   "outputs": [
    {
     "data": {
      "text/plain": [
       "3"
      ]
     },
     "execution_count": 99,
     "metadata": {},
     "output_type": "execute_result"
    }
   ],
   "source": [
    "a[4][2]"
   ]
  },
  {
   "cell_type": "markdown",
   "id": "8da6c1a7",
   "metadata": {},
   "source": [
    "# 중첩리스트"
   ]
  },
  {
   "cell_type": "code",
   "execution_count": 108,
   "id": "2003eccb",
   "metadata": {},
   "outputs": [],
   "source": [
    "b = [1, 3.5, '삼', '사십오', [1, 2, [4,5,[7,8,9],10]], (4, 5, 6), {'key': 'value'}]"
   ]
  },
  {
   "cell_type": "code",
   "execution_count": 109,
   "id": "752f038e",
   "metadata": {},
   "outputs": [
    {
     "data": {
      "text/plain": [
       "9"
      ]
     },
     "execution_count": 109,
     "metadata": {},
     "output_type": "execute_result"
    }
   ],
   "source": [
    "b[4][2][2][2]"
   ]
  },
  {
   "cell_type": "markdown",
   "id": "9e2f70e1",
   "metadata": {},
   "source": [
    "# len 함수로 리스트 길이 구하기"
   ]
  },
  {
   "cell_type": "code",
   "execution_count": 110,
   "id": "bbf0a3b7",
   "metadata": {},
   "outputs": [
    {
     "data": {
      "text/plain": [
       "7"
      ]
     },
     "execution_count": 110,
     "metadata": {},
     "output_type": "execute_result"
    }
   ],
   "source": [
    "len(b)"
   ]
  },
  {
   "cell_type": "code",
   "execution_count": 111,
   "id": "fd6d364e",
   "metadata": {},
   "outputs": [
    {
     "data": {
      "text/plain": [
       "3"
      ]
     },
     "execution_count": 111,
     "metadata": {},
     "output_type": "execute_result"
    }
   ],
   "source": [
    "len(b[3])"
   ]
  },
  {
   "cell_type": "code",
   "execution_count": 112,
   "id": "c16f0732",
   "metadata": {},
   "outputs": [
    {
     "data": {
      "text/plain": [
       "3"
      ]
     },
     "execution_count": 112,
     "metadata": {},
     "output_type": "execute_result"
    }
   ],
   "source": [
    "len(b[4])"
   ]
  },
  {
   "cell_type": "code",
   "execution_count": 113,
   "id": "580883fd",
   "metadata": {},
   "outputs": [
    {
     "data": {
      "text/plain": [
       "4"
      ]
     },
     "execution_count": 113,
     "metadata": {},
     "output_type": "execute_result"
    }
   ],
   "source": [
    "len(b[4][2])"
   ]
  },
  {
   "cell_type": "markdown",
   "id": "6f9c3754",
   "metadata": {},
   "source": [
    "# 리스트에 자료 추가하기 .append(자료)\n",
    "* append로 추가된 자료는 리스트의 가장 마지막에 추가 됨"
   ]
  },
  {
   "cell_type": "code",
   "execution_count": 114,
   "id": "7c6cf656",
   "metadata": {},
   "outputs": [
    {
     "data": {
      "text/plain": [
       "[1,\n",
       " 3.5,\n",
       " '삼',\n",
       " '사십오',\n",
       " [1, 2, [4, 5, [7, 8, 9], 10]],\n",
       " (4, 5, 6),\n",
       " {'key': 'value'}]"
      ]
     },
     "execution_count": 114,
     "metadata": {},
     "output_type": "execute_result"
    }
   ],
   "source": [
    "b"
   ]
  },
  {
   "cell_type": "code",
   "execution_count": 115,
   "id": "0bf022b6",
   "metadata": {},
   "outputs": [],
   "source": [
    "b.append(99)"
   ]
  },
  {
   "cell_type": "code",
   "execution_count": 116,
   "id": "728a1e2a",
   "metadata": {},
   "outputs": [
    {
     "data": {
      "text/plain": [
       "[1,\n",
       " 3.5,\n",
       " '삼',\n",
       " '사십오',\n",
       " [1, 2, [4, 5, [7, 8, 9], 10]],\n",
       " (4, 5, 6),\n",
       " {'key': 'value'},\n",
       " 99]"
      ]
     },
     "execution_count": 116,
     "metadata": {},
     "output_type": "execute_result"
    }
   ],
   "source": [
    "b"
   ]
  },
  {
   "cell_type": "code",
   "execution_count": 117,
   "id": "554779be",
   "metadata": {},
   "outputs": [],
   "source": [
    "b.append(99.999)"
   ]
  },
  {
   "cell_type": "code",
   "execution_count": 118,
   "id": "71c5fc6b",
   "metadata": {},
   "outputs": [
    {
     "data": {
      "text/plain": [
       "[1,\n",
       " 3.5,\n",
       " '삼',\n",
       " '사십오',\n",
       " [1, 2, [4, 5, [7, 8, 9], 10]],\n",
       " (4, 5, 6),\n",
       " {'key': 'value'},\n",
       " 99,\n",
       " 99.999]"
      ]
     },
     "execution_count": 118,
     "metadata": {},
     "output_type": "execute_result"
    }
   ],
   "source": [
    "b"
   ]
  },
  {
   "cell_type": "code",
   "execution_count": 119,
   "id": "9391d61f",
   "metadata": {},
   "outputs": [],
   "source": [
    "b.append([\"일\", \"이\", \"삼\"])"
   ]
  },
  {
   "cell_type": "code",
   "execution_count": 120,
   "id": "8456d624",
   "metadata": {},
   "outputs": [
    {
     "data": {
      "text/plain": [
       "[1,\n",
       " 3.5,\n",
       " '삼',\n",
       " '사십오',\n",
       " [1, 2, [4, 5, [7, 8, 9], 10]],\n",
       " (4, 5, 6),\n",
       " {'key': 'value'},\n",
       " 99,\n",
       " 99.999,\n",
       " ['일', '이', '삼']]"
      ]
     },
     "execution_count": 120,
     "metadata": {},
     "output_type": "execute_result"
    }
   ],
   "source": [
    "b"
   ]
  },
  {
   "cell_type": "code",
   "execution_count": 121,
   "id": "0eccb30d",
   "metadata": {},
   "outputs": [],
   "source": [
    "b.append((1,2,3))"
   ]
  },
  {
   "cell_type": "code",
   "execution_count": 122,
   "id": "8aaa2424",
   "metadata": {},
   "outputs": [
    {
     "data": {
      "text/plain": [
       "[1,\n",
       " 3.5,\n",
       " '삼',\n",
       " '사십오',\n",
       " [1, 2, [4, 5, [7, 8, 9], 10]],\n",
       " (4, 5, 6),\n",
       " {'key': 'value'},\n",
       " 99,\n",
       " 99.999,\n",
       " ['일', '이', '삼'],\n",
       " (1, 2, 3)]"
      ]
     },
     "execution_count": 122,
     "metadata": {},
     "output_type": "execute_result"
    }
   ],
   "source": [
    "b"
   ]
  },
  {
   "cell_type": "code",
   "execution_count": 125,
   "id": "0da92c04",
   "metadata": {},
   "outputs": [
    {
     "data": {
      "text/plain": [
       "[1,\n",
       " 3.5,\n",
       " '삼',\n",
       " '사십오',\n",
       " [1, 2, [4, 5, [7, 8, 9], 10]],\n",
       " (4, 5, 6),\n",
       " {'key': 'value'},\n",
       " 99,\n",
       " 99.999,\n",
       " ['일', '이', '삼'],\n",
       " (1, 2, 3),\n",
       " {'key2': 'value2'}]"
      ]
     },
     "execution_count": 125,
     "metadata": {},
     "output_type": "execute_result"
    }
   ],
   "source": [
    "b.append({\"key2\":\"value2\"})\n",
    "b"
   ]
  },
  {
   "cell_type": "code",
   "execution_count": 127,
   "id": "e521f2d0",
   "metadata": {},
   "outputs": [
    {
     "data": {
      "text/plain": [
       "[1,\n",
       " 3.5,\n",
       " '삼',\n",
       " '사십오',\n",
       " [1, 2, [4, 5, [7, 8, 9], 10]],\n",
       " (4, 5, 6),\n",
       " {'key': 'value'},\n",
       " 99,\n",
       " 99.999,\n",
       " {'key2': 'value2'}]"
      ]
     },
     "execution_count": 127,
     "metadata": {},
     "output_type": "execute_result"
    }
   ],
   "source": [
    "del b[9]\n",
    "b"
   ]
  },
  {
   "cell_type": "code",
   "execution_count": 131,
   "id": "f09baa93",
   "metadata": {},
   "outputs": [],
   "source": [
    "del b[10:12]"
   ]
  },
  {
   "cell_type": "code",
   "execution_count": 156,
   "id": "7daf3ecd",
   "metadata": {},
   "outputs": [
    {
     "data": {
      "text/plain": [
       "[1,\n",
       " 3.5,\n",
       " 100,\n",
       " '사십오',\n",
       " [1, 2, [4, 5, [7, 8, 9], 10]],\n",
       " (4, 5, 6),\n",
       " {'key': 'value'},\n",
       " 99,\n",
       " 99.999,\n",
       " {'key2': 'value2'}]"
      ]
     },
     "execution_count": 156,
     "metadata": {},
     "output_type": "execute_result"
    }
   ],
   "source": [
    "b"
   ]
  },
  {
   "cell_type": "markdown",
   "id": "f4f15d7a",
   "metadata": {},
   "source": [
    "# 리스트 자료 수정하기"
   ]
  },
  {
   "cell_type": "code",
   "execution_count": 157,
   "id": "68ebac3a",
   "metadata": {},
   "outputs": [],
   "source": [
    "b[2] = 100 #????????"
   ]
  },
  {
   "cell_type": "markdown",
   "id": "e2209b66",
   "metadata": {},
   "source": [
    "# 5.튜플 tuple\n",
    "* 여러가지 자료를 ()안에 넣어서 만드는 자료형 \n",
    "* 모든 data type의 자료를 넣을 수 있다.\n",
    "* 한 번 생성하면 수정이 되지 않는다.\n",
    "* 튜플이 리스트보다 실행 속도가 빠르다."
   ]
  },
  {
   "cell_type": "code",
   "execution_count": 142,
   "id": "76f10b35",
   "metadata": {},
   "outputs": [],
   "source": [
    "t = (1,)"
   ]
  },
  {
   "cell_type": "code",
   "execution_count": 143,
   "id": "b37f6437",
   "metadata": {},
   "outputs": [
    {
     "data": {
      "text/plain": [
       "(1,)"
      ]
     },
     "execution_count": 143,
     "metadata": {},
     "output_type": "execute_result"
    }
   ],
   "source": [
    "t"
   ]
  },
  {
   "cell_type": "code",
   "execution_count": 144,
   "id": "0a0fea4a",
   "metadata": {},
   "outputs": [
    {
     "data": {
      "text/plain": [
       "(2,)"
      ]
     },
     "execution_count": 144,
     "metadata": {},
     "output_type": "execute_result"
    }
   ],
   "source": [
    "t2 = (2,)\n",
    "t2"
   ]
  },
  {
   "cell_type": "code",
   "execution_count": 145,
   "id": "49201a30",
   "metadata": {},
   "outputs": [
    {
     "name": "stdout",
     "output_type": "stream",
     "text": [
      "<class 'tuple'> <class 'tuple'>\n"
     ]
    }
   ],
   "source": [
    "print(type(t), type(t2))"
   ]
  },
  {
   "cell_type": "code",
   "execution_count": 147,
   "id": "b7132dc5",
   "metadata": {},
   "outputs": [
    {
     "data": {
      "text/plain": [
       "(1, 2.5, '문', '문자열', [3, 4, 5], (5, 6, 7), {'key': 'value'})"
      ]
     },
     "execution_count": 147,
     "metadata": {},
     "output_type": "execute_result"
    }
   ],
   "source": [
    "t3 = (1, 2.5, \"문\", \"문자열\", [3,4,5], (5,6,7), {'key': 'value'})\n",
    "t3"
   ]
  },
  {
   "cell_type": "code",
   "execution_count": 149,
   "id": "f7917fc2",
   "metadata": {},
   "outputs": [
    {
     "data": {
      "text/plain": [
       "4"
      ]
     },
     "execution_count": 149,
     "metadata": {},
     "output_type": "execute_result"
    }
   ],
   "source": [
    "t3[4][1]"
   ]
  },
  {
   "cell_type": "code",
   "execution_count": 150,
   "id": "e6751571",
   "metadata": {},
   "outputs": [
    {
     "data": {
      "text/plain": [
       "(1, 2.5, '문', '문자열')"
      ]
     },
     "execution_count": 150,
     "metadata": {},
     "output_type": "execute_result"
    }
   ],
   "source": [
    "t3[0:4]"
   ]
  },
  {
   "cell_type": "code",
   "execution_count": 152,
   "id": "0946800d",
   "metadata": {},
   "outputs": [
    {
     "ename": "AttributeError",
     "evalue": "'tuple' object has no attribute 'append'",
     "output_type": "error",
     "traceback": [
      "\u001b[1;31m---------------------------------------------------------------------------\u001b[0m",
      "\u001b[1;31mAttributeError\u001b[0m                            Traceback (most recent call last)",
      "Cell \u001b[1;32mIn[152], line 2\u001b[0m\n\u001b[0;32m      1\u001b[0m \u001b[38;5;66;03m# 튜플은 자료 추가가 안됨\u001b[39;00m\n\u001b[1;32m----> 2\u001b[0m \u001b[43mt3\u001b[49m\u001b[38;5;241;43m.\u001b[39;49m\u001b[43mappend\u001b[49m(\u001b[38;5;241m10\u001b[39m)\n",
      "\u001b[1;31mAttributeError\u001b[0m: 'tuple' object has no attribute 'append'"
     ]
    }
   ],
   "source": [
    "# 튜플은 자료 추가가 안됨\n",
    "t3.append(10)"
   ]
  },
  {
   "cell_type": "code",
   "execution_count": 153,
   "id": "69122f02",
   "metadata": {},
   "outputs": [
    {
     "ename": "TypeError",
     "evalue": "'tuple' object does not support item assignment",
     "output_type": "error",
     "traceback": [
      "\u001b[1;31m---------------------------------------------------------------------------\u001b[0m",
      "\u001b[1;31mTypeError\u001b[0m                                 Traceback (most recent call last)",
      "Cell \u001b[1;32mIn[153], line 2\u001b[0m\n\u001b[0;32m      1\u001b[0m \u001b[38;5;66;03m# 튜플은 자료 수정도 안됨\u001b[39;00m\n\u001b[1;32m----> 2\u001b[0m \u001b[43mt3\u001b[49m\u001b[43m[\u001b[49m\u001b[38;5;241;43m0\u001b[39;49m\u001b[43m]\u001b[49m \u001b[38;5;241m=\u001b[39m \u001b[38;5;241m100\u001b[39m\n",
      "\u001b[1;31mTypeError\u001b[0m: 'tuple' object does not support item assignment"
     ]
    }
   ],
   "source": [
    "# 튜플은 자료 수정도 안됨\n",
    "t3[0] = 100"
   ]
  },
  {
   "cell_type": "code",
   "execution_count": 158,
   "id": "b19a9f41",
   "metadata": {},
   "outputs": [
    {
     "ename": "TypeError",
     "evalue": "'tuple' object doesn't support item deletion",
     "output_type": "error",
     "traceback": [
      "\u001b[1;31m---------------------------------------------------------------------------\u001b[0m",
      "\u001b[1;31mTypeError\u001b[0m                                 Traceback (most recent call last)",
      "Cell \u001b[1;32mIn[158], line 2\u001b[0m\n\u001b[0;32m      1\u001b[0m \u001b[38;5;66;03m# 튜플은 자료 삭제가 안됨\u001b[39;00m\n\u001b[1;32m----> 2\u001b[0m \u001b[38;5;28;01mdel\u001b[39;00m t3[\u001b[38;5;241m0\u001b[39m]\n",
      "\u001b[1;31mTypeError\u001b[0m: 'tuple' object doesn't support item deletion"
     ]
    }
   ],
   "source": [
    "# 튜플은 자료 삭제가 안됨\n",
    "del t3[0]"
   ]
  },
  {
   "cell_type": "markdown",
   "id": "76eb9c92",
   "metadata": {},
   "source": [
    "# 6.딕셔너리형(dict) JSON {\"key\" : \"value\"} ***\n",
    "* key와 value로 이루어진 데이터형\n",
    "* json 이라고도 불리며 웹상에서 데이터를 주고 받을 때 주로 사용\n",
    "* 딕셔너리의 value에는 모든 자료형이 올 수 있음.\n",
    "* 딕셔너리의 key에는 **list, dict는 올 수 없음.**\n",
    "* key를 호출하면 value가 출력됨\n",
    "* 딕셔너리는 순서가 없는 자료형"
   ]
  },
  {
   "cell_type": "code",
   "execution_count": 166,
   "id": "0ee3819f",
   "metadata": {},
   "outputs": [],
   "source": [
    "dict1 = {\"이름\":\"홍길동\",\"나이\":33, \"키\":175.4, \"가족\":['둘리','또치','도우너']}"
   ]
  },
  {
   "cell_type": "code",
   "execution_count": 167,
   "id": "bcd6e429",
   "metadata": {},
   "outputs": [
    {
     "name": "stdout",
     "output_type": "stream",
     "text": [
      "<class 'dict'>\n"
     ]
    }
   ],
   "source": [
    "print(type(dict1))"
   ]
  },
  {
   "cell_type": "code",
   "execution_count": 165,
   "id": "cd9a1642",
   "metadata": {},
   "outputs": [
    {
     "name": "stdout",
     "output_type": "stream",
     "text": [
      "홍길동 <class 'str'>\n"
     ]
    }
   ],
   "source": [
    "print(dict1[\"이름\"], type(dict1[\"이름\"]))"
   ]
  },
  {
   "cell_type": "code",
   "execution_count": 161,
   "id": "f83628a6",
   "metadata": {},
   "outputs": [
    {
     "data": {
      "text/plain": [
       "33"
      ]
     },
     "execution_count": 161,
     "metadata": {},
     "output_type": "execute_result"
    }
   ],
   "source": [
    "dict1[\"나이\"]"
   ]
  },
  {
   "cell_type": "code",
   "execution_count": 162,
   "id": "da24688e",
   "metadata": {},
   "outputs": [
    {
     "data": {
      "text/plain": [
       "175.4"
      ]
     },
     "execution_count": 162,
     "metadata": {},
     "output_type": "execute_result"
    }
   ],
   "source": [
    "dict1[\"키\"]"
   ]
  },
  {
   "cell_type": "code",
   "execution_count": 163,
   "id": "c2b56636",
   "metadata": {},
   "outputs": [
    {
     "data": {
      "text/plain": [
       "['둘리', '또치', '도우너']"
      ]
     },
     "execution_count": 163,
     "metadata": {},
     "output_type": "execute_result"
    }
   ],
   "source": [
    "dict1[\"가족\"]"
   ]
  },
  {
   "cell_type": "code",
   "execution_count": 168,
   "id": "7369fcda",
   "metadata": {},
   "outputs": [
    {
     "name": "stdout",
     "output_type": "stream",
     "text": [
      "33 <class 'int'>\n"
     ]
    }
   ],
   "source": [
    "print(dict1[\"나이\"], type(dict1[\"나이\"]))"
   ]
  },
  {
   "cell_type": "code",
   "execution_count": 169,
   "id": "d5f4e758",
   "metadata": {},
   "outputs": [
    {
     "name": "stdout",
     "output_type": "stream",
     "text": [
      "175.4 <class 'float'>\n"
     ]
    }
   ],
   "source": [
    "print(dict1[\"키\"], type(dict1[\"키\"]))"
   ]
  },
  {
   "cell_type": "code",
   "execution_count": 170,
   "id": "db5e81de",
   "metadata": {},
   "outputs": [
    {
     "name": "stdout",
     "output_type": "stream",
     "text": [
      "['둘리', '또치', '도우너'] <class 'list'>\n"
     ]
    }
   ],
   "source": [
    "print(dict1[\"가족\"], type(dict1[\"가족\"]))"
   ]
  },
  {
   "cell_type": "code",
   "execution_count": 172,
   "id": "d8ecb6d9",
   "metadata": {},
   "outputs": [
    {
     "data": {
      "text/plain": [
       "'둘리'"
      ]
     },
     "execution_count": 172,
     "metadata": {},
     "output_type": "execute_result"
    }
   ],
   "source": [
    "dict1[\"가족\"][0]"
   ]
  },
  {
   "cell_type": "code",
   "execution_count": 173,
   "id": "dbca8eb0",
   "metadata": {},
   "outputs": [],
   "source": [
    "dict2 = {\"가족\":['둘리','또치','도우너', {\"키\":[145, 155, 165]}]}"
   ]
  },
  {
   "cell_type": "markdown",
   "id": "04274da4",
   "metadata": {},
   "source": [
    "# dict 에서 len은 key의 갯수"
   ]
  },
  {
   "cell_type": "code",
   "execution_count": 175,
   "id": "c6eacb53",
   "metadata": {},
   "outputs": [
    {
     "data": {
      "text/plain": [
       "1"
      ]
     },
     "execution_count": 175,
     "metadata": {},
     "output_type": "execute_result"
    }
   ],
   "source": [
    "len(dict2)"
   ]
  },
  {
   "cell_type": "code",
   "execution_count": 176,
   "id": "8cbf5c35",
   "metadata": {},
   "outputs": [
    {
     "data": {
      "text/plain": [
       "['둘리', '또치', '도우너', {'키': [145, 155, 165]}]"
      ]
     },
     "execution_count": 176,
     "metadata": {},
     "output_type": "execute_result"
    }
   ],
   "source": [
    "dict2['가족']"
   ]
  },
  {
   "cell_type": "code",
   "execution_count": 177,
   "id": "c568b587",
   "metadata": {},
   "outputs": [
    {
     "data": {
      "text/plain": [
       "{'키': [145, 155, 165]}"
      ]
     },
     "execution_count": 177,
     "metadata": {},
     "output_type": "execute_result"
    }
   ],
   "source": [
    "dict2['가족'][3]"
   ]
  },
  {
   "cell_type": "code",
   "execution_count": 178,
   "id": "98605f6b",
   "metadata": {},
   "outputs": [
    {
     "data": {
      "text/plain": [
       "[145, 155, 165]"
      ]
     },
     "execution_count": 178,
     "metadata": {},
     "output_type": "execute_result"
    }
   ],
   "source": [
    "dict2['가족'][3]['키']"
   ]
  },
  {
   "cell_type": "code",
   "execution_count": 179,
   "id": "afef50b0",
   "metadata": {},
   "outputs": [
    {
     "data": {
      "text/plain": [
       "155"
      ]
     },
     "execution_count": 179,
     "metadata": {},
     "output_type": "execute_result"
    }
   ],
   "source": [
    "dict2['가족'][3]['키'][1]"
   ]
  },
  {
   "cell_type": "markdown",
   "id": "bde4c503",
   "metadata": {},
   "source": [
    "# 딕셔너리에 자료 추가/삭제하기\n",
    "* 자료추가\n",
    "  * 변수명['새로운 key'] = 새 자료 **key가 중복되면 안됨, 중복될 경우 나중 값으로 덮어쓰기 됨**\n",
    "* 자료삭제\n",
    "  * del 변수명['key']"
   ]
  },
  {
   "cell_type": "code",
   "execution_count": 202,
   "id": "4b3ad4c6",
   "metadata": {},
   "outputs": [
    {
     "data": {
      "text/plain": [
       "{'가족': ['둘리', '또치']}"
      ]
     },
     "execution_count": 202,
     "metadata": {},
     "output_type": "execute_result"
    }
   ],
   "source": [
    "dict2"
   ]
  },
  {
   "cell_type": "code",
   "execution_count": 189,
   "id": "59c34ece",
   "metadata": {},
   "outputs": [],
   "source": [
    "dict2['좋아하는 음식'] = ['자장면', '짬뽕', '볶음밥']"
   ]
  },
  {
   "cell_type": "code",
   "execution_count": 199,
   "id": "9f96c08c",
   "metadata": {},
   "outputs": [
    {
     "data": {
      "text/plain": [
       "{'가족': ['둘리', '또치']}"
      ]
     },
     "execution_count": 199,
     "metadata": {},
     "output_type": "execute_result"
    }
   ],
   "source": [
    "dict2"
   ]
  },
  {
   "cell_type": "code",
   "execution_count": 195,
   "id": "007294ec",
   "metadata": {},
   "outputs": [],
   "source": [
    "del dict2['가족'][2]"
   ]
  },
  {
   "cell_type": "code",
   "execution_count": 196,
   "id": "fb7e9198",
   "metadata": {},
   "outputs": [
    {
     "data": {
      "text/plain": [
       "{'가족': ['둘리', '또치']}"
      ]
     },
     "execution_count": 196,
     "metadata": {},
     "output_type": "execute_result"
    }
   ],
   "source": [
    "dict2"
   ]
  },
  {
   "cell_type": "code",
   "execution_count": 203,
   "id": "bc6f0aa6",
   "metadata": {},
   "outputs": [
    {
     "ename": "KeyError",
     "evalue": "'좋아하는 음식'",
     "output_type": "error",
     "traceback": [
      "\u001b[1;31m---------------------------------------------------------------------------\u001b[0m",
      "\u001b[1;31mKeyError\u001b[0m                                  Traceback (most recent call last)",
      "Cell \u001b[1;32mIn[203], line 1\u001b[0m\n\u001b[1;32m----> 1\u001b[0m \u001b[38;5;28;01mdel\u001b[39;00m dict2[\u001b[38;5;124m'\u001b[39m\u001b[38;5;124m좋아하는 음식\u001b[39m\u001b[38;5;124m'\u001b[39m]\n",
      "\u001b[1;31mKeyError\u001b[0m: '좋아하는 음식'"
     ]
    }
   ],
   "source": [
    "del dict2['좋아하는 음식']"
   ]
  },
  {
   "cell_type": "code",
   "execution_count": 201,
   "id": "28e74e33",
   "metadata": {},
   "outputs": [
    {
     "data": {
      "text/plain": [
       "{'가족': ['둘리', '또치']}"
      ]
     },
     "execution_count": 201,
     "metadata": {},
     "output_type": "execute_result"
    }
   ],
   "source": [
    "dict2"
   ]
  },
  {
   "cell_type": "code",
   "execution_count": 204,
   "id": "e47ba7b4",
   "metadata": {},
   "outputs": [],
   "source": [
    "dict2['가족'] = \"대가족\""
   ]
  },
  {
   "cell_type": "code",
   "execution_count": 205,
   "id": "a9d30da8",
   "metadata": {},
   "outputs": [
    {
     "data": {
      "text/plain": [
       "{'가족': '대가족'}"
      ]
     },
     "execution_count": 205,
     "metadata": {},
     "output_type": "execute_result"
    }
   ],
   "source": [
    "dict2"
   ]
  },
  {
   "cell_type": "markdown",
   "id": "7b5c255c",
   "metadata": {},
   "source": [
    "# 형변환 함수 \n",
    "* data type을 다른 data type으로 바꾸는 것 \n",
    "* int, float, str, list, tuple, dict\n",
    "\n",
    "## int() 숫자나 문자를 정수로 형변환"
   ]
  },
  {
   "cell_type": "code",
   "execution_count": 206,
   "id": "76f37df7",
   "metadata": {},
   "outputs": [],
   "source": [
    "a = 3.14"
   ]
  },
  {
   "cell_type": "code",
   "execution_count": 207,
   "id": "9a4b1fad",
   "metadata": {},
   "outputs": [
    {
     "name": "stdout",
     "output_type": "stream",
     "text": [
      "3.14 <class 'float'>\n"
     ]
    }
   ],
   "source": [
    "print(a, type(a))"
   ]
  },
  {
   "cell_type": "code",
   "execution_count": 208,
   "id": "f8e6cfc3",
   "metadata": {},
   "outputs": [
    {
     "name": "stdout",
     "output_type": "stream",
     "text": [
      "3 <class 'int'>\n"
     ]
    }
   ],
   "source": [
    "print(int(a), type(int(a)))"
   ]
  },
  {
   "cell_type": "code",
   "execution_count": 209,
   "id": "2712cba7",
   "metadata": {},
   "outputs": [
    {
     "name": "stdout",
     "output_type": "stream",
     "text": [
      "3 <class 'str'>\n"
     ]
    }
   ],
   "source": [
    "b = \"3\"\n",
    "print(b, type(b))"
   ]
  },
  {
   "cell_type": "code",
   "execution_count": 210,
   "id": "d133edcb",
   "metadata": {},
   "outputs": [
    {
     "name": "stdout",
     "output_type": "stream",
     "text": [
      "3 <class 'int'>\n"
     ]
    }
   ],
   "source": [
    "print(int(b), type(int(a)))"
   ]
  },
  {
   "cell_type": "code",
   "execution_count": 211,
   "id": "d57a5d73",
   "metadata": {},
   "outputs": [
    {
     "data": {
      "text/plain": [
       "3"
      ]
     },
     "execution_count": 211,
     "metadata": {},
     "output_type": "execute_result"
    }
   ],
   "source": [
    "int(a)"
   ]
  },
  {
   "cell_type": "code",
   "execution_count": 212,
   "id": "61b7412c",
   "metadata": {},
   "outputs": [
    {
     "data": {
      "text/plain": [
       "'3'"
      ]
     },
     "execution_count": 212,
     "metadata": {},
     "output_type": "execute_result"
    }
   ],
   "source": [
    "b"
   ]
  },
  {
   "cell_type": "code",
   "execution_count": 214,
   "id": "99d2c387",
   "metadata": {},
   "outputs": [
    {
     "name": "stdout",
     "output_type": "stream",
     "text": [
      "3 <class 'int'>\n"
     ]
    }
   ],
   "source": [
    "print(int(b), type(int(a)))"
   ]
  },
  {
   "cell_type": "markdown",
   "id": "e7644db4",
   "metadata": {},
   "source": [
    "## float() 정수나, 문자를 실수로 형변환"
   ]
  },
  {
   "cell_type": "code",
   "execution_count": 215,
   "id": "e0f42712",
   "metadata": {},
   "outputs": [
    {
     "name": "stdout",
     "output_type": "stream",
     "text": [
      "200 <class 'int'>\n"
     ]
    }
   ],
   "source": [
    "c = 200\n",
    "print(c, type(c))"
   ]
  },
  {
   "cell_type": "code",
   "execution_count": 217,
   "id": "f9ef6ad3",
   "metadata": {},
   "outputs": [
    {
     "name": "stdout",
     "output_type": "stream",
     "text": [
      "200.0 <class 'float'>\n"
     ]
    }
   ],
   "source": [
    "print(float(c), type(float(c)))"
   ]
  },
  {
   "cell_type": "code",
   "execution_count": 220,
   "id": "b8656690",
   "metadata": {},
   "outputs": [],
   "source": [
    "c = float(c)"
   ]
  },
  {
   "cell_type": "code",
   "execution_count": 221,
   "id": "9cddc6c8",
   "metadata": {},
   "outputs": [
    {
     "data": {
      "text/plain": [
       "200.0"
      ]
     },
     "execution_count": 221,
     "metadata": {},
     "output_type": "execute_result"
    }
   ],
   "source": [
    "c"
   ]
  },
  {
   "cell_type": "code",
   "execution_count": 223,
   "id": "9971b90c",
   "metadata": {},
   "outputs": [
    {
     "name": "stdout",
     "output_type": "stream",
     "text": [
      "3.14 <class 'str'>\n"
     ]
    }
   ],
   "source": [
    "d = \"3.14\"\n",
    "print(d, type(d))"
   ]
  },
  {
   "cell_type": "code",
   "execution_count": 227,
   "id": "9a3f258e",
   "metadata": {},
   "outputs": [
    {
     "name": "stdout",
     "output_type": "stream",
     "text": [
      "3.14 <class 'float'>\n"
     ]
    }
   ],
   "source": [
    "d = float(d)\n",
    "print(d, type(d))"
   ]
  },
  {
   "cell_type": "markdown",
   "id": "b8846c07",
   "metadata": {},
   "source": [
    "## str() 숫자나, 다른 자료형을 문자로 변환"
   ]
  },
  {
   "cell_type": "code",
   "execution_count": 228,
   "id": "0d588ab1",
   "metadata": {},
   "outputs": [],
   "source": [
    "a = 10\n",
    "b = 34.5\n",
    "c = [1,2,4, \"오\"]\n",
    "d = (\"육\", 7, 8.5, 9)\n",
    "e = {3 : [1,2,3]}"
   ]
  },
  {
   "cell_type": "code",
   "execution_count": 233,
   "id": "ba794056",
   "metadata": {},
   "outputs": [
    {
     "name": "stdout",
     "output_type": "stream",
     "text": [
      "10 <class 'str'>\n",
      "34.5 <class 'str'>\n",
      "[1, 2, 4, '오'] <class 'str'>\n",
      "('육', 7, 8.5, 9) <class 'str'>\n",
      "{3: [1, 2, 3]} <class 'str'>\n"
     ]
    }
   ],
   "source": [
    "print(str(a), type(str(a)))\n",
    "print(str(b), type(str(b)))\n",
    "print(str(c), type(str(c)))\n",
    "print(str(d), type(str(d)))\n",
    "print(str(e), type(str(e)))"
   ]
  },
  {
   "cell_type": "code",
   "execution_count": 234,
   "id": "ce2d43d3",
   "metadata": {},
   "outputs": [
    {
     "data": {
      "text/plain": [
       "10"
      ]
     },
     "execution_count": 234,
     "metadata": {},
     "output_type": "execute_result"
    }
   ],
   "source": [
    "a"
   ]
  },
  {
   "cell_type": "code",
   "execution_count": 235,
   "id": "49901f19",
   "metadata": {},
   "outputs": [
    {
     "data": {
      "text/plain": [
       "'34.5'"
      ]
     },
     "execution_count": 235,
     "metadata": {},
     "output_type": "execute_result"
    }
   ],
   "source": [
    "str(b)"
   ]
  },
  {
   "cell_type": "code",
   "execution_count": 236,
   "id": "4dad5376",
   "metadata": {},
   "outputs": [
    {
     "data": {
      "text/plain": [
       "'{3: [1, 2, 3]}'"
      ]
     },
     "execution_count": 236,
     "metadata": {},
     "output_type": "execute_result"
    }
   ],
   "source": [
    "str(e)"
   ]
  },
  {
   "cell_type": "markdown",
   "id": "61c766f3",
   "metadata": {},
   "source": [
    "## list() 튜플이나 문자열로 되어 있는 리스트를 리스트로 변환"
   ]
  },
  {
   "cell_type": "code",
   "execution_count": 238,
   "id": "6b4dc383",
   "metadata": {},
   "outputs": [
    {
     "data": {
      "text/plain": [
       "['육', 7, 8.5, 9]"
      ]
     },
     "execution_count": 238,
     "metadata": {},
     "output_type": "execute_result"
    }
   ],
   "source": [
    "list(d)"
   ]
  },
  {
   "cell_type": "code",
   "execution_count": 239,
   "id": "37340903",
   "metadata": {},
   "outputs": [
    {
     "name": "stdout",
     "output_type": "stream",
     "text": [
      "('육', 7, 8.5, 9) ['육', 7, 8.5, 9] <class 'list'>\n"
     ]
    }
   ],
   "source": [
    "print(d, list(d), type(list(d)))"
   ]
  },
  {
   "cell_type": "code",
   "execution_count": 242,
   "id": "096d5def",
   "metadata": {},
   "outputs": [
    {
     "name": "stdout",
     "output_type": "stream",
     "text": [
      "[1, 2, 4, '오'] <class 'str'>\n"
     ]
    }
   ],
   "source": [
    "c = str(c)\n",
    "print(c, type(c))"
   ]
  },
  {
   "cell_type": "code",
   "execution_count": 243,
   "id": "d5fa99a4",
   "metadata": {},
   "outputs": [
    {
     "name": "stdout",
     "output_type": "stream",
     "text": [
      "['[', '1', ',', ' ', '2', ',', ' ', '4', ',', ' ', \"'\", '오', \"'\", ']'] <class 'list'>\n"
     ]
    }
   ],
   "source": [
    "print(list(c), type(list(c)))"
   ]
  },
  {
   "cell_type": "code",
   "execution_count": 244,
   "id": "c3c5ebbe",
   "metadata": {},
   "outputs": [
    {
     "name": "stdout",
     "output_type": "stream",
     "text": [
      "['육', 7, 8.5, 9] <class 'list'>\n"
     ]
    }
   ],
   "source": [
    "d = list(d)\n",
    "print(d, type(d))"
   ]
  },
  {
   "cell_type": "code",
   "execution_count": 245,
   "id": "d8a8f516",
   "metadata": {},
   "outputs": [],
   "source": [
    "d.append(\"튜플을 리스트로 변환 후 자료 입력\")"
   ]
  },
  {
   "cell_type": "code",
   "execution_count": 246,
   "id": "0608b6a8",
   "metadata": {},
   "outputs": [
    {
     "data": {
      "text/plain": [
       "['육', 7, 8.5, 9, '튜플을 리스트로 변환 후 자료 입력']"
      ]
     },
     "execution_count": 246,
     "metadata": {},
     "output_type": "execute_result"
    }
   ],
   "source": [
    "d"
   ]
  },
  {
   "cell_type": "markdown",
   "id": "4d483662",
   "metadata": {},
   "source": [
    "## tuple() 리스트를 "
   ]
  },
  {
   "cell_type": "code",
   "execution_count": 247,
   "id": "a4f7ca20",
   "metadata": {},
   "outputs": [
    {
     "name": "stdout",
     "output_type": "stream",
     "text": [
      "('육', 7, 8.5, 9, '튜플을 리스트로 변환 후 자료 입력') <class 'tuple'>\n"
     ]
    }
   ],
   "source": [
    "d = tuple(d)\n",
    "print(d, type(d))"
   ]
  },
  {
   "cell_type": "code",
   "execution_count": null,
   "id": "15946285",
   "metadata": {},
   "outputs": [],
   "source": []
  },
  {
   "cell_type": "markdown",
   "id": "14073da9",
   "metadata": {},
   "source": [
    "# 연산자의 종류"
   ]
  },
  {
   "cell_type": "markdown",
   "id": "918ef344",
   "metadata": {},
   "source": [
    "## 산술연산자 +, -, *, /, %, //, **"
   ]
  },
  {
   "cell_type": "code",
   "execution_count": 249,
   "id": "0b662b61",
   "metadata": {},
   "outputs": [
    {
     "data": {
      "text/plain": [
       "2"
      ]
     },
     "execution_count": 249,
     "metadata": {},
     "output_type": "execute_result"
    }
   ],
   "source": [
    "# 덧셈\n",
    "1 + 1"
   ]
  },
  {
   "cell_type": "code",
   "execution_count": 250,
   "id": "b13cb1f3",
   "metadata": {},
   "outputs": [
    {
     "data": {
      "text/plain": [
       "1"
      ]
     },
     "execution_count": 250,
     "metadata": {},
     "output_type": "execute_result"
    }
   ],
   "source": [
    "# 뺄셈\n",
    "3 - 2"
   ]
  },
  {
   "cell_type": "code",
   "execution_count": 251,
   "id": "683d9149",
   "metadata": {},
   "outputs": [],
   "source": [
    "a = 3\n",
    "b = 2"
   ]
  },
  {
   "cell_type": "code",
   "execution_count": 252,
   "id": "fa4be618",
   "metadata": {},
   "outputs": [
    {
     "data": {
      "text/plain": [
       "1"
      ]
     },
     "execution_count": 252,
     "metadata": {},
     "output_type": "execute_result"
    }
   ],
   "source": [
    "a - b"
   ]
  },
  {
   "cell_type": "code",
   "execution_count": 253,
   "id": "96fdae72",
   "metadata": {},
   "outputs": [
    {
     "data": {
      "text/plain": [
       "30"
      ]
     },
     "execution_count": 253,
     "metadata": {},
     "output_type": "execute_result"
    }
   ],
   "source": [
    "# 곱셈\n",
    "5*6"
   ]
  },
  {
   "cell_type": "code",
   "execution_count": 254,
   "id": "1d8032d8",
   "metadata": {},
   "outputs": [
    {
     "data": {
      "text/plain": [
       "2.0"
      ]
     },
     "execution_count": 254,
     "metadata": {},
     "output_type": "execute_result"
    }
   ],
   "source": [
    "# 나눗셈\n",
    "10/5"
   ]
  },
  {
   "cell_type": "markdown",
   "id": "6937a592",
   "metadata": {},
   "source": [
    "## 나눗셈을 할 경우 데이터 타입이 정수에서 실수로 바뀐다 "
   ]
  },
  {
   "cell_type": "code",
   "execution_count": 256,
   "id": "503f1d20",
   "metadata": {},
   "outputs": [
    {
     "data": {
      "text/plain": [
       "0.6666666666666666"
      ]
     },
     "execution_count": 256,
     "metadata": {},
     "output_type": "execute_result"
    }
   ],
   "source": [
    "# 나눗셈의 결과는 반드시 실수로 나온다.\n",
    "b /a"
   ]
  },
  {
   "cell_type": "code",
   "execution_count": 260,
   "id": "05d1303e",
   "metadata": {},
   "outputs": [],
   "source": [
    "a = 5\n",
    "b = 2"
   ]
  },
  {
   "cell_type": "code",
   "execution_count": 262,
   "id": "fc78aaf8",
   "metadata": {},
   "outputs": [
    {
     "name": "stdout",
     "output_type": "stream",
     "text": [
      "2.5\n",
      "1\n",
      "0\n"
     ]
    }
   ],
   "source": [
    "# 나머지 연산자 % 나눈 후 나머지만 출력\n",
    "# 홀수 짝수 구분시 주로 사용 % 2 == 0 짝수  %2 2 == 1 홀수\n",
    "# 베수를 구할 때 사용 % == 0 3의 배수, &7 00 == 0 7의 배수\n",
    "print(a / b)\n",
    "print(a % b)\n",
    "print(6%2)"
   ]
  },
  {
   "cell_type": "code",
   "execution_count": 265,
   "id": "cbbccaad",
   "metadata": {},
   "outputs": [
    {
     "name": "stdout",
     "output_type": "stream",
     "text": [
      "2\n"
     ]
    }
   ],
   "source": [
    "# // 나눗셈 후 몫만 출력4\n",
    "# // 나눗셈 후 몫만 출력\n",
    "print(5//2)"
   ]
  },
  {
   "cell_type": "code",
   "execution_count": 267,
   "id": "c1d2f315",
   "metadata": {},
   "outputs": [
    {
     "name": "stdout",
     "output_type": "stream",
     "text": [
      "128\n"
     ]
    }
   ],
   "source": [
    "# ** 제곱\n",
    "print(2 ** 7)"
   ]
  },
  {
   "cell_type": "markdown",
   "id": "4dfba0cb",
   "metadata": {},
   "source": [
    "## 할당연산자 \n",
    "* =, +=, -=, *=, /=, %="
   ]
  },
  {
   "cell_type": "code",
   "execution_count": 269,
   "id": "03b4dff5",
   "metadata": {},
   "outputs": [
    {
     "data": {
      "text/plain": [
       "10"
      ]
     },
     "execution_count": 269,
     "metadata": {},
     "output_type": "execute_result"
    }
   ],
   "source": [
    "# = : 오른쪽에 있는 자료를 왼쪽 변수에 집어 넣는 할당 연산자 \n",
    "a = 10\n",
    "a"
   ]
  },
  {
   "cell_type": "code",
   "execution_count": 270,
   "id": "c817c577",
   "metadata": {},
   "outputs": [
    {
     "data": {
      "text/plain": [
       "12"
      ]
     },
     "execution_count": 270,
     "metadata": {},
     "output_type": "execute_result"
    }
   ],
   "source": [
    "# b = b+10 => b += 10\n",
    "b += 10\n",
    "b"
   ]
  },
  {
   "cell_type": "code",
   "execution_count": 271,
   "id": "998418ab",
   "metadata": {},
   "outputs": [
    {
     "data": {
      "text/plain": [
       "10"
      ]
     },
     "execution_count": 271,
     "metadata": {},
     "output_type": "execute_result"
    }
   ],
   "source": [
    "# b = b - 2 => b -= 2\n",
    "b -= 2\n",
    "b"
   ]
  },
  {
   "cell_type": "code",
   "execution_count": 275,
   "id": "5b4f783c",
   "metadata": {},
   "outputs": [
    {
     "data": {
      "text/plain": [
       "360"
      ]
     },
     "execution_count": 275,
     "metadata": {},
     "output_type": "execute_result"
    }
   ],
   "source": [
    "# b = b* 3 => b *= 3\n",
    "b *= 2\n",
    "b"
   ]
  },
  {
   "cell_type": "code",
   "execution_count": 276,
   "id": "f4750bb2",
   "metadata": {},
   "outputs": [
    {
     "data": {
      "text/plain": [
       "72.0"
      ]
     },
     "execution_count": 276,
     "metadata": {},
     "output_type": "execute_result"
    }
   ],
   "source": [
    "# b = b / 5 => b /=5\n",
    "b /= 5\n",
    "b"
   ]
  },
  {
   "cell_type": "code",
   "execution_count": 278,
   "id": "c65d200f",
   "metadata": {},
   "outputs": [
    {
     "data": {
      "text/plain": [
       "0.0"
      ]
     },
     "execution_count": 278,
     "metadata": {},
     "output_type": "execute_result"
    }
   ],
   "source": [
    "# b = b%2 => b %= 2\n",
    "b %= 2\n",
    "b"
   ]
  },
  {
   "cell_type": "markdown",
   "id": "bb4b73bc",
   "metadata": {},
   "source": [
    "# 비교연산자\n",
    "* 같다 ==\n",
    "* 다르다 !=\n",
    "* 초과 > \n",
    "* 이상 >=\n",
    "* 미만 <\n",
    "* 이하 <=\n",
    "  * 항상 왼쪽에 있는 게 기준"
   ]
  },
  {
   "cell_type": "code",
   "execution_count": 279,
   "id": "1e642b7f",
   "metadata": {},
   "outputs": [],
   "source": [
    "a = 3\n",
    "b = 3.0\n",
    "c = 5\n",
    "d = \"Python\"\n",
    "e = 'python'\n",
    "f = True\n",
    "g = False"
   ]
  },
  {
   "cell_type": "markdown",
   "id": "3652fae8",
   "metadata": {},
   "source": [
    "* == 같으면 True, 다르면 False"
   ]
  },
  {
   "cell_type": "code",
   "execution_count": 280,
   "id": "2c9459d5",
   "metadata": {},
   "outputs": [
    {
     "data": {
      "text/plain": [
       "True"
      ]
     },
     "execution_count": 280,
     "metadata": {},
     "output_type": "execute_result"
    }
   ],
   "source": [
    "a == b"
   ]
  },
  {
   "cell_type": "code",
   "execution_count": 281,
   "id": "5b65bf32",
   "metadata": {},
   "outputs": [
    {
     "data": {
      "text/plain": [
       "False"
      ]
     },
     "execution_count": 281,
     "metadata": {},
     "output_type": "execute_result"
    }
   ],
   "source": [
    "a == c"
   ]
  },
  {
   "cell_type": "code",
   "execution_count": 282,
   "id": "1e1ad892",
   "metadata": {},
   "outputs": [
    {
     "data": {
      "text/plain": [
       "False"
      ]
     },
     "execution_count": 282,
     "metadata": {},
     "output_type": "execute_result"
    }
   ],
   "source": [
    "d == e"
   ]
  },
  {
   "cell_type": "code",
   "execution_count": 283,
   "id": "5c019848",
   "metadata": {},
   "outputs": [
    {
     "data": {
      "text/plain": [
       "'8'"
      ]
     },
     "execution_count": 283,
     "metadata": {},
     "output_type": "execute_result"
    }
   ],
   "source": [
    "oct(141)"
   ]
  },
  {
   "cell_type": "code",
   "execution_count": 284,
   "id": "b6f208d7",
   "metadata": {},
   "outputs": [
    {
     "data": {
      "text/plain": [
       "False"
      ]
     },
     "execution_count": 284,
     "metadata": {},
     "output_type": "execute_result"
    }
   ],
   "source": [
    "f == g"
   ]
  },
  {
   "cell_type": "markdown",
   "id": "0d2a6bfb",
   "metadata": {},
   "source": [
    "* != 같으면 False, 다르면 True"
   ]
  },
  {
   "cell_type": "code",
   "execution_count": 285,
   "id": "5b2450ee",
   "metadata": {},
   "outputs": [
    {
     "data": {
      "text/plain": [
       "False"
      ]
     },
     "execution_count": 285,
     "metadata": {},
     "output_type": "execute_result"
    }
   ],
   "source": [
    "a != b"
   ]
  },
  {
   "cell_type": "code",
   "execution_count": 286,
   "id": "8d82eb2d",
   "metadata": {},
   "outputs": [
    {
     "data": {
      "text/plain": [
       "True"
      ]
     },
     "execution_count": 286,
     "metadata": {},
     "output_type": "execute_result"
    }
   ],
   "source": [
    "a != c"
   ]
  },
  {
   "cell_type": "code",
   "execution_count": 287,
   "id": "6684bcc9",
   "metadata": {},
   "outputs": [
    {
     "data": {
      "text/plain": [
       "True"
      ]
     },
     "execution_count": 287,
     "metadata": {},
     "output_type": "execute_result"
    }
   ],
   "source": [
    "d != e"
   ]
  },
  {
   "cell_type": "markdown",
   "id": "0f2115ff",
   "metadata": {},
   "source": [
    "* \\> 왼쪽 값이 오른쪽 값과 비교해서 크면 True(초과)\n",
    "* \\< 왼쪽 값이 오른쪽 값과 비교해서 작으면 True(미만)\n",
    "* \\>= 왼쪽 값이 오른쪽 값과 비교해서 크거나 같으면 True(이상)\n",
    "* \\<= 왼쪽 값이 오른쪽 값과 비교해서 작거나 같으면 True(이하)"
   ]
  },
  {
   "cell_type": "code",
   "execution_count": 288,
   "id": "572d725f",
   "metadata": {},
   "outputs": [
    {
     "data": {
      "text/plain": [
       "True"
      ]
     },
     "execution_count": 288,
     "metadata": {},
     "output_type": "execute_result"
    }
   ],
   "source": [
    "5 >= 3"
   ]
  },
  {
   "cell_type": "code",
   "execution_count": 289,
   "id": "81cefa34",
   "metadata": {},
   "outputs": [
    {
     "data": {
      "text/plain": [
       "True"
      ]
     },
     "execution_count": 289,
     "metadata": {},
     "output_type": "execute_result"
    }
   ],
   "source": [
    "5 > 3"
   ]
  },
  {
   "cell_type": "code",
   "execution_count": 290,
   "id": "f94a5ce8",
   "metadata": {},
   "outputs": [
    {
     "data": {
      "text/plain": [
       "False"
      ]
     },
     "execution_count": 290,
     "metadata": {},
     "output_type": "execute_result"
    }
   ],
   "source": [
    "5 < 3"
   ]
  },
  {
   "cell_type": "code",
   "execution_count": 291,
   "id": "68eb4061",
   "metadata": {},
   "outputs": [
    {
     "data": {
      "text/plain": [
       "False"
      ]
     },
     "execution_count": 291,
     "metadata": {},
     "output_type": "execute_result"
    }
   ],
   "source": [
    "5 <= 3"
   ]
  },
  {
   "cell_type": "code",
   "execution_count": 292,
   "id": "a370901d",
   "metadata": {},
   "outputs": [
    {
     "data": {
      "text/plain": [
       "False"
      ]
     },
     "execution_count": 292,
     "metadata": {},
     "output_type": "execute_result"
    }
   ],
   "source": [
    "5 < 5"
   ]
  },
  {
   "cell_type": "code",
   "execution_count": 293,
   "id": "30f24d9b",
   "metadata": {},
   "outputs": [
    {
     "data": {
      "text/plain": [
       "False"
      ]
     },
     "execution_count": 293,
     "metadata": {},
     "output_type": "execute_result"
    }
   ],
   "source": [
    "5 > 5"
   ]
  },
  {
   "cell_type": "markdown",
   "id": "486f34cc",
   "metadata": {},
   "source": [
    "# 논리 연산자 \n",
    "* and, or, not"
   ]
  },
  {
   "cell_type": "markdown",
   "id": "f8d3cb19",
   "metadata": {},
   "source": [
    "* and : 왼쪽과 오른쪽 값 모두 True 일 때 True, 하나라도 False면 False"
   ]
  },
  {
   "cell_type": "code",
   "execution_count": 294,
   "id": "8f8f8162",
   "metadata": {},
   "outputs": [
    {
     "data": {
      "text/plain": [
       "True"
      ]
     },
     "execution_count": 294,
     "metadata": {},
     "output_type": "execute_result"
    }
   ],
   "source": [
    "# True and True\n",
    "3 == 3 and 5 > 3"
   ]
  },
  {
   "cell_type": "code",
   "execution_count": 295,
   "id": "1e8c0da4",
   "metadata": {},
   "outputs": [
    {
     "data": {
      "text/plain": [
       "False"
      ]
     },
     "execution_count": 295,
     "metadata": {},
     "output_type": "execute_result"
    }
   ],
   "source": [
    "# True and False\n",
    "3 == 3 and 5 < 3"
   ]
  },
  {
   "cell_type": "code",
   "execution_count": 296,
   "id": "06bcbceb",
   "metadata": {},
   "outputs": [
    {
     "data": {
      "text/plain": [
       "False"
      ]
     },
     "execution_count": 296,
     "metadata": {},
     "output_type": "execute_result"
    }
   ],
   "source": [
    "# False and True\n",
    "3 < 3 and 5 > 3"
   ]
  },
  {
   "cell_type": "code",
   "execution_count": 297,
   "id": "fc2f81a7",
   "metadata": {},
   "outputs": [
    {
     "data": {
      "text/plain": [
       "False"
      ]
     },
     "execution_count": 297,
     "metadata": {},
     "output_type": "execute_result"
    }
   ],
   "source": [
    "# False and False\n",
    "3 < 3 and 5 < 3"
   ]
  },
  {
   "cell_type": "markdown",
   "id": "4800dd2d",
   "metadata": {},
   "source": [
    "* or 왼쪽이나 오른쪽 중에 하나라도 True 면 True, 둘 다 False 일때만 False"
   ]
  },
  {
   "cell_type": "code",
   "execution_count": 298,
   "id": "a0462203",
   "metadata": {},
   "outputs": [
    {
     "data": {
      "text/plain": [
       "True"
      ]
     },
     "execution_count": 298,
     "metadata": {},
     "output_type": "execute_result"
    }
   ],
   "source": [
    "# True or True\n",
    "3 == 3 or 5 > 3"
   ]
  },
  {
   "cell_type": "code",
   "execution_count": 299,
   "id": "55a9cb67",
   "metadata": {},
   "outputs": [
    {
     "data": {
      "text/plain": [
       "True"
      ]
     },
     "execution_count": 299,
     "metadata": {},
     "output_type": "execute_result"
    }
   ],
   "source": [
    "# True or False\n",
    "3 == 3 or 5 < 3"
   ]
  },
  {
   "cell_type": "code",
   "execution_count": 300,
   "id": "fe35d422",
   "metadata": {},
   "outputs": [
    {
     "data": {
      "text/plain": [
       "False"
      ]
     },
     "execution_count": 300,
     "metadata": {},
     "output_type": "execute_result"
    }
   ],
   "source": [
    "# False and False\n",
    "3 > 3 or 5 < 3"
   ]
  },
  {
   "cell_type": "markdown",
   "id": "b91d17cb",
   "metadata": {},
   "source": [
    "* not : 값을 반대로 뒤집음 True => False, False => True"
   ]
  },
  {
   "cell_type": "code",
   "execution_count": 301,
   "id": "fdcbe368",
   "metadata": {},
   "outputs": [
    {
     "data": {
      "text/plain": [
       "False"
      ]
     },
     "execution_count": 301,
     "metadata": {},
     "output_type": "execute_result"
    }
   ],
   "source": [
    "not True"
   ]
  },
  {
   "cell_type": "code",
   "execution_count": 302,
   "id": "a5f54c29",
   "metadata": {},
   "outputs": [
    {
     "data": {
      "text/plain": [
       "True"
      ]
     },
     "execution_count": 302,
     "metadata": {},
     "output_type": "execute_result"
    }
   ],
   "source": [
    "not False"
   ]
  },
  {
   "cell_type": "code",
   "execution_count": 303,
   "id": "1636c65c",
   "metadata": {},
   "outputs": [
    {
     "data": {
      "text/plain": [
       "True"
      ]
     },
     "execution_count": 303,
     "metadata": {},
     "output_type": "execute_result"
    }
   ],
   "source": [
    "not 3 > 3 and not 5 < 3"
   ]
  },
  {
   "cell_type": "markdown",
   "id": "40e1b6c9",
   "metadata": {},
   "source": [
    "* not, and, or의 순위 \n",
    "* not > and > or"
   ]
  },
  {
   "cell_type": "code",
   "execution_count": 305,
   "id": "18b4b173",
   "metadata": {},
   "outputs": [
    {
     "data": {
      "text/plain": [
       "True"
      ]
     },
     "execution_count": 305,
     "metadata": {},
     "output_type": "execute_result"
    }
   ],
   "source": [
    "# False and False or True\n",
    "not True and False or not False"
   ]
  },
  {
   "cell_type": "code",
   "execution_count": 306,
   "id": "683b27b7",
   "metadata": {},
   "outputs": [
    {
     "data": {
      "text/plain": [
       "True"
      ]
     },
     "execution_count": 306,
     "metadata": {},
     "output_type": "execute_result"
    }
   ],
   "source": [
    "# True and True\n",
    "10 == 10 and 10 != 5"
   ]
  },
  {
   "cell_type": "markdown",
   "id": "8365b1a7",
   "metadata": {},
   "source": [
    "# 식별연산자\n",
    "* is, is no(data type까지 같은지 비교)"
   ]
  },
  {
   "cell_type": "code",
   "execution_count": 307,
   "id": "d6fd9265",
   "metadata": {},
   "outputs": [
    {
     "name": "stdout",
     "output_type": "stream",
     "text": [
      "3\n",
      "3.0\n",
      "5\n"
     ]
    }
   ],
   "source": [
    "print(a)\n",
    "print(b)\n",
    "print(c)"
   ]
  },
  {
   "cell_type": "code",
   "execution_count": 309,
   "id": "9698225d",
   "metadata": {},
   "outputs": [
    {
     "name": "stdout",
     "output_type": "stream",
     "text": [
      "True\n",
      "False\n"
     ]
    }
   ],
   "source": [
    "# ==는 값만 같으면 True 처리, is는 값이 같아도 data type 다르면 False\n",
    "print(a == b)\n",
    "print(a is b)"
   ]
  },
  {
   "cell_type": "code",
   "execution_count": 310,
   "id": "04b6bc04",
   "metadata": {},
   "outputs": [],
   "source": [
    "d = 3"
   ]
  },
  {
   "cell_type": "code",
   "execution_count": 311,
   "id": "d2edc9b5",
   "metadata": {},
   "outputs": [
    {
     "name": "stdout",
     "output_type": "stream",
     "text": [
      "False\n"
     ]
    }
   ],
   "source": [
    "# a 와 d 모두 int 3이기 때문에 True\n",
    "print(a is b)"
   ]
  },
  {
   "cell_type": "code",
   "execution_count": 312,
   "id": "1269b416",
   "metadata": {},
   "outputs": [
    {
     "name": "stdout",
     "output_type": "stream",
     "text": [
      "True\n"
     ]
    }
   ],
   "source": [
    "# is not 은 둘이 다르면 True\n",
    "print(a is not b)"
   ]
  },
  {
   "cell_type": "markdown",
   "id": "8eca1ebe",
   "metadata": {},
   "source": [
    "* 멤버 연산자\n",
    "* in, not in\n",
    "* list나 Tuple, dict 안에 원하는 값이 있는지 찾을 때 사용"
   ]
  },
  {
   "cell_type": "code",
   "execution_count": 313,
   "id": "85aa1aa8",
   "metadata": {},
   "outputs": [],
   "source": [
    "mem = [1,2,3,4,5,\"육\"]"
   ]
  },
  {
   "cell_type": "code",
   "execution_count": 314,
   "id": "84b5b105",
   "metadata": {},
   "outputs": [
    {
     "data": {
      "text/plain": [
       "True"
      ]
     },
     "execution_count": 314,
     "metadata": {},
     "output_type": "execute_result"
    }
   ],
   "source": [
    "3 in mem"
   ]
  },
  {
   "cell_type": "code",
   "execution_count": 317,
   "id": "d766f3d1",
   "metadata": {},
   "outputs": [
    {
     "data": {
      "text/plain": [
       "False"
      ]
     },
     "execution_count": 317,
     "metadata": {},
     "output_type": "execute_result"
    }
   ],
   "source": [
    "6 in mem"
   ]
  },
  {
   "cell_type": "code",
   "execution_count": 319,
   "id": "837e6668",
   "metadata": {},
   "outputs": [
    {
     "data": {
      "text/plain": [
       "True"
      ]
     },
     "execution_count": 319,
     "metadata": {},
     "output_type": "execute_result"
    }
   ],
   "source": [
    "6 not in mem"
   ]
  },
  {
   "cell_type": "code",
   "execution_count": 320,
   "id": "b024359c",
   "metadata": {},
   "outputs": [
    {
     "data": {
      "text/plain": [
       "False"
      ]
     },
     "execution_count": 320,
     "metadata": {},
     "output_type": "execute_result"
    }
   ],
   "source": [
    "3 not in mem"
   ]
  },
  {
   "cell_type": "markdown",
   "id": "3a05339d",
   "metadata": {},
   "source": [
    "# 문자열 함수 .replace(\"찾을값\", \"바꿀값\")"
   ]
  },
  {
   "cell_type": "code",
   "execution_count": 321,
   "id": "b746feaf",
   "metadata": {},
   "outputs": [
    {
     "data": {
      "text/plain": [
       "'010-1111-2222'"
      ]
     },
     "execution_count": 321,
     "metadata": {},
     "output_type": "execute_result"
    }
   ],
   "source": [
    "c = \"010-1111-2222\"\n",
    "c"
   ]
  },
  {
   "cell_type": "code",
   "execution_count": 323,
   "id": "f4c77956",
   "metadata": {},
   "outputs": [
    {
     "data": {
      "text/plain": [
       "'010.1111.2222'"
      ]
     },
     "execution_count": 323,
     "metadata": {},
     "output_type": "execute_result"
    }
   ],
   "source": [
    "c.replace(\"-\", \".\")"
   ]
  },
  {
   "cell_type": "code",
   "execution_count": null,
   "id": "c04cf7d4",
   "metadata": {},
   "outputs": [],
   "source": []
  }
 ],
 "metadata": {
  "kernelspec": {
   "display_name": "Python 3 (ipykernel)",
   "language": "python",
   "name": "python3"
  },
  "language_info": {
   "codemirror_mode": {
    "name": "ipython",
    "version": 3
   },
   "file_extension": ".py",
   "mimetype": "text/x-python",
   "name": "python",
   "nbconvert_exporter": "python",
   "pygments_lexer": "ipython3",
   "version": "3.9.23"
  }
 },
 "nbformat": 4,
 "nbformat_minor": 5
}
