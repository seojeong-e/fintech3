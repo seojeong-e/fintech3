{
 "cells": [
  {
   "cell_type": "markdown",
   "id": "424a99e0",
   "metadata": {},
   "source": [
    "## 251~260"
   ]
  },
  {
   "cell_type": "code",
   "execution_count": 29,
   "id": "a47ec855",
   "metadata": {},
   "outputs": [],
   "source": [
    "# 클래스 : 객체지향 프로그래밍, 코드를 재사용하는데 특화, 여러 사람이 이용할 때 같은 코드를 독립적으로 사용 가능캡슐화, 상속, 다형성 같은 개념 사용\n",
    "# 일종의 설계도, 하나의 타입을 정의하는 방법\n",
    "# 클래스로 만들어진 결과물 => 객체\n",
    "# 속성과 매서드를 갖고 있지 않다.\n",
    "\n",
    "# 클래스 : 설계도(도면)\n",
    "# 객체(Object, 인스턴스): 설계도로 만든 실제 물건"
   ]
  },
  {
   "cell_type": "code",
   "execution_count": 1,
   "id": "df34bca8",
   "metadata": {},
   "outputs": [],
   "source": [
    "class Human:\n",
    "    pass"
   ]
  },
  {
   "cell_type": "code",
   "execution_count": 2,
   "id": "b2bc4d17",
   "metadata": {},
   "outputs": [],
   "source": [
    "class Human():\n",
    "    pass\n",
    "\n",
    "areum = Human()"
   ]
  },
  {
   "cell_type": "code",
   "execution_count": 4,
   "id": "48d3f1a2",
   "metadata": {},
   "outputs": [
    {
     "name": "stdout",
     "output_type": "stream",
     "text": [
      "응애응애\n"
     ]
    }
   ],
   "source": [
    "class Human():\n",
    "    def __init__(self):\n",
    "        print(\"응애응애\")\n",
    "\n",
    "areum = Human()"
   ]
  },
  {
   "cell_type": "code",
   "execution_count": 9,
   "id": "bb363266",
   "metadata": {},
   "outputs": [],
   "source": [
    "class Human():\n",
    "    def __init__(self, name, age, sex):\n",
    "        self.name = name\n",
    "        self.age = age\n",
    "        self.sex = sex\n",
    "\n",
    "areum = Human(\"아름\", 25, \"여자\")"
   ]
  },
  {
   "cell_type": "code",
   "execution_count": 10,
   "id": "fe6bb24b",
   "metadata": {},
   "outputs": [
    {
     "name": "stdout",
     "output_type": "stream",
     "text": [
      "아름\n"
     ]
    }
   ],
   "source": [
    "print(areum.name)"
   ]
  },
  {
   "cell_type": "code",
   "execution_count": 11,
   "id": "bb95e642",
   "metadata": {},
   "outputs": [
    {
     "name": "stdout",
     "output_type": "stream",
     "text": [
      "25\n"
     ]
    }
   ],
   "source": [
    "print(areum.age)"
   ]
  },
  {
   "cell_type": "code",
   "execution_count": 12,
   "id": "37fcf802",
   "metadata": {},
   "outputs": [
    {
     "name": "stdout",
     "output_type": "stream",
     "text": [
      "여자\n"
     ]
    }
   ],
   "source": [
    "print(areum.sex)"
   ]
  },
  {
   "cell_type": "code",
   "execution_count": 17,
   "id": "f24d67d1",
   "metadata": {},
   "outputs": [],
   "source": [
    "class Human():\n",
    "    def __init__(self, name, age, sex):\n",
    "        self.name = name\n",
    "        self.age = age\n",
    "        self.sex = sex\n",
    "    \n",
    "    def who(self):\n",
    "        print(\"이름:{} 나이: {} 성별: {}\".format(self.name, self.age, self.sex))\n",
    "\n",
    "areum = Human(\"아름\", 25, \"여자\")"
   ]
  },
  {
   "cell_type": "code",
   "execution_count": 18,
   "id": "be6e2a0e",
   "metadata": {},
   "outputs": [
    {
     "name": "stdout",
     "output_type": "stream",
     "text": [
      "이름:아름 나이: 25 성별: 여자\n"
     ]
    }
   ],
   "source": [
    "areum.who()"
   ]
  },
  {
   "cell_type": "code",
   "execution_count": 24,
   "id": "2209f963",
   "metadata": {},
   "outputs": [
    {
     "name": "stdout",
     "output_type": "stream",
     "text": [
      "이름:불명 나이: 미상 성별: 모름\n",
      "이름:아름 나이: 25 성별: 여자\n"
     ]
    }
   ],
   "source": [
    "class Human():\n",
    "    def __init__(self, name, age, sex):\n",
    "        self.name = name\n",
    "        self.age = age\n",
    "        self.sex = sex\n",
    "    \n",
    "    def who(self):\n",
    "        print(\"이름:{} 나이: {} 성별: {}\".format(self.name, self.age, self.sex))\n",
    "        \n",
    "    def setInfo(self,name,age,sex):\n",
    "        self.name = name\n",
    "        self.age = age\n",
    "        self.sex = sex\n",
    "        \n",
    "areum = Human(\"불명\",\"미상\",\"모름\")\n",
    "areum.who()\n",
    "       \n",
    "areum = Human(\"아름\", 25, \"여자\")\n",
    "areum.who()"
   ]
  },
  {
   "cell_type": "code",
   "execution_count": 25,
   "id": "2b1a245e",
   "metadata": {},
   "outputs": [
    {
     "name": "stdout",
     "output_type": "stream",
     "text": [
      "나의 죽음을 알리지마라\n"
     ]
    }
   ],
   "source": [
    "class Human():\n",
    "    def __init__(self, name, age, sex):\n",
    "        self.name = name\n",
    "        self.age = age\n",
    "        self.sex = sex\n",
    "        \n",
    "    def __del__(self):\n",
    "        print(\"나의 죽음을 알리지마라\")\n",
    "    \n",
    "    def who(self):\n",
    "        print(\"이름:{} 나이: {} 성별: {}\".format(self.name, self.age, self.sex))\n",
    "        \n",
    "    def setInfo(self,name,age,sex):\n",
    "        self.name = name\n",
    "        self.age = age\n",
    "        self.sex = sex\n",
    "        \n",
    "areum = Human(\"아름\", 25, \"여자\")\n",
    "del(areum)"
   ]
  },
  {
   "cell_type": "code",
   "execution_count": 27,
   "id": "69b01c58",
   "metadata": {},
   "outputs": [
    {
     "ename": "TypeError",
     "evalue": "print() takes 0 positional arguments but 1 was given",
     "output_type": "error",
     "traceback": [
      "\u001b[1;31m---------------------------------------------------------------------------\u001b[0m",
      "\u001b[1;31mTypeError\u001b[0m                                 Traceback (most recent call last)",
      "Cell \u001b[1;32mIn[27], line 7\u001b[0m\n\u001b[0;32m      3\u001b[0m         \u001b[38;5;28mprint\u001b[39m(\u001b[38;5;124m\"\u001b[39m\u001b[38;5;124mOh my god\u001b[39m\u001b[38;5;124m\"\u001b[39m)\n\u001b[0;32m      6\u001b[0m mystock \u001b[38;5;241m=\u001b[39m OMG()\n\u001b[1;32m----> 7\u001b[0m \u001b[43mmystock\u001b[49m\u001b[38;5;241;43m.\u001b[39;49m\u001b[43mprint\u001b[49m\u001b[43m(\u001b[49m\u001b[43m)\u001b[49m      \u001b[38;5;66;03m# OMG.print(mystock)\u001b[39;00m\n",
      "\u001b[1;31mTypeError\u001b[0m: print() takes 0 positional arguments but 1 was given"
     ]
    }
   ],
   "source": [
    "class OMG :\n",
    "    def print() :\n",
    "        print(\"Oh my god\")\n",
    "\n",
    "\n",
    "mystock = OMG()\n",
    "mystock.print()      # OMG.print(mystock)"
   ]
  },
  {
   "cell_type": "markdown",
   "id": "48264a89",
   "metadata": {},
   "source": [
    "## 261~270"
   ]
  },
  {
   "cell_type": "code",
   "execution_count": 28,
   "id": "07e801be",
   "metadata": {},
   "outputs": [],
   "source": [
    "class Stock:\n",
    "    pass"
   ]
  },
  {
   "cell_type": "code",
   "execution_count": 30,
   "id": "f637d241",
   "metadata": {},
   "outputs": [],
   "source": [
    "class Stock:\n",
    "    def __init__(self, name, code):\n",
    "        self.name = name\n",
    "        self.code = code\n",
    "        \n",
    "삼성 = Stock(\"삼성전자\", \"005930\")"
   ]
  },
  {
   "cell_type": "code",
   "execution_count": 31,
   "id": "41a92639",
   "metadata": {},
   "outputs": [
    {
     "name": "stdout",
     "output_type": "stream",
     "text": [
      "삼성전자\n",
      "005930\n"
     ]
    }
   ],
   "source": [
    "print(삼성.name)\n",
    "print(삼성.code)\n",
    "\n",
    "# 점을 찍어 객체 내부 값 사용"
   ]
  },
  {
   "cell_type": "code",
   "execution_count": null,
   "id": "91d2d920",
   "metadata": {},
   "outputs": [],
   "source": [
    "# 'Stock'이라는 새로운 클래스 정의 (설계도 만들기)\n",
    "class Stock:\n",
    "    # 생성자 메서드: 객체가 만들어질 때 자동으로 실행\n",
    "    # name과 code라는 값을 받아서 객체 안에 저장해줌\n",
    "    def __init__(self, name, code):\n",
    "        self.name = name   # 객체의 속성(이름)\n",
    "        self.code = code   # 객체의 속성(코드)\n",
    "        \n",
    "\n",
    "# Stock 클래스를 이용해 실제 객체(인스턴스)를 하나 만든다\n",
    "삼성 = Stock(\"삼성전자\", \"005930\") "
   ]
  },
  {
   "cell_type": "code",
   "execution_count": 32,
   "id": "6bd0cffb",
   "metadata": {},
   "outputs": [
    {
     "name": "stdout",
     "output_type": "stream",
     "text": [
      "삼성전자\n"
     ]
    }
   ],
   "source": [
    "#객체에 종목명을 입력할 수 있는 set_name 메서드를 추가해보세요.\n",
    "\n",
    "class Stock:\n",
    "    def __init__(self,name,code):\n",
    "        self.name = name\n",
    "        self.code = code\n",
    "        \n",
    "    def set_name(self,name):\n",
    "        self.name = name\n",
    "        \n",
    "a = Stock(None, None)\n",
    "a.set_name(\"삼성전자\")\n",
    "print(a.name)"
   ]
  },
  {
   "cell_type": "code",
   "execution_count": 33,
   "id": "ee5b5586",
   "metadata": {},
   "outputs": [
    {
     "name": "stdout",
     "output_type": "stream",
     "text": [
      "005930\n"
     ]
    }
   ],
   "source": [
    "# 객체에 종목코드를 입력할 수 있는 set_code 메서드를 추가해보세요.\n",
    "\n",
    "class Stock:\n",
    "    def __init__(self,name,code):\n",
    "        self.name = name\n",
    "        self.code = code\n",
    "        \n",
    "    def set_code(self,code):\n",
    "        self.code = code\n",
    "\n",
    "a = Stock(None, None)\n",
    "a.set_code(\"005930\")\n",
    "print(a.code)"
   ]
  },
  {
   "cell_type": "code",
   "execution_count": 37,
   "id": "5866d775",
   "metadata": {},
   "outputs": [
    {
     "name": "stdout",
     "output_type": "stream",
     "text": [
      "삼성전자\n",
      "005930\n",
      "삼성전자\n",
      "005930\n"
     ]
    }
   ],
   "source": [
    "class Stock:\n",
    "    def __init__(self,name,code):\n",
    "        self.name = name\n",
    "        self.code = code\n",
    "    \n",
    "    def set_name(self,name):\n",
    "        self.name = name\n",
    "        \n",
    "    def set_code(self,code):\n",
    "        self.code = code   \n",
    "        \n",
    "    def get_name(self):\n",
    "        return self.name\n",
    "        \n",
    "    def get_code(self):\n",
    "        return self.code\n",
    "        \n",
    "삼성 = Stock(\"삼성전자\", \"005930\")\n",
    "print(삼성.name)\n",
    "print(삼성.code)\n",
    "print(삼성.get_name())\n",
    "print(삼성.get_code())"
   ]
  },
  {
   "cell_type": "code",
   "execution_count": null,
   "id": "18cc60c8",
   "metadata": {},
   "outputs": [],
   "source": [
    "# Stock이라는 이름의 클래스를 정의\n",
    "class Stock:\n",
    "    def __init__(self, name, code):\n",
    "        self.name = name \n",
    "        self.code = code  \n",
    "    \n",
    "    # set_name : 객체의 name 속성을 바꾸는 메서드\n",
    "    def set_name(self, name):\n",
    "        self.name = name  # self.name에 새로운 name 할당\n",
    "        \n",
    "    # set_code : 객체의 code 속성을 바꾸는 메서드\n",
    "    def set_code(self, code):\n",
    "        self.code = code  # self.code에 새로운 code 할당\n",
    "    \n",
    "    # get_name : 객체의 name 속성 값을 반환(return)하는 메서드\n",
    "    def get_name(self):\n",
    "        return self.name  # self.name(객체의 현재 name) 반환\n",
    "        \n",
    "    # get_code : 객체의 code 속성 값을 반환하는 메서드\n",
    "    def get_code(self):\n",
    "        return self.code  # self.code(객체의 현재 code) 반환\n",
    "\n",
    "# Stock 클래스 객체 생성\n",
    "삼성 = Stock(\"삼성전자\", \"005930\")\n",
    "\n",
    "# 속성 직접 접근\n",
    "print(삼성.name)  \n",
    "print(삼성.code) \n",
    "\n",
    "# 메서드를 이용해서 접근(get_name()이라는 함수를 통해 값을 가져옴)\n",
    "print(삼성.get_name()) \n",
    "print(삼성.get_code())  "
   ]
  },
  {
   "cell_type": "markdown",
   "id": "a7f090ce",
   "metadata": {},
   "source": [
    "* 객체의 속성값 업데이트"
   ]
  },
  {
   "cell_type": "code",
   "execution_count": 42,
   "id": "da8982ac",
   "metadata": {},
   "outputs": [],
   "source": [
    "class Stock:\n",
    "    def __init__(self,name,code,per,pbr,배당수익률):\n",
    "        self.name = name\n",
    "        self.code = code\n",
    "        self.per = per\n",
    "        self.pbr = pbr\n",
    "        self.배당수익률 = 배당수익률\n",
    "    \n",
    "    def set_name(self,name):\n",
    "        self.name = name\n",
    "        \n",
    "    def set_code(self,code):\n",
    "        self.code = code   \n",
    "        \n",
    "    def get_name(self):\n",
    "        return self.name\n",
    "        \n",
    "    def get_code(self):\n",
    "        return self.code"
   ]
  },
  {
   "cell_type": "code",
   "execution_count": 43,
   "id": "8706c810",
   "metadata": {},
   "outputs": [],
   "source": [
    "삼성 = Stock(\"삼성전자\", \"005930\", 15.79, 1.33, 2.83)"
   ]
  },
  {
   "cell_type": "code",
   "execution_count": 44,
   "id": "dfdcbb6c",
   "metadata": {},
   "outputs": [
    {
     "name": "stdout",
     "output_type": "stream",
     "text": [
      "2.83\n"
     ]
    }
   ],
   "source": [
    "print(삼성.배당수익률)"
   ]
  },
  {
   "cell_type": "code",
   "execution_count": 45,
   "id": "c84e1885",
   "metadata": {},
   "outputs": [],
   "source": [
    "class Stock:\n",
    "    def __init__(self,name,code,per,pbr, dividend):\n",
    "        self.name = name\n",
    "        self.code = code\n",
    "        self.per = per\n",
    "        self.pbr = pbr\n",
    "        self.dividend = dividend\n",
    "    \n",
    "    def set_name(self,name):\n",
    "        self.name = name\n",
    "        \n",
    "    def set_code(self,code):\n",
    "        self.code = code   \n",
    "        \n",
    "    def get_name(self):\n",
    "        return self.name\n",
    "        \n",
    "    def get_code(self):\n",
    "        return self.code\n",
    "    \n",
    "    def set_per(self,per):\n",
    "        self.per = per\n",
    "        \n",
    "    def set_pbr(self,pbr):\n",
    "        self.pbr = pbr\n",
    "        \n",
    "    def set_dividend(self,dividend):\n",
    "        self.dividend = dividend"
   ]
  },
  {
   "cell_type": "code",
   "execution_count": 46,
   "id": "e85a1031",
   "metadata": {},
   "outputs": [],
   "source": [
    "삼성 = Stock(\"삼성전자\", \"005930\", 15.79, 1.33, 2.83)\n",
    "삼성.set_per(12.75)"
   ]
  },
  {
   "cell_type": "code",
   "execution_count": 47,
   "id": "408bcdc2",
   "metadata": {},
   "outputs": [
    {
     "name": "stdout",
     "output_type": "stream",
     "text": [
      "12.75\n"
     ]
    }
   ],
   "source": [
    "print(삼성.per)"
   ]
  },
  {
   "cell_type": "code",
   "execution_count": 48,
   "id": "0044ba89",
   "metadata": {},
   "outputs": [
    {
     "name": "stdout",
     "output_type": "stream",
     "text": [
      "005930 15.79\n",
      "005380 8.7\n",
      "066570 317.34\n"
     ]
    }
   ],
   "source": [
    "종목 = [] # 주식 종목들 담을 공간 만들어주고,\n",
    "\n",
    "삼성 = Stock(\"삼성전자\", \"005930\", 15.79, 1.33, 2.83)\n",
    "현대차 = Stock(\"현대차\", \"005380\", 8.70, 0.35, 4.27)\n",
    "LG전자 = Stock(\"LG전자\", \"066570\", 317.34, 0.69, 1.37)\n",
    "\n",
    "종목.append(삼성)\n",
    "종목.append(현대차)\n",
    "종목.append(LG전자)\n",
    "\n",
    "for i in 종목: #리스트에 있는 객체들을 하나씩 꺼내서 반복하는 거!\n",
    "    print(i.code, i.per) # 각 객체의 코드 속성과 per 속성 출력함"
   ]
  },
  {
   "cell_type": "markdown",
   "id": "657c3fea",
   "metadata": {},
   "source": [
    "## 271~280"
   ]
  },
  {
   "cell_type": "code",
   "execution_count": null,
   "id": "b62bbb6d",
   "metadata": {},
   "outputs": [],
   "source": []
  },
  {
   "cell_type": "code",
   "execution_count": null,
   "id": "4bd5e811",
   "metadata": {},
   "outputs": [],
   "source": []
  },
  {
   "cell_type": "code",
   "execution_count": null,
   "id": "3e69dcde",
   "metadata": {},
   "outputs": [],
   "source": []
  },
  {
   "cell_type": "code",
   "execution_count": null,
   "id": "54b20952",
   "metadata": {},
   "outputs": [],
   "source": []
  },
  {
   "cell_type": "code",
   "execution_count": null,
   "id": "ff6606d8",
   "metadata": {},
   "outputs": [],
   "source": []
  },
  {
   "cell_type": "code",
   "execution_count": null,
   "id": "d642e362",
   "metadata": {},
   "outputs": [],
   "source": []
  },
  {
   "cell_type": "code",
   "execution_count": null,
   "id": "24290f2f",
   "metadata": {},
   "outputs": [],
   "source": []
  }
 ],
 "metadata": {
  "kernelspec": {
   "display_name": "Python 3 (ipykernel)",
   "language": "python",
   "name": "python3"
  },
  "language_info": {
   "codemirror_mode": {
    "name": "ipython",
    "version": 3
   },
   "file_extension": ".py",
   "mimetype": "text/x-python",
   "name": "python",
   "nbconvert_exporter": "python",
   "pygments_lexer": "ipython3",
   "version": "3.9.23"
  }
 },
 "nbformat": 4,
 "nbformat_minor": 5
}
