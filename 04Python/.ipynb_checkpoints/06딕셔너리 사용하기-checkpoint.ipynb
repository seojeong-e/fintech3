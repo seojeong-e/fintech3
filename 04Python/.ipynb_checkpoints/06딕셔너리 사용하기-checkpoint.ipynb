{
 "cells": [
  {
   "cell_type": "markdown",
   "id": "f61e8148",
   "metadata": {},
   "source": [
    "# 딕셔너리 사용하기\n",
    "* dict타입, json 타입이라고도 함\n",
    "* web에서 자료를 주고 받을 때 주로 사용하는 형식(api)\n",
    "* key : value 쌍으로 이루어진 자료형\n",
    "* key를 호출하면 value가 나온다.\n",
    "* key에는 list, dict를 제외한 자료형이 올 수 있다. \n",
    "* value에는 모든 자료형이 올 수 있다."
   ]
  },
  {
   "cell_type": "markdown",
   "id": "b8f7c0a4",
   "metadata": {},
   "source": [
    "# 딕셔너리 만들기\n",
    "* 중괄호 안에 key : value 쌍으로 만든다.\n",
    "* 빈 딕셔너리 생성 가능 {}\n",
    "* dict()함수를 이용해서 대량의 딕셔너리 생성 가능 "
   ]
  },
  {
   "cell_type": "code",
   "execution_count": 1,
   "id": "fab489c0",
   "metadata": {},
   "outputs": [
    {
     "data": {
      "text/plain": [
       "{'년월': '20250924', '국가': '미국', '방문자수': 1000}"
      ]
     },
     "execution_count": 1,
     "metadata": {},
     "output_type": "execute_result"
    }
   ],
   "source": [
    "d = {'년월' : '20250924', \"국가\" : \"미국\", \"방문자수\" : 1000}\n",
    "d"
   ]
  },
  {
   "cell_type": "code",
   "execution_count": 2,
   "id": "136082e2",
   "metadata": {},
   "outputs": [
    {
     "data": {
      "text/plain": [
       "'20250924'"
      ]
     },
     "execution_count": 2,
     "metadata": {},
     "output_type": "execute_result"
    }
   ],
   "source": [
    "d['년월']"
   ]
  },
  {
   "cell_type": "code",
   "execution_count": 3,
   "id": "8bc54a46",
   "metadata": {},
   "outputs": [
    {
     "name": "stdout",
     "output_type": "stream",
     "text": [
      "{} <class 'dict'>\n"
     ]
    }
   ],
   "source": [
    "d2 = {}\n",
    "print(d2, type(d2))"
   ]
  },
  {
   "cell_type": "markdown",
   "id": "60b4a473",
   "metadata": {},
   "source": [
    "# dict key의 자료형\n",
    "* **list, dict를 제외**한 나머지 자료형으로 만듦\n",
    "* 정수, 실수, 문자열, 블린(True, False), Tuple"
   ]
  },
  {
   "cell_type": "code",
   "execution_count": 6,
   "id": "7971c832",
   "metadata": {},
   "outputs": [
    {
     "data": {
      "text/plain": [
       "{'백': 100, 100: '백', 3.5: [3.5, 3.7], False: 0, (0, '서울'): '강남구'}"
      ]
     },
     "execution_count": 6,
     "metadata": {},
     "output_type": "execute_result"
    }
   ],
   "source": [
    "d3 = {'백' : 100, 100 : \"백\", 3.5 : [3.5, 3.7], False : 0, (0, \"서울\") : \"강남구\"}\n",
    "d3"
   ]
  },
  {
   "cell_type": "code",
   "execution_count": 5,
   "id": "801c0098",
   "metadata": {},
   "outputs": [
    {
     "ename": "TypeError",
     "evalue": "unhashable type: 'list'",
     "output_type": "error",
     "traceback": [
      "\u001b[1;31m---------------------------------------------------------------------------\u001b[0m",
      "\u001b[1;31mTypeError\u001b[0m                                 Traceback (most recent call last)",
      "Cell \u001b[1;32mIn[5], line 1\u001b[0m\n\u001b[1;32m----> 1\u001b[0m d3 \u001b[38;5;241m=\u001b[39m {\u001b[38;5;124m'\u001b[39m\u001b[38;5;124m백\u001b[39m\u001b[38;5;124m'\u001b[39m : \u001b[38;5;241m100\u001b[39m, \u001b[38;5;241m100\u001b[39m : \u001b[38;5;124m\"\u001b[39m\u001b[38;5;124m백\u001b[39m\u001b[38;5;124m\"\u001b[39m, \u001b[38;5;241m3.5\u001b[39m : [\u001b[38;5;241m3.5\u001b[39m, \u001b[38;5;241m3.7\u001b[39m], \u001b[38;5;28;01mFalse\u001b[39;00m : \u001b[38;5;241m0\u001b[39m, (\u001b[38;5;241m0\u001b[39m, \u001b[38;5;124m\"\u001b[39m\u001b[38;5;124m서울\u001b[39m\u001b[38;5;124m\"\u001b[39m) : \u001b[38;5;124m\"\u001b[39m\u001b[38;5;124m강남구\u001b[39m\u001b[38;5;124m\"\u001b[39m, [\u001b[38;5;241m1\u001b[39m,\u001b[38;5;241m2\u001b[39m] : \u001b[38;5;241m123\u001b[39m}\n\u001b[0;32m      2\u001b[0m d3\n",
      "\u001b[1;31mTypeError\u001b[0m: unhashable type: 'list'"
     ]
    }
   ],
   "source": [
    "d3 = {'백' : 100, 100 : \"백\", 3.5 : [3.5, 3.7], False : 0, (0, \"서울\") : \"강남구\", [1,2] : 123}\n",
    "d3\n",
    "# key에 list나 dict가 오면 에러가 난다"
   ]
  },
  {
   "cell_type": "code",
   "execution_count": 7,
   "id": "102e099f",
   "metadata": {},
   "outputs": [
    {
     "data": {
      "text/plain": [
       "100"
      ]
     },
     "execution_count": 7,
     "metadata": {},
     "output_type": "execute_result"
    }
   ],
   "source": [
    "# 문자열 키\n",
    "d3['백']"
   ]
  },
  {
   "cell_type": "code",
   "execution_count": 8,
   "id": "4b03dcae",
   "metadata": {},
   "outputs": [
    {
     "data": {
      "text/plain": [
       "'백'"
      ]
     },
     "execution_count": 8,
     "metadata": {},
     "output_type": "execute_result"
    }
   ],
   "source": [
    "# 정수 키\n",
    "d3[100]"
   ]
  },
  {
   "cell_type": "code",
   "execution_count": 9,
   "id": "23dd2917",
   "metadata": {},
   "outputs": [
    {
     "data": {
      "text/plain": [
       "[3.5, 3.7]"
      ]
     },
     "execution_count": 9,
     "metadata": {},
     "output_type": "execute_result"
    }
   ],
   "source": [
    "# 실수 키\n",
    "d3[3.5]"
   ]
  },
  {
   "cell_type": "code",
   "execution_count": 11,
   "id": "2befe00d",
   "metadata": {},
   "outputs": [
    {
     "data": {
      "text/plain": [
       "0"
      ]
     },
     "execution_count": 11,
     "metadata": {},
     "output_type": "execute_result"
    }
   ],
   "source": [
    "d3[False]"
   ]
  },
  {
   "cell_type": "code",
   "execution_count": 12,
   "id": "3de34b43",
   "metadata": {},
   "outputs": [
    {
     "data": {
      "text/plain": [
       "'강남구'"
      ]
     },
     "execution_count": 12,
     "metadata": {},
     "output_type": "execute_result"
    }
   ],
   "source": [
    "# tuple 키\n",
    "d3[(0, \"서울\")]"
   ]
  },
  {
   "cell_type": "markdown",
   "id": "753e2c66",
   "metadata": {},
   "source": [
    "# 딕셔너리 value의 자료형\n",
    "* value는 모든 자료형이 올 수 있다."
   ]
  },
  {
   "cell_type": "code",
   "execution_count": 13,
   "id": "35154272",
   "metadata": {},
   "outputs": [
    {
     "data": {
      "text/plain": [
       "{'정수': 100,\n",
       " '실수': 3.5,\n",
       " '문자열': '딕셔너리의 값',\n",
       " '리스트': [1, 2, 3, 4],\n",
       " '튜플': (5, 6, 7, 8),\n",
       " '딕셔너리': {'key': 'value'},\n",
       " '블린': True}"
      ]
     },
     "execution_count": 13,
     "metadata": {},
     "output_type": "execute_result"
    }
   ],
   "source": [
    "d4 = {\"정수\" : 100, \"실수\" : 3.5, \"문자열\" : \"딕셔너리의 값\",\n",
    "     \"리스트\" : [1,2,3,4], \"튜플\" : (5,6,7,8),\n",
    "     \"딕셔너리\" : {'key' : 'value'},\n",
    "     \"블린\" : True}\n",
    "d4"
   ]
  },
  {
   "cell_type": "code",
   "execution_count": 14,
   "id": "10a47a8c",
   "metadata": {},
   "outputs": [
    {
     "data": {
      "text/plain": [
       "100"
      ]
     },
     "execution_count": 14,
     "metadata": {},
     "output_type": "execute_result"
    }
   ],
   "source": [
    "d4[\"정수\"]"
   ]
  },
  {
   "cell_type": "code",
   "execution_count": 15,
   "id": "4d96e17e",
   "metadata": {},
   "outputs": [
    {
     "data": {
      "text/plain": [
       "3.5"
      ]
     },
     "execution_count": 15,
     "metadata": {},
     "output_type": "execute_result"
    }
   ],
   "source": [
    "d4[\"실수\"]"
   ]
  },
  {
   "cell_type": "code",
   "execution_count": 16,
   "id": "7f39138d",
   "metadata": {},
   "outputs": [
    {
     "data": {
      "text/plain": [
       "'딕셔너리의 값'"
      ]
     },
     "execution_count": 16,
     "metadata": {},
     "output_type": "execute_result"
    }
   ],
   "source": [
    "d4[\"문자열\"]"
   ]
  },
  {
   "cell_type": "code",
   "execution_count": 17,
   "id": "6f22e8eb",
   "metadata": {},
   "outputs": [
    {
     "data": {
      "text/plain": [
       "[1, 2, 3, 4]"
      ]
     },
     "execution_count": 17,
     "metadata": {},
     "output_type": "execute_result"
    }
   ],
   "source": [
    "d4[\"리스트\"]"
   ]
  },
  {
   "cell_type": "code",
   "execution_count": 18,
   "id": "9bd28034",
   "metadata": {},
   "outputs": [
    {
     "data": {
      "text/plain": [
       "(5, 6, 7, 8)"
      ]
     },
     "execution_count": 18,
     "metadata": {},
     "output_type": "execute_result"
    }
   ],
   "source": [
    "d4[\"튜플\"]"
   ]
  },
  {
   "cell_type": "code",
   "execution_count": 19,
   "id": "d7c391b8",
   "metadata": {},
   "outputs": [
    {
     "data": {
      "text/plain": [
       "True"
      ]
     },
     "execution_count": 19,
     "metadata": {},
     "output_type": "execute_result"
    }
   ],
   "source": [
    "d4[\"블린\"]"
   ]
  },
  {
   "cell_type": "code",
   "execution_count": 20,
   "id": "73eb7c50",
   "metadata": {},
   "outputs": [
    {
     "data": {
      "text/plain": [
       "{'key': 'value'}"
      ]
     },
     "execution_count": 20,
     "metadata": {},
     "output_type": "execute_result"
    }
   ],
   "source": [
    "d4[\"딕셔너리\"]"
   ]
  },
  {
   "cell_type": "markdown",
   "id": "2c8fc864",
   "metadata": {},
   "source": [
    "# 빈 딕셔너리 만들기\n",
    "* 변수 = {}\n",
    "* 변수 = dict()"
   ]
  },
  {
   "cell_type": "code",
   "execution_count": 21,
   "id": "4eee043a",
   "metadata": {},
   "outputs": [
    {
     "name": "stdout",
     "output_type": "stream",
     "text": [
      "{} <class 'dict'>\n"
     ]
    }
   ],
   "source": [
    "d5 = {}\n",
    "print(d5, type(d5))"
   ]
  },
  {
   "cell_type": "code",
   "execution_count": 22,
   "id": "aebc6c2c",
   "metadata": {},
   "outputs": [
    {
     "name": "stdout",
     "output_type": "stream",
     "text": [
      "{} <class 'dict'>\n"
     ]
    }
   ],
   "source": [
    "d6 = dict()\n",
    "print(d6, type(d6))"
   ]
  },
  {
   "cell_type": "markdown",
   "id": "83b75dc0",
   "metadata": {},
   "source": [
    "# 딕셔너리에 자료 추가하기\n",
    "* 변수['key'] = value\n",
    "* 이미 key가 있는 경우에는 자료가 수정됨, 나중에 입력한 자료가 덮어쓰기 됨"
   ]
  },
  {
   "cell_type": "code",
   "execution_count": 23,
   "id": "e494cdde",
   "metadata": {},
   "outputs": [
    {
     "data": {
      "text/plain": [
       "{}"
      ]
     },
     "execution_count": 23,
     "metadata": {},
     "output_type": "execute_result"
    }
   ],
   "source": [
    "d5"
   ]
  },
  {
   "cell_type": "code",
   "execution_count": 25,
   "id": "508e9d6b",
   "metadata": {},
   "outputs": [
    {
     "data": {
      "text/plain": [
       "{'번호': 0}"
      ]
     },
     "execution_count": 25,
     "metadata": {},
     "output_type": "execute_result"
    }
   ],
   "source": [
    "d5['번호'] = 0\n",
    "d5"
   ]
  },
  {
   "cell_type": "code",
   "execution_count": 26,
   "id": "c5990912",
   "metadata": {},
   "outputs": [
    {
     "data": {
      "text/plain": [
       "{'번호': 0, '리스트': [1, 2, 3]}"
      ]
     },
     "execution_count": 26,
     "metadata": {},
     "output_type": "execute_result"
    }
   ],
   "source": [
    "d5['리스트'] = [1,2,3]\n",
    "d5"
   ]
  },
  {
   "cell_type": "code",
   "execution_count": 27,
   "id": "e1c60960",
   "metadata": {},
   "outputs": [
    {
     "data": {
      "text/plain": [
       "{'번호': 0, '리스트': [1, 2, 3, 4]}"
      ]
     },
     "execution_count": 27,
     "metadata": {},
     "output_type": "execute_result"
    }
   ],
   "source": [
    "# 이미 키가 있는 경우 나중 값으로 대체된다. \n",
    "d5['리스트'] = [1,2,3,4]\n",
    "d5"
   ]
  },
  {
   "cell_type": "code",
   "execution_count": 28,
   "id": "e1cfb854",
   "metadata": {},
   "outputs": [
    {
     "data": {
      "text/plain": [
       "{'번호': 1, '이름': '둘리', '나이': 15}"
      ]
     },
     "execution_count": 28,
     "metadata": {},
     "output_type": "execute_result"
    }
   ],
   "source": [
    "d7 = {'번호' : 0, \"이름\" : \"홍길동\", \"나이\" : 35,\n",
    "      '번호' : 1, \"이름\" : \"둘리\", \"나이\" : 15,}\n",
    "d7"
   ]
  },
  {
   "cell_type": "markdown",
   "id": "558d1126",
   "metadata": {},
   "source": [
    "# dict 함수를 이용해서 dict 만들기 ***\n",
    "* dict(key1 = value1, key2 = value2, key3 = value3)\n",
    "* key 부분에 \"\"(따옴표)를 사용하지 않는다. \n",
    "* key는 모두 문자형으로 변환된다.\n",
    "* value가 문자형이면 반드시 \"\"가 필요하다. "
   ]
  },
  {
   "cell_type": "code",
   "execution_count": 29,
   "id": "5bb3d6a5",
   "metadata": {},
   "outputs": [
    {
     "data": {
      "text/plain": [
       "{'정수': 100,\n",
       " '실수': 3.5,\n",
       " '문자': '문자열',\n",
       " '리스트': [1, 2, 3],\n",
       " '튜플': (4, 5, 6),\n",
       " '딕셔너리': {'key': 'value'}}"
      ]
     },
     "execution_count": 29,
     "metadata": {},
     "output_type": "execute_result"
    }
   ],
   "source": [
    "dict_ex1 = dict(정수=100, 실수=3.5, 문자=\"문자열\",\n",
    "               리스트=[1,2,3], 튜플=(4,5,6),\n",
    "               딕셔너리={'key':'value'})\n",
    "dict_ex1"
   ]
  },
  {
   "cell_type": "markdown",
   "id": "25bb678c",
   "metadata": {},
   "source": [
    "* dict([(key1, value1), (key2, value2), (key3, value3)])\n",
    "* 리스트 안에 key, value 쌍으로 된 튜플을 넣어서 만듦\n",
    "* key는 자료형에 맞춰서 작성"
   ]
  },
  {
   "cell_type": "code",
   "execution_count": 30,
   "id": "68def6e2",
   "metadata": {},
   "outputs": [
    {
     "data": {
      "text/plain": [
       "{1: 10,\n",
       " 3.5: '3.5',\n",
       " '문자열': '문자열입니다.',\n",
       " 'list': [1, 2, 3],\n",
       " 'tuple': (4, 5, 6),\n",
       " 'dict': {'key': 'value'}}"
      ]
     },
     "execution_count": 30,
     "metadata": {},
     "output_type": "execute_result"
    }
   ],
   "source": [
    "dict_ex2 = dict([(1, 10), (3.5, \"3.5\"), (\"문자열\", \"문자열입니다.\"),\n",
    "                (\"list\", [1,2,3]), (\"tuple\", (4,5,6)),\n",
    "                (\"dict\", {\"key\" : \"value\"})])\n",
    "dict_ex2"
   ]
  },
  {
   "cell_type": "code",
   "execution_count": 31,
   "id": "5f436f5c",
   "metadata": {},
   "outputs": [
    {
     "data": {
      "text/plain": [
       "10"
      ]
     },
     "execution_count": 31,
     "metadata": {},
     "output_type": "execute_result"
    }
   ],
   "source": [
    "dict_ex2[1]"
   ]
  },
  {
   "cell_type": "code",
   "execution_count": 33,
   "id": "099c285f",
   "metadata": {},
   "outputs": [
    {
     "data": {
      "text/plain": [
       "'3.5'"
      ]
     },
     "execution_count": 33,
     "metadata": {},
     "output_type": "execute_result"
    }
   ],
   "source": [
    "dict_ex2[3.5]"
   ]
  },
  {
   "cell_type": "markdown",
   "id": "83291428",
   "metadata": {},
   "source": [
    "* dict(zip([key1, key2, key3], [value1, value2, value3]))\n",
    "* key 묶음 리스트와 value 묶음 리스트를 zip 함수로 합친 후 dict 생성\n",
    "* key 묶음의 요소 개수와 value 묶음의 요소 개수가 일치해야함"
   ]
  },
  {
   "cell_type": "code",
   "execution_count": 34,
   "id": "5b57efae",
   "metadata": {},
   "outputs": [
    {
     "name": "stdout",
     "output_type": "stream",
     "text": [
      "1 2 3 "
     ]
    }
   ],
   "source": [
    "# zip 함수 예시\n",
    "for i in [1,2,3]:\n",
    "    print(i, end=\" \")"
   ]
  },
  {
   "cell_type": "code",
   "execution_count": 35,
   "id": "01d86382",
   "metadata": {},
   "outputs": [
    {
     "name": "stdout",
     "output_type": "stream",
     "text": [
      "(1, 4, 7) (2, 5, 8) "
     ]
    }
   ],
   "source": [
    "for i in zip([1,2,3], [4,5,6], [7,8]):\n",
    "    print(i, end=\" \")"
   ]
  },
  {
   "cell_type": "code",
   "execution_count": 37,
   "id": "b3a87638",
   "metadata": {},
   "outputs": [
    {
     "data": {
      "text/plain": [
       "{'정수': 10, '실수': 12.5, '문자열': '문자열입니다.'}"
      ]
     },
     "execution_count": 37,
     "metadata": {},
     "output_type": "execute_result"
    }
   ],
   "source": [
    "dict_ex3 = dict(zip(['정수', '실수', '문자열'], [10, 12.5, \"문자열입니다.\"]))\n",
    "dict_ex3"
   ]
  },
  {
   "cell_type": "code",
   "execution_count": 39,
   "id": "25638c3a",
   "metadata": {},
   "outputs": [
    {
     "data": {
      "text/plain": [
       "10"
      ]
     },
     "execution_count": 39,
     "metadata": {},
     "output_type": "execute_result"
    }
   ],
   "source": [
    "dict_ex3['정수']"
   ]
  },
  {
   "cell_type": "markdown",
   "id": "9dd241d0",
   "metadata": {},
   "source": [
    "# 딕셔너리에 값 입력하고, 수정하고 삭제하기"
   ]
  },
  {
   "cell_type": "code",
   "execution_count": 61,
   "id": "fad95da1",
   "metadata": {},
   "outputs": [
    {
     "data": {
      "text/plain": [
       "{1: 10,\n",
       " 3.5: '3.5',\n",
       " '문자열': '문자열입니다.',\n",
       " 'list': [1, 33, 3, 4],\n",
       " 'tuple': (4, 5, 6),\n",
       " 'dict': {'key': 'value'},\n",
       " 'new key': '새로운 데이터'}"
      ]
     },
     "execution_count": 61,
     "metadata": {},
     "output_type": "execute_result"
    }
   ],
   "source": [
    "dict_ex2"
   ]
  },
  {
   "cell_type": "code",
   "execution_count": 62,
   "id": "15f7a346",
   "metadata": {},
   "outputs": [
    {
     "data": {
      "text/plain": [
       "{1: 10,\n",
       " 3.5: '3.5',\n",
       " '문자열': '문자열입니다.',\n",
       " 'list': [1, 33, 3, 4],\n",
       " 'tuple': (4, 5, 6),\n",
       " 'dict': {'key': 'value'},\n",
       " 'new key': '새로운 데이터'}"
      ]
     },
     "execution_count": 62,
     "metadata": {},
     "output_type": "execute_result"
    }
   ],
   "source": [
    "dict_ex2['new key'] = \"새로운 데이터\"\n",
    "dict_ex2"
   ]
  },
  {
   "cell_type": "code",
   "execution_count": null,
   "id": "290a7d21",
   "metadata": {},
   "outputs": [],
   "source": [
    "# 딕셔너리 안에 있는 list value에 새로운 값 추가, 수정, 삭제"
   ]
  },
  {
   "cell_type": "code",
   "execution_count": 63,
   "id": "3a0631c2",
   "metadata": {},
   "outputs": [
    {
     "data": {
      "text/plain": [
       "13.5"
      ]
     },
     "execution_count": 63,
     "metadata": {},
     "output_type": "execute_result"
    }
   ],
   "source": [
    "# 정수, 문자열\n",
    "dict_ex2[1] + float(dict_ex2[3.5])"
   ]
  },
  {
   "cell_type": "code",
   "execution_count": 64,
   "id": "d63e9de3",
   "metadata": {},
   "outputs": [
    {
     "data": {
      "text/plain": [
       "[1, 33, 3, 4, 4]"
      ]
     },
     "execution_count": 64,
     "metadata": {},
     "output_type": "execute_result"
    }
   ],
   "source": [
    "dict_ex2['list'].append(4)\n",
    "dict_ex2['list']"
   ]
  },
  {
   "cell_type": "code",
   "execution_count": 65,
   "id": "e8bc8aa7",
   "metadata": {},
   "outputs": [
    {
     "name": "stdout",
     "output_type": "stream",
     "text": [
      "[1, 2, 3, 4]\n"
     ]
    }
   ],
   "source": [
    "a = [1,2,3]\n",
    "a.append(4)\n",
    "print(a)"
   ]
  },
  {
   "cell_type": "code",
   "execution_count": 66,
   "id": "8ce2b9ee",
   "metadata": {},
   "outputs": [
    {
     "data": {
      "text/plain": [
       "33"
      ]
     },
     "execution_count": 66,
     "metadata": {},
     "output_type": "execute_result"
    }
   ],
   "source": [
    "max(dict_ex2['list'])"
   ]
  },
  {
   "cell_type": "code",
   "execution_count": 67,
   "id": "28aaee08",
   "metadata": {},
   "outputs": [
    {
     "data": {
      "text/plain": [
       "[1, 33, 30, 3, 4, 4]"
      ]
     },
     "execution_count": 67,
     "metadata": {},
     "output_type": "execute_result"
    }
   ],
   "source": [
    "dict_ex2['list'].insert(2,30)\n",
    "dict_ex2['list']"
   ]
  },
  {
   "cell_type": "code",
   "execution_count": 68,
   "id": "33a30150",
   "metadata": {},
   "outputs": [],
   "source": [
    "dict_ex2['list'][2] = 33"
   ]
  },
  {
   "cell_type": "code",
   "execution_count": 88,
   "id": "5ad869ac",
   "metadata": {},
   "outputs": [
    {
     "ename": "IndexError",
     "evalue": "pop index out of range",
     "output_type": "error",
     "traceback": [
      "\u001b[1;31m---------------------------------------------------------------------------\u001b[0m",
      "\u001b[1;31mIndexError\u001b[0m                                Traceback (most recent call last)",
      "Cell \u001b[1;32mIn[88], line 1\u001b[0m\n\u001b[1;32m----> 1\u001b[0m \u001b[43mdict_ex2\u001b[49m\u001b[43m[\u001b[49m\u001b[38;5;124;43m'\u001b[39;49m\u001b[38;5;124;43mlist\u001b[39;49m\u001b[38;5;124;43m'\u001b[39;49m\u001b[43m]\u001b[49m\u001b[38;5;241;43m.\u001b[39;49m\u001b[43mpop\u001b[49m\u001b[43m(\u001b[49m\u001b[38;5;241;43m33\u001b[39;49m\u001b[43m)\u001b[49m\n",
      "\u001b[1;31mIndexError\u001b[0m: pop index out of range"
     ]
    }
   ],
   "source": [
    "dict_ex2['list'].pop(33)"
   ]
  },
  {
   "cell_type": "code",
   "execution_count": 79,
   "id": "f8276d25",
   "metadata": {},
   "outputs": [
    {
     "data": {
      "text/plain": [
       "[1, 33, 33, 3, 4]"
      ]
     },
     "execution_count": 79,
     "metadata": {},
     "output_type": "execute_result"
    }
   ],
   "source": [
    "dict_ex2['list']"
   ]
  },
  {
   "cell_type": "code",
   "execution_count": 80,
   "id": "4840c342",
   "metadata": {},
   "outputs": [
    {
     "ename": "ValueError",
     "evalue": "list.remove(x): x not in list",
     "output_type": "error",
     "traceback": [
      "\u001b[1;31m---------------------------------------------------------------------------\u001b[0m",
      "\u001b[1;31mValueError\u001b[0m                                Traceback (most recent call last)",
      "Cell \u001b[1;32mIn[80], line 1\u001b[0m\n\u001b[1;32m----> 1\u001b[0m \u001b[43mdict_ex2\u001b[49m\u001b[43m[\u001b[49m\u001b[38;5;124;43m'\u001b[39;49m\u001b[38;5;124;43mlist\u001b[39;49m\u001b[38;5;124;43m'\u001b[39;49m\u001b[43m]\u001b[49m\u001b[38;5;241;43m.\u001b[39;49m\u001b[43mremove\u001b[49m\u001b[43m(\u001b[49m\u001b[38;5;241;43m2\u001b[39;49m\u001b[43m)\u001b[49m\n",
      "\u001b[1;31mValueError\u001b[0m: list.remove(x): x not in list"
     ]
    }
   ],
   "source": [
    "dict_ex2['list'].remove(2)"
   ]
  },
  {
   "cell_type": "code",
   "execution_count": 59,
   "id": "c2a4932d",
   "metadata": {},
   "outputs": [
    {
     "data": {
      "text/plain": [
       "[1, 33, 3, 4]"
      ]
     },
     "execution_count": 59,
     "metadata": {},
     "output_type": "execute_result"
    }
   ],
   "source": [
    "dict_ex2['list']"
   ]
  },
  {
   "cell_type": "code",
   "execution_count": 60,
   "id": "5425d5e6",
   "metadata": {},
   "outputs": [
    {
     "data": {
      "text/plain": [
       "{1: 10,\n",
       " 3.5: '3.5',\n",
       " '문자열': '문자열입니다.',\n",
       " 'list': [1, 33, 3, 4],\n",
       " 'tuple': (4, 5, 6),\n",
       " 'dict': {'key': 'value'},\n",
       " 'new key': '새로운 데이터'}"
      ]
     },
     "execution_count": 60,
     "metadata": {},
     "output_type": "execute_result"
    }
   ],
   "source": [
    "dict_ex2"
   ]
  },
  {
   "cell_type": "code",
   "execution_count": 75,
   "id": "5e0ec84e",
   "metadata": {},
   "outputs": [],
   "source": [
    "dict_ex2['dict']['key2'] = \"value2\""
   ]
  },
  {
   "cell_type": "code",
   "execution_count": 76,
   "id": "0df04f34",
   "metadata": {},
   "outputs": [
    {
     "data": {
      "text/plain": [
       "{'key': 'value', 'key2': 'value2'}"
      ]
     },
     "execution_count": 76,
     "metadata": {},
     "output_type": "execute_result"
    }
   ],
   "source": [
    "dict_ex2['dict']"
   ]
  },
  {
   "cell_type": "code",
   "execution_count": 77,
   "id": "0332d946",
   "metadata": {},
   "outputs": [],
   "source": [
    "del dict_ex2['dict']['key2']"
   ]
  },
  {
   "cell_type": "code",
   "execution_count": 78,
   "id": "dce5885c",
   "metadata": {},
   "outputs": [
    {
     "data": {
      "text/plain": [
       "{'key': 'value'}"
      ]
     },
     "execution_count": 78,
     "metadata": {},
     "output_type": "execute_result"
    }
   ],
   "source": [
    "dict_ex2['dict']"
   ]
  },
  {
   "cell_type": "code",
   "execution_count": 81,
   "id": "98f0d0c6",
   "metadata": {},
   "outputs": [
    {
     "data": {
      "text/plain": [
       "{1: 10,\n",
       " 3.5: '3.5',\n",
       " '문자열': '문자열입니다.',\n",
       " 'list': [1, 33, 33, 3, 4],\n",
       " 'tuple': (4, 5, 6),\n",
       " 'dict': {'key': 'value'},\n",
       " 'new key': '새로운 데이터'}"
      ]
     },
     "execution_count": 81,
     "metadata": {},
     "output_type": "execute_result"
    }
   ],
   "source": [
    "# pop()을 이용해서 삭제\n",
    "dict_ex2"
   ]
  },
  {
   "cell_type": "code",
   "execution_count": 82,
   "id": "13dcefaf",
   "metadata": {},
   "outputs": [
    {
     "data": {
      "text/plain": [
       "'새로운 데이터'"
      ]
     },
     "execution_count": 82,
     "metadata": {},
     "output_type": "execute_result"
    }
   ],
   "source": [
    "dict_ex2.pop('new key')"
   ]
  },
  {
   "cell_type": "code",
   "execution_count": 83,
   "id": "3f47639a",
   "metadata": {},
   "outputs": [
    {
     "data": {
      "text/plain": [
       "{1: 10,\n",
       " 3.5: '3.5',\n",
       " '문자열': '문자열입니다.',\n",
       " 'list': [1, 33, 33, 3, 4],\n",
       " 'tuple': (4, 5, 6),\n",
       " 'dict': {'key': 'value'}}"
      ]
     },
     "execution_count": 83,
     "metadata": {},
     "output_type": "execute_result"
    }
   ],
   "source": [
    "dict_ex2"
   ]
  },
  {
   "cell_type": "code",
   "execution_count": 84,
   "id": "cb208340",
   "metadata": {},
   "outputs": [
    {
     "data": {
      "text/plain": [
       "'문자열입니다.'"
      ]
     },
     "execution_count": 84,
     "metadata": {},
     "output_type": "execute_result"
    }
   ],
   "source": [
    "dict_ex2.pop('문자열')"
   ]
  },
  {
   "cell_type": "code",
   "execution_count": 85,
   "id": "2fd96f18",
   "metadata": {},
   "outputs": [
    {
     "data": {
      "text/plain": [
       "{1: 10,\n",
       " 3.5: '3.5',\n",
       " 'list': [1, 33, 33, 3, 4],\n",
       " 'tuple': (4, 5, 6),\n",
       " 'dict': {'key': 'value'}}"
      ]
     },
     "execution_count": 85,
     "metadata": {},
     "output_type": "execute_result"
    }
   ],
   "source": [
    "dict_ex2"
   ]
  },
  {
   "cell_type": "code",
   "execution_count": 86,
   "id": "2677c8b2",
   "metadata": {},
   "outputs": [
    {
     "ename": "TypeError",
     "evalue": "pop expected at least 1 argument, got 0",
     "output_type": "error",
     "traceback": [
      "\u001b[1;31m---------------------------------------------------------------------------\u001b[0m",
      "\u001b[1;31mTypeError\u001b[0m                                 Traceback (most recent call last)",
      "Cell \u001b[1;32mIn[86], line 2\u001b[0m\n\u001b[0;32m      1\u001b[0m \u001b[38;5;66;03m# 딕셔너리에서 pop()으로 삭제할 때는 반드시 key를 넣어줘야 한다. \u001b[39;00m\n\u001b[1;32m----> 2\u001b[0m \u001b[43mdict_ex2\u001b[49m\u001b[38;5;241;43m.\u001b[39;49m\u001b[43mpop\u001b[49m\u001b[43m(\u001b[49m\u001b[43m)\u001b[49m\n",
      "\u001b[1;31mTypeError\u001b[0m: pop expected at least 1 argument, got 0"
     ]
    }
   ],
   "source": [
    "# 딕셔너리에서 pop()으로 삭제할 때는 반드시 key를 넣어줘야 한다. \n",
    "dict_ex2.pop()"
   ]
  },
  {
   "cell_type": "markdown",
   "id": "372826a4",
   "metadata": {},
   "source": [
    "# 딕셔너리 안에 특정 key가 있는지 확인하기\n",
    "* in, not in"
   ]
  },
  {
   "cell_type": "code",
   "execution_count": 90,
   "id": "d43d8a62",
   "metadata": {},
   "outputs": [
    {
     "data": {
      "text/plain": [
       "True"
      ]
     },
     "execution_count": 90,
     "metadata": {},
     "output_type": "execute_result"
    }
   ],
   "source": [
    "'정수'in dict_ex1"
   ]
  },
  {
   "cell_type": "code",
   "execution_count": 91,
   "id": "8f3864ad",
   "metadata": {},
   "outputs": [
    {
     "data": {
      "text/plain": [
       "False"
      ]
     },
     "execution_count": 91,
     "metadata": {},
     "output_type": "execute_result"
    }
   ],
   "source": [
    "'정수2'in dict_ex1"
   ]
  },
  {
   "cell_type": "markdown",
   "id": "c098cab3",
   "metadata": {},
   "source": [
    "# 딕셔너리 안에 key가 몇 개 있는지 확인하기\n",
    "* len()\n",
    "* key의 갯수만 출력\n",
    "* 가장 외부의 key 갯수만 카운트 함, 내부 딕셔너리의 key는 따로 꺼내서 세야함"
   ]
  },
  {
   "cell_type": "code",
   "execution_count": 107,
   "id": "753da7e5",
   "metadata": {},
   "outputs": [],
   "source": [
    "data = {'info' : [{'name': 'alice','scores' : (95,88,92)},\n",
    "                 {'name' : 'bob', 'scores' : (78,85,89)}],\n",
    "       'extra' :  {'hobbies' : ['leading', 'coding'],\n",
    "                  'location' : ('seoul', 'busan')}\n",
    "       }"
   ]
  },
  {
   "cell_type": "code",
   "execution_count": 108,
   "id": "ab2497fa",
   "metadata": {},
   "outputs": [
    {
     "data": {
      "text/plain": [
       "2"
      ]
     },
     "execution_count": 108,
     "metadata": {},
     "output_type": "execute_result"
    }
   ],
   "source": [
    "len(data)"
   ]
  },
  {
   "cell_type": "code",
   "execution_count": 109,
   "id": "dea26ee1",
   "metadata": {},
   "outputs": [
    {
     "data": {
      "text/plain": [
       "{'name': 'alice', 'scores': (95, 88, 92)}"
      ]
     },
     "execution_count": 109,
     "metadata": {},
     "output_type": "execute_result"
    }
   ],
   "source": [
    "data['info'][0]"
   ]
  },
  {
   "cell_type": "code",
   "execution_count": 110,
   "id": "acf057bc",
   "metadata": {},
   "outputs": [
    {
     "data": {
      "text/plain": [
       "2"
      ]
     },
     "execution_count": 110,
     "metadata": {},
     "output_type": "execute_result"
    }
   ],
   "source": [
    "len(data['info'][0])"
   ]
  },
  {
   "cell_type": "code",
   "execution_count": 111,
   "id": "811bfa2e",
   "metadata": {
    "scrolled": true
   },
   "outputs": [
    {
     "data": {
      "text/plain": [
       "[{'name': 'alice', 'scores': (95, 88, 92)},\n",
       " {'name': 'bob', 'scores': (78, 85, 89)}]"
      ]
     },
     "execution_count": 111,
     "metadata": {},
     "output_type": "execute_result"
    }
   ],
   "source": [
    "data['info']"
   ]
  },
  {
   "cell_type": "code",
   "execution_count": 112,
   "id": "d1e4b5dc",
   "metadata": {},
   "outputs": [
    {
     "data": {
      "text/plain": [
       "(95, 88, 92)"
      ]
     },
     "execution_count": 112,
     "metadata": {},
     "output_type": "execute_result"
    }
   ],
   "source": [
    "data['info'][0]['scores']"
   ]
  },
  {
   "cell_type": "code",
   "execution_count": 113,
   "id": "c0fbae15",
   "metadata": {},
   "outputs": [
    {
     "data": {
      "text/plain": [
       "95"
      ]
     },
     "execution_count": 113,
     "metadata": {},
     "output_type": "execute_result"
    }
   ],
   "source": [
    "# dict - list - dict - tuple - int\n",
    "data['info'][0]['scores'][0]"
   ]
  },
  {
   "cell_type": "markdown",
   "id": "782b7b07",
   "metadata": {},
   "source": [
    "# 딕셔너리 함수 사용하기"
   ]
  },
  {
   "cell_type": "markdown",
   "id": "8ffa51d6",
   "metadata": {},
   "source": [
    "## setdefault(key, value) 딕셔너리에 자료 추가 ***\n",
    "* 딕셔너리에 key와 value를 추가\n",
    "* key가 중복되면 나중에 추가하는 값을 무시함(원래 자료 보존)\n",
    "* key만 넣고 value를 생략하면 자동으로 'None'이 입력됨"
   ]
  },
  {
   "cell_type": "code",
   "execution_count": 114,
   "id": "35bfd130",
   "metadata": {},
   "outputs": [
    {
     "data": {
      "text/plain": [
       "{'년월': '20250924', '국가': '미국', '방문자수': 1000}"
      ]
     },
     "execution_count": 114,
     "metadata": {},
     "output_type": "execute_result"
    }
   ],
   "source": [
    "d"
   ]
  },
  {
   "cell_type": "code",
   "execution_count": 115,
   "id": "8ea14bf5",
   "metadata": {},
   "outputs": [
    {
     "data": {
      "text/plain": [
       "{'년월': '20240924', '국가': '미국', '방문자수': 1000}"
      ]
     },
     "execution_count": 115,
     "metadata": {},
     "output_type": "execute_result"
    }
   ],
   "source": [
    "d['년월'] = '20240924'\n",
    "d"
   ]
  },
  {
   "cell_type": "code",
   "execution_count": 116,
   "id": "f7e5b0ad",
   "metadata": {},
   "outputs": [
    {
     "data": {
      "text/plain": [
       "'20240924'"
      ]
     },
     "execution_count": 116,
     "metadata": {},
     "output_type": "execute_result"
    }
   ],
   "source": [
    "# 기존에 key가 있는 경우 기존 key의 value를 출력하고 새로운 값은 무시\n",
    "d.setdefault('년월', 20250924)"
   ]
  },
  {
   "cell_type": "code",
   "execution_count": 117,
   "id": "9f17051c",
   "metadata": {},
   "outputs": [
    {
     "data": {
      "text/plain": [
       "{'년월': '20240924', '국가': '미국', '방문자수': 1000}"
      ]
     },
     "execution_count": 117,
     "metadata": {},
     "output_type": "execute_result"
    }
   ],
   "source": [
    "d"
   ]
  },
  {
   "cell_type": "code",
   "execution_count": 119,
   "id": "494a945d",
   "metadata": {},
   "outputs": [
    {
     "data": {
      "text/plain": [
       "{'년월': '20240924', '국가': '미국', '방문자수': 1000, '날씨': '맑음'}"
      ]
     },
     "execution_count": 119,
     "metadata": {},
     "output_type": "execute_result"
    }
   ],
   "source": [
    "# key가 중복되지 않으면 추가됨\n",
    "d.setdefault('날씨', '맑음')\n",
    "d"
   ]
  },
  {
   "cell_type": "code",
   "execution_count": 120,
   "id": "84e6b7df",
   "metadata": {},
   "outputs": [],
   "source": [
    "for i in range(1,11):\n",
    "    d.setdefault('숫자', []).append(i)"
   ]
  },
  {
   "cell_type": "code",
   "execution_count": 121,
   "id": "ba593c74",
   "metadata": {},
   "outputs": [
    {
     "data": {
      "text/plain": [
       "{'년월': '20240924',\n",
       " '국가': '미국',\n",
       " '방문자수': 1000,\n",
       " '날씨': '맑음',\n",
       " '숫자': [1, 2, 3, 4, 5, 6, 7, 8, 9, 10]}"
      ]
     },
     "execution_count": 121,
     "metadata": {},
     "output_type": "execute_result"
    }
   ],
   "source": [
    "d"
   ]
  },
  {
   "cell_type": "markdown",
   "id": "5e83a494",
   "metadata": {},
   "source": [
    "# update(key=value)\n",
    "* 기존에 key가 있는 경우 값을 새로운 값으로 update\n",
    "* 기존에 key가 없는 경우 새로운 key, value 생성\n",
    "* key 부분에는 \"'를 사용하지 않는다. \n",
    "* 기존에 key가 없어서 새로 추가하는 경우 key 부분에는 문자형 key만 올 수 있다. \n",
    "* update는 문자형 key만 업데이트 가능"
   ]
  },
  {
   "cell_type": "code",
   "execution_count": 122,
   "id": "45544fd4",
   "metadata": {},
   "outputs": [
    {
     "data": {
      "text/plain": [
       "{'년월': '20240924',\n",
       " '국가': '미국',\n",
       " '방문자수': 1000,\n",
       " '날씨': '맑음',\n",
       " '숫자': [1, 2, 3, 4, 5, 6, 7, 8, 9, 10]}"
      ]
     },
     "execution_count": 122,
     "metadata": {},
     "output_type": "execute_result"
    }
   ],
   "source": [
    "d"
   ]
  },
  {
   "cell_type": "code",
   "execution_count": 125,
   "id": "845605f9",
   "metadata": {},
   "outputs": [
    {
     "data": {
      "text/plain": [
       "{'년월': '20240924',\n",
       " '국가': '미국',\n",
       " '방문자수': 500,\n",
       " '날씨': '맑음',\n",
       " '숫자': [1, 2, 3, 4, 5, 6, 7, 8, 9, 10]}"
      ]
     },
     "execution_count": 125,
     "metadata": {},
     "output_type": "execute_result"
    }
   ],
   "source": [
    "d.update(방문자수=500)\n",
    "d"
   ]
  },
  {
   "cell_type": "code",
   "execution_count": 126,
   "id": "bf5f25ab",
   "metadata": {},
   "outputs": [
    {
     "data": {
      "text/plain": [
       "{'년월': '20240924',\n",
       " '국가': '미국',\n",
       " '방문자수': 500,\n",
       " '날씨': '맑음',\n",
       " '숫자': [1, 2, 3, 4, 5, 6, 7, 8, 9, 10],\n",
       " '바람': '강함'}"
      ]
     },
     "execution_count": 126,
     "metadata": {},
     "output_type": "execute_result"
    }
   ],
   "source": [
    "d.update(바람='강함')\n",
    "d"
   ]
  },
  {
   "cell_type": "code",
   "execution_count": 128,
   "id": "686ec5e6",
   "metadata": {},
   "outputs": [
    {
     "ename": "SyntaxError",
     "evalue": "expression cannot contain assignment, perhaps you meant \"==\"? (2204186940.py, line 1)",
     "output_type": "error",
     "traceback": [
      "\u001b[1;36m  Cell \u001b[1;32mIn[128], line 1\u001b[1;36m\u001b[0m\n\u001b[1;33m    d.update((100, \"튜플\") ='백')\u001b[0m\n\u001b[1;37m             ^\u001b[0m\n\u001b[1;31mSyntaxError\u001b[0m\u001b[1;31m:\u001b[0m expression cannot contain assignment, perhaps you meant \"==\"?\n"
     ]
    }
   ],
   "source": [
    "d.update((100, \"튜플\") ='백')\n",
    "d\n",
    "# 문자형 키만 올 수 있다!!!"
   ]
  },
  {
   "cell_type": "code",
   "execution_count": 129,
   "id": "4f8f74fd",
   "metadata": {},
   "outputs": [
    {
     "data": {
      "text/plain": [
       "{'년월': '20240924',\n",
       " '국가': '미국',\n",
       " '방문자수': 500,\n",
       " '날씨': '맑음',\n",
       " '숫자': [1, 2, 3, 4, 5, 6, 7, 8, 9, 10],\n",
       " '바람': '강함',\n",
       " '백': '백'}"
      ]
     },
     "execution_count": 129,
     "metadata": {},
     "output_type": "execute_result"
    }
   ],
   "source": [
    "d.update(백='백')\n",
    "d"
   ]
  },
  {
   "cell_type": "code",
   "execution_count": 130,
   "id": "4f1125f7",
   "metadata": {},
   "outputs": [
    {
     "data": {
      "text/plain": [
       "{'년월': '20240924',\n",
       " '국가': '미국',\n",
       " '방문자수': 500,\n",
       " '날씨': '맑음',\n",
       " '숫자': [1, 2, 3, 4, 5, 6, 7, 8, 9, 10],\n",
       " '바람': '강함',\n",
       " '백': '백',\n",
       " 3: 300}"
      ]
     },
     "execution_count": 130,
     "metadata": {},
     "output_type": "execute_result"
    }
   ],
   "source": [
    "d[3] = 300\n",
    "d"
   ]
  },
  {
   "cell_type": "code",
   "execution_count": 131,
   "id": "0a82225e",
   "metadata": {},
   "outputs": [
    {
     "ename": "SyntaxError",
     "evalue": "expression cannot contain assignment, perhaps you meant \"==\"? (2776621779.py, line 1)",
     "output_type": "error",
     "traceback": [
      "\u001b[1;36m  Cell \u001b[1;32mIn[131], line 1\u001b[1;36m\u001b[0m\n\u001b[1;33m    d.update(3 = '삼백')\u001b[0m\n\u001b[1;37m             ^\u001b[0m\n\u001b[1;31mSyntaxError\u001b[0m\u001b[1;31m:\u001b[0m expression cannot contain assignment, perhaps you meant \"==\"?\n"
     ]
    }
   ],
   "source": [
    "d.update(3 = '삼백')\n",
    "d"
   ]
  },
  {
   "cell_type": "markdown",
   "id": "1c7f3f91",
   "metadata": {},
   "source": [
    "# 딕셔너리에서 value를 가져오는 함수 .get()\n",
    "* 딕셔너리에서 value를 보고 싶을 때는 key를 호출하면 된다.\n",
    "* 만약 딕셔너리 안에 key가 없는데 호출하는 경우 오류 발생.\n",
    "* .get('key', \"key가 없을 때 출력할 내용\") key 없어도 오류 발생 X, 기본값 출력됨\n",
    "* 딕셔너리 내에 key가 있다가 없다가를 반복하는 경우 오류 방지 "
   ]
  },
  {
   "cell_type": "code",
   "execution_count": 132,
   "id": "495f7fa6",
   "metadata": {},
   "outputs": [
    {
     "data": {
      "text/plain": [
       "{'년월': '20240924',\n",
       " '국가': '미국',\n",
       " '방문자수': 500,\n",
       " '날씨': '맑음',\n",
       " '숫자': [1, 2, 3, 4, 5, 6, 7, 8, 9, 10],\n",
       " '바람': '강함',\n",
       " '백': '백',\n",
       " 3: 300}"
      ]
     },
     "execution_count": 132,
     "metadata": {},
     "output_type": "execute_result"
    }
   ],
   "source": [
    "d"
   ]
  },
  {
   "cell_type": "code",
   "execution_count": 133,
   "id": "68cd7544",
   "metadata": {},
   "outputs": [
    {
     "data": {
      "text/plain": [
       "'강함'"
      ]
     },
     "execution_count": 133,
     "metadata": {},
     "output_type": "execute_result"
    }
   ],
   "source": [
    "d['바람']"
   ]
  },
  {
   "cell_type": "code",
   "execution_count": 134,
   "id": "2f1cd6f9",
   "metadata": {},
   "outputs": [
    {
     "ename": "KeyError",
     "evalue": "'강수량'",
     "output_type": "error",
     "traceback": [
      "\u001b[1;31m---------------------------------------------------------------------------\u001b[0m",
      "\u001b[1;31mKeyError\u001b[0m                                  Traceback (most recent call last)",
      "Cell \u001b[1;32mIn[134], line 1\u001b[0m\n\u001b[1;32m----> 1\u001b[0m \u001b[43md\u001b[49m\u001b[43m[\u001b[49m\u001b[38;5;124;43m'\u001b[39;49m\u001b[38;5;124;43m강수량\u001b[39;49m\u001b[38;5;124;43m'\u001b[39;49m\u001b[43m]\u001b[49m\n",
      "\u001b[1;31mKeyError\u001b[0m: '강수량'"
     ]
    }
   ],
   "source": [
    "d['강수량']"
   ]
  },
  {
   "cell_type": "code",
   "execution_count": 136,
   "id": "30474d2f",
   "metadata": {},
   "outputs": [
    {
     "data": {
      "text/plain": [
       "'해당 key 없음'"
      ]
     },
     "execution_count": 136,
     "metadata": {},
     "output_type": "execute_result"
    }
   ],
   "source": [
    "d.get('강수량', '해당 key 없음')"
   ]
  },
  {
   "cell_type": "markdown",
   "id": "e9387411",
   "metadata": {},
   "source": [
    "# 딕셔너리에서 key, value, (key, value)를 가져오는 함수\n",
    "* keys() : 딕셔너리에서 key만 출력\n",
    "* values() : 딕셔너리에서 value만 출력\n",
    "* items() : 딕셔너리에서 key, value를 튜플 묶음 형태로 출력 (key, value) \n",
    "* 위의 3 함수의 결과를 list()로 형변환을 해주면 list처럼 사용가능 "
   ]
  },
  {
   "cell_type": "code",
   "execution_count": 137,
   "id": "330457ac",
   "metadata": {},
   "outputs": [
    {
     "data": {
      "text/plain": [
       "{'info': [{'name': 'alice', 'scores': (95, 88, 92)},\n",
       "  {'name': 'bob', 'scores': (78, 85, 89)}],\n",
       " 'extra': {'hobbies': ['leading', 'coding'], 'location': ('seoul', 'busan')}}"
      ]
     },
     "execution_count": 137,
     "metadata": {},
     "output_type": "execute_result"
    }
   ],
   "source": [
    "data"
   ]
  },
  {
   "cell_type": "code",
   "execution_count": 142,
   "id": "0d26f4fb",
   "metadata": {},
   "outputs": [
    {
     "data": {
      "text/plain": [
       "dict_keys(['info', 'extra'])"
      ]
     },
     "execution_count": 142,
     "metadata": {},
     "output_type": "execute_result"
    }
   ],
   "source": [
    "keys = data.keys()\n",
    "keys"
   ]
  },
  {
   "cell_type": "code",
   "execution_count": 140,
   "id": "8b2f8e01",
   "metadata": {},
   "outputs": [
    {
     "ename": "TypeError",
     "evalue": "'dict_keys' object is not subscriptable",
     "output_type": "error",
     "traceback": [
      "\u001b[1;31m---------------------------------------------------------------------------\u001b[0m",
      "\u001b[1;31mTypeError\u001b[0m                                 Traceback (most recent call last)",
      "Cell \u001b[1;32mIn[140], line 1\u001b[0m\n\u001b[1;32m----> 1\u001b[0m \u001b[43mkeys\u001b[49m\u001b[43m[\u001b[49m\u001b[38;5;241;43m0\u001b[39;49m\u001b[43m]\u001b[49m\n",
      "\u001b[1;31mTypeError\u001b[0m: 'dict_keys' object is not subscriptable"
     ]
    }
   ],
   "source": [
    "keys[0]"
   ]
  },
  {
   "cell_type": "code",
   "execution_count": 144,
   "id": "05dc33f5",
   "metadata": {},
   "outputs": [
    {
     "name": "stdout",
     "output_type": "stream",
     "text": [
      "<class 'dict_keys'> <class 'list'> <class 'list'>\n"
     ]
    }
   ],
   "source": [
    "keys = list(data.keys())\n",
    "print(type(data.keys()), type(list(data.keys())), type(keys))\n",
    "#list로 형변환 해주기"
   ]
  },
  {
   "cell_type": "code",
   "execution_count": 146,
   "id": "77cc8bcb",
   "metadata": {},
   "outputs": [
    {
     "data": {
      "text/plain": [
       "'info'"
      ]
     },
     "execution_count": 146,
     "metadata": {},
     "output_type": "execute_result"
    }
   ],
   "source": [
    "keys[0]"
   ]
  },
  {
   "cell_type": "code",
   "execution_count": 148,
   "id": "d1594334",
   "metadata": {},
   "outputs": [
    {
     "data": {
      "text/plain": [
       "dict_keys(['name', 'scores'])"
      ]
     },
     "execution_count": 148,
     "metadata": {},
     "output_type": "execute_result"
    }
   ],
   "source": [
    "data['info'][0].keys()"
   ]
  },
  {
   "cell_type": "code",
   "execution_count": 151,
   "id": "291901be",
   "metadata": {},
   "outputs": [
    {
     "data": {
      "text/plain": [
       "'scores'"
      ]
     },
     "execution_count": 151,
     "metadata": {},
     "output_type": "execute_result"
    }
   ],
   "source": [
    "list(data['info'][0].keys())[1]"
   ]
  },
  {
   "cell_type": "markdown",
   "id": "f8450da2",
   "metadata": {},
   "source": [
    "* values"
   ]
  },
  {
   "cell_type": "code",
   "execution_count": 153,
   "id": "1d2fbd8a",
   "metadata": {},
   "outputs": [],
   "source": [
    "values = data.values()"
   ]
  },
  {
   "cell_type": "code",
   "execution_count": 154,
   "id": "857c379a",
   "metadata": {},
   "outputs": [
    {
     "data": {
      "text/plain": [
       "[[{'name': 'alice', 'scores': (95, 88, 92)},\n",
       "  {'name': 'bob', 'scores': (78, 85, 89)}],\n",
       " {'hobbies': ['leading', 'coding'], 'location': ('seoul', 'busan')}]"
      ]
     },
     "execution_count": 154,
     "metadata": {},
     "output_type": "execute_result"
    }
   ],
   "source": [
    "values = list(values)\n",
    "values"
   ]
  },
  {
   "cell_type": "code",
   "execution_count": 158,
   "id": "ccb6c50d",
   "metadata": {},
   "outputs": [
    {
     "data": {
      "text/plain": [
       "dict_values(['bob', (78, 85, 89)])"
      ]
     },
     "execution_count": 158,
     "metadata": {},
     "output_type": "execute_result"
    }
   ],
   "source": [
    "values[0][1].values()"
   ]
  },
  {
   "cell_type": "markdown",
   "id": "2c750581",
   "metadata": {},
   "source": [
    "* items 는 (key, value) 형식으로 출력"
   ]
  },
  {
   "cell_type": "code",
   "execution_count": 160,
   "id": "2e3ec504",
   "metadata": {},
   "outputs": [
    {
     "data": {
      "text/plain": [
       "dict_items([('info', [{'name': 'alice', 'scores': (95, 88, 92)}, {'name': 'bob', 'scores': (78, 85, 89)}]), ('extra', {'hobbies': ['leading', 'coding'], 'location': ('seoul', 'busan')})])"
      ]
     },
     "execution_count": 160,
     "metadata": {},
     "output_type": "execute_result"
    }
   ],
   "source": [
    "data.items()"
   ]
  },
  {
   "cell_type": "code",
   "execution_count": 162,
   "id": "8b506db9",
   "metadata": {},
   "outputs": [
    {
     "data": {
      "text/plain": [
       "[('info',\n",
       "  [{'name': 'alice', 'scores': (95, 88, 92)},\n",
       "   {'name': 'bob', 'scores': (78, 85, 89)}]),\n",
       " ('extra', {'hobbies': ['leading', 'coding'], 'location': ('seoul', 'busan')})]"
      ]
     },
     "execution_count": 162,
     "metadata": {},
     "output_type": "execute_result"
    }
   ],
   "source": [
    "items = list(data.items())\n",
    "items"
   ]
  },
  {
   "cell_type": "code",
   "execution_count": 163,
   "id": "7b244def",
   "metadata": {},
   "outputs": [
    {
     "data": {
      "text/plain": [
       "('info',\n",
       " [{'name': 'alice', 'scores': (95, 88, 92)},\n",
       "  {'name': 'bob', 'scores': (78, 85, 89)}])"
      ]
     },
     "execution_count": 163,
     "metadata": {},
     "output_type": "execute_result"
    }
   ],
   "source": [
    "items[0]"
   ]
  },
  {
   "cell_type": "code",
   "execution_count": 164,
   "id": "9eb8b0d1",
   "metadata": {},
   "outputs": [
    {
     "data": {
      "text/plain": [
       "('extra', {'hobbies': ['leading', 'coding'], 'location': ('seoul', 'busan')})"
      ]
     },
     "execution_count": 164,
     "metadata": {},
     "output_type": "execute_result"
    }
   ],
   "source": [
    "items[1]"
   ]
  },
  {
   "cell_type": "code",
   "execution_count": 165,
   "id": "0b8938ef",
   "metadata": {},
   "outputs": [
    {
     "data": {
      "text/plain": [
       "{'년월': '20240924',\n",
       " '국가': '미국',\n",
       " '방문자수': 500,\n",
       " '날씨': '맑음',\n",
       " '숫자': [1, 2, 3, 4, 5, 6, 7, 8, 9, 10],\n",
       " '바람': '강함',\n",
       " '백': '백',\n",
       " 3: 300}"
      ]
     },
     "execution_count": 165,
     "metadata": {},
     "output_type": "execute_result"
    }
   ],
   "source": [
    "d"
   ]
  },
  {
   "cell_type": "code",
   "execution_count": 167,
   "id": "77f4fe91",
   "metadata": {},
   "outputs": [
    {
     "data": {
      "text/plain": [
       "dict_keys(['년월', '국가', '방문자수', '날씨', '숫자', '바람', '백', 3])"
      ]
     },
     "execution_count": 167,
     "metadata": {},
     "output_type": "execute_result"
    }
   ],
   "source": [
    "d.keys()"
   ]
  },
  {
   "cell_type": "code",
   "execution_count": 168,
   "id": "fb4a4192",
   "metadata": {},
   "outputs": [
    {
     "data": {
      "text/plain": [
       "dict_values(['20240924', '미국', 500, '맑음', [1, 2, 3, 4, 5, 6, 7, 8, 9, 10], '강함', '백', 300])"
      ]
     },
     "execution_count": 168,
     "metadata": {},
     "output_type": "execute_result"
    }
   ],
   "source": [
    "d.values()"
   ]
  },
  {
   "cell_type": "code",
   "execution_count": 169,
   "id": "ac57dd64",
   "metadata": {},
   "outputs": [
    {
     "data": {
      "text/plain": [
       "dict_items([('년월', '20240924'), ('국가', '미국'), ('방문자수', 500), ('날씨', '맑음'), ('숫자', [1, 2, 3, 4, 5, 6, 7, 8, 9, 10]), ('바람', '강함'), ('백', '백'), (3, 300)])"
      ]
     },
     "execution_count": 169,
     "metadata": {},
     "output_type": "execute_result"
    }
   ],
   "source": [
    "d.items()"
   ]
  },
  {
   "cell_type": "code",
   "execution_count": 170,
   "id": "b02da953",
   "metadata": {},
   "outputs": [
    {
     "name": "stdout",
     "output_type": "stream",
     "text": [
      "년월\n",
      "국가\n",
      "방문자수\n",
      "날씨\n",
      "숫자\n",
      "바람\n",
      "백\n",
      "3\n"
     ]
    }
   ],
   "source": [
    "for key in d.keys():\n",
    "    print(key)"
   ]
  },
  {
   "cell_type": "code",
   "execution_count": 173,
   "id": "2c0631f9",
   "metadata": {},
   "outputs": [
    {
     "name": "stdout",
     "output_type": "stream",
     "text": [
      "20240924\n",
      "미국\n",
      "500\n",
      "맑음\n",
      "[1, 2, 3, 4, 5, 6, 7, 8, 9, 10]\n",
      "강함\n",
      "백\n",
      "300\n"
     ]
    }
   ],
   "source": [
    "for value in d.values():\n",
    "    print(value)"
   ]
  },
  {
   "cell_type": "code",
   "execution_count": 174,
   "id": "1d977b52",
   "metadata": {},
   "outputs": [
    {
     "name": "stdout",
     "output_type": "stream",
     "text": [
      "key: 년월 value: 20240924\n",
      "key: 국가 value: 미국\n",
      "key: 방문자수 value: 500\n",
      "key: 날씨 value: 맑음\n",
      "key: 숫자 value: [1, 2, 3, 4, 5, 6, 7, 8, 9, 10]\n",
      "key: 바람 value: 강함\n",
      "key: 백 value: 백\n",
      "key: 3 value: 300\n"
     ]
    }
   ],
   "source": [
    "for key, value in d.items():\n",
    "    print(\"key:\", key, \"value:\", value)"
   ]
  },
  {
   "cell_type": "code",
   "execution_count": 175,
   "id": "8f80ef37",
   "metadata": {},
   "outputs": [
    {
     "name": "stdout",
     "output_type": "stream",
     "text": [
      "('년월', '20240924')\n",
      "('국가', '미국')\n",
      "('방문자수', 500)\n",
      "('날씨', '맑음')\n",
      "('숫자', [1, 2, 3, 4, 5, 6, 7, 8, 9, 10])\n",
      "('바람', '강함')\n",
      "('백', '백')\n",
      "(3, 300)\n"
     ]
    }
   ],
   "source": [
    "for item in d.items():\n",
    "    print(item)"
   ]
  },
  {
   "cell_type": "code",
   "execution_count": null,
   "id": "7d0b113f",
   "metadata": {},
   "outputs": [],
   "source": []
  }
 ],
 "metadata": {
  "kernelspec": {
   "display_name": "Python 3 (ipykernel)",
   "language": "python",
   "name": "python3"
  },
  "language_info": {
   "codemirror_mode": {
    "name": "ipython",
    "version": 3
   },
   "file_extension": ".py",
   "mimetype": "text/x-python",
   "name": "python",
   "nbconvert_exporter": "python",
   "pygments_lexer": "ipython3",
   "version": "3.9.23"
  }
 },
 "nbformat": 4,
 "nbformat_minor": 5
}
