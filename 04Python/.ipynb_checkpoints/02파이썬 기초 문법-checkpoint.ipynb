{
 "cells": [
  {
   "cell_type": "code",
   "execution_count": null,
   "id": "e9f130dd",
   "metadata": {},
   "outputs": [],
   "source": []
  },
  {
   "cell_type": "code",
   "execution_count": 33,
   "id": "651926ad",
   "metadata": {},
   "outputs": [
    {
     "name": "stdout",
     "output_type": "stream",
     "text": [
      "99\r"
     ]
    }
   ],
   "source": [
    "import time\n",
    "for i in range(100):\n",
    "    print(i,end=\"\\r\")\n",
    "    time.sleep(0.3)\n",
    "#        pirnt(i)"
   ]
  },
  {
   "cell_type": "code",
   "execution_count": 31,
   "id": "b7703b32",
   "metadata": {},
   "outputs": [
    {
     "name": "stdout",
     "output_type": "stream",
     "text": [
      "0, 1, 2, 3, 4, 5, 6, 7, 8, 9, "
     ]
    }
   ],
   "source": [
    "for i in range(10):\n",
    "    print(i,end=\", \")"
   ]
  },
  {
   "cell_type": "code",
   "execution_count": 27,
   "id": "b824edfa",
   "metadata": {},
   "outputs": [
    {
     "name": "stdout",
     "output_type": "stream",
     "text": [
      "헐크 아이언맨 스파이더맨\r",
      " 캐리지리턴 됨\n"
     ]
    }
   ],
   "source": [
    "# end 값의 기본 \\\\r carrige return 커서를 맨 앞으로 이동\n",
    "print(\"헐크\", \"아이언맨\", \"스파이더맨\", end=\"\\r \")\n",
    "print(\"캐리지리턴 됨\") \n"
   ]
  },
  {
   "cell_type": "code",
   "execution_count": 24,
   "id": "e3537cfa",
   "metadata": {},
   "outputs": [
    {
     "name": "stdout",
     "output_type": "stream",
     "text": [
      "헐크 아이언맨 스파이더맨\t 헐크 아이언맨 스파이더맨\n",
      "헐크 아이언맨 스파이더맨\n"
     ]
    }
   ],
   "source": [
    "# end 값의 기본 \\\\t tap키(8번)\n",
    "print(\"헐크\", \"아이언맨\", \"스파이더맨\", end=\"\\t \")\n",
    "print(\"헐크\", \"아이언맨\", \"스파이더맨\")\n",
    "print(\"헐크\", \"아이언맨\", \"스파이더맨\")"
   ]
  },
  {
   "cell_type": "code",
   "execution_count": 23,
   "id": "3adb99d9",
   "metadata": {},
   "outputs": [
    {
     "name": "stdout",
     "output_type": "stream",
     "text": [
      "헐크 아이언맨 스파이더맨, 헐크 아이언맨 스파이더맨\n",
      "헐크 아이언맨 스파이더맨\n"
     ]
    }
   ],
   "source": [
    "# end 값의 기본 \\\\n\n",
    "print(\"헐크\", \"아이언맨\", \"스파이더맨\", end=\", \")\n",
    "print(\"헐크\", \"아이언맨\", \"스파이더맨\")\n",
    "print(\"헐크\", \"아이언맨\", \"스파이더맨\")"
   ]
  },
  {
   "cell_type": "code",
   "execution_count": 20,
   "id": "978fdfc8",
   "metadata": {},
   "outputs": [
    {
     "name": "stdout",
     "output_type": "stream",
     "text": [
      "헐크 아이언맨 스파이더맨\n",
      "\n",
      "헐크 아이언맨 스파이더맨\n"
     ]
    }
   ],
   "source": [
    "# end 값의 기본 \\\\n\n",
    "print(\"헐크\", \"아이언맨\", \"스파이더맨\", end=\"\"\\n\\n\")\n",
    "print(\"헐크\", \"아이언맨\", \"스파이더맨\")"
   ]
  },
  {
   "cell_type": "markdown",
   "id": "f7b3d3ef",
   "metadata": {},
   "source": [
    "* end 옵션 - print가 끝나고 실행될 옵션\n",
    "* 기본값 : \\\\n 줄바꿈 new line\n",
    "* escape 문자 :\n",
    "    * \\\\n : new line 줄바꿈\n",
    "    * \\\\t : tap 탭키 8칸 띄움\n",
    "    * \\\\r : carrige return 커서를 현재 라인의 가장 앞으로 이동"
   ]
  },
  {
   "cell_type": "code",
   "execution_count": 18,
   "id": "e0cdf20c",
   "metadata": {
    "scrolled": true
   },
   "outputs": [
    {
     "name": "stdout",
     "output_type": "stream",
     "text": [
      "010-2222-3333\n"
     ]
    }
   ],
   "source": [
    "print(\"010\", \"2222\", \"3333\", sep=\"-\")"
   ]
  },
  {
   "cell_type": "code",
   "execution_count": 16,
   "id": "d556e87b",
   "metadata": {
    "scrolled": true
   },
   "outputs": [
    {
     "name": "stdout",
     "output_type": "stream",
     "text": [
      "이것은 vs 파이썬 vs 입니다.\n"
     ]
    }
   ],
   "source": [
    "print(\"이것은\", \"파이썬\", \"입니다.\", sep=\" vs \")"
   ]
  },
  {
   "cell_type": "code",
   "execution_count": 16,
   "id": "a6fce9f3",
   "metadata": {
    "scrolled": true
   },
   "outputs": [
    {
     "name": "stdout",
     "output_type": "stream",
     "text": [
      "이것은 vs 파이썬 vs 입니다.\n"
     ]
    }
   ],
   "source": [
    "print(\"이것은\", \"파이썬\", \"입니다.\", sep=\" vs \")"
   ]
  },
  {
   "cell_type": "code",
   "execution_count": 12,
   "id": "679eb867",
   "metadata": {},
   "outputs": [
    {
     "name": "stdout",
     "output_type": "stream",
     "text": [
      "이것은, 파이썬, 입니다.\n"
     ]
    }
   ],
   "source": [
    "print(\"이것은\", \"파이썬\", \"입니다.\", sep=\", \")"
   ]
  },
  {
   "cell_type": "code",
   "execution_count": 14,
   "id": "349a0893",
   "metadata": {},
   "outputs": [
    {
     "name": "stdout",
     "output_type": "stream",
     "text": [
      "이것은,파이썬,입니다.\n"
     ]
    }
   ],
   "source": [
    "print(\"이것은\", \"파이썬\", \"입니다.\", sep=\",\")"
   ]
  },
  {
   "cell_type": "code",
   "execution_count": 13,
   "id": "63d0a874",
   "metadata": {},
   "outputs": [
    {
     "name": "stdout",
     "output_type": "stream",
     "text": [
      "이것은 파이썬 입니다.\n"
     ]
    }
   ],
   "source": [
    "print(\"이것은\", \"파이썬\", \"입니다.\")"
   ]
  },
  {
   "cell_type": "markdown",
   "id": "8ac596ef",
   "metadata": {},
   "source": [
    "# print문의 옵션\n",
    "* sep : 구분자, print문 안에 여러개의 자료를 출력할 때 구분해주는 문자.\n",
    "* 기본값 : 공백 \" \""
   ]
  },
  {
   "cell_type": "code",
   "execution_count": 9,
   "id": "5c74a996",
   "metadata": {
    "scrolled": true
   },
   "outputs": [
    {
     "name": "stdout",
     "output_type": "stream",
     "text": [
      "이것은 \"파이썬\"이다.\n"
     ]
    }
   ],
   "source": [
    "# 따옴표를 같이 출력하고 싶을 때\n",
    "print(\"이것은 \\\"파이썬\\\"이다.\")"
   ]
  },
  {
   "cell_type": "code",
   "execution_count": 8,
   "id": "3a2a0401",
   "metadata": {
    "scrolled": true
   },
   "outputs": [
    {
     "name": "stdout",
     "output_type": "stream",
     "text": [
      "이것은 \"파이썬\"이다.\n"
     ]
    }
   ],
   "source": [
    "# 따옴표를 같이 출력하고 싶을 때\n",
    "print('이것은 \"파이썬\"이다.')"
   ]
  },
  {
   "cell_type": "code",
   "execution_count": 6,
   "id": "34753660",
   "metadata": {
    "scrolled": true
   },
   "outputs": [
    {
     "name": "stdout",
     "output_type": "stream",
     "text": [
      "이것은 '파이썬'이다.\n"
     ]
    }
   ],
   "source": [
    "# 따옴표를 같이 출력하고 싶을 때\n",
    "print(\"이것은 '파이썬'이다.\")"
   ]
  },
  {
   "cell_type": "code",
   "execution_count": 5,
   "id": "34ac5878",
   "metadata": {},
   "outputs": [
    {
     "name": "stdout",
     "output_type": "stream",
     "text": [
      "문자 출력\n"
     ]
    }
   ],
   "source": [
    "# 문자를 출력하는 경우\n",
    "print(\"문자 출력\")"
   ]
  },
  {
   "cell_type": "code",
   "execution_count": 4,
   "id": "e82539ae",
   "metadata": {},
   "outputs": [
    {
     "name": "stdout",
     "output_type": "stream",
     "text": [
      "문자 출력\n"
     ]
    }
   ],
   "source": [
    "# 문자를 출력하는 경우\n",
    "print('문자 출력')"
   ]
  },
  {
   "cell_type": "code",
   "execution_count": 2,
   "id": "46733160",
   "metadata": {},
   "outputs": [
    {
     "name": "stdout",
     "output_type": "stream",
     "text": [
      "3.14\n"
     ]
    }
   ],
   "source": [
    "# 실수를 출력하는 경우\n",
    "print(3.14)"
   ]
  },
  {
   "cell_type": "code",
   "execution_count": 1,
   "id": "2b134f83",
   "metadata": {},
   "outputs": [
    {
     "name": "stdout",
     "output_type": "stream",
     "text": [
      "300\n"
     ]
    }
   ],
   "source": [
    "# 숫자를 출력하는 경우\n",
    "print(300)"
   ]
  },
  {
   "cell_type": "markdown",
   "id": "972002cb",
   "metadata": {},
   "source": [
    "# print문\n",
    "* print() 안에 있는 내용을 출력해 주는 함수 \n",
    "* print(출력할 내용1, 출력할 내용2, ..)\n",
    "* print(출력할 내용이 숫자인 경우 그대로, 문자인 경우 반드시 \"\",''사용)\n",
    "* print(출력할 내용, 옵션) \n",
    "   * sep : 출력할 내용 사이에 오는 구분자 기본값은 공백 \" \"\n",
    "   * end : 출력이 끝난 후에 출력하는 값 기본값은 n(new line 줄바꿈)"
   ]
  },
  {
   "cell_type": "markdown",
   "id": "81fda4d8",
   "metadata": {},
   "source": [
    "# 파이썬 기초 문법\n",
    "* 파이썬의 주석은 문장 앞에 #을 붙여서 만든다. Ctrl+/\n",
    "* 파이썬은 들여쓰기를 사용해서 코드를 구분해 작성한다.\n",
    "* 들여쓰기는 4칸이 기본, google colab 2칸  \n",
    "* 변수를 만들 때 스네이크 표기법을 사용한다. ex)user_name\n",
    "* 클래스를 만들 때는 카멜 표기법을 사용한다. ex)UserName, userName"
   ]
  },
  {
   "cell_type": "code",
   "execution_count": null,
   "id": "8e11c29d",
   "metadata": {},
   "outputs": [],
   "source": []
  }
 ],
 "metadata": {
  "kernelspec": {
   "display_name": "Python 3 (ipykernel)",
   "language": "python",
   "name": "python3"
  },
  "language_info": {
   "codemirror_mode": {
    "name": "ipython",
    "version": 3
   },
   "file_extension": ".py",
   "mimetype": "text/x-python",
   "name": "python",
   "nbconvert_exporter": "python",
   "pygments_lexer": "ipython3",
   "version": "3.9.23"
  }
 },
 "nbformat": 4,
 "nbformat_minor": 5
}
