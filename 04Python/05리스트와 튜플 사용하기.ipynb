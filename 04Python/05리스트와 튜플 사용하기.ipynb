{
 "cells": [
  {
   "cell_type": "markdown",
   "id": "4c79a15c",
   "metadata": {},
   "source": [
    "# 리스트와 튜플 사용하기 초급편"
   ]
  },
  {
   "cell_type": "markdown",
   "id": "78708931",
   "metadata": {},
   "source": [
    "## 리스트 만들기\n",
    "* 대괄호 안에 자료를 나열해서 만듦\n",
    "* 내용이 비어있는 리스트도 생성 가능 []\n",
    "* 자료가 1개만 있는 리스트도 생성 가능\n",
    "* 숫자로만 된 리스트의 경우 range()와 list 형변환 함수로 생성 가능"
   ]
  },
  {
   "cell_type": "code",
   "execution_count": 1,
   "id": "5f425c9c",
   "metadata": {},
   "outputs": [
    {
     "data": {
      "text/plain": [
       "[]"
      ]
     },
     "execution_count": 1,
     "metadata": {},
     "output_type": "execute_result"
    }
   ],
   "source": [
    "# 빈 리스트 만들기\n",
    "l1 = []\n",
    "l1"
   ]
  },
  {
   "cell_type": "code",
   "execution_count": 3,
   "id": "9eaf862a",
   "metadata": {},
   "outputs": [
    {
     "name": "stdout",
     "output_type": "stream",
     "text": [
      "[] 0 <class 'list'>\n"
     ]
    }
   ],
   "source": [
    "print(l1, len(l1), type(l1))"
   ]
  },
  {
   "cell_type": "code",
   "execution_count": 4,
   "id": "8a2d0d12",
   "metadata": {},
   "outputs": [],
   "source": [
    "# 대괄호 안에 자료를 나열해서 만들기\n",
    "l2 = [1,2,3, 3.5, \"리스트\", (4,5,6),{\"key\":\"value\"}]"
   ]
  },
  {
   "cell_type": "code",
   "execution_count": 5,
   "id": "8d6142e6",
   "metadata": {},
   "outputs": [
    {
     "name": "stdout",
     "output_type": "stream",
     "text": [
      "[1, 2, 3, 3.5, '리스트', (4, 5, 6), {'key': 'value'}] <class 'list'>\n"
     ]
    }
   ],
   "source": [
    "print(l2, type(l2))"
   ]
  },
  {
   "cell_type": "markdown",
   "id": "298fc473",
   "metadata": {},
   "source": [
    "## range함수로 리스트 만들기 \n",
    "* range(시작번호, 끝번호+1, step)"
   ]
  },
  {
   "cell_type": "code",
   "execution_count": 6,
   "id": "bb1fb152",
   "metadata": {},
   "outputs": [
    {
     "data": {
      "text/plain": [
       "[1, 3, 5, 7, 9]"
      ]
     },
     "execution_count": 6,
     "metadata": {},
     "output_type": "execute_result"
    }
   ],
   "source": [
    "list(range(1, 11, 2))"
   ]
  },
  {
   "cell_type": "code",
   "execution_count": 7,
   "id": "c4ee1aa9",
   "metadata": {},
   "outputs": [
    {
     "data": {
      "text/plain": [
       "[4,\n",
       " 8,\n",
       " 12,\n",
       " 16,\n",
       " 20,\n",
       " 24,\n",
       " 28,\n",
       " 32,\n",
       " 36,\n",
       " 40,\n",
       " 44,\n",
       " 48,\n",
       " 52,\n",
       " 56,\n",
       " 60,\n",
       " 64,\n",
       " 68,\n",
       " 72,\n",
       " 76,\n",
       " 80,\n",
       " 84,\n",
       " 88,\n",
       " 92,\n",
       " 96,\n",
       " 100]"
      ]
     },
     "execution_count": 7,
     "metadata": {},
     "output_type": "execute_result"
    }
   ],
   "source": [
    "# 4의 배수로 리스트 만들기\n",
    "list(range(4, 101, 4))"
   ]
  },
  {
   "cell_type": "code",
   "execution_count": 8,
   "id": "44010db5",
   "metadata": {},
   "outputs": [
    {
     "data": {
      "text/plain": [
       "[100,\n",
       " 96,\n",
       " 92,\n",
       " 88,\n",
       " 84,\n",
       " 80,\n",
       " 76,\n",
       " 72,\n",
       " 68,\n",
       " 64,\n",
       " 60,\n",
       " 56,\n",
       " 52,\n",
       " 48,\n",
       " 44,\n",
       " 40,\n",
       " 36,\n",
       " 32,\n",
       " 28,\n",
       " 24,\n",
       " 20,\n",
       " 16,\n",
       " 12,\n",
       " 8,\n",
       " 4]"
      ]
     },
     "execution_count": 8,
     "metadata": {},
     "output_type": "execute_result"
    }
   ],
   "source": [
    "# 역순으로 리스트 만들기 \n",
    "list(range(100, 1, -4))"
   ]
  },
  {
   "cell_type": "markdown",
   "id": "205affd5",
   "metadata": {},
   "source": [
    "# 리스트 함수"
   ]
  },
  {
   "cell_type": "markdown",
   "id": "a3146830",
   "metadata": {},
   "source": [
    "## .append() 리스트 마지막에 자료 추가 "
   ]
  },
  {
   "cell_type": "code",
   "execution_count": 10,
   "id": "f1b2a8ef",
   "metadata": {},
   "outputs": [
    {
     "data": {
      "text/plain": [
       "[3]"
      ]
     },
     "execution_count": 10,
     "metadata": {},
     "output_type": "execute_result"
    }
   ],
   "source": [
    "l1.append(3)\n",
    "l1"
   ]
  },
  {
   "cell_type": "code",
   "execution_count": 11,
   "id": "f1e98dc5",
   "metadata": {},
   "outputs": [
    {
     "data": {
      "text/plain": [
       "[3, 3.5]"
      ]
     },
     "execution_count": 11,
     "metadata": {},
     "output_type": "execute_result"
    }
   ],
   "source": [
    "l1.append(3.5)\n",
    "l1"
   ]
  },
  {
   "cell_type": "code",
   "execution_count": 12,
   "id": "dfcae9b5",
   "metadata": {},
   "outputs": [
    {
     "data": {
      "text/plain": [
       "[3, 3.5, 'append']"
      ]
     },
     "execution_count": 12,
     "metadata": {},
     "output_type": "execute_result"
    }
   ],
   "source": [
    "l1.append(\"append\")\n",
    "l1"
   ]
  },
  {
   "cell_type": "code",
   "execution_count": 13,
   "id": "96742b0b",
   "metadata": {},
   "outputs": [
    {
     "data": {
      "text/plain": [
       "[3, 3.5, 'append', [1, 2, 3]]"
      ]
     },
     "execution_count": 13,
     "metadata": {},
     "output_type": "execute_result"
    }
   ],
   "source": [
    "l1.append([1,2,3])\n",
    "l1"
   ]
  },
  {
   "cell_type": "code",
   "execution_count": 14,
   "id": "141406de",
   "metadata": {},
   "outputs": [
    {
     "data": {
      "text/plain": [
       "[3, 3.5, 'append', [1, 2, 3], (4, 5, 6)]"
      ]
     },
     "execution_count": 14,
     "metadata": {},
     "output_type": "execute_result"
    }
   ],
   "source": [
    "l1.append((4,5,6))\n",
    "l1"
   ]
  },
  {
   "cell_type": "code",
   "execution_count": 15,
   "id": "0d74abdc",
   "metadata": {},
   "outputs": [
    {
     "data": {
      "text/plain": [
       "[3, 3.5, 'append', [1, 2, 3], (4, 5, 6), {'key': 'value'}]"
      ]
     },
     "execution_count": 15,
     "metadata": {},
     "output_type": "execute_result"
    }
   ],
   "source": [
    "l1.append({\"key\":\"value\"})\n",
    "l1"
   ]
  },
  {
   "cell_type": "markdown",
   "id": "899e17a6",
   "metadata": {},
   "source": [
    "## .insert() 특정 위치에 자료 추가\n",
    "* insert(추가할 위치의 인덱스, 추가할 값)"
   ]
  },
  {
   "cell_type": "code",
   "execution_count": 16,
   "id": "7ea6a3de",
   "metadata": {},
   "outputs": [
    {
     "data": {
      "text/plain": [
       "[3, 3.5, 'append', True, [1, 2, 3], (4, 5, 6), {'key': 'value'}]"
      ]
     },
     "execution_count": 16,
     "metadata": {},
     "output_type": "execute_result"
    }
   ],
   "source": [
    "#ㅣ1의 인덱스 3번에 True\n",
    "l1.insert(3, True)\n",
    "l1"
   ]
  },
  {
   "cell_type": "markdown",
   "id": "b8152e0c",
   "metadata": {},
   "source": [
    "## 리스트의 자료 삭제하기\n",
    "* del 변수명[인덱스 번호]: 해당 인덱스의 자료 삭제\n",
    "* pop(): 리스트의 가장 끝 자료가 출력되면서 삭제됨\n",
    "* remove(값): 리스트의 앞에서부터 입력한 값과 일치하는 값을 찾아서 삭제(정수, 실수 구분 X)"
   ]
  },
  {
   "cell_type": "code",
   "execution_count": 17,
   "id": "8fd01db4",
   "metadata": {},
   "outputs": [
    {
     "data": {
      "text/plain": [
       "[3, 3.5, True, [1, 2, 3], (4, 5, 6), {'key': 'value'}]"
      ]
     },
     "execution_count": 17,
     "metadata": {},
     "output_type": "execute_result"
    }
   ],
   "source": [
    "del l1[2]\n",
    "l1"
   ]
  },
  {
   "cell_type": "code",
   "execution_count": 18,
   "id": "b82f8907",
   "metadata": {},
   "outputs": [
    {
     "data": {
      "text/plain": [
       "[3, 3.5, True, [1, 2, 3], (4, 5, 6)]"
      ]
     },
     "execution_count": 18,
     "metadata": {},
     "output_type": "execute_result"
    }
   ],
   "source": [
    "l1.pop()\n",
    "l1"
   ]
  },
  {
   "cell_type": "code",
   "execution_count": 19,
   "id": "d838f56e",
   "metadata": {},
   "outputs": [
    {
     "data": {
      "text/plain": [
       "(4, 5, 6)"
      ]
     },
     "execution_count": 19,
     "metadata": {},
     "output_type": "execute_result"
    }
   ],
   "source": [
    "l1.pop()"
   ]
  },
  {
   "cell_type": "code",
   "execution_count": 20,
   "id": "61429331",
   "metadata": {},
   "outputs": [
    {
     "data": {
      "text/plain": [
       "[3, 3.5, True, [1, 2, 3]]"
      ]
     },
     "execution_count": 20,
     "metadata": {},
     "output_type": "execute_result"
    }
   ],
   "source": [
    "l1"
   ]
  },
  {
   "cell_type": "code",
   "execution_count": 21,
   "id": "5e05c3c4",
   "metadata": {},
   "outputs": [
    {
     "data": {
      "text/plain": [
       "[3.0, 3, 3.5, True, [1, 2, 3]]"
      ]
     },
     "execution_count": 21,
     "metadata": {},
     "output_type": "execute_result"
    }
   ],
   "source": [
    "l1.insert(0, 3.0)\n",
    "l1"
   ]
  },
  {
   "cell_type": "code",
   "execution_count": 22,
   "id": "4b16b42f",
   "metadata": {},
   "outputs": [
    {
     "data": {
      "text/plain": [
       "[3, 3.5, True, [1, 2, 3]]"
      ]
     },
     "execution_count": 22,
     "metadata": {},
     "output_type": "execute_result"
    }
   ],
   "source": [
    "l1.remove(3)\n",
    "l1"
   ]
  },
  {
   "cell_type": "code",
   "execution_count": 23,
   "id": "7f738359",
   "metadata": {},
   "outputs": [
    {
     "data": {
      "text/plain": [
       "[3, 3.5, True]"
      ]
     },
     "execution_count": 23,
     "metadata": {},
     "output_type": "execute_result"
    }
   ],
   "source": [
    "l1.remove([1,2,3])\n",
    "l1"
   ]
  },
  {
   "cell_type": "markdown",
   "id": "32077ddc",
   "metadata": {},
   "source": [
    "## 리스트 확장하기 .extend()\n",
    "* 리스트에 자료를 추가하되 요소만 추가"
   ]
  },
  {
   "cell_type": "code",
   "execution_count": 24,
   "id": "81535a30",
   "metadata": {},
   "outputs": [],
   "source": [
    "a = [1,2,3]\n",
    "b = [4,5,6]"
   ]
  },
  {
   "cell_type": "code",
   "execution_count": 25,
   "id": "e336cf9f",
   "metadata": {},
   "outputs": [
    {
     "data": {
      "text/plain": [
       "[1, 2, 3, [4, 5, 6]]"
      ]
     },
     "execution_count": 25,
     "metadata": {},
     "output_type": "execute_result"
    }
   ],
   "source": [
    "# append는 리스트 형태 그대로 리스트에 추가 됨\n",
    "a.append(b)\n",
    "a"
   ]
  },
  {
   "cell_type": "code",
   "execution_count": 26,
   "id": "b815cd4a",
   "metadata": {},
   "outputs": [
    {
     "data": {
      "text/plain": [
       "5"
      ]
     },
     "execution_count": 26,
     "metadata": {},
     "output_type": "execute_result"
    }
   ],
   "source": [
    "a[3][1]"
   ]
  },
  {
   "cell_type": "code",
   "execution_count": 27,
   "id": "87f83b3e",
   "metadata": {},
   "outputs": [
    {
     "data": {
      "text/plain": [
       "[4, 5, 6, 7, 8, 9]"
      ]
     },
     "execution_count": 27,
     "metadata": {},
     "output_type": "execute_result"
    }
   ],
   "source": [
    "# extend는 리스트 형태 없이 자료만 추가\n",
    "b.extend([7,8,9])\n",
    "b"
   ]
  },
  {
   "cell_type": "code",
   "execution_count": 28,
   "id": "9313f1c6",
   "metadata": {},
   "outputs": [
    {
     "data": {
      "text/plain": [
       "8"
      ]
     },
     "execution_count": 28,
     "metadata": {},
     "output_type": "execute_result"
    }
   ],
   "source": [
    "b[4]"
   ]
  },
  {
   "cell_type": "markdown",
   "id": "f4742c94",
   "metadata": {},
   "source": [
    "## list + list == extend()를 한 것과 동일"
   ]
  },
  {
   "cell_type": "code",
   "execution_count": 29,
   "id": "27ac91d4",
   "metadata": {},
   "outputs": [],
   "source": [
    "a = [1,2,3]\n",
    "b = [4,5,6]"
   ]
  },
  {
   "cell_type": "code",
   "execution_count": 30,
   "id": "fc8255fc",
   "metadata": {},
   "outputs": [
    {
     "data": {
      "text/plain": [
       "[1, 2, 3, 4, 5, 6]"
      ]
     },
     "execution_count": 30,
     "metadata": {},
     "output_type": "execute_result"
    }
   ],
   "source": [
    "a + b"
   ]
  },
  {
   "cell_type": "markdown",
   "id": "bab2b2ca",
   "metadata": {},
   "source": [
    "## 리스트 안에서 원하는 값의 인덱스 찾기\n",
    "* in, not in: 리스트 안에서 원하는 값이 있는지 확인 True / False\n",
    "* 원하는 값이 있는 위치를 찾을 때 .index(찾을 값, 시작 인덱스) - 가장 앞의 인덱스만 반환\n",
    "* 동일한 값이 여러개 있는 경우 가장 앞의 인덱스를 반환\n",
    "* 2번째 이상의 자료를 찾으려면 옵션에 시작 인덱스를 지정하면 된다."
   ]
  },
  {
   "cell_type": "code",
   "execution_count": 31,
   "id": "b93b7685",
   "metadata": {},
   "outputs": [
    {
     "data": {
      "text/plain": [
       "[1, 2, 3, [3, 4, 5, 6, 7, 9], [4, 5, 6, 7, 8, 9], 3, 4, 5, 7, 8, 9]"
      ]
     },
     "execution_count": 31,
     "metadata": {},
     "output_type": "execute_result"
    }
   ],
   "source": [
    "a = [1,2,3, [3,4,5,6,7,9], [4,5,6,7,8,9], 3,4,5,7,8,9]\n",
    "a"
   ]
  },
  {
   "cell_type": "code",
   "execution_count": 32,
   "id": "5fa9efb2",
   "metadata": {},
   "outputs": [
    {
     "data": {
      "text/plain": [
       "True"
      ]
     },
     "execution_count": 32,
     "metadata": {},
     "output_type": "execute_result"
    }
   ],
   "source": [
    "4 in a"
   ]
  },
  {
   "cell_type": "code",
   "execution_count": 33,
   "id": "e35e6f32",
   "metadata": {},
   "outputs": [
    {
     "data": {
      "text/plain": [
       "6"
      ]
     },
     "execution_count": 33,
     "metadata": {},
     "output_type": "execute_result"
    }
   ],
   "source": [
    "a.index(4)"
   ]
  },
  {
   "cell_type": "code",
   "execution_count": 34,
   "id": "0f69da1d",
   "metadata": {},
   "outputs": [
    {
     "data": {
      "text/plain": [
       "[1, 2, 3, [3, 4, 5, 6, 7, 9], [4, 5, 6, 7, 8, 9], 3, 5, 7, 8, 9]"
      ]
     },
     "execution_count": 34,
     "metadata": {},
     "output_type": "execute_result"
    }
   ],
   "source": [
    "a.remove(4)\n",
    "a"
   ]
  },
  {
   "cell_type": "code",
   "execution_count": 35,
   "id": "af51fe53",
   "metadata": {},
   "outputs": [
    {
     "data": {
      "text/plain": [
       "False"
      ]
     },
     "execution_count": 35,
     "metadata": {},
     "output_type": "execute_result"
    }
   ],
   "source": [
    "4 in a"
   ]
  },
  {
   "cell_type": "code",
   "execution_count": 37,
   "id": "ded754fc",
   "metadata": {},
   "outputs": [
    {
     "data": {
      "text/plain": [
       "True"
      ]
     },
     "execution_count": 37,
     "metadata": {},
     "output_type": "execute_result"
    }
   ],
   "source": [
    "4 in a[3]"
   ]
  },
  {
   "cell_type": "code",
   "execution_count": 38,
   "id": "d8016c2f",
   "metadata": {},
   "outputs": [
    {
     "data": {
      "text/plain": [
       "[3, 4, 5, 6, 7, 9]"
      ]
     },
     "execution_count": 38,
     "metadata": {},
     "output_type": "execute_result"
    }
   ],
   "source": [
    "a[3]"
   ]
  },
  {
   "cell_type": "code",
   "execution_count": 39,
   "id": "052ae9ea",
   "metadata": {},
   "outputs": [
    {
     "data": {
      "text/plain": [
       "2"
      ]
     },
     "execution_count": 39,
     "metadata": {},
     "output_type": "execute_result"
    }
   ],
   "source": [
    "a.index(3)"
   ]
  },
  {
   "cell_type": "code",
   "execution_count": 42,
   "id": "067ff1f6",
   "metadata": {},
   "outputs": [
    {
     "data": {
      "text/plain": [
       "5"
      ]
     },
     "execution_count": 42,
     "metadata": {},
     "output_type": "execute_result"
    }
   ],
   "source": [
    "a.index(3, 3)"
   ]
  },
  {
   "cell_type": "markdown",
   "id": "35e7887f",
   "metadata": {},
   "source": [
    "## 리스트 안에서 특정 값 개수 구하기 .count()"
   ]
  },
  {
   "cell_type": "code",
   "execution_count": 43,
   "id": "23970251",
   "metadata": {},
   "outputs": [
    {
     "data": {
      "text/plain": [
       "[1, 2, 3, [3, 4, 5, 6, 7, 9], [4, 5, 6, 7, 8, 9], 3, 5, 7, 8, 9]"
      ]
     },
     "execution_count": 43,
     "metadata": {},
     "output_type": "execute_result"
    }
   ],
   "source": [
    "a"
   ]
  },
  {
   "cell_type": "code",
   "execution_count": 46,
   "id": "c748013d",
   "metadata": {},
   "outputs": [
    {
     "data": {
      "text/plain": [
       "1"
      ]
     },
     "execution_count": 46,
     "metadata": {},
     "output_type": "execute_result"
    }
   ],
   "source": [
    "a[3].count(3)"
   ]
  },
  {
   "cell_type": "markdown",
   "id": "40e18fd6",
   "metadata": {},
   "source": [
    "# 리스트 순서 뒤집기 \n",
    "* reverse(): 실행 즉시 원본 데이터 변경\n",
    "* list reversed(리스트): 재할당을 해야지만 변경\n",
    "* 리스트 [::-1]: 역인덱싱으로 뒤집기"
   ]
  },
  {
   "cell_type": "code",
   "execution_count": 54,
   "id": "7e333905",
   "metadata": {},
   "outputs": [],
   "source": [
    "a.reverse()"
   ]
  },
  {
   "cell_type": "code",
   "execution_count": 55,
   "id": "4276a5df",
   "metadata": {},
   "outputs": [
    {
     "data": {
      "text/plain": [
       "[1, 2, 3, [3, 4, 5, 6, 7, 9], [4, 5, 6, 7, 8, 9], 3, 5, 7, 8, 9]"
      ]
     },
     "execution_count": 55,
     "metadata": {},
     "output_type": "execute_result"
    }
   ],
   "source": [
    "a"
   ]
  },
  {
   "cell_type": "code",
   "execution_count": 49,
   "id": "c4a2c468",
   "metadata": {},
   "outputs": [],
   "source": [
    "a.reverse()"
   ]
  },
  {
   "cell_type": "code",
   "execution_count": 50,
   "id": "3bf1209a",
   "metadata": {},
   "outputs": [
    {
     "data": {
      "text/plain": [
       "[1, 2, 3, [3, 4, 5, 6, 7, 9], [4, 5, 6, 7, 8, 9], 3, 5, 7, 8, 9]"
      ]
     },
     "execution_count": 50,
     "metadata": {},
     "output_type": "execute_result"
    }
   ],
   "source": [
    "a"
   ]
  },
  {
   "cell_type": "code",
   "execution_count": 51,
   "id": "cef69059",
   "metadata": {},
   "outputs": [
    {
     "data": {
      "text/plain": [
       "[9, 8, 7, 5, 3, [4, 5, 6, 7, 8, 9], [3, 4, 5, 6, 7, 9], 3, 2, 1]"
      ]
     },
     "execution_count": 51,
     "metadata": {},
     "output_type": "execute_result"
    }
   ],
   "source": [
    "a[::-1]"
   ]
  },
  {
   "cell_type": "code",
   "execution_count": 52,
   "id": "daf976c7",
   "metadata": {},
   "outputs": [
    {
     "data": {
      "text/plain": [
       "[1, 2, 3, [3, 4, 5, 6, 7, 9], [4, 5, 6, 7, 8, 9], 3, 5, 7, 8, 9]"
      ]
     },
     "execution_count": 52,
     "metadata": {},
     "output_type": "execute_result"
    }
   ],
   "source": [
    "a"
   ]
  },
  {
   "cell_type": "code",
   "execution_count": 56,
   "id": "57c13a9a",
   "metadata": {},
   "outputs": [
    {
     "data": {
      "text/plain": [
       "[1, 2, 3, 4, 5, 6, 7, 8, 9, 10]"
      ]
     },
     "execution_count": 56,
     "metadata": {},
     "output_type": "execute_result"
    }
   ],
   "source": [
    "a = list(range(1,11))\n",
    "a"
   ]
  },
  {
   "cell_type": "code",
   "execution_count": null,
   "id": "45f563ff",
   "metadata": {},
   "outputs": [],
   "source": [
    "for i in reversed(a):\n",
    "    print(i)"
   ]
  },
  {
   "cell_type": "code",
   "execution_count": 60,
   "id": "c3c82ec4",
   "metadata": {},
   "outputs": [
    {
     "data": {
      "text/plain": [
       "[10, 9, 8, 7, 6, 5, 4, 3, 2, 1]"
      ]
     },
     "execution_count": 60,
     "metadata": {},
     "output_type": "execute_result"
    }
   ],
   "source": [
    "list(reversed(a))"
   ]
  },
  {
   "cell_type": "markdown",
   "id": "4befdee6",
   "metadata": {},
   "source": [
    "## 리스트 정렬\n",
    "* .sort(): 오름차순 정렬 - 실행 후 바로 저장\n",
    "* .sort(reverse+True): 내림차순 - 실행 후 바로 저장\n",
    "* sorted(리스트): 오름차순 정렬 - 재할당 필요\n",
    "* sorted(reverse=True): 내림차순 - 재할당 필요"
   ]
  },
  {
   "cell_type": "code",
   "execution_count": 61,
   "id": "3f70fe70",
   "metadata": {},
   "outputs": [
    {
     "data": {
      "text/plain": [
       "[1, 2, 3, 4, 5, 6, 7, 8, 9, 10]"
      ]
     },
     "execution_count": 61,
     "metadata": {},
     "output_type": "execute_result"
    }
   ],
   "source": [
    "a.sort()\n",
    "a"
   ]
  },
  {
   "cell_type": "code",
   "execution_count": 62,
   "id": "856ba67e",
   "metadata": {},
   "outputs": [
    {
     "data": {
      "text/plain": [
       "[10, 9, 8, 7, 6, 5, 4, 3, 2, 1]"
      ]
     },
     "execution_count": 62,
     "metadata": {},
     "output_type": "execute_result"
    }
   ],
   "source": [
    "a.sort(reverse=True)\n",
    "a"
   ]
  },
  {
   "cell_type": "code",
   "execution_count": 64,
   "id": "0873fe43",
   "metadata": {},
   "outputs": [
    {
     "data": {
      "text/plain": [
       "[1, 2, 3, 4, 5, 6, 7, 8, 9, 10]"
      ]
     },
     "execution_count": 64,
     "metadata": {},
     "output_type": "execute_result"
    }
   ],
   "source": [
    "a = sorted(a)\n",
    "a"
   ]
  },
  {
   "cell_type": "code",
   "execution_count": 65,
   "id": "07bd38b4",
   "metadata": {},
   "outputs": [
    {
     "data": {
      "text/plain": [
       "[10, 9, 8, 7, 6, 5, 4, 3, 2, 1]"
      ]
     },
     "execution_count": 65,
     "metadata": {},
     "output_type": "execute_result"
    }
   ],
   "source": [
    "a = sorted(a, reverse=True)\n",
    "a"
   ]
  },
  {
   "cell_type": "code",
   "execution_count": null,
   "id": "7e6d8d7a",
   "metadata": {},
   "outputs": [],
   "source": []
  },
  {
   "cell_type": "markdown",
   "id": "484dfd9d",
   "metadata": {},
   "source": [
    "# 튜플 tuple \n",
    "* 튜플은 리스트처럼 모든 자료형을 넣어서 만들 수 있다.\n",
    "* 순서가 있는 자료형, 인덱스가 있다.\n",
    "* 인덱싱, 슬라이싱 가능\n",
    "* 자료의 추가, 삭제가 안됨\n",
    "* 자료 1개만 넣어서 만들 수 있다. 단, (1,) 형식이어야 한다.\n",
    "* 튜플 생성시 자료가 2개 이상인 경우 () 생략 가능"
   ]
  },
  {
   "cell_type": "code",
   "execution_count": 66,
   "id": "c7131b3e",
   "metadata": {},
   "outputs": [
    {
     "data": {
      "text/plain": [
       "(1,)"
      ]
     },
     "execution_count": 66,
     "metadata": {},
     "output_type": "execute_result"
    }
   ],
   "source": [
    "t = (1,)\n",
    "t"
   ]
  },
  {
   "cell_type": "code",
   "execution_count": 68,
   "id": "486d1899",
   "metadata": {},
   "outputs": [
    {
     "name": "stdout",
     "output_type": "stream",
     "text": [
      "() <class 'tuple'>\n"
     ]
    }
   ],
   "source": [
    "t0 = ()\n",
    "print(t0, type(t0))"
   ]
  },
  {
   "cell_type": "code",
   "execution_count": 70,
   "id": "43882f25",
   "metadata": {},
   "outputs": [],
   "source": [
    "t1 = (1,2,3)\n",
    "t2 = (4,5,6)"
   ]
  },
  {
   "cell_type": "markdown",
   "id": "6fd29e5e",
   "metadata": {},
   "source": [
    "## 튜플 + 튜플 = 두개의 튜플 요소가 하나로 합쳐짐"
   ]
  },
  {
   "cell_type": "code",
   "execution_count": 73,
   "id": "a45ff965",
   "metadata": {},
   "outputs": [
    {
     "data": {
      "text/plain": [
       "(1, 2, 3, 4, 5, 6)"
      ]
     },
     "execution_count": 73,
     "metadata": {},
     "output_type": "execute_result"
    }
   ],
   "source": [
    "t3 = t1 + t2\n",
    "t3"
   ]
  },
  {
   "cell_type": "code",
   "execution_count": 74,
   "id": "3cf87839",
   "metadata": {},
   "outputs": [
    {
     "ename": "TypeError",
     "evalue": "'tuple' object doesn't support item deletion",
     "output_type": "error",
     "traceback": [
      "\u001b[1;31m---------------------------------------------------------------------------\u001b[0m",
      "\u001b[1;31mTypeError\u001b[0m                                 Traceback (most recent call last)",
      "Cell \u001b[1;32mIn[74], line 1\u001b[0m\n\u001b[1;32m----> 1\u001b[0m \u001b[38;5;28;01mdel\u001b[39;00m t3[\u001b[38;5;241m0\u001b[39m]\n",
      "\u001b[1;31mTypeError\u001b[0m: 'tuple' object doesn't support item deletion"
     ]
    }
   ],
   "source": [
    "del t3[0] #삭제 안됨"
   ]
  },
  {
   "cell_type": "code",
   "execution_count": 75,
   "id": "9d4960c1",
   "metadata": {},
   "outputs": [
    {
     "ename": "TypeError",
     "evalue": "'tuple' object does not support item assignment",
     "output_type": "error",
     "traceback": [
      "\u001b[1;31m---------------------------------------------------------------------------\u001b[0m",
      "\u001b[1;31mTypeError\u001b[0m                                 Traceback (most recent call last)",
      "Cell \u001b[1;32mIn[75], line 1\u001b[0m\n\u001b[1;32m----> 1\u001b[0m \u001b[43mt3\u001b[49m\u001b[43m[\u001b[49m\u001b[38;5;241;43m0\u001b[39;49m\u001b[43m]\u001b[49m \u001b[38;5;241m=\u001b[39m \u001b[38;5;241m10\u001b[39m\n",
      "\u001b[1;31mTypeError\u001b[0m: 'tuple' object does not support item assignment"
     ]
    }
   ],
   "source": [
    "t3[0] = 10 # 추가 안됨"
   ]
  },
  {
   "cell_type": "markdown",
   "id": "3d0478dd",
   "metadata": {},
   "source": [
    "## index() 튜플 내에서 특정 값의 인덱스 찾기"
   ]
  },
  {
   "cell_type": "code",
   "execution_count": 76,
   "id": "ed3211ba",
   "metadata": {},
   "outputs": [
    {
     "data": {
      "text/plain": [
       "4"
      ]
     },
     "execution_count": 76,
     "metadata": {},
     "output_type": "execute_result"
    }
   ],
   "source": [
    "t3.index(5)"
   ]
  },
  {
   "cell_type": "markdown",
   "id": "9ee20059",
   "metadata": {},
   "source": [
    "## count() 튜플 내에 특정 값의 갯수 세기 "
   ]
  },
  {
   "cell_type": "code",
   "execution_count": 78,
   "id": "09c02d27",
   "metadata": {},
   "outputs": [],
   "source": [
    "t4 = (1,2,3)"
   ]
  },
  {
   "cell_type": "code",
   "execution_count": 79,
   "id": "69f4f331",
   "metadata": {},
   "outputs": [
    {
     "data": {
      "text/plain": [
       "(1, 2, 3, 4, 5, 6, 1, 2, 3)"
      ]
     },
     "execution_count": 79,
     "metadata": {},
     "output_type": "execute_result"
    }
   ],
   "source": [
    "t3 = t3 + t4\n",
    "t3"
   ]
  },
  {
   "cell_type": "code",
   "execution_count": 80,
   "id": "a470a0d2",
   "metadata": {},
   "outputs": [
    {
     "data": {
      "text/plain": [
       "2"
      ]
     },
     "execution_count": 80,
     "metadata": {},
     "output_type": "execute_result"
    }
   ],
   "source": [
    "t3.count(3)"
   ]
  },
  {
   "cell_type": "markdown",
   "id": "e6d9c60f",
   "metadata": {},
   "source": [
    "## 튜플의 내용을 변경하거나 추가 삭제하고 싶을 때 \n",
    "* list로 형변환 후 자료를 추가, 삭제, 변경하고 다시 tuple로 변환"
   ]
  },
  {
   "cell_type": "code",
   "execution_count": 81,
   "id": "3daf14e4",
   "metadata": {},
   "outputs": [
    {
     "data": {
      "text/plain": [
       "[1, 2, 3, 4, 5, 6, 1, 2, 3]"
      ]
     },
     "execution_count": 81,
     "metadata": {},
     "output_type": "execute_result"
    }
   ],
   "source": [
    "t3 = list(t3)\n",
    "t3"
   ]
  },
  {
   "cell_type": "code",
   "execution_count": 82,
   "id": "d33fb901",
   "metadata": {},
   "outputs": [
    {
     "data": {
      "text/plain": [
       "[10, 2, 3, 4, 5, 6, 1, 2, 3, (1, 2, 3)]"
      ]
     },
     "execution_count": 82,
     "metadata": {},
     "output_type": "execute_result"
    }
   ],
   "source": [
    "t3[0] = 10\n",
    "t3.append((1,2,3))\n",
    "t3"
   ]
  },
  {
   "cell_type": "code",
   "execution_count": 83,
   "id": "3fbb4b55",
   "metadata": {},
   "outputs": [
    {
     "data": {
      "text/plain": [
       "(10, 2, 3, 4, 5, 6, 1, 2, 3, (1, 2, 3))"
      ]
     },
     "execution_count": 83,
     "metadata": {},
     "output_type": "execute_result"
    }
   ],
   "source": [
    "t3 = tuple(t3)\n",
    "t3"
   ]
  },
  {
   "cell_type": "markdown",
   "id": "43d3634e",
   "metadata": {},
   "source": [
    "## 괄호 생략하고 튜플 만들기"
   ]
  },
  {
   "cell_type": "code",
   "execution_count": 84,
   "id": "8ab1fc00",
   "metadata": {},
   "outputs": [
    {
     "data": {
      "text/plain": [
       "('튜플', '괄호없이', '만들기', 1, 2, 3)"
      ]
     },
     "execution_count": 84,
     "metadata": {},
     "output_type": "execute_result"
    }
   ],
   "source": [
    "t5 = \"튜플\", \"괄호없이\", \"만들기\", 1,2,3\n",
    "t5"
   ]
  },
  {
   "cell_type": "markdown",
   "id": "0d8754b6",
   "metadata": {},
   "source": [
    "## 리스트/튜플 곱셈으로 반복하기\n",
    "* 리스트 * 숫자 = 리스트의 안의 요소가 숫자 만큼 복사된다.\n",
    "* 튜플 * 숫자 = 튜플 안의 요소가 숫자 만큼 복사된다."
   ]
  },
  {
   "cell_type": "code",
   "execution_count": 85,
   "id": "312d2bc5",
   "metadata": {},
   "outputs": [
    {
     "data": {
      "text/plain": [
       "'=================================================='"
      ]
     },
     "execution_count": 85,
     "metadata": {},
     "output_type": "execute_result"
    }
   ],
   "source": [
    "\"=\" * 50"
   ]
  },
  {
   "cell_type": "code",
   "execution_count": 86,
   "id": "f626796d",
   "metadata": {},
   "outputs": [
    {
     "data": {
      "text/plain": [
       "[1, 2, 3, 1, 2, 3, 1, 2, 3]"
      ]
     },
     "execution_count": 86,
     "metadata": {},
     "output_type": "execute_result"
    }
   ],
   "source": [
    "a = [1,2,3]\n",
    "a * 3"
   ]
  },
  {
   "cell_type": "code",
   "execution_count": 87,
   "id": "f56ec1bc",
   "metadata": {},
   "outputs": [
    {
     "data": {
      "text/plain": [
       "('튜플',\n",
       " '괄호없이',\n",
       " '만들기',\n",
       " 1,\n",
       " 2,\n",
       " 3,\n",
       " '튜플',\n",
       " '괄호없이',\n",
       " '만들기',\n",
       " 1,\n",
       " 2,\n",
       " 3,\n",
       " '튜플',\n",
       " '괄호없이',\n",
       " '만들기',\n",
       " 1,\n",
       " 2,\n",
       " 3)"
      ]
     },
     "execution_count": 87,
     "metadata": {},
     "output_type": "execute_result"
    }
   ],
   "source": [
    "t5 * 3"
   ]
  },
  {
   "cell_type": "markdown",
   "id": "d1204984",
   "metadata": {},
   "source": [
    "## 리스트/튜플 연산 함수 사용하기\n",
    "* sum():덧셈\n",
    "* max(): 최대값\n",
    "* min():최소값"
   ]
  },
  {
   "cell_type": "code",
   "execution_count": 89,
   "id": "97ac583a",
   "metadata": {},
   "outputs": [],
   "source": [
    "a = list(range(1,51))\n",
    "b = tuple(range(100,50, -1))"
   ]
  },
  {
   "cell_type": "code",
   "execution_count": 90,
   "id": "f32d2361",
   "metadata": {},
   "outputs": [
    {
     "data": {
      "text/plain": [
       "[1,\n",
       " 2,\n",
       " 3,\n",
       " 4,\n",
       " 5,\n",
       " 6,\n",
       " 7,\n",
       " 8,\n",
       " 9,\n",
       " 10,\n",
       " 11,\n",
       " 12,\n",
       " 13,\n",
       " 14,\n",
       " 15,\n",
       " 16,\n",
       " 17,\n",
       " 18,\n",
       " 19,\n",
       " 20,\n",
       " 21,\n",
       " 22,\n",
       " 23,\n",
       " 24,\n",
       " 25,\n",
       " 26,\n",
       " 27,\n",
       " 28,\n",
       " 29,\n",
       " 30,\n",
       " 31,\n",
       " 32,\n",
       " 33,\n",
       " 34,\n",
       " 35,\n",
       " 36,\n",
       " 37,\n",
       " 38,\n",
       " 39,\n",
       " 40,\n",
       " 41,\n",
       " 42,\n",
       " 43,\n",
       " 44,\n",
       " 45,\n",
       " 46,\n",
       " 47,\n",
       " 48,\n",
       " 49,\n",
       " 50]"
      ]
     },
     "execution_count": 90,
     "metadata": {},
     "output_type": "execute_result"
    }
   ],
   "source": [
    "a"
   ]
  },
  {
   "cell_type": "code",
   "execution_count": 91,
   "id": "58b62faa",
   "metadata": {},
   "outputs": [
    {
     "data": {
      "text/plain": [
       "(100,\n",
       " 99,\n",
       " 98,\n",
       " 97,\n",
       " 96,\n",
       " 95,\n",
       " 94,\n",
       " 93,\n",
       " 92,\n",
       " 91,\n",
       " 90,\n",
       " 89,\n",
       " 88,\n",
       " 87,\n",
       " 86,\n",
       " 85,\n",
       " 84,\n",
       " 83,\n",
       " 82,\n",
       " 81,\n",
       " 80,\n",
       " 79,\n",
       " 78,\n",
       " 77,\n",
       " 76,\n",
       " 75,\n",
       " 74,\n",
       " 73,\n",
       " 72,\n",
       " 71,\n",
       " 70,\n",
       " 69,\n",
       " 68,\n",
       " 67,\n",
       " 66,\n",
       " 65,\n",
       " 64,\n",
       " 63,\n",
       " 62,\n",
       " 61,\n",
       " 60,\n",
       " 59,\n",
       " 58,\n",
       " 57,\n",
       " 56,\n",
       " 55,\n",
       " 54,\n",
       " 53,\n",
       " 52,\n",
       " 51)"
      ]
     },
     "execution_count": 91,
     "metadata": {},
     "output_type": "execute_result"
    }
   ],
   "source": [
    "b"
   ]
  },
  {
   "cell_type": "code",
   "execution_count": 92,
   "id": "39a12fbf",
   "metadata": {},
   "outputs": [
    {
     "data": {
      "text/plain": [
       "1275"
      ]
     },
     "execution_count": 92,
     "metadata": {},
     "output_type": "execute_result"
    }
   ],
   "source": [
    "sum(a)"
   ]
  },
  {
   "cell_type": "code",
   "execution_count": 93,
   "id": "3ef3c54f",
   "metadata": {},
   "outputs": [
    {
     "data": {
      "text/plain": [
       "3775"
      ]
     },
     "execution_count": 93,
     "metadata": {},
     "output_type": "execute_result"
    }
   ],
   "source": [
    "sum(b)"
   ]
  },
  {
   "cell_type": "code",
   "execution_count": 94,
   "id": "dd678438",
   "metadata": {},
   "outputs": [
    {
     "data": {
      "text/plain": [
       "50"
      ]
     },
     "execution_count": 94,
     "metadata": {},
     "output_type": "execute_result"
    }
   ],
   "source": [
    "max(a)"
   ]
  },
  {
   "cell_type": "code",
   "execution_count": 95,
   "id": "b4b8e1f0",
   "metadata": {},
   "outputs": [
    {
     "data": {
      "text/plain": [
       "100"
      ]
     },
     "execution_count": 95,
     "metadata": {},
     "output_type": "execute_result"
    }
   ],
   "source": [
    "max(b)"
   ]
  },
  {
   "cell_type": "code",
   "execution_count": 96,
   "id": "306bb02b",
   "metadata": {},
   "outputs": [
    {
     "data": {
      "text/plain": [
       "1"
      ]
     },
     "execution_count": 96,
     "metadata": {},
     "output_type": "execute_result"
    }
   ],
   "source": [
    "min(a)"
   ]
  },
  {
   "cell_type": "code",
   "execution_count": 97,
   "id": "101c25df",
   "metadata": {},
   "outputs": [
    {
     "data": {
      "text/plain": [
       "51"
      ]
     },
     "execution_count": 97,
     "metadata": {},
     "output_type": "execute_result"
    }
   ],
   "source": [
    "min(b)"
   ]
  },
  {
   "cell_type": "markdown",
   "id": "ab4202cc",
   "metadata": {},
   "source": [
    "# 시퀀스 객체(순서가 있는 자료들)\n",
    "* 문자열\n",
    "* list\n",
    "* tuple\n",
    "* 시퀀스 객체는 순서가 있는 자료를 말한다. \n",
    "* 시퀀스 객체는 반복문에서 사용이 가능\n",
    "* 시퀀스 객체 + 시퀀스 객체 = 요소가 하나로 합쳐진다.\n",
    "* 시퀀스 객체 * 숫자 = 요소가 숫자의 배수로 복사 증가한다. \n",
    "* 시퀀스 객체 내의 값은 in, not in 으로 찾을 수 있다. "
   ]
  },
  {
   "cell_type": "code",
   "execution_count": 98,
   "id": "ceed095a",
   "metadata": {},
   "outputs": [
    {
     "data": {
      "text/plain": [
       "'문자열'"
      ]
     },
     "execution_count": 98,
     "metadata": {},
     "output_type": "execute_result"
    }
   ],
   "source": [
    "\"문자\" + \"열\""
   ]
  },
  {
   "cell_type": "code",
   "execution_count": 99,
   "id": "48872892",
   "metadata": {},
   "outputs": [
    {
     "data": {
      "text/plain": [
       "[1, 2, 3, 4, 5, 6]"
      ]
     },
     "execution_count": 99,
     "metadata": {},
     "output_type": "execute_result"
    }
   ],
   "source": [
    "[1,2,3] + [4,5,6]"
   ]
  },
  {
   "cell_type": "code",
   "execution_count": 100,
   "id": "86983ba6",
   "metadata": {},
   "outputs": [
    {
     "data": {
      "text/plain": [
       "(1, 2, 3, 4, 5, 6)"
      ]
     },
     "execution_count": 100,
     "metadata": {},
     "output_type": "execute_result"
    }
   ],
   "source": [
    "(1,2,3) + (4,5,6)"
   ]
  },
  {
   "cell_type": "code",
   "execution_count": 101,
   "id": "26c346b6",
   "metadata": {},
   "outputs": [
    {
     "data": {
      "text/plain": [
       "'=========='"
      ]
     },
     "execution_count": 101,
     "metadata": {},
     "output_type": "execute_result"
    }
   ],
   "source": [
    "\"=\" * 10"
   ]
  },
  {
   "cell_type": "code",
   "execution_count": 102,
   "id": "5310f01e",
   "metadata": {},
   "outputs": [
    {
     "data": {
      "text/plain": [
       "[1, 2, 3, 1, 2, 3, 1, 2, 3]"
      ]
     },
     "execution_count": 102,
     "metadata": {},
     "output_type": "execute_result"
    }
   ],
   "source": [
    "[1,2,3] * 3"
   ]
  },
  {
   "cell_type": "code",
   "execution_count": 104,
   "id": "c6b5e246",
   "metadata": {},
   "outputs": [
    {
     "data": {
      "text/plain": [
       "(1, 2, 3, 1, 2, 3, 1, 2, 3)"
      ]
     },
     "execution_count": 104,
     "metadata": {},
     "output_type": "execute_result"
    }
   ],
   "source": [
    "(1,2,3) * 3"
   ]
  },
  {
   "cell_type": "code",
   "execution_count": 105,
   "id": "e663b150",
   "metadata": {},
   "outputs": [
    {
     "data": {
      "text/plain": [
       "True"
      ]
     },
     "execution_count": 105,
     "metadata": {},
     "output_type": "execute_result"
    }
   ],
   "source": [
    "\"길동이\" in \"홍길동이\""
   ]
  },
  {
   "cell_type": "code",
   "execution_count": 106,
   "id": "eb19d739",
   "metadata": {},
   "outputs": [
    {
     "data": {
      "text/plain": [
       "True"
      ]
     },
     "execution_count": 106,
     "metadata": {},
     "output_type": "execute_result"
    }
   ],
   "source": [
    "3 in [1,2,3]"
   ]
  },
  {
   "cell_type": "code",
   "execution_count": 108,
   "id": "20e0539b",
   "metadata": {},
   "outputs": [
    {
     "data": {
      "text/plain": [
       "False"
      ]
     },
     "execution_count": 108,
     "metadata": {},
     "output_type": "execute_result"
    }
   ],
   "source": [
    "3 not in (1,2,3)"
   ]
  },
  {
   "cell_type": "code",
   "execution_count": 109,
   "id": "cad6d718",
   "metadata": {},
   "outputs": [
    {
     "name": "stdout",
     "output_type": "stream",
     "text": [
      "문\n",
      "자\n",
      "열\n",
      "도\n",
      " \n",
      "시\n",
      "퀀\n",
      "스\n",
      " \n",
      "객\n",
      "체\n",
      "라\n",
      "서\n",
      " \n",
      "반\n",
      "복\n",
      "문\n",
      "에\n",
      "서\n",
      " \n",
      "사\n",
      "용\n",
      "이\n",
      " \n",
      "가\n",
      "능\n",
      "하\n",
      "다\n"
     ]
    }
   ],
   "source": [
    "for i in \"문자열도 시퀀스 객체라서 반복문에서 사용이 가능하다\":\n",
    "    print(i)"
   ]
  },
  {
   "cell_type": "code",
   "execution_count": 110,
   "id": "5538aacc",
   "metadata": {},
   "outputs": [
    {
     "name": "stdout",
     "output_type": "stream",
     "text": [
      "1\n",
      "2\n",
      "3\n",
      "4\n",
      "5\n"
     ]
    }
   ],
   "source": [
    "for i in [1,2,3,4,5]:\n",
    "    print(i)"
   ]
  },
  {
   "cell_type": "code",
   "execution_count": 111,
   "id": "5b977f2b",
   "metadata": {},
   "outputs": [
    {
     "name": "stdout",
     "output_type": "stream",
     "text": [
      "1\n",
      "1\n",
      "2\n",
      "2\n",
      "3\n",
      "3\n",
      "4\n",
      "4\n",
      "5\n",
      "5\n"
     ]
    }
   ],
   "source": [
    "for i, j in zip((1,2,3,4,5), [1,2,3,4,5]):\n",
    "    print(i)\n",
    "    print(j)"
   ]
  },
  {
   "cell_type": "code",
   "execution_count": null,
   "id": "10bc945d",
   "metadata": {},
   "outputs": [],
   "source": []
  }
 ],
 "metadata": {
  "kernelspec": {
   "display_name": "Python 3 (ipykernel)",
   "language": "python",
   "name": "python3"
  },
  "language_info": {
   "codemirror_mode": {
    "name": "ipython",
    "version": 3
   },
   "file_extension": ".py",
   "mimetype": "text/x-python",
   "name": "python",
   "nbconvert_exporter": "python",
   "pygments_lexer": "ipython3",
   "version": "3.9.23"
  }
 },
 "nbformat": 4,
 "nbformat_minor": 5
}
