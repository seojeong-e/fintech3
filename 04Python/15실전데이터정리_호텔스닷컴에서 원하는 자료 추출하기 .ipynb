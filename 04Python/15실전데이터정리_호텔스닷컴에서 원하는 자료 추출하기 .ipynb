{
 "cells": [
  {
   "cell_type": "markdown",
   "id": "1cb8f01c",
   "metadata": {},
   "source": [
    "# 호텔스닷컴에서 추출한 원본데이터에서 자료추출하기\n",
    "* 호텔정보테이블 \n",
    "* 각 호텔의 사용자 리뷰 정보 테이블"
   ]
  },
  {
   "cell_type": "code",
   "execution_count": 1,
   "id": "72684924",
   "metadata": {},
   "outputs": [],
   "source": [
    "import json"
   ]
  },
  {
   "cell_type": "code",
   "execution_count": 2,
   "id": "c1b297f2",
   "metadata": {},
   "outputs": [],
   "source": [
    "with open(\"./data/hotels_korea_reviews_text.json\", encoding=\"utf-8\") as file:\n",
    "    temp = file.read()\n",
    "    data = json.loads(temp)"
   ]
  },
  {
   "cell_type": "code",
   "execution_count": 3,
   "id": "43debaf0",
   "metadata": {},
   "outputs": [
    {
     "data": {
      "text/plain": [
       "9027"
      ]
     },
     "execution_count": 3,
     "metadata": {},
     "output_type": "execute_result"
    }
   ],
   "source": [
    "len(data)"
   ]
  },
  {
   "cell_type": "markdown",
   "id": "f38f7506",
   "metadata": {},
   "source": [
    "### 호텔 기본정보 데이터"
   ]
  },
  {
   "cell_type": "code",
   "execution_count": 62,
   "id": "2ba765e7",
   "metadata": {},
   "outputs": [
    {
     "name": "stdout",
     "output_type": "stream",
     "text": [
      "1041793024\n"
     ]
    }
   ],
   "source": [
    "#호텔ID\n",
    "hotel_id = data[2]['data']['body']['pdpHeader']['hotelId']\n",
    "print(hotel_id)"
   ]
  },
  {
   "cell_type": "code",
   "execution_count": 61,
   "id": "9e2be214",
   "metadata": {},
   "outputs": [
    {
     "name": "stdout",
     "output_type": "stream",
     "text": [
      "상상속의집\n"
     ]
    }
   ],
   "source": [
    "#호텔 이름\n",
    "hotel_name = data[1]['data']['body']['breadcrumb'][-1]['label']\n",
    "print(hotel_name)"
   ]
  },
  {
   "cell_type": "code",
   "execution_count": 25,
   "id": "99cd99c3",
   "metadata": {},
   "outputs": [
    {
     "name": "stdout",
     "output_type": "stream",
     "text": [
      "3성급\n"
     ]
    }
   ],
   "source": [
    "#호텔 등급\n",
    "hotel_level = data[0]['data']['body']['propertyDescription']['starRatingTitle']\n",
    "print(hotel_level)"
   ]
  },
  {
   "cell_type": "code",
   "execution_count": 38,
   "id": "6c4e8bfd",
   "metadata": {},
   "outputs": [],
   "source": [
    "reviews_data = data[1]['data']['body']['reviewContent']"
   ]
  },
  {
   "cell_type": "code",
   "execution_count": 39,
   "id": "0338de44",
   "metadata": {
    "scrolled": false
   },
   "outputs": [
    {
     "name": "stdout",
     "output_type": "stream",
     "text": [
      "dict_keys(['guestFilter', 'filters', 'overall', 'sort', 'pagination', 'reviews', 'navigation'])\n"
     ]
    }
   ],
   "source": [
    "print(reviews_data.keys())"
   ]
  },
  {
   "cell_type": "code",
   "execution_count": 42,
   "id": "df669a0a",
   "metadata": {},
   "outputs": [],
   "source": [
    "#총리뷰수\n",
    "reviews_groups = data[1]['data']['body']['reviewContent']['reviews']['hermes']['groups']"
   ]
  },
  {
   "cell_type": "code",
   "execution_count": 43,
   "id": "9d529943",
   "metadata": {},
   "outputs": [
    {
     "name": "stdout",
     "output_type": "stream",
     "text": [
      "17\n"
     ]
    }
   ],
   "source": [
    "total_reviews = sum(len(group['items']) for group in reviews_groups)\n",
    "print(total_reviews)"
   ]
  },
  {
   "cell_type": "code",
   "execution_count": 48,
   "id": "362028f2",
   "metadata": {},
   "outputs": [
    {
     "name": "stdout",
     "output_type": "stream",
     "text": [
      "10.0\n"
     ]
    }
   ],
   "source": [
    "#평점\n",
    "rating = data[1]['data']['body']['reviewContent']['reviews']['hermes']['groups'][0]['items'][3]['rating']\n",
    "print(rating)"
   ]
  },
  {
   "cell_type": "code",
   "execution_count": 49,
   "id": "a67ff05f",
   "metadata": {},
   "outputs": [
    {
     "name": "stdout",
     "output_type": "stream",
     "text": [
      "dict_keys(['pageType', 'pdpHeader', 'breadcrumb', 'welcomeRewards', 'propertyDescription', 'featuredPrice', 'topQueryFormCtaText', 'query', 'reviewContent', 'phoneNumbers', 'miscellaneous'])\n"
     ]
    }
   ],
   "source": [
    "print(data[1]['data']['body'].keys()) "
   ]
  },
  {
   "cell_type": "code",
   "execution_count": 52,
   "id": "292b5245",
   "metadata": {},
   "outputs": [
    {
     "name": "stdout",
     "output_type": "stream",
     "text": [
      "cleanliness:8.0\n",
      "service:7.6\n",
      "comfort:8.2\n",
      "condition:7.8\n",
      "neighbourhood:8.2\n"
     ]
    }
   ],
   "source": [
    "#세부평점(청결도,서비스,편안함,상태,주변)\n",
    "aspect = data[1]['data']['body']['reviewContent']['overall']['ratingAspects']\n",
    "\n",
    "for aspect, score in aspect.items():\n",
    "    print(f\"{aspect}:{score}\")"
   ]
  },
  {
   "cell_type": "code",
   "execution_count": 54,
   "id": "1a8bb24e",
   "metadata": {},
   "outputs": [
    {
     "name": "stdout",
     "output_type": "stream",
     "text": [
      "한국\n"
     ]
    }
   ],
   "source": [
    "#지역\n",
    "location = data[1]['data']['body']['propertyDescription']['address']['countryName']\n",
    "print(location)"
   ]
  },
  {
   "cell_type": "code",
   "execution_count": 58,
   "id": "ed9543d9",
   "metadata": {},
   "outputs": [
    {
     "name": "stdout",
     "output_type": "stream",
     "text": [
      "거제시\n"
     ]
    }
   ],
   "source": [
    "#시도\n",
    "#시\n",
    "locality = data[1]['data']['body']['propertyDescription']['address']['locality']\n",
    "print(locality)"
   ]
  },
  {
   "cell_type": "code",
   "execution_count": 59,
   "id": "7d22bfcc",
   "metadata": {},
   "outputs": [
    {
     "name": "stdout",
     "output_type": "stream",
     "text": [
      "경상남도\n"
     ]
    }
   ],
   "source": [
    "#도\n",
    "region = data[1]['data']['body']['propertyDescription']['address']['region']\n",
    "print(region)"
   ]
  },
  {
   "cell_type": "code",
   "execution_count": null,
   "id": "f11a2087",
   "metadata": {},
   "outputs": [],
   "source": []
  },
  {
   "cell_type": "code",
   "execution_count": 60,
   "id": "e3ea2e3a",
   "metadata": {},
   "outputs": [],
   "source": [
    "import csv"
   ]
  },
  {
   "cell_type": "code",
   "execution_count": 66,
   "id": "9cfaef4d",
   "metadata": {},
   "outputs": [],
   "source": [
    "hotels_list = [\n",
    "    {\n",
    "        \"hotel_id\": 1041793024,\n",
    "        \"hotel_name\": \"상상속의집\",\n",
    "        \"hotel_level\": 3.0,\n",
    "        \"total_reviews\":17,\n",
    "        \"rating\": 10.0,\n",
    "        \"aspect\":{\n",
    "            \"cleanliness\":8.0,\n",
    "            \"service\":7.6,\n",
    "            \"comfort\":8.2,\n",
    "            \"condition\":7.8,\n",
    "            \"neighbourhood\":8.2\n",
    "            \n",
    "        },\n",
    "        \"location\": \"한국\",\n",
    "        \"locality\": \"거제시\"\n",
    "    }\n",
    "]"
   ]
  },
  {
   "cell_type": "code",
   "execution_count": 69,
   "id": "90dba261",
   "metadata": {},
   "outputs": [],
   "source": [
    "with open(\"hotels.csv\", \"w\", newline=\"\", encoding=\"utf-8-sig\")as file:\n",
    "    writer = csv.writer(file)\n",
    "    \n",
    "    writer.writerow([\n",
    "         \"호텔ID\", \"호텔 이름\", \"호텔 등급\", \"총리뷰수\", \"평점\",\n",
    "         \"청결도\", \"서비스\", \"편안함\", \"상태\", \"주변\", \"국가\", \"시도\"\n",
    "    ])\n",
    "    \n",
    "    for hotel in hotels_list:\n",
    "        writer.writerow([\n",
    "            hotel[\"hotel_id\"],\n",
    "            hotel[\"hotel_name\"],\n",
    "            hotel[\"hotel_level\"],\n",
    "            hotel[\"total_reviews\"],\n",
    "            hotel[\"rating\"],\n",
    "            hotel[\"aspect\"][\"cleanliness\"],\n",
    "            hotel[\"aspect\"][\"service\"],\n",
    "            hotel[\"aspect\"][\"comfort\"],\n",
    "            hotel[\"aspect\"][\"condition\"],\n",
    "            hotel[\"aspect\"][\"neighbourhood\"],\n",
    "            hotel[\"location\"],\n",
    "            hotel[\"locality\"]\n",
    "        ])"
   ]
  },
  {
   "cell_type": "code",
   "execution_count": 70,
   "id": "016bcf2d",
   "metadata": {},
   "outputs": [],
   "source": [
    "import pandas as pd"
   ]
  },
  {
   "cell_type": "code",
   "execution_count": 71,
   "id": "17963949",
   "metadata": {},
   "outputs": [
    {
     "data": {
      "text/html": [
       "<div>\n",
       "<style scoped>\n",
       "    .dataframe tbody tr th:only-of-type {\n",
       "        vertical-align: middle;\n",
       "    }\n",
       "\n",
       "    .dataframe tbody tr th {\n",
       "        vertical-align: top;\n",
       "    }\n",
       "\n",
       "    .dataframe thead th {\n",
       "        text-align: right;\n",
       "    }\n",
       "</style>\n",
       "<table border=\"1\" class=\"dataframe\">\n",
       "  <thead>\n",
       "    <tr style=\"text-align: right;\">\n",
       "      <th></th>\n",
       "      <th>호텔ID</th>\n",
       "      <th>호텔 이름</th>\n",
       "      <th>호텔 등급</th>\n",
       "      <th>총리뷰수</th>\n",
       "      <th>평점</th>\n",
       "      <th>청결도</th>\n",
       "      <th>서비스</th>\n",
       "      <th>편안함</th>\n",
       "      <th>상태</th>\n",
       "      <th>주변</th>\n",
       "      <th>국가</th>\n",
       "      <th>시도</th>\n",
       "    </tr>\n",
       "  </thead>\n",
       "  <tbody>\n",
       "    <tr>\n",
       "      <th>0</th>\n",
       "      <td>1041793024</td>\n",
       "      <td>상상속의집</td>\n",
       "      <td>3.0</td>\n",
       "      <td>17</td>\n",
       "      <td>10.0</td>\n",
       "      <td>8.0</td>\n",
       "      <td>7.6</td>\n",
       "      <td>8.2</td>\n",
       "      <td>7.8</td>\n",
       "      <td>8.2</td>\n",
       "      <td>한국</td>\n",
       "      <td>거제시</td>\n",
       "    </tr>\n",
       "  </tbody>\n",
       "</table>\n",
       "</div>"
      ],
      "text/plain": [
       "         호텔ID  호텔 이름  호텔 등급  총리뷰수    평점  청결도  서비스  편안함   상태   주변  국가   시도\n",
       "0  1041793024  상상속의집    3.0    17  10.0  8.0  7.6  8.2  7.8  8.2  한국  거제시"
      ]
     },
     "execution_count": 71,
     "metadata": {},
     "output_type": "execute_result"
    }
   ],
   "source": [
    "df = pd.read_csv(\"hotels.csv\", encoding=\"utf-8-sig\")\n",
    "df"
   ]
  },
  {
   "cell_type": "code",
   "execution_count": null,
   "id": "e03823de",
   "metadata": {},
   "outputs": [],
   "source": []
  },
  {
   "cell_type": "markdown",
   "id": "a0d4757f",
   "metadata": {},
   "source": [
    "### 호텔사용자리뷰 수집하기"
   ]
  },
  {
   "cell_type": "code",
   "execution_count": 72,
   "id": "5ed8d5b2",
   "metadata": {},
   "outputs": [
    {
     "name": "stdout",
     "output_type": "stream",
     "text": [
      "589827\n"
     ]
    }
   ],
   "source": [
    "#호텔 ID\n",
    "hotel_id = data[3]['data']['body']['pdpHeader']['hotelId']\n",
    "print(hotel_id)"
   ]
  },
  {
   "cell_type": "code",
   "execution_count": 73,
   "id": "c989b490",
   "metadata": {},
   "outputs": [
    {
     "name": "stdout",
     "output_type": "stream",
     "text": [
      "2020년 4월 28일\n"
     ]
    }
   ],
   "source": [
    "#리뷰일\n",
    "review_date = data[1]['data']['body']['reviewContent']['reviews']['hermes']['groups'][0]['items'][2]['reviewDate']\n",
    "print(review_date)"
   ]
  },
  {
   "cell_type": "code",
   "execution_count": 74,
   "id": "599abc7b",
   "metadata": {},
   "outputs": [
    {
     "name": "stdout",
     "output_type": "stream",
     "text": [
      "9195736582903\n"
     ]
    }
   ],
   "source": [
    "#고객 ID\n",
    "customer_id = data[1]['data']['body']['reviewContent']['reviews']['hermes']['groups'][0]['items'][2]['itineraryId']\n",
    "print(customer_id)"
   ]
  },
  {
   "cell_type": "code",
   "execution_count": 75,
   "id": "7926a10c",
   "metadata": {},
   "outputs": [
    {
     "name": "stdout",
     "output_type": "stream",
     "text": [
      "family\n"
     ]
    }
   ],
   "source": [
    "#여행타입\n",
    "trip_type = data[1]['data']['body']['reviewContent']['reviews']['hermes']['groups'][0]['items'][2]['tripType']\n",
    "print(trip_type)"
   ]
  },
  {
   "cell_type": "code",
   "execution_count": 76,
   "id": "2573a4a0",
   "metadata": {},
   "outputs": [
    {
     "name": "stdout",
     "output_type": "stream",
     "text": [
      "8.0\n"
     ]
    }
   ],
   "source": [
    "#평점\n",
    "rating = data[1]['data']['body']['reviewContent']['reviews']['hermes']['groups'][0]['items'][2]['rating']\n",
    "print(rating)"
   ]
  },
  {
   "cell_type": "code",
   "execution_count": 85,
   "id": "26ef2499",
   "metadata": {},
   "outputs": [],
   "source": [
    "#리뷰 텍스트\n",
    "first_review_txt = data[1]['data']['body']['reviewContent']['reviews']['hermes']['groups'][0]['items']"
   ]
  },
  {
   "cell_type": "code",
   "execution_count": 87,
   "id": "9379110d",
   "metadata": {},
   "outputs": [
    {
     "name": "stdout",
     "output_type": "stream",
     "text": [
      "\n"
     ]
    }
   ],
   "source": [
    "first_review_txt = reviews[0]['description']\n",
    "print(first_review_txt)  "
   ]
  },
  {
   "cell_type": "code",
   "execution_count": null,
   "id": "0309b637",
   "metadata": {},
   "outputs": [],
   "source": []
  },
  {
   "cell_type": "code",
   "execution_count": null,
   "id": "475ca03b",
   "metadata": {},
   "outputs": [],
   "source": []
  },
  {
   "cell_type": "code",
   "execution_count": null,
   "id": "fda89d2b",
   "metadata": {},
   "outputs": [],
   "source": []
  },
  {
   "cell_type": "code",
   "execution_count": null,
   "id": "9e23a3a4",
   "metadata": {},
   "outputs": [],
   "source": []
  },
  {
   "cell_type": "code",
   "execution_count": null,
   "id": "38982bab",
   "metadata": {},
   "outputs": [],
   "source": []
  },
  {
   "cell_type": "code",
   "execution_count": null,
   "id": "05894cdc",
   "metadata": {},
   "outputs": [],
   "source": []
  },
  {
   "cell_type": "code",
   "execution_count": null,
   "id": "7a347705",
   "metadata": {},
   "outputs": [],
   "source": []
  },
  {
   "cell_type": "code",
   "execution_count": null,
   "id": "abd9c807",
   "metadata": {},
   "outputs": [],
   "source": []
  },
  {
   "cell_type": "code",
   "execution_count": null,
   "id": "b7353ba0",
   "metadata": {},
   "outputs": [],
   "source": []
  },
  {
   "cell_type": "code",
   "execution_count": null,
   "id": "221c2b34",
   "metadata": {},
   "outputs": [],
   "source": []
  },
  {
   "cell_type": "code",
   "execution_count": null,
   "id": "886fc5d6",
   "metadata": {},
   "outputs": [],
   "source": []
  },
  {
   "cell_type": "code",
   "execution_count": null,
   "id": "818250e3",
   "metadata": {},
   "outputs": [],
   "source": []
  },
  {
   "cell_type": "code",
   "execution_count": null,
   "id": "a86ce6af",
   "metadata": {},
   "outputs": [],
   "source": []
  },
  {
   "cell_type": "code",
   "execution_count": null,
   "id": "ae6e491e",
   "metadata": {},
   "outputs": [],
   "source": []
  },
  {
   "cell_type": "code",
   "execution_count": null,
   "id": "c398a19a",
   "metadata": {},
   "outputs": [],
   "source": []
  },
  {
   "cell_type": "code",
   "execution_count": null,
   "id": "605fa150",
   "metadata": {},
   "outputs": [],
   "source": []
  },
  {
   "cell_type": "code",
   "execution_count": null,
   "id": "453b39b3",
   "metadata": {},
   "outputs": [],
   "source": []
  },
  {
   "cell_type": "code",
   "execution_count": null,
   "id": "22a5610d",
   "metadata": {},
   "outputs": [],
   "source": []
  },
  {
   "cell_type": "code",
   "execution_count": null,
   "id": "98484cbf",
   "metadata": {},
   "outputs": [],
   "source": []
  },
  {
   "cell_type": "code",
   "execution_count": null,
   "id": "01da8ec6",
   "metadata": {},
   "outputs": [],
   "source": []
  },
  {
   "cell_type": "code",
   "execution_count": null,
   "id": "c3565dff",
   "metadata": {},
   "outputs": [],
   "source": []
  },
  {
   "cell_type": "code",
   "execution_count": null,
   "id": "a7f8200f",
   "metadata": {},
   "outputs": [],
   "source": []
  },
  {
   "cell_type": "code",
   "execution_count": null,
   "id": "61c02a1c",
   "metadata": {},
   "outputs": [],
   "source": []
  },
  {
   "cell_type": "code",
   "execution_count": null,
   "id": "384ff68a",
   "metadata": {},
   "outputs": [],
   "source": []
  },
  {
   "cell_type": "code",
   "execution_count": null,
   "id": "c549a3c2",
   "metadata": {},
   "outputs": [],
   "source": []
  },
  {
   "cell_type": "code",
   "execution_count": null,
   "id": "8631ff0d",
   "metadata": {},
   "outputs": [],
   "source": []
  },
  {
   "cell_type": "code",
   "execution_count": null,
   "id": "856e6245",
   "metadata": {},
   "outputs": [],
   "source": []
  },
  {
   "cell_type": "code",
   "execution_count": null,
   "id": "d4051731",
   "metadata": {},
   "outputs": [],
   "source": []
  },
  {
   "cell_type": "code",
   "execution_count": null,
   "id": "4e8ad882",
   "metadata": {},
   "outputs": [],
   "source": []
  }
 ],
 "metadata": {
  "kernelspec": {
   "display_name": "Python 3 (ipykernel)",
   "language": "python",
   "name": "python3"
  },
  "language_info": {
   "codemirror_mode": {
    "name": "ipython",
    "version": 3
   },
   "file_extension": ".py",
   "mimetype": "text/x-python",
   "name": "python",
   "nbconvert_exporter": "python",
   "pygments_lexer": "ipython3",
   "version": "3.9.23"
  }
 },
 "nbformat": 4,
 "nbformat_minor": 5
}
