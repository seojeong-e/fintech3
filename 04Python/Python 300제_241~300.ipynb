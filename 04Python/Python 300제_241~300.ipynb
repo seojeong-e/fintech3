{
 "cells": [
  {
   "cell_type": "markdown",
   "id": "7d583f1b",
   "metadata": {},
   "source": [
    "## 241~250"
   ]
  },
  {
   "cell_type": "code",
   "execution_count": 1,
   "id": "cd9a0759",
   "metadata": {},
   "outputs": [],
   "source": [
    "from datetime import datetime"
   ]
  },
  {
   "cell_type": "code",
   "execution_count": 2,
   "id": "31ee9b17",
   "metadata": {},
   "outputs": [
    {
     "data": {
      "text/plain": [
       "datetime.datetime(2025, 10, 13, 16, 41, 39, 190553)"
      ]
     },
     "execution_count": 2,
     "metadata": {},
     "output_type": "execute_result"
    }
   ],
   "source": [
    "datetime.now()"
   ]
  },
  {
   "cell_type": "code",
   "execution_count": 3,
   "id": "a626e52c",
   "metadata": {},
   "outputs": [
    {
     "name": "stdout",
     "output_type": "stream",
     "text": [
      "2025-10-13 16:42:09.480101\n"
     ]
    }
   ],
   "source": [
    "now = datetime.now()\n",
    "print(now)"
   ]
  },
  {
   "cell_type": "code",
   "execution_count": 4,
   "id": "1f3c11b9",
   "metadata": {},
   "outputs": [
    {
     "name": "stdout",
     "output_type": "stream",
     "text": [
      "<class 'datetime.datetime'>\n"
     ]
    }
   ],
   "source": [
    "print(type(now))"
   ]
  },
  {
   "cell_type": "code",
   "execution_count": 7,
   "id": "f5617e60",
   "metadata": {},
   "outputs": [],
   "source": [
    "now = datetime.now()"
   ]
  },
  {
   "cell_type": "code",
   "execution_count": 10,
   "id": "2c34bdcf",
   "metadata": {},
   "outputs": [
    {
     "ename": "AttributeError",
     "evalue": "type object 'datetime.datetime' has no attribute 'timedelta'",
     "output_type": "error",
     "traceback": [
      "\u001b[1;31m---------------------------------------------------------------------------\u001b[0m",
      "\u001b[1;31mAttributeError\u001b[0m                            Traceback (most recent call last)",
      "Cell \u001b[1;32mIn[10], line 2\u001b[0m\n\u001b[0;32m      1\u001b[0m \u001b[38;5;28;01mfor\u001b[39;00m day \u001b[38;5;129;01min\u001b[39;00m \u001b[38;5;28mrange\u001b[39m(\u001b[38;5;241m5\u001b[39m, \u001b[38;5;241m0\u001b[39m, \u001b[38;5;241m-\u001b[39m\u001b[38;5;241m1\u001b[39m):\n\u001b[1;32m----> 2\u001b[0m     delta \u001b[38;5;241m=\u001b[39m \u001b[43mdatetime\u001b[49m\u001b[38;5;241;43m.\u001b[39;49m\u001b[43mtimedelta\u001b[49m(days\u001b[38;5;241m=\u001b[39mday)\n\u001b[0;32m      3\u001b[0m     date \u001b[38;5;241m=\u001b[39m now \u001b[38;5;241m-\u001b[39m delta\n\u001b[0;32m      4\u001b[0m     \u001b[38;5;28mprint\u001b[39m(date)\n",
      "\u001b[1;31mAttributeError\u001b[0m: type object 'datetime.datetime' has no attribute 'timedelta'"
     ]
    }
   ],
   "source": [
    "for day in range(5, 0, -1):\n",
    "    delta = datetime.timedelta(days=day)\n",
    "    date = now - delta\n",
    "    print(date)"
   ]
  },
  {
   "cell_type": "code",
   "execution_count": null,
   "id": "58a0eda0",
   "metadata": {},
   "outputs": [],
   "source": []
  },
  {
   "cell_type": "code",
   "execution_count": null,
   "id": "69e86630",
   "metadata": {},
   "outputs": [],
   "source": []
  },
  {
   "cell_type": "code",
   "execution_count": null,
   "id": "94b30bad",
   "metadata": {},
   "outputs": [],
   "source": []
  },
  {
   "cell_type": "code",
   "execution_count": null,
   "id": "a68b8092",
   "metadata": {},
   "outputs": [],
   "source": []
  },
  {
   "cell_type": "code",
   "execution_count": null,
   "id": "368cdc09",
   "metadata": {},
   "outputs": [],
   "source": []
  },
  {
   "cell_type": "code",
   "execution_count": null,
   "id": "a2de2376",
   "metadata": {},
   "outputs": [],
   "source": []
  },
  {
   "cell_type": "code",
   "execution_count": null,
   "id": "e1c5e667",
   "metadata": {},
   "outputs": [],
   "source": []
  },
  {
   "cell_type": "code",
   "execution_count": null,
   "id": "6d97a780",
   "metadata": {},
   "outputs": [],
   "source": []
  },
  {
   "cell_type": "markdown",
   "id": "424a99e0",
   "metadata": {},
   "source": [
    "## 251~260"
   ]
  },
  {
   "cell_type": "code",
   "execution_count": 29,
   "id": "a47ec855",
   "metadata": {},
   "outputs": [],
   "source": [
    "# 클래스 : 객체지향 프로그래밍, 코드를 재사용하는데 특화, 여러 사람이 이용할 때 같은 코드를 독립적으로 사용 가능캡슐화, 상속, 다형성 같은 개념 사용\n",
    "# 일종의 설계도, 하나의 타입을 정의하는 방법\n",
    "# 클래스로 만들어진 결과물 => 객체\n",
    "# 속성과 매서드를 갖고 있지 않다.\n",
    "\n",
    "# 클래스 : 설계도(도면)\n",
    "# 객체(Object, 인스턴스): 설계도로 만든 실제 물건"
   ]
  },
  {
   "cell_type": "code",
   "execution_count": 1,
   "id": "df34bca8",
   "metadata": {},
   "outputs": [],
   "source": [
    "class Human:\n",
    "    pass"
   ]
  },
  {
   "cell_type": "code",
   "execution_count": 2,
   "id": "b2bc4d17",
   "metadata": {},
   "outputs": [],
   "source": [
    "class Human():\n",
    "    pass\n",
    "\n",
    "areum = Human()"
   ]
  },
  {
   "cell_type": "code",
   "execution_count": 4,
   "id": "48d3f1a2",
   "metadata": {},
   "outputs": [
    {
     "name": "stdout",
     "output_type": "stream",
     "text": [
      "응애응애\n"
     ]
    }
   ],
   "source": [
    "class Human():\n",
    "    def __init__(self):\n",
    "        print(\"응애응애\")\n",
    "\n",
    "areum = Human()"
   ]
  },
  {
   "cell_type": "code",
   "execution_count": 9,
   "id": "bb363266",
   "metadata": {},
   "outputs": [],
   "source": [
    "class Human():\n",
    "    def __init__(self, name, age, sex):\n",
    "        self.name = name\n",
    "        self.age = age\n",
    "        self.sex = sex\n",
    "\n",
    "areum = Human(\"아름\", 25, \"여자\")"
   ]
  },
  {
   "cell_type": "code",
   "execution_count": 10,
   "id": "fe6bb24b",
   "metadata": {},
   "outputs": [
    {
     "name": "stdout",
     "output_type": "stream",
     "text": [
      "아름\n"
     ]
    }
   ],
   "source": [
    "print(areum.name)"
   ]
  },
  {
   "cell_type": "code",
   "execution_count": 11,
   "id": "bb95e642",
   "metadata": {},
   "outputs": [
    {
     "name": "stdout",
     "output_type": "stream",
     "text": [
      "25\n"
     ]
    }
   ],
   "source": [
    "print(areum.age)"
   ]
  },
  {
   "cell_type": "code",
   "execution_count": 12,
   "id": "37fcf802",
   "metadata": {},
   "outputs": [
    {
     "name": "stdout",
     "output_type": "stream",
     "text": [
      "여자\n"
     ]
    }
   ],
   "source": [
    "print(areum.sex)"
   ]
  },
  {
   "cell_type": "code",
   "execution_count": 17,
   "id": "f24d67d1",
   "metadata": {},
   "outputs": [],
   "source": [
    "class Human():\n",
    "    def __init__(self, name, age, sex):\n",
    "        self.name = name\n",
    "        self.age = age\n",
    "        self.sex = sex\n",
    "    \n",
    "    def who(self):\n",
    "        print(\"이름:{} 나이: {} 성별: {}\".format(self.name, self.age, self.sex))\n",
    "\n",
    "areum = Human(\"아름\", 25, \"여자\")"
   ]
  },
  {
   "cell_type": "code",
   "execution_count": 18,
   "id": "be6e2a0e",
   "metadata": {},
   "outputs": [
    {
     "name": "stdout",
     "output_type": "stream",
     "text": [
      "이름:아름 나이: 25 성별: 여자\n"
     ]
    }
   ],
   "source": [
    "areum.who()"
   ]
  },
  {
   "cell_type": "code",
   "execution_count": 24,
   "id": "2209f963",
   "metadata": {},
   "outputs": [
    {
     "name": "stdout",
     "output_type": "stream",
     "text": [
      "이름:불명 나이: 미상 성별: 모름\n",
      "이름:아름 나이: 25 성별: 여자\n"
     ]
    }
   ],
   "source": [
    "class Human():\n",
    "    def __init__(self, name, age, sex):\n",
    "        self.name = name\n",
    "        self.age = age\n",
    "        self.sex = sex\n",
    "    \n",
    "    def who(self):\n",
    "        print(\"이름:{} 나이: {} 성별: {}\".format(self.name, self.age, self.sex))\n",
    "        \n",
    "    def setInfo(self,name,age,sex):\n",
    "        self.name = name\n",
    "        self.age = age\n",
    "        self.sex = sex\n",
    "        \n",
    "areum = Human(\"불명\",\"미상\",\"모름\")\n",
    "areum.who()\n",
    "       \n",
    "areum = Human(\"아름\", 25, \"여자\")\n",
    "areum.who()"
   ]
  },
  {
   "cell_type": "code",
   "execution_count": 25,
   "id": "2b1a245e",
   "metadata": {},
   "outputs": [
    {
     "name": "stdout",
     "output_type": "stream",
     "text": [
      "나의 죽음을 알리지마라\n"
     ]
    }
   ],
   "source": [
    "class Human():\n",
    "    def __init__(self, name, age, sex):\n",
    "        self.name = name\n",
    "        self.age = age\n",
    "        self.sex = sex\n",
    "        \n",
    "    def __del__(self):\n",
    "        print(\"나의 죽음을 알리지마라\")\n",
    "    \n",
    "    def who(self):\n",
    "        print(\"이름:{} 나이: {} 성별: {}\".format(self.name, self.age, self.sex))\n",
    "        \n",
    "    def setInfo(self,name,age,sex):\n",
    "        self.name = name\n",
    "        self.age = age\n",
    "        self.sex = sex\n",
    "        \n",
    "areum = Human(\"아름\", 25, \"여자\")\n",
    "del(areum)"
   ]
  },
  {
   "cell_type": "code",
   "execution_count": 27,
   "id": "69b01c58",
   "metadata": {},
   "outputs": [
    {
     "ename": "TypeError",
     "evalue": "print() takes 0 positional arguments but 1 was given",
     "output_type": "error",
     "traceback": [
      "\u001b[1;31m---------------------------------------------------------------------------\u001b[0m",
      "\u001b[1;31mTypeError\u001b[0m                                 Traceback (most recent call last)",
      "Cell \u001b[1;32mIn[27], line 7\u001b[0m\n\u001b[0;32m      3\u001b[0m         \u001b[38;5;28mprint\u001b[39m(\u001b[38;5;124m\"\u001b[39m\u001b[38;5;124mOh my god\u001b[39m\u001b[38;5;124m\"\u001b[39m)\n\u001b[0;32m      6\u001b[0m mystock \u001b[38;5;241m=\u001b[39m OMG()\n\u001b[1;32m----> 7\u001b[0m \u001b[43mmystock\u001b[49m\u001b[38;5;241;43m.\u001b[39;49m\u001b[43mprint\u001b[49m\u001b[43m(\u001b[49m\u001b[43m)\u001b[49m      \u001b[38;5;66;03m# OMG.print(mystock)\u001b[39;00m\n",
      "\u001b[1;31mTypeError\u001b[0m: print() takes 0 positional arguments but 1 was given"
     ]
    }
   ],
   "source": [
    "class OMG :\n",
    "    def print() :\n",
    "        print(\"Oh my god\")\n",
    "\n",
    "\n",
    "mystock = OMG()\n",
    "mystock.print()      # OMG.print(mystock)"
   ]
  },
  {
   "cell_type": "markdown",
   "id": "48264a89",
   "metadata": {},
   "source": [
    "## 261~270"
   ]
  },
  {
   "cell_type": "code",
   "execution_count": 28,
   "id": "07e801be",
   "metadata": {},
   "outputs": [],
   "source": [
    "class Stock:\n",
    "    pass"
   ]
  },
  {
   "cell_type": "code",
   "execution_count": 30,
   "id": "f637d241",
   "metadata": {},
   "outputs": [],
   "source": [
    "class Stock:\n",
    "    def __init__(self, name, code):\n",
    "        self.name = name\n",
    "        self.code = code\n",
    "        \n",
    "삼성 = Stock(\"삼성전자\", \"005930\")"
   ]
  },
  {
   "cell_type": "code",
   "execution_count": 31,
   "id": "41a92639",
   "metadata": {},
   "outputs": [
    {
     "name": "stdout",
     "output_type": "stream",
     "text": [
      "삼성전자\n",
      "005930\n"
     ]
    }
   ],
   "source": [
    "print(삼성.name)\n",
    "print(삼성.code)\n",
    "\n",
    "# 점을 찍어 객체 내부 값 사용"
   ]
  },
  {
   "cell_type": "code",
   "execution_count": null,
   "id": "91d2d920",
   "metadata": {},
   "outputs": [],
   "source": [
    "# 'Stock'이라는 새로운 클래스 정의 (설계도 만들기)\n",
    "class Stock:\n",
    "    # 생성자 메서드: 객체가 만들어질 때 자동으로 실행\n",
    "    # name과 code라는 값을 받아서 객체 안에 저장해줌\n",
    "    def __init__(self, name, code):\n",
    "        self.name = name   # 객체의 속성(이름)\n",
    "        self.code = code   # 객체의 속성(코드)\n",
    "        \n",
    "\n",
    "# Stock 클래스를 이용해 실제 객체(인스턴스)를 하나 만든다\n",
    "삼성 = Stock(\"삼성전자\", \"005930\") "
   ]
  },
  {
   "cell_type": "code",
   "execution_count": 32,
   "id": "6bd0cffb",
   "metadata": {},
   "outputs": [
    {
     "name": "stdout",
     "output_type": "stream",
     "text": [
      "삼성전자\n"
     ]
    }
   ],
   "source": [
    "#객체에 종목명을 입력할 수 있는 set_name 메서드를 추가해보세요.\n",
    "\n",
    "class Stock:\n",
    "    def __init__(self,name,code):\n",
    "        self.name = name\n",
    "        self.code = code\n",
    "        \n",
    "    def set_name(self,name):\n",
    "        self.name = name\n",
    "        \n",
    "a = Stock(None, None)\n",
    "a.set_name(\"삼성전자\")\n",
    "print(a.name)"
   ]
  },
  {
   "cell_type": "code",
   "execution_count": 33,
   "id": "ee5b5586",
   "metadata": {},
   "outputs": [
    {
     "name": "stdout",
     "output_type": "stream",
     "text": [
      "005930\n"
     ]
    }
   ],
   "source": [
    "# 객체에 종목코드를 입력할 수 있는 set_code 메서드를 추가해보세요.\n",
    "\n",
    "class Stock:\n",
    "    def __init__(self,name,code):\n",
    "        self.name = name\n",
    "        self.code = code\n",
    "        \n",
    "    def set_code(self,code):\n",
    "        self.code = code\n",
    "\n",
    "a = Stock(None, None)\n",
    "a.set_code(\"005930\")\n",
    "print(a.code)"
   ]
  },
  {
   "cell_type": "code",
   "execution_count": 37,
   "id": "5866d775",
   "metadata": {},
   "outputs": [
    {
     "name": "stdout",
     "output_type": "stream",
     "text": [
      "삼성전자\n",
      "005930\n",
      "삼성전자\n",
      "005930\n"
     ]
    }
   ],
   "source": [
    "class Stock:\n",
    "    def __init__(self,name,code):\n",
    "        self.name = name\n",
    "        self.code = code\n",
    "    \n",
    "    def set_name(self,name):\n",
    "        self.name = name\n",
    "        \n",
    "    def set_code(self,code):\n",
    "        self.code = code   \n",
    "        \n",
    "    def get_name(self):\n",
    "        return self.name\n",
    "        \n",
    "    def get_code(self):\n",
    "        return self.code\n",
    "        \n",
    "삼성 = Stock(\"삼성전자\", \"005930\")\n",
    "print(삼성.name)\n",
    "print(삼성.code)\n",
    "print(삼성.get_name())\n",
    "print(삼성.get_code())"
   ]
  },
  {
   "cell_type": "code",
   "execution_count": null,
   "id": "18cc60c8",
   "metadata": {},
   "outputs": [],
   "source": [
    "# Stock이라는 이름의 클래스를 정의\n",
    "class Stock:\n",
    "    def __init__(self, name, code):\n",
    "        self.name = name \n",
    "        self.code = code  \n",
    "    \n",
    "    # set_name : 객체의 name 속성을 바꾸는 메서드\n",
    "    def set_name(self, name):\n",
    "        self.name = name  # self.name에 새로운 name 할당\n",
    "        \n",
    "    # set_code : 객체의 code 속성을 바꾸는 메서드\n",
    "    def set_code(self, code):\n",
    "        self.code = code  # self.code에 새로운 code 할당\n",
    "    \n",
    "    # get_name : 객체의 name 속성 값을 반환(return)하는 메서드\n",
    "    def get_name(self):\n",
    "        return self.name  # self.name(객체의 현재 name) 반환\n",
    "        \n",
    "    # get_code : 객체의 code 속성 값을 반환하는 메서드\n",
    "    def get_code(self):\n",
    "        return self.code  # self.code(객체의 현재 code) 반환\n",
    "\n",
    "# Stock 클래스 객체 생성\n",
    "삼성 = Stock(\"삼성전자\", \"005930\")\n",
    "\n",
    "# 속성 직접 접근\n",
    "print(삼성.name)  \n",
    "print(삼성.code) \n",
    "\n",
    "# 메서드를 이용해서 접근(get_name()이라는 함수를 통해 값을 가져옴)\n",
    "print(삼성.get_name()) \n",
    "print(삼성.get_code())  "
   ]
  },
  {
   "cell_type": "markdown",
   "id": "a7f090ce",
   "metadata": {},
   "source": [
    "* 객체의 속성값 업데이트"
   ]
  },
  {
   "cell_type": "code",
   "execution_count": 42,
   "id": "da8982ac",
   "metadata": {},
   "outputs": [],
   "source": [
    "class Stock:\n",
    "    def __init__(self,name,code,per,pbr,배당수익률):\n",
    "        self.name = name\n",
    "        self.code = code\n",
    "        self.per = per\n",
    "        self.pbr = pbr\n",
    "        self.배당수익률 = 배당수익률\n",
    "    \n",
    "    def set_name(self,name):\n",
    "        self.name = name\n",
    "        \n",
    "    def set_code(self,code):\n",
    "        self.code = code   \n",
    "        \n",
    "    def get_name(self):\n",
    "        return self.name\n",
    "        \n",
    "    def get_code(self):\n",
    "        return self.code"
   ]
  },
  {
   "cell_type": "code",
   "execution_count": 43,
   "id": "8706c810",
   "metadata": {},
   "outputs": [],
   "source": [
    "삼성 = Stock(\"삼성전자\", \"005930\", 15.79, 1.33, 2.83)"
   ]
  },
  {
   "cell_type": "code",
   "execution_count": 44,
   "id": "dfdcbb6c",
   "metadata": {},
   "outputs": [
    {
     "name": "stdout",
     "output_type": "stream",
     "text": [
      "2.83\n"
     ]
    }
   ],
   "source": [
    "print(삼성.배당수익률)"
   ]
  },
  {
   "cell_type": "code",
   "execution_count": 45,
   "id": "c84e1885",
   "metadata": {},
   "outputs": [],
   "source": [
    "class Stock:\n",
    "    def __init__(self,name,code,per,pbr, dividend):\n",
    "        self.name = name\n",
    "        self.code = code\n",
    "        self.per = per\n",
    "        self.pbr = pbr\n",
    "        self.dividend = dividend\n",
    "    \n",
    "    def set_name(self,name):\n",
    "        self.name = name\n",
    "        \n",
    "    def set_code(self,code):\n",
    "        self.code = code   \n",
    "        \n",
    "    def get_name(self):\n",
    "        return self.name\n",
    "        \n",
    "    def get_code(self):\n",
    "        return self.code\n",
    "    \n",
    "    def set_per(self,per):\n",
    "        self.per = per\n",
    "        \n",
    "    def set_pbr(self,pbr):\n",
    "        self.pbr = pbr\n",
    "        \n",
    "    def set_dividend(self,dividend):\n",
    "        self.dividend = dividend"
   ]
  },
  {
   "cell_type": "code",
   "execution_count": 46,
   "id": "e85a1031",
   "metadata": {},
   "outputs": [],
   "source": [
    "삼성 = Stock(\"삼성전자\", \"005930\", 15.79, 1.33, 2.83)\n",
    "삼성.set_per(12.75)"
   ]
  },
  {
   "cell_type": "code",
   "execution_count": 47,
   "id": "408bcdc2",
   "metadata": {},
   "outputs": [
    {
     "name": "stdout",
     "output_type": "stream",
     "text": [
      "12.75\n"
     ]
    }
   ],
   "source": [
    "print(삼성.per)"
   ]
  },
  {
   "cell_type": "code",
   "execution_count": 48,
   "id": "0044ba89",
   "metadata": {},
   "outputs": [
    {
     "name": "stdout",
     "output_type": "stream",
     "text": [
      "005930 15.79\n",
      "005380 8.7\n",
      "066570 317.34\n"
     ]
    }
   ],
   "source": [
    "종목 = [] # 주식 종목들 담을 공간 만들어주고,\n",
    "\n",
    "삼성 = Stock(\"삼성전자\", \"005930\", 15.79, 1.33, 2.83)\n",
    "현대차 = Stock(\"현대차\", \"005380\", 8.70, 0.35, 4.27)\n",
    "LG전자 = Stock(\"LG전자\", \"066570\", 317.34, 0.69, 1.37)\n",
    "\n",
    "종목.append(삼성)\n",
    "종목.append(현대차)\n",
    "종목.append(LG전자)\n",
    "\n",
    "for i in 종목: #리스트에 있는 객체들을 하나씩 꺼내서 반복하는 거!\n",
    "    print(i.code, i.per) # 각 객체의 코드 속성과 per 속성 출력함"
   ]
  },
  {
   "cell_type": "markdown",
   "id": "657c3fea",
   "metadata": {},
   "source": [
    "## 271~280"
   ]
  },
  {
   "cell_type": "code",
   "execution_count": 2,
   "id": "b62bbb6d",
   "metadata": {},
   "outputs": [
    {
     "name": "stdout",
     "output_type": "stream",
     "text": [
      "신서정\n",
      "100\n",
      "sc은행\n",
      "259-40-519742\n"
     ]
    }
   ],
   "source": [
    "import random\n",
    "\n",
    "class Account:\n",
    "    def __init__(self, name, balance):\n",
    "        self.name = name\n",
    "        self.balance = balance\n",
    "        self.bank = \"sc은행\"\n",
    "        num1 = random.randint(0, 999)\n",
    "        num2 = random.randint(0, 99)\n",
    "        num3 = random.randint(0, 999999)\n",
    "        \n",
    "        num1 = str(num1).zfill(3)\n",
    "        num2 = str(num2).zfill(2)\n",
    "        num3 = str(num3).zfill(6)\n",
    "        self.account_number = num1 + '-' + num2 +'-' + num3\n",
    "\n",
    "shin = Account(\"신서정\", 100)\n",
    "print(shin.name)\n",
    "print(shin.balance)\n",
    "print(shin.bank)\n",
    "print(shin.account_number)"
   ]
  },
  {
   "cell_type": "code",
   "execution_count": 4,
   "id": "4bd5e811",
   "metadata": {},
   "outputs": [
    {
     "name": "stdout",
     "output_type": "stream",
     "text": [
      "신서정\n",
      "100\n",
      "sc은행\n",
      "126-51-971033\n"
     ]
    }
   ],
   "source": [
    "import random\n",
    "\n",
    "class Account:\n",
    "    account_count= 0\n",
    "    \n",
    "\n",
    "    def __init__(self, name, balance):\n",
    "        self.name = name\n",
    "        self.balance = balance\n",
    "        self.bank = \"sc은행\"\n",
    "        num1 = random.randint(0, 999)\n",
    "        num2 = random.randint(0, 99)\n",
    "        num3 = random.randint(0, 999999)\n",
    "        \n",
    "        num1 = str(num1).zfill(3)\n",
    "        num2 = str(num2).zfill(2)\n",
    "        num3 = str(num3).zfill(6)\n",
    "        self.account_number = num1 + '-' + num2 +'-' + num3\n",
    "        \n",
    "        Account.account_count += 1\n",
    "\n",
    "shin = Account(\"신서정\", 100)\n",
    "print(shin.name)\n",
    "print(shin.balance)\n",
    "print(shin.bank)\n",
    "print(shin.account_number)"
   ]
  },
  {
   "cell_type": "code",
   "execution_count": 5,
   "id": "e412033a",
   "metadata": {},
   "outputs": [
    {
     "name": "stdout",
     "output_type": "stream",
     "text": [
      "2\n"
     ]
    }
   ],
   "source": [
    "# Account 클래스로부터 생성된 계좌의 수를 출력하는 get_account_num() 매서드 추가 \n",
    "\n",
    "import random\n",
    "\n",
    "class Account:\n",
    "    account_count= 0\n",
    "    \n",
    "\n",
    "    def __init__(self, name, balance):\n",
    "        self.name = name\n",
    "        self.balance = balance\n",
    "        self.bank = \"sc은행\"\n",
    "        num1 = random.randint(0, 999)\n",
    "        num2 = random.randint(0, 99)\n",
    "        num3 = random.randint(0, 999999)\n",
    "        \n",
    "        num1 = str(num1).zfill(3)\n",
    "        num2 = str(num2).zfill(2)\n",
    "        num3 = str(num3).zfill(6)\n",
    "        self.account_number = num1 + '-' + num2 +'-' + num3\n",
    "        \n",
    "        Account.account_count += 1\n",
    "        \n",
    "    def get_account_num(cls):\n",
    "        print(cls.account_count)\n",
    "\n",
    "shin = Account(\"신서정\", 100)\n",
    "lee = Account(\"이민수\", 100)\n",
    "shin.get_account_num()"
   ]
  },
  {
   "cell_type": "code",
   "execution_count": 7,
   "id": "4e4c1b8d",
   "metadata": {},
   "outputs": [],
   "source": [
    "# account 클래스에 입금을 위한 deposit 메서드 추가(입금은 최소 1원 이상 가능)\n",
    "\n",
    "import random\n",
    "\n",
    "class Account:\n",
    "    account_count= 0\n",
    "    \n",
    "\n",
    "    def __init__(self, name, balance):\n",
    "        self.name = name\n",
    "        self.balance = balance\n",
    "        self.bank = \"sc은행\"\n",
    "        num1 = random.randint(0, 999)\n",
    "        num2 = random.randint(0, 99)\n",
    "        num3 = random.randint(0, 999999)\n",
    "        \n",
    "        num1 = str(num1).zfill(3)\n",
    "        num2 = str(num2).zfill(2)\n",
    "        num3 = str(num3).zfill(6)\n",
    "        self.account_number = num1 + '-' + num2 +'-' + num3\n",
    "        \n",
    "        Account.account_count += 1\n",
    "        \n",
    "    def get_account_num(cls):\n",
    "        print(cls.account_count)\n",
    "        \n",
    "    def deposit(self, amount):\n",
    "        if amount >= 1:\n",
    "            self.balance + amount"
   ]
  },
  {
   "cell_type": "code",
   "execution_count": 9,
   "id": "e0a98d11",
   "metadata": {},
   "outputs": [
    {
     "name": "stdout",
     "output_type": "stream",
     "text": [
      "10\n"
     ]
    }
   ],
   "source": [
    "# Account 클래스에 출금을 위한 withdraw 메서드를 추가\n",
    "# 출금은 계좌의 잔고 이상으로 출금할 수는 없다\n",
    "\n",
    "import random\n",
    "\n",
    "class Account:\n",
    "    account_count= 0\n",
    "    \n",
    "\n",
    "    def __init__(self, name, balance):\n",
    "        self.name = name\n",
    "        self.balance = balance\n",
    "        self.bank = \"sc은행\"\n",
    "        num1 = random.randint(0, 999)\n",
    "        num2 = random.randint(0, 99)\n",
    "        num3 = random.randint(0, 999999)\n",
    "        \n",
    "        num1 = str(num1).zfill(3)\n",
    "        num2 = str(num2).zfill(2)\n",
    "        num3 = str(num3).zfill(6)\n",
    "        self.account_number = num1 + '-' + num2 +'-' + num3\n",
    "        \n",
    "        Account.account_count += 1\n",
    "        \n",
    "    def get_account_num(cls):\n",
    "        print(cls.account_count)\n",
    "        \n",
    "    def deposit(self, amount):\n",
    "        if amount >= 1:\n",
    "            self.balance + amount\n",
    "    \n",
    "    def withdraw(self, amount):\n",
    "        if self.balance > amount:\n",
    "            self.balance -= amount\n",
    "            \n",
    "k = Account(\"shin\", 100)\n",
    "k.deposit(100)\n",
    "k.withdraw(90)\n",
    "print(k.balance)"
   ]
  },
  {
   "cell_type": "code",
   "execution_count": 13,
   "id": "9a2a327d",
   "metadata": {},
   "outputs": [
    {
     "name": "stdout",
     "output_type": "stream",
     "text": [
      "은행이름:  sc은행\n",
      "예금주:  파이썬\n",
      "계좌번호:  440-07-879410\n",
      "잔고: 10,000\n"
     ]
    }
   ],
   "source": [
    "#Account 인스턴스에 저장된 정보를 출력하는 display_info() 메서드를 추가\n",
    "#잔고는 세자리마다 쉼표를 출력\n",
    "\n",
    "import random\n",
    "\n",
    "class Account:\n",
    "    account_count= 0\n",
    "    \n",
    "\n",
    "    def __init__(self, name, balance):\n",
    "        self.name = name\n",
    "        self.balance = balance\n",
    "        self.bank = \"sc은행\"\n",
    "        num1 = random.randint(0, 999)\n",
    "        num2 = random.randint(0, 99)\n",
    "        num3 = random.randint(0, 999999)\n",
    "        \n",
    "        num1 = str(num1).zfill(3)\n",
    "        num2 = str(num2).zfill(2)\n",
    "        num3 = str(num3).zfill(6)\n",
    "        self.account_number = num1 + '-' + num2 +'-' + num3\n",
    "        Account.account_count += 1\n",
    "\n",
    "#classmethod \n",
    "    def get_account_num(cls):\n",
    "        print(cls.account_count)\n",
    "        \n",
    "    def deposit(self, amount):\n",
    "         if amount >= 1:\n",
    "            self.balance += amount\n",
    "\n",
    "            self.deposit_count += 1\n",
    "            if self.deposit_count % 5 == 0:\n",
    "                self.balance = self.balance \n",
    "                \n",
    "    def withdraw(self, amount):\n",
    "        if self.balance >= amount:\n",
    "            self.balance -= amount\n",
    "            \n",
    "    def display_info(self):\n",
    "        print(\"은행이름: \", self.bank)\n",
    "        print(\"예금주: \", self.name)\n",
    "        print(\"계좌번호: \", self.account_number)\n",
    "        print(\"잔고:\", f\"{self.balance:,}\")\n",
    "            \n",
    "p = Account(\"파이썬\", 10000)\n",
    "p.display_info()"
   ]
  },
  {
   "cell_type": "code",
   "execution_count": 17,
   "id": "cd3703f6",
   "metadata": {},
   "outputs": [
    {
     "name": "stdout",
     "output_type": "stream",
     "text": [
      "50500.0\n"
     ]
    }
   ],
   "source": [
    "# 입금 횟수가 5회가 될 때 잔고를 기준으로 1%의 이자가 잔고에 추가되도록 코드 변경\n",
    "\n",
    "import random\n",
    "\n",
    "\n",
    "class Account:\n",
    "    # class variable\n",
    "    account_count = 0\n",
    "\n",
    "    def __init__(self, name, balance):\n",
    "        self.deposit_count = 0\n",
    "\n",
    "        self.name = name\n",
    "        self.balance = balance\n",
    "        self.bank = \"SC은행\"\n",
    "\n",
    "        # 3-2-6\n",
    "        num1 = random.randint(0, 999)\n",
    "        num2 = random.randint(0, 99)\n",
    "        num3 = random.randint(0, 999999)\n",
    "\n",
    "        num1 = str(num1).zfill(3)  \n",
    "        num2 = str(num2).zfill(2)\n",
    "        num3 = str(num3).zfill(6)  \n",
    "        self.account_number = num1 + '-' + num2 + '-' + num3 \n",
    "        Account.account_count += 1\n",
    "\n",
    "#classmethod   \n",
    "    def get_account_num(cls):\n",
    "        print(cls.account_count)  \n",
    "    def deposit(self, amount):\n",
    "        if amount >= 1:\n",
    "            self.balance += amount\n",
    "\n",
    "            self.deposit_count += 1\n",
    "            if self.deposit_count % 5 == 0:        \n",
    "                self.balance = (self.balance * 1.01)\n",
    "\n",
    "\n",
    "    def withdraw(self, amount):\n",
    "        if self.balance > amount:\n",
    "            self.balance -= amount\n",
    "\n",
    "    def display_info(self):\n",
    "        print(\"은행이름: \", self.bank)\n",
    "        print(\"예금주: \", self.name)\n",
    "        print(\"계좌번호: \", self.account_number)\n",
    "        print(\"잔고: \", self.balance)\n",
    "\n",
    "p = Account(\"파이썬\", 10000)\n",
    "p.deposit(10000)\n",
    "p.deposit(10000)\n",
    "p.deposit(10000)\n",
    "p.deposit(5000)\n",
    "p.deposit(5000)\n",
    "print(p.balance)"
   ]
  },
  {
   "cell_type": "code",
   "execution_count": 27,
   "id": "dd8572be",
   "metadata": {},
   "outputs": [
    {
     "name": "stdout",
     "output_type": "stream",
     "text": [
      "[<__main__.Account object at 0x000001B9B150CDC0>, <__main__.Account object at 0x000001B9B150CC10>, <__main__.Account object at 0x000001B9B15BF400>]\n"
     ]
    }
   ],
   "source": [
    "# 인스턴스 3개 이상 생성, 리스트에 저장\n",
    "\n",
    "import random\n",
    "\n",
    "\n",
    "class Account:\n",
    "    account_count = 0\n",
    "\n",
    "    def __init__(self, name, balance):\n",
    "        self.deposit_count = 0\n",
    "\n",
    "        self.name = name\n",
    "        self.balance = balance\n",
    "        self.bank = \"SC은행\"\n",
    "\n",
    "        num1 = random.randint(0, 999)\n",
    "        num2 = random.randint(0, 99)\n",
    "        num3 = random.randint(0, 999999)\n",
    "\n",
    "        num1 = str(num1).zfill(3)  \n",
    "        num2 = str(num2).zfill(2)  \n",
    "        num3 = str(num3).zfill(6) \n",
    "        self.account_number = num1 + '-' + num2 + '-' + num3  \n",
    "        Account.account_count += 1\n",
    "\n",
    "#classmethod\n",
    "    def get_account_num(cls):\n",
    "        print(cls.account_count)  \n",
    "\n",
    "    def deposit(self, amount):\n",
    "        if amount >= 1:\n",
    "            self.balance += amount\n",
    "\n",
    "            self.deposit_count += 1\n",
    "            if self.deposit_count % 5 == 0:       \n",
    "                self.balance = (self.balance * 1.01)\n",
    "\n",
    "\n",
    "    def withdraw(self, amount):\n",
    "        if self.balance > amount:\n",
    "            self.balance -= amount\n",
    "\n",
    "    def display_info(self):\n",
    "        print(\"은행이름: \", self.bank)\n",
    "        print(\"예금주: \", self.name)\n",
    "        print(\"계좌번호: \", self.account_number)\n",
    "        print(\"잔고: \", self.balance)\n",
    "\n",
    "data = []\n",
    "s = Account(\"SHIN\", 10000000)\n",
    "l = Account(\"LEE\", 10000)\n",
    "p = Account(\"PARK\", 10000)\n",
    "\n",
    "data.append(s)\n",
    "data.append(l)\n",
    "data.append(p)\n",
    "\n",
    "print(data)"
   ]
  },
  {
   "cell_type": "code",
   "execution_count": 26,
   "id": "35ebb940",
   "metadata": {},
   "outputs": [
    {
     "name": "stdout",
     "output_type": "stream",
     "text": [
      "은행이름:  SC은행\n",
      "예금주:  SHIN\n",
      "계좌번호:  841-76-253829\n",
      "잔고:  10000000\n"
     ]
    }
   ],
   "source": [
    "# 반복문 활용\n",
    "# 리스트에 있는 객체를 순회하면서 잔고가 100만원 이상인 고객의 정보만 출력\n",
    "\n",
    "import random\n",
    "\n",
    "class Account:\n",
    "    account_count = 0\n",
    "\n",
    "    def __init__(self, name, balance):\n",
    "        self.deposit_count = 0\n",
    "\n",
    "        self.name = name\n",
    "        self.balance = balance\n",
    "        self.bank = \"SC은행\"\n",
    "\n",
    "        # 3-2-6\n",
    "        num1 = random.randint(0, 999)\n",
    "        num2 = random.randint(0, 99)\n",
    "        num3 = random.randint(0, 999999)\n",
    "\n",
    "        num1 = str(num1).zfill(3)  \n",
    "        num2 = str(num2).zfill(2)  \n",
    "        num3 = str(num3).zfill(6)  \n",
    "        self.account_number = num1 + '-' + num2 + '-' + num3 \n",
    "        Account.account_count += 1\n",
    "\n",
    "#classmethod\n",
    "    def get_account_num(cls):\n",
    "        print(cls.account_count)  \n",
    "\n",
    "    def deposit(self, amount):\n",
    "        if amount >= 1:\n",
    "            self.balance += amount\n",
    "\n",
    "            self.deposit_count += 1\n",
    "            if self.deposit_count % 5 == 0:         \n",
    "                self.balance = (self.balance * 1.01)\n",
    "\n",
    "\n",
    "    def withdraw(self, amount):\n",
    "        if self.balance > amount:\n",
    "            self.balance -= amount\n",
    "\n",
    "    def display_info(self):\n",
    "        print(\"은행이름: \", self.bank)\n",
    "        print(\"예금주: \", self.name)\n",
    "        print(\"계좌번호: \", self.account_number)\n",
    "        print(\"잔고: \", self.balance)\n",
    "\n",
    "data = []\n",
    "s = Account(\"SHIN\", 10000000)\n",
    "l = Account(\"LEE\", 10000)\n",
    "p = Account(\"PARK\", 10000)\n",
    "data.append(s)\n",
    "data.append(l)\n",
    "data.append(p)\n",
    "\n",
    "for c in data:\n",
    "    if c.balance >= 1000000:\n",
    "        c.display_info()"
   ]
  },
  {
   "cell_type": "code",
   "execution_count": 28,
   "id": "d536640f",
   "metadata": {},
   "outputs": [
    {
     "name": "stdout",
     "output_type": "stream",
     "text": [
      "100\n",
      "200\n",
      "300\n",
      "100\n",
      "200\n"
     ]
    }
   ],
   "source": [
    "# 입금과 출금 내역이 기록되도록 코드 업데이트\n",
    "# deposit_history, withdraw_history 메서드 추가\n",
    "\n",
    "import random\n",
    "\n",
    "\n",
    "class Account:\n",
    "    account_count = 0\n",
    "\n",
    "    def __init__(self, name, balance):\n",
    "        self.deposit_count = 0\n",
    "        self.deposit_log = []\n",
    "        self.withdraw_log = []\n",
    "\n",
    "        self.name = name\n",
    "        self.balance = balance\n",
    "        self.bank = \"SC은행\"\n",
    "\n",
    "        # 3-2-6\n",
    "        num1 = random.randint(0, 999)\n",
    "        num2 = random.randint(0, 99)\n",
    "        num3 = random.randint(0, 999999)\n",
    "\n",
    "        num1 = str(num1).zfill(3) \n",
    "        num2 = str(num2).zfill(2) \n",
    "        num3 = str(num3).zfill(6)  \n",
    "        self.account_number = num1 + '-' + num2 + '-' + num3 \n",
    "        Account.account_count += 1\n",
    "\n",
    "#classmethod\n",
    "    def get_account_num(cls):\n",
    "        print(cls.account_count) \n",
    "\n",
    "    def deposit(self, amount):\n",
    "        if amount >= 1:\n",
    "            self.deposit_log.append(amount)\n",
    "            self.balance += amount\n",
    "\n",
    "            self.deposit_count += 1\n",
    "            if self.deposit_count % 5 == 0:         \n",
    "                self.balance = (self.balance * 1.01)\n",
    "\n",
    "\n",
    "    def withdraw(self, amount):\n",
    "        if self.balance > amount:\n",
    "            self.withdraw_log.append(amount)\n",
    "            self.balance -= amount\n",
    "\n",
    "    def display_info(self):\n",
    "        print(\"은행이름: \", self.bank)\n",
    "        print(\"예금주: \", self.name)\n",
    "        print(\"계좌번호: \", self.account_number)\n",
    "        print(\"잔고: \", self.balance)\n",
    "\n",
    "    def withdraw_history(self):\n",
    "        for amount in self.withdraw_log:\n",
    "            print(amount)\n",
    "\n",
    "    def deposit_history(self):\n",
    "        for amount in self.deposit_log:\n",
    "            print(amount)\n",
    "\n",
    "\n",
    "k = Account(\"Shin\", 1000)\n",
    "k.deposit(100)\n",
    "k.deposit(200)\n",
    "k.deposit(300)\n",
    "k.deposit_history()\n",
    "\n",
    "k.withdraw(100)\n",
    "k.withdraw(200)\n",
    "k.withdraw_history()"
   ]
  },
  {
   "cell_type": "markdown",
   "id": "ca8a7779",
   "metadata": {},
   "source": [
    "## 281~290"
   ]
  },
  {
   "cell_type": "code",
   "execution_count": 29,
   "id": "006aac9a",
   "metadata": {},
   "outputs": [
    {
     "name": "stdout",
     "output_type": "stream",
     "text": [
      "2\n",
      "1000\n"
     ]
    }
   ],
   "source": [
    "class 차:\n",
    "    def __init__(self,바퀴,가격):\n",
    "        self.바퀴 = 바퀴\n",
    "        self.가격 = 가격\n",
    "        \n",
    "car = 차(2, 1000)\n",
    "print(car.바퀴)\n",
    "print(car.가격)"
   ]
  },
  {
   "cell_type": "code",
   "execution_count": 30,
   "id": "55747766",
   "metadata": {},
   "outputs": [],
   "source": [
    "class 차:\n",
    "    def __init__(self,바퀴,가격):\n",
    "        self.바퀴 = 바퀴\n",
    "        self.가격 = 가격\n",
    "\n",
    "class 자전차(차):\n",
    "    pass"
   ]
  },
  {
   "cell_type": "code",
   "execution_count": 32,
   "id": "2c6f041a",
   "metadata": {},
   "outputs": [
    {
     "name": "stdout",
     "output_type": "stream",
     "text": [
      "100\n"
     ]
    }
   ],
   "source": [
    "class 차:\n",
    "    def __init__(self,바퀴,가격):\n",
    "        self.바퀴 = 바퀴\n",
    "        self.가격 = 가격\n",
    "\n",
    "class 자전차(차):\n",
    "    def __init__(self,바퀴,가격):\n",
    "        self.바퀴 = 바퀴\n",
    "        self.가격 = 가격\n",
    "        \n",
    "bicycle = 자전차(2, 100)\n",
    "print(bicycle.가격)"
   ]
  },
  {
   "cell_type": "code",
   "execution_count": 33,
   "id": "d6787068",
   "metadata": {},
   "outputs": [
    {
     "name": "stdout",
     "output_type": "stream",
     "text": [
      "시마노\n"
     ]
    }
   ],
   "source": [
    "class 차:\n",
    "    def __init__(self,바퀴,가격):\n",
    "        self.바퀴 = 바퀴\n",
    "        self.가격 = 가격\n",
    "\n",
    "class 자전차(차):\n",
    "    def __init__(self,바퀴,가격,구동계):\n",
    "        self.바퀴 = 바퀴\n",
    "        self.가격 = 가격\n",
    "        self.구동계  = 구동계\n",
    "        \n",
    "bicycle = 자전차(2, 100, \"시마노\")\n",
    "print(bicycle.구동계)"
   ]
  },
  {
   "cell_type": "code",
   "execution_count": 38,
   "id": "35ba900c",
   "metadata": {},
   "outputs": [
    {
     "name": "stdout",
     "output_type": "stream",
     "text": [
      "바퀴수 4\n",
      "가격 1000\n"
     ]
    }
   ],
   "source": [
    "class 차:\n",
    "    def __init__(self,바퀴,가격):\n",
    "        self.바퀴 = 바퀴\n",
    "        self.가격 = 가격\n",
    "\n",
    "class 자동차(차):\n",
    "    def __init__(self,바퀴,가격):\n",
    "        self.바퀴 = 바퀴\n",
    "        self.가격 = 가격\n",
    "\n",
    "    def 정보(self):\n",
    "        print(\"바퀴수\", self.바퀴)\n",
    "        print(\"가격\", self.가격)\n",
    "        \n",
    "car = 자동차(4, 1000)\n",
    "car.정보()"
   ]
  },
  {
   "cell_type": "code",
   "execution_count": 39,
   "id": "30a2a790",
   "metadata": {},
   "outputs": [
    {
     "name": "stdout",
     "output_type": "stream",
     "text": [
      "바퀴수  4\n",
      "가격  1000\n"
     ]
    }
   ],
   "source": [
    "# 정답\n",
    "class 차:\n",
    "    def __init__(self, 바퀴, 가격):\n",
    "        self.바퀴 = 바퀴\n",
    "        self.가격 = 가격\n",
    "\n",
    "\n",
    "class 자동차(차):\n",
    "    def __init__(self, 바퀴, 가격):\n",
    "        super().__init__(바퀴, 가격)\n",
    "        # super -> 부모 클래스(차)를 의미\n",
    "        # 부모 클래스의 __init__호출\n",
    "        # 부모가 가진 속성(바퀴, 가격) 초기화\n",
    "        \n",
    "    def 정보(self):\n",
    "        print(\"바퀴수 \", self.바퀴)\n",
    "        print(\"가격 \", self.가격)\n",
    "\n",
    "\n",
    "car = 자동차(4, 1000)\n",
    "car.정보()"
   ]
  },
  {
   "cell_type": "code",
   "execution_count": 40,
   "id": "791c4787",
   "metadata": {},
   "outputs": [
    {
     "name": "stdout",
     "output_type": "stream",
     "text": [
      "바퀴수  2\n",
      "가격  100\n"
     ]
    }
   ],
   "source": [
    "class 차:\n",
    "    def __init__(self,바퀴,가격):\n",
    "        self.바퀴 = 바퀴\n",
    "        self.가격 = 가격\n",
    "        \n",
    "    def 정보(self):\n",
    "        print(\"바퀴수 \", self.바퀴)\n",
    "        print(\"가격 \", self.가격)\n",
    "        \n",
    "class 자동차(차):\n",
    "    def __init__(self, 바퀴, 가격):\n",
    "        super().__init__(바퀴, 가격)\n",
    "\n",
    "class 자전차(차):\n",
    "    def __init__(self,바퀴,가격,구동계):\n",
    "        super().__init__(바퀴, 가격)\n",
    "        self.구동계  = 구동계\n",
    "        \n",
    "bicycle = 자전차(2, 100, \"시마노\")\n",
    "bicycle.정보()"
   ]
  },
  {
   "cell_type": "code",
   "execution_count": 55,
   "id": "afa7cddf",
   "metadata": {},
   "outputs": [
    {
     "name": "stdout",
     "output_type": "stream",
     "text": [
      "바퀴수  2\n",
      "가격  100\n",
      "구동계 시마노\n"
     ]
    }
   ],
   "source": [
    "class 차:\n",
    "    def __init__(self,바퀴,가격):\n",
    "        self.바퀴 = 바퀴\n",
    "        self.가격 = 가격\n",
    "        \n",
    "    def 정보(self): #객체가 가진 정보 출력하기\n",
    "        print(\"바퀴수 \", self.바퀴)\n",
    "        print(\"가격 \", self.가격)\n",
    "\n",
    "# 자식 클래스1: 자동차\n",
    "class 자동차(차):\n",
    "    def __init__(self, 바퀴, 가격):\n",
    "        super().__init__(바퀴, 가격) #super() -> 부모 클래스(차)의 __init__호출\n",
    "\n",
    "# 자식 클래스2: 자전차\n",
    "class 자전차(차):\n",
    "    def __init__(self,바퀴,가격,구동계):\n",
    "        super().__init__(바퀴, 가격)\n",
    "        self.구동계 = 구동계 #자전차만의 새로운 속성 추가\n",
    "        \n",
    "    def 정보(self):\n",
    "        super().정보() #부모 클래스의 정보()메서드 실행\n",
    "        print(\"구동계\", self.구동계) #자전차만의 추가정보도 출력\n",
    "        \n",
    "bicycle = 자전차(2, 100, \"시마노\") #자전차 객체 생성\n",
    "bicycle.정보()                     #정보 출력"
   ]
  },
  {
   "cell_type": "code",
   "execution_count": 50,
   "id": "cc538a4e",
   "metadata": {},
   "outputs": [
    {
     "name": "stdout",
     "output_type": "stream",
     "text": [
      "자식호출\n"
     ]
    }
   ],
   "source": [
    "#자식호출\n",
    "\n",
    "class 부모:\n",
    "    def 호출(self):\n",
    "        print(\"부모호출\")\n",
    "\n",
    "class 자식(부모):\n",
    "    def 호출(self):\n",
    "        print(\"자식호출\")\n",
    "        \n",
    "나 = 자식()\n",
    "나.호출()"
   ]
  },
  {
   "cell_type": "code",
   "execution_count": 52,
   "id": "dd98fd37",
   "metadata": {},
   "outputs": [
    {
     "name": "stdout",
     "output_type": "stream",
     "text": [
      "자식생성\n"
     ]
    }
   ],
   "source": [
    "#자식생성\n",
    "\n",
    "class 부모:\n",
    "    def __init__(self):\n",
    "        print(\"부모생성\")\n",
    "\n",
    "class 자식(부모):\n",
    "    def __init__(self):\n",
    "        print(\"자식생성\")\n",
    "    \n",
    "나 = 자식()"
   ]
  },
  {
   "cell_type": "code",
   "execution_count": 54,
   "id": "b1eb09a8",
   "metadata": {},
   "outputs": [
    {
     "name": "stdout",
     "output_type": "stream",
     "text": [
      "자식생성\n",
      "부모생성\n"
     ]
    }
   ],
   "source": [
    "# 부모생성\n",
    "# 자식생성\n",
    "\n",
    "class 부모:\n",
    "     def __init__(self):\n",
    "        print(\"부모생성\")\n",
    "\n",
    "class 자식(부모):\n",
    "     def __init__(self):\n",
    "        print(\"자식생성\")\n",
    "        super().__init__() #부모 클래스의 __jnit__호출 !!!!!\n",
    "\n",
    "나 = 자식()"
   ]
  },
  {
   "cell_type": "markdown",
   "id": "3c21156e",
   "metadata": {},
   "source": [
    "## 291~300"
   ]
  },
  {
   "cell_type": "code",
   "execution_count": 57,
   "id": "6c9ee2b1",
   "metadata": {},
   "outputs": [],
   "source": [
    "path = \"C:/Users/Admin/Desktop/매수종목1.txt\"\n",
    "\n",
    "with open(path, \"w\") as f:\n",
    "    f.write(\"005930\\n\")\n",
    "    f.write(\"005380\\n\")\n",
    "    f.write(\"035420\\n\")\n",
    "    f.close()"
   ]
  },
  {
   "cell_type": "code",
   "execution_count": 58,
   "id": "efaa6069",
   "metadata": {},
   "outputs": [],
   "source": [
    "path = \"C:/Users/Admin/Desktop/매수종목2.txt\"\n",
    "\n",
    "with open(path, \"w\") as f:\n",
    "    f.write(\"005930 삼성전자\\n\")\n",
    "    f.write(\"005380 현대차\\n\")\n",
    "    f.write(\"035420 NAVER\\n\")\n",
    "    f.close()"
   ]
  },
  {
   "cell_type": "code",
   "execution_count": 67,
   "id": "7690f6d9",
   "metadata": {},
   "outputs": [],
   "source": [
    "# csv 파일 쓰기 \n",
    "# 인코딩은 cp949\n",
    "\n",
    "import csv\n",
    "\n",
    "path = \"C:/Users/Admin/Desktop/매수종목.csv\"\n",
    "\n",
    "with open(path, \"w\", encoding=\"cp949\", newline='') as f: #newline='' 줄바꿈 문제 방지\n",
    "    writer = csv.writer(f)                             #csv 작성 객체 생성\n",
    "    writer.writerow([\"종목명\", \"종목코드\", \"PER\"])\n",
    "    writer.writerow([\"삼성전자\", \"005930\", 15.59])\n",
    "    writer.writerow([\"NAVER\", \"035420\", 55.82])\n",
    "    f.close()"
   ]
  },
  {
   "cell_type": "code",
   "execution_count": 68,
   "id": "7ee31dc4",
   "metadata": {},
   "outputs": [
    {
     "name": "stdout",
     "output_type": "stream",
     "text": [
      "['005930', '005380', '035420']\n"
     ]
    }
   ],
   "source": [
    "# 파일 읽기\n",
    "\n",
    "f = open(\"C:/Users/Admin/Desktop/매수종목1.txt\", encoding=\"utf-8\")\n",
    "lines = f.readlines() # 파일 전체를 한 줄씩 읽어서 리스트로 변환\n",
    "\n",
    "codes = []\n",
    "for line in lines:\n",
    "    code = line.strip() #줄바꿈 문자 제거\n",
    "    codes.append(code)  #리스트에 추가 !\n",
    "    \n",
    "print(codes)\n",
    "\n",
    "f.close()"
   ]
  },
  {
   "cell_type": "code",
   "execution_count": 74,
   "id": "e290e433",
   "metadata": {},
   "outputs": [
    {
     "name": "stdout",
     "output_type": "stream",
     "text": [
      "{'005930': '삼성전자', '005380': '현대차', '035420': 'NAVER'}\n"
     ]
    }
   ],
   "source": [
    "# 파일 읽기\n",
    "# 종목명을 key, value로 저장\n",
    "\n",
    "f = open(\"C:/Users/Admin/Desktop/매수종목2.txt\", encoding=\"cp949\")\n",
    "lines = f.readlines()\n",
    "\n",
    "data = {}\n",
    "for line in lines:\n",
    "    line = line.strip()    \n",
    "    k, v = line.split() #공백 기준으로 두 부분 나눔\n",
    "    data[k] = v         #딕셔너리에 저장\n",
    "\n",
    "print(data)\n",
    "f.close()"
   ]
  },
  {
   "cell_type": "code",
   "execution_count": 75,
   "id": "24b2d727",
   "metadata": {},
   "outputs": [
    {
     "name": "stdout",
     "output_type": "stream",
     "text": [
      "10.31\n",
      "0\n",
      "8.0\n"
     ]
    }
   ],
   "source": [
    "#예외처리\n",
    "\n",
    "per = [\"10.31\", \"\", \"8.00\"]\n",
    "\n",
    "for i in per:\n",
    "    try:\n",
    "        print(float(i))   # 문자열을 실수로 변환 시도\n",
    "    except:              # 변환 불가하면 예외 발생\n",
    "        print(0)          # 예외 발생 시 0 출력"
   ]
  },
  {
   "cell_type": "code",
   "execution_count": 76,
   "id": "7e6402e4",
   "metadata": {},
   "outputs": [
    {
     "name": "stdout",
     "output_type": "stream",
     "text": [
      "[10.31, 0, 8.0]\n"
     ]
    }
   ],
   "source": [
    "#예외처리 및 리스트에 저장\n",
    "\n",
    "per = [\"10.31\", \"\", \"8.00\"]\n",
    "new_per = []\n",
    "\n",
    "for i in per:\n",
    "    try:\n",
    "        v = float(i)\n",
    "    except:\n",
    "        v = 0           # 실패시 0 대입\n",
    "    new_per.append(v)   # 리스트에 추가 \n",
    "\n",
    "print(new_per)"
   ]
  },
  {
   "cell_type": "code",
   "execution_count": 77,
   "id": "6c6a6a15",
   "metadata": {},
   "outputs": [
    {
     "name": "stdout",
     "output_type": "stream",
     "text": [
      "0으로 나누면 안됩니다\n"
     ]
    }
   ],
   "source": [
    "# 특정 예외만 처리하기 ***\n",
    "\n",
    "try:\n",
    "    b = 3 / 0\n",
    "except ZeroDivisionError:       \n",
    "    print(\"0으로 나누면 안됩니다\")"
   ]
  },
  {
   "cell_type": "code",
   "execution_count": 78,
   "id": "7117f038",
   "metadata": {},
   "outputs": [
    {
     "name": "stdout",
     "output_type": "stream",
     "text": [
      "1\n",
      "2\n",
      "3\n",
      "list index out of range\n",
      "list index out of range\n"
     ]
    }
   ],
   "source": [
    "#예외의 메시지 출력하기\n",
    "\n",
    "data = [1, 2, 3]\n",
    "\n",
    "for i in range(5):\n",
    "    try:\n",
    "        print(data[i])        # 존재하지 않는 인덱스 접근 시 indexerror 발생\n",
    "    except IndexError as e:  # 발생한 예외 객체 e\n",
    "        print(e)"
   ]
  },
  {
   "cell_type": "code",
   "execution_count": 79,
   "id": "e746ae4c",
   "metadata": {},
   "outputs": [
    {
     "name": "stdout",
     "output_type": "stream",
     "text": [
      "10.31\n",
      "clean data\n",
      "변환 완료\n",
      "0\n",
      "변환 완료\n",
      "8.0\n",
      "clean data\n",
      "변환 완료\n"
     ]
    }
   ],
   "source": [
    "# try, except, else, finally 구조 사용해보기\n",
    "\n",
    "per = [\"10.31\", \"\", \"8.00\"]\n",
    "\n",
    "for i in per:\n",
    "    try:\n",
    "        print(float(i))\n",
    "    except:\n",
    "        print(0)\n",
    "    else:\n",
    "        print(\"clean data\")\n",
    "    finally:\n",
    "        print(\"변환 완료\")      # 항상 실행"
   ]
  },
  {
   "cell_type": "code",
   "execution_count": null,
   "id": "84ff61c2",
   "metadata": {},
   "outputs": [],
   "source": []
  },
  {
   "cell_type": "code",
   "execution_count": 80,
   "id": "fe423342",
   "metadata": {},
   "outputs": [],
   "source": [
    "# \"매수 종목 PER 평균 계산기 + 예외 처리\"\n",
    "# 1.csv 파일 매수종목.csv 에 종목명, 종목코드, PER 데이터 있음\n",
    "# 2.PER 값이 비어있거나 잘못된 경우 -> 0으로 처리\n",
    "# 3.파일 읽어서 PER 평균 계산\n",
    "# 4.예외 처리, finally등 활용"
   ]
  },
  {
   "cell_type": "code",
   "execution_count": 84,
   "id": "cc3e9d37",
   "metadata": {},
   "outputs": [
    {
     "name": "stdout",
     "output_type": "stream",
     "text": [
      "15.59\n",
      "55.82\n",
      "PER 리스트:  [15.59, 55.82]\n",
      "PER 평균:  35.705\n"
     ]
    }
   ],
   "source": [
    "import csv\n",
    "\n",
    "path = \"C:/Users/Admin/Desktop/매수종목.csv\"\n",
    "\n",
    "per_list = []\n",
    "\n",
    "with open(path, encoding='cp949')as f:\n",
    "    reader = csv.reader(f)\n",
    "    next(reader)\n",
    "    \n",
    "    for row in reader:\n",
    "        per = row[2]\n",
    "        try:\n",
    "            value = float(per)\n",
    "            print(float(per))\n",
    "        except:\n",
    "            value = 0\n",
    "        per_list.append(value)\n",
    "        \n",
    "if len(per_list) > 0:\n",
    "    avg_per = sum(per_list) / len(per_list)\n",
    "else:\n",
    "    avg_per = 0\n",
    "    \n",
    "print(\"PER 리스트: \",per_list)\n",
    "print(\"PER 평균: \", avg_per)"
   ]
  },
  {
   "cell_type": "code",
   "execution_count": null,
   "id": "981f2ddd",
   "metadata": {},
   "outputs": [],
   "source": []
  }
 ],
 "metadata": {
  "kernelspec": {
   "display_name": "Python 3 (ipykernel)",
   "language": "python",
   "name": "python3"
  },
  "language_info": {
   "codemirror_mode": {
    "name": "ipython",
    "version": 3
   },
   "file_extension": ".py",
   "mimetype": "text/x-python",
   "name": "python",
   "nbconvert_exporter": "python",
   "pygments_lexer": "ipython3",
   "version": "3.9.23"
  }
 },
 "nbformat": 4,
 "nbformat_minor": 5
}
