{
 "cells": [
  {
   "cell_type": "markdown",
   "id": "8dc528d2",
   "metadata": {},
   "source": [
    "# 서식지정자, format 매서드\n",
    "* 문자열로만 입력해야 하는 상황에서 같은 위치에 문자를 여러번 바꿔야 할 때 사용\n",
    "* 문자의 자릿수 맞춤, 위치 정렬에도 사용 \n",
    "* 문자열 사이에 변수에 담긴 내용을 함께 출력할 때 사용"
   ]
  },
  {
   "cell_type": "markdown",
   "id": "90ffada6",
   "metadata": {},
   "source": [
    "# 1. 서식지정자 %d, %s, %f, %길이s (정수,문자,실수,길이)"
   ]
  },
  {
   "cell_type": "markdown",
   "id": "591761fe",
   "metadata": {},
   "source": [
    "## 1) 문자를 입력할 때 %s"
   ]
  },
  {
   "cell_type": "code",
   "execution_count": 1,
   "id": "ebd846f9",
   "metadata": {},
   "outputs": [
    {
     "name": "stdout",
     "output_type": "stream",
     "text": [
      "이 수업의 이름은 국어 입니다.\n"
     ]
    }
   ],
   "source": [
    "print(\"이 수업의 이름은 %s 입니다.\" % \"국어\")"
   ]
  },
  {
   "cell_type": "code",
   "execution_count": 2,
   "id": "06c74921",
   "metadata": {},
   "outputs": [
    {
     "name": "stdout",
     "output_type": "stream",
     "text": [
      "이 수업의 이름은 국어 입니다.\n",
      "이 수업의 이름은 수학 입니다.\n",
      "이 수업의 이름은 사회 입니다.\n",
      "이 수업의 이름은 영어 입니다.\n"
     ]
    }
   ],
   "source": [
    "for i in ['국어', \"수학\", \"사회\", \"영어\"]:\n",
    "    print(\"이 수업의 이름은 %s 입니다.\" % i)"
   ]
  },
  {
   "cell_type": "markdown",
   "id": "cb350f0d",
   "metadata": {},
   "source": [
    "## 2) 정수를 입력할 때 %d"
   ]
  },
  {
   "cell_type": "code",
   "execution_count": 4,
   "id": "cb79ffcc",
   "metadata": {},
   "outputs": [
    {
     "name": "stdout",
     "output_type": "stream",
     "text": [
      "올해는 2025년 입니다.\n"
     ]
    }
   ],
   "source": [
    "print(\"올해는 %d년 입니다.\" % 2025)"
   ]
  },
  {
   "cell_type": "code",
   "execution_count": 5,
   "id": "09332636",
   "metadata": {},
   "outputs": [
    {
     "ename": "TypeError",
     "evalue": "%d format: a number is required, not str",
     "output_type": "error",
     "traceback": [
      "\u001b[1;31m---------------------------------------------------------------------------\u001b[0m",
      "\u001b[1;31mTypeError\u001b[0m                                 Traceback (most recent call last)",
      "Cell \u001b[1;32mIn[5], line 1\u001b[0m\n\u001b[1;32m----> 1\u001b[0m \u001b[38;5;28mprint\u001b[39m(\u001b[38;5;124;43m\"\u001b[39;49m\u001b[38;5;124;43m올해는 \u001b[39;49m\u001b[38;5;132;43;01m%d\u001b[39;49;00m\u001b[38;5;124;43m년 입니다.\u001b[39;49m\u001b[38;5;124;43m\"\u001b[39;49m\u001b[43m \u001b[49m\u001b[38;5;241;43m%\u001b[39;49m\u001b[43m \u001b[49m\u001b[38;5;124;43m\"\u001b[39;49m\u001b[38;5;124;43m이천이십오년\u001b[39;49m\u001b[38;5;124;43m\"\u001b[39;49m)\n",
      "\u001b[1;31mTypeError\u001b[0m: %d format: a number is required, not str"
     ]
    }
   ],
   "source": [
    "print(\"올해는 %d년 입니다.\" % \"이천이십오년\")\n",
    "# 데이터타입을 명확히 하기 때문에 다른 데이터 타입 들어가면 무조건 오류남"
   ]
  },
  {
   "cell_type": "markdown",
   "id": "fd9b0239",
   "metadata": {},
   "source": [
    "## 3) 실수를 입력할 때 %f 기본 소숫점 6자리로 표시"
   ]
  },
  {
   "cell_type": "code",
   "execution_count": 6,
   "id": "22e67cc5",
   "metadata": {},
   "outputs": [
    {
     "name": "stdout",
     "output_type": "stream",
     "text": [
      "사람의 정상 체온은 약 36.500000도 입니다.\n"
     ]
    }
   ],
   "source": [
    "print(\"사람의 정상 체온은 약 %f도 입니다.\" % 36.5)"
   ]
  },
  {
   "cell_type": "markdown",
   "id": "0a7b732c",
   "metadata": {},
   "source": [
    "* 소숫점 표기를 조절할 때 %.소숫점 자리수f ex)%.2f"
   ]
  },
  {
   "cell_type": "code",
   "execution_count": 9,
   "id": "58214d4c",
   "metadata": {},
   "outputs": [
    {
     "name": "stdout",
     "output_type": "stream",
     "text": [
      "사람의 정상 체온은 약 36.5도 입니다.\n"
     ]
    }
   ],
   "source": [
    "print(\"사람의 정상 체온은 약 %.1f도 입니다.\" % 36.5)"
   ]
  },
  {
   "cell_type": "markdown",
   "id": "e051d8a7",
   "metadata": {},
   "source": [
    "## 4)서식지정자로 문자열 길이, 정렬 %길이s\n",
    "* %3s -> 3자리로 표시"
   ]
  },
  {
   "cell_type": "code",
   "execution_count": 10,
   "id": "afac7f22",
   "metadata": {},
   "outputs": [
    {
     "name": "stdout",
     "output_type": "stream",
     "text": [
      " 01\n"
     ]
    }
   ],
   "source": [
    "print(\"%3s\" % \"01\")"
   ]
  },
  {
   "cell_type": "code",
   "execution_count": 11,
   "id": "39e27f36",
   "metadata": {},
   "outputs": [
    {
     "data": {
      "text/plain": [
       "' 01'"
      ]
     },
     "execution_count": 11,
     "metadata": {},
     "output_type": "execute_result"
    }
   ],
   "source": [
    "\"%3s\" % \"01\""
   ]
  },
  {
   "cell_type": "code",
   "execution_count": 12,
   "id": "142fbf21",
   "metadata": {},
   "outputs": [
    {
     "data": {
      "text/plain": [
       "'  01'"
      ]
     },
     "execution_count": 12,
     "metadata": {},
     "output_type": "execute_result"
    }
   ],
   "source": [
    "\"%4s\" % \"01\""
   ]
  },
  {
   "cell_type": "code",
   "execution_count": 13,
   "id": "195e19ba",
   "metadata": {},
   "outputs": [
    {
     "name": "stdout",
     "output_type": "stream",
     "text": [
      "15000\n",
      "150000\n"
     ]
    }
   ],
   "source": [
    "print(15000)\n",
    "print(150000)"
   ]
  },
  {
   "cell_type": "code",
   "execution_count": 14,
   "id": "82c9667c",
   "metadata": {},
   "outputs": [
    {
     "name": "stdout",
     "output_type": "stream",
     "text": [
      "가격은      15000 입니다.\n",
      "가격은     150000 입니다.\n"
     ]
    }
   ],
   "source": [
    "print(\"가격은 %10d 입니다.\" %15000)\n",
    "print(\"가격은 %10d 입니다.\" %150000)"
   ]
  },
  {
   "cell_type": "markdown",
   "id": "0669d99b",
   "metadata": {},
   "source": [
    "## 5) 여러 항목 동시에 넣기 "
   ]
  },
  {
   "cell_type": "code",
   "execution_count": 15,
   "id": "556f8327",
   "metadata": {},
   "outputs": [
    {
     "name": "stdout",
     "output_type": "stream",
     "text": [
      "오늘은 2025년  9월 24일 입니다.\n"
     ]
    }
   ],
   "source": [
    "print(\"오늘은 %4d년 %2d월 %2d일 입니다.\" % (2025, 9, 24))"
   ]
  },
  {
   "cell_type": "code",
   "execution_count": 16,
   "id": "c98dda67",
   "metadata": {},
   "outputs": [],
   "source": [
    "company = [\"삼성전자\", \"LG전자\", \"현대차\", \"대한항공\", \"하나투어\"]\n",
    "stock_price = [71800, 12100, 195000, 31900, 86600]"
   ]
  },
  {
   "cell_type": "code",
   "execution_count": 17,
   "id": "f22e96f4",
   "metadata": {},
   "outputs": [
    {
     "name": "stdout",
     "output_type": "stream",
     "text": [
      "삼성전자의 주가는 71800원 입니다.\n",
      "LG전자의 주가는 12100원 입니다.\n",
      "현대차의 주가는 195000원 입니다.\n",
      "대한항공의 주가는 31900원 입니다.\n",
      "하나투어의 주가는 86600원 입니다.\n"
     ]
    }
   ],
   "source": [
    "for com, st in zip(company, stock_price):\n",
    "    print(\"%s의 주가는 %d원 입니다.\" % (com, st))"
   ]
  },
  {
   "cell_type": "code",
   "execution_count": 20,
   "id": "fa8e69c5",
   "metadata": {},
   "outputs": [
    {
     "name": "stdout",
     "output_type": "stream",
     "text": [
      "('삼성전자', 71800)\n",
      "삼성전자의 주가는 71800원 입니다.\n",
      "('LG전자', 12100)\n",
      "LG전자의 주가는 12100원 입니다.\n",
      "('현대차', 195000)\n",
      "현대차의 주가는 195000원 입니다.\n",
      "('대한항공', 31900)\n",
      "대한항공의 주가는 31900원 입니다.\n",
      "('하나투어', 86600)\n",
      "하나투어의 주가는 86600원 입니다.\n"
     ]
    }
   ],
   "source": [
    "for com_st in zip(company, stock_price):\n",
    "    print(com_st)\n",
    "    print(\"%s의 주가는 %d원 입니다.\" % com_st)"
   ]
  },
  {
   "cell_type": "markdown",
   "id": "d477ad0f",
   "metadata": {},
   "source": [
    "# 2. format 매서드 사용하기, f-string 문자열 포멧팅"
   ]
  },
  {
   "cell_type": "markdown",
   "id": "3675c8ee",
   "metadata": {},
   "source": [
    "## 1) format 메서드 사용하기\n",
    "* \"문자열 {인덱스 번호} 문자열 끝\".format(값1, 값2)\n",
    "* .format(값1, 값2) => 값1 = 0, 값2 = 1"
   ]
  },
  {
   "cell_type": "code",
   "execution_count": 21,
   "id": "867333e8",
   "metadata": {},
   "outputs": [
    {
     "name": "stdout",
     "output_type": "stream",
     "text": [
      "삼성전자의 주가는 71800입니다.\n"
     ]
    }
   ],
   "source": [
    "print(\"{}의 주가는 {}입니다.\".format('삼성전자', 71800))"
   ]
  },
  {
   "cell_type": "code",
   "execution_count": 22,
   "id": "d849a71d",
   "metadata": {},
   "outputs": [
    {
     "name": "stdout",
     "output_type": "stream",
     "text": [
      "71800의 주가는 삼성전자입니다.\n"
     ]
    }
   ],
   "source": [
    "print(\"{1}의 주가는 {0}입니다.\".format('삼성전자', 71800))"
   ]
  },
  {
   "cell_type": "code",
   "execution_count": 23,
   "id": "d1baa265",
   "metadata": {},
   "outputs": [
    {
     "name": "stdout",
     "output_type": "stream",
     "text": [
      "삼성전자의 주가는 삼성전자입니다.\n"
     ]
    }
   ],
   "source": [
    "print(\"{0}의 주가는 {0}입니다.\".format('삼성전자', 71800))"
   ]
  },
  {
   "cell_type": "code",
   "execution_count": 25,
   "id": "75fbe34d",
   "metadata": {},
   "outputs": [
    {
     "name": "stdout",
     "output_type": "stream",
     "text": [
      "삼성전자의 주가는 71500원입니다.\n",
      "삼성전자의 상한가는 50200원입니다.\n",
      "삼성전자의 하한가는 93000원입니다.\n"
     ]
    }
   ],
   "source": [
    "print(\"{0}의 주가는 {1}원입니다.\\n{0}의 상한가는 {2}원입니다.\\n{0}의 하한가는 {3}원입니다.\".format(\"삼성전자\", 71500, 50200, 93000))"
   ]
  },
  {
   "cell_type": "markdown",
   "id": "98e71e59",
   "metadata": {},
   "source": [
    "## 2) f-string 포멧팅 python 3.6부터 사용 가능"
   ]
  },
  {
   "cell_type": "code",
   "execution_count": 49,
   "id": "0cc3ab54",
   "metadata": {},
   "outputs": [
    {
     "data": {
      "text/plain": [
       "['삼성전자', 'LG전자', '현대차', '대한항공', '하나투어']"
      ]
     },
     "execution_count": 49,
     "metadata": {},
     "output_type": "execute_result"
    }
   ],
   "source": [
    "company"
   ]
  },
  {
   "cell_type": "code",
   "execution_count": 50,
   "id": "73e8650a",
   "metadata": {},
   "outputs": [
    {
     "data": {
      "text/plain": [
       "[71800, 12100, 195000, 31900, 86600]"
      ]
     },
     "execution_count": 50,
     "metadata": {},
     "output_type": "execute_result"
    }
   ],
   "source": [
    "stock_price"
   ]
  },
  {
   "cell_type": "code",
   "execution_count": 51,
   "id": "c20d7fb7",
   "metadata": {},
   "outputs": [
    {
     "name": "stdout",
     "output_type": "stream",
     "text": [
      "현대차의 주가는 195000원 입니다.\n"
     ]
    }
   ],
   "source": [
    "print(\"{}의 주가는 {}원 입니다.\".format(company[2], stock_price[2]))"
   ]
  },
  {
   "cell_type": "code",
   "execution_count": 53,
   "id": "acd0ef5e",
   "metadata": {},
   "outputs": [
    {
     "name": "stdout",
     "output_type": "stream",
     "text": [
      "현대차의 주가는 195000원 입니다.\n"
     ]
    }
   ],
   "source": [
    "print(f\"{company[2]}의 주가는 {stock_price[2]}원 입니다.\")"
   ]
  },
  {
   "cell_type": "code",
   "execution_count": 54,
   "id": "92c81186",
   "metadata": {},
   "outputs": [
    {
     "name": "stdout",
     "output_type": "stream",
     "text": [
      "삼성전자의 주가는 71500.\n",
      "삼성전자의 상한가는 93000원입니다\n"
     ]
    }
   ],
   "source": [
    "print(f\"{'삼성전자'}의 주가는 {71500}.\\n{'삼성전자'}의 상한가는 {93000}원입니다\")"
   ]
  },
  {
   "cell_type": "code",
   "execution_count": 55,
   "id": "9d58c129",
   "metadata": {},
   "outputs": [
    {
     "name": "stdout",
     "output_type": "stream",
     "text": [
      "삼성전자의 주가는 71800원입니다.\n",
      "삼성전자의 상한가는 93000원입니다.\n",
      "하한기는 [low]입니다\n"
     ]
    }
   ],
   "source": [
    "sam = \"삼성전자\"\n",
    "sto = 71800\n",
    "low = 50200\n",
    "high = 93000\n",
    "print(f\"{sam}의 주가는 {sto}원입니다.\\n{sam}의 상한가는 {high}원입니다.\\n하한기는 [low]입니다\")\n"
   ]
  },
  {
   "cell_type": "markdown",
   "id": "d61c35f2",
   "metadata": {},
   "source": [
    "# 3.format 매서드와 f-string으로 문자여 정렬하기, 자리수 지정해 출력하기\n",
    "* \"{인덱스:<길이}\".format(값)\n",
    "* f\"{값:>길이}\""
   ]
  },
  {
   "cell_type": "code",
   "execution_count": 56,
   "id": "97b5bbe5",
   "metadata": {},
   "outputs": [
    {
     "name": "stdout",
     "output_type": "stream",
     "text": [
      "삼성전자      \n"
     ]
    }
   ],
   "source": [
    "print(\"{0:<10}\".format(\"삼성전자\"))"
   ]
  },
  {
   "cell_type": "code",
   "execution_count": 57,
   "id": "88d9390e",
   "metadata": {},
   "outputs": [
    {
     "data": {
      "text/plain": [
       "'삼성전자      '"
      ]
     },
     "execution_count": 57,
     "metadata": {},
     "output_type": "execute_result"
    }
   ],
   "source": [
    "\"{0:<10}\".format(\"삼성전자\")"
   ]
  },
  {
   "cell_type": "code",
   "execution_count": 58,
   "id": "b55c4e24",
   "metadata": {},
   "outputs": [
    {
     "data": {
      "text/plain": [
       "'      삼성전자'"
      ]
     },
     "execution_count": 58,
     "metadata": {},
     "output_type": "execute_result"
    }
   ],
   "source": [
    "\"{0:>10}\".format(\"삼성전자\")"
   ]
  },
  {
   "cell_type": "code",
   "execution_count": 59,
   "id": "5680bff9",
   "metadata": {},
   "outputs": [
    {
     "data": {
      "text/plain": [
       "'삼성전자      '"
      ]
     },
     "execution_count": 59,
     "metadata": {},
     "output_type": "execute_result"
    }
   ],
   "source": [
    "f\"{sam:<10}\""
   ]
  },
  {
   "cell_type": "code",
   "execution_count": 60,
   "id": "1cd17c23",
   "metadata": {},
   "outputs": [
    {
     "data": {
      "text/plain": [
       "'      삼성전자'"
      ]
     },
     "execution_count": 60,
     "metadata": {},
     "output_type": "execute_result"
    }
   ],
   "source": [
    "f\"{sam:>10}\""
   ]
  },
  {
   "cell_type": "markdown",
   "id": "ac05291a",
   "metadata": {},
   "source": [
    "### 숫자 표기시 숫자 자릿수 맞추고 기본 값 지정하기\n",
    "* \"{인덱스:채울숫자 길이 서식지정자}\".format(값) - 단, 서식지정자에서 %를 빼고 적는다. \n",
    "* f\"{값:채울숫자 길이와 서식지정자}\""
   ]
  },
  {
   "cell_type": "markdown",
   "id": "e8f3fbfa",
   "metadata": {},
   "source": [
    "* 정수의 자릿수를 맞출 때"
   ]
  },
  {
   "cell_type": "code",
   "execution_count": 61,
   "id": "0c02065f",
   "metadata": {},
   "outputs": [
    {
     "name": "stdout",
     "output_type": "stream",
     "text": [
      "1월\n"
     ]
    }
   ],
   "source": [
    "print(\"{0}월\".format(1))"
   ]
  },
  {
   "cell_type": "code",
   "execution_count": 62,
   "id": "0a5f3dda",
   "metadata": {},
   "outputs": [
    {
     "name": "stdout",
     "output_type": "stream",
     "text": [
      "01월\n"
     ]
    }
   ],
   "source": [
    "print(\"{0:02d}월\".format(1))\n",
    "# 두 자릿수 정수를 넣는데, 자릿수가 모자르면 0으로 채워라 (모자를 경우에!)"
   ]
  },
  {
   "cell_type": "code",
   "execution_count": 63,
   "id": "a3ac2b58",
   "metadata": {},
   "outputs": [
    {
     "name": "stdout",
     "output_type": "stream",
     "text": [
      "001월\n"
     ]
    }
   ],
   "source": [
    "print(\"{0:03d}월\".format(1))"
   ]
  },
  {
   "cell_type": "code",
   "execution_count": 64,
   "id": "01d0c639",
   "metadata": {},
   "outputs": [
    {
     "name": "stdout",
     "output_type": "stream",
     "text": [
      "1000월\n"
     ]
    }
   ],
   "source": [
    "print(\"{0:03d}월\".format(1000))"
   ]
  },
  {
   "cell_type": "code",
   "execution_count": 66,
   "id": "e7d5cce8",
   "metadata": {},
   "outputs": [
    {
     "name": "stdout",
     "output_type": "stream",
     "text": [
      "01월\n"
     ]
    }
   ],
   "source": [
    "print(f\"{1:02d}월\")"
   ]
  },
  {
   "cell_type": "markdown",
   "id": "b8818446",
   "metadata": {},
   "source": [
    "* 실수의 자릿수를 맞출 때\n",
    "* 실수에서 자릿수는 정수+.+소숫점 .2f"
   ]
  },
  {
   "cell_type": "code",
   "execution_count": 67,
   "id": "208233f1",
   "metadata": {},
   "outputs": [
    {
     "name": "stdout",
     "output_type": "stream",
     "text": [
      "2.246\n"
     ]
    }
   ],
   "source": [
    "print(\"{0:03.3f}\".format(2.245678))\n",
    "# 값이 더 크니까 그대로 출력됨"
   ]
  },
  {
   "cell_type": "code",
   "execution_count": 68,
   "id": "5fa8732a",
   "metadata": {},
   "outputs": [
    {
     "name": "stdout",
     "output_type": "stream",
     "text": [
      "02.246\n"
     ]
    }
   ],
   "source": [
    "print(\"{0:06.3f}\".format(2.245678))\n",
    "# 6자리로 하라 했는데 (소숫점을 포함한 앞뒤 6자리로 만들어라 (점뒤에 3자리, 점포함 6자리))"
   ]
  },
  {
   "cell_type": "code",
   "execution_count": 69,
   "id": "dfc8fa08",
   "metadata": {},
   "outputs": [
    {
     "name": "stdout",
     "output_type": "stream",
     "text": [
      "002.246\n"
     ]
    }
   ],
   "source": [
    "print(\"{0:07.3f}\".format(2.245678))"
   ]
  },
  {
   "cell_type": "code",
   "execution_count": 70,
   "id": "3e68a68b",
   "metadata": {},
   "outputs": [
    {
     "name": "stdout",
     "output_type": "stream",
     "text": [
      "02.2457\n"
     ]
    }
   ],
   "source": [
    "print(\"{0:07.4f}\".format(2.245678))"
   ]
  },
  {
   "cell_type": "code",
   "execution_count": 71,
   "id": "556f6be8",
   "metadata": {},
   "outputs": [
    {
     "name": "stdout",
     "output_type": "stream",
     "text": [
      "2.24568\n"
     ]
    }
   ],
   "source": [
    "print(\"{0:07.5f}\".format(2.245678))"
   ]
  },
  {
   "cell_type": "code",
   "execution_count": null,
   "id": "9a768460",
   "metadata": {},
   "outputs": [],
   "source": []
  },
  {
   "cell_type": "markdown",
   "id": "3e2aadcc",
   "metadata": {},
   "source": [
    "* 00시 00분 부터 11시 59분까지 출력하세요. 1자리는 01 형식으로 출력하세요."
   ]
  },
  {
   "cell_type": "code",
   "execution_count": 72,
   "id": "ea54ac78",
   "metadata": {},
   "outputs": [
    {
     "name": "stdout",
     "output_type": "stream",
     "text": [
      "0\n",
      "1\n",
      "2\n",
      "3\n",
      "4\n",
      "5\n",
      "6\n",
      "7\n",
      "8\n",
      "9\n",
      "10\n",
      "11\n"
     ]
    }
   ],
   "source": [
    "for i in range(12):\n",
    "    print(i)"
   ]
  },
  {
   "cell_type": "code",
   "execution_count": 74,
   "id": "c90b1ed6",
   "metadata": {},
   "outputs": [
    {
     "name": "stdout",
     "output_type": "stream",
     "text": [
      "00\n",
      "01\n",
      "02\n",
      "03\n",
      "04\n",
      "05\n",
      "06\n",
      "07\n",
      "08\n",
      "09\n",
      "10\n",
      "11\n"
     ]
    }
   ],
   "source": [
    "for i in range(12):\n",
    "    print(f\"{i:02d}\")"
   ]
  },
  {
   "cell_type": "code",
   "execution_count": 76,
   "id": "e4d43489",
   "metadata": {},
   "outputs": [
    {
     "name": "stdout",
     "output_type": "stream",
     "text": [
      "11시 59분\r"
     ]
    }
   ],
   "source": [
    "import time\n",
    "for si in range(12):\n",
    "    for bun in range(60):\n",
    "        print(f\"{i:02d}시 {bun:02d}분\", end=\"\\r\")\n",
    "        time.sleep(0.1)"
   ]
  },
  {
   "cell_type": "markdown",
   "id": "9cf06df1",
   "metadata": {},
   "source": [
    "* 공백을 원하는 문자로 채우고 자릿수 맞추기\n",
    "* {인덱스:원하는 문자/숫자 < > 자릿수}.format(값)\n",
    "* f\"{값 : 원하는 문자/숫자 < > 자릿수}\""
   ]
  },
  {
   "cell_type": "code",
   "execution_count": 77,
   "id": "490d5520",
   "metadata": {},
   "outputs": [
    {
     "data": {
      "text/plain": [
       "'0001'"
      ]
     },
     "execution_count": 77,
     "metadata": {},
     "output_type": "execute_result"
    }
   ],
   "source": [
    "# 빈자리를 0으로 채울 때 \n",
    "\"{0:0>4}\".format(1)"
   ]
  },
  {
   "cell_type": "code",
   "execution_count": 78,
   "id": "1772d633",
   "metadata": {},
   "outputs": [
    {
     "data": {
      "text/plain": [
       "'0001'"
      ]
     },
     "execution_count": 78,
     "metadata": {},
     "output_type": "execute_result"
    }
   ],
   "source": [
    "f\"{1:0>4}\""
   ]
  },
  {
   "cell_type": "code",
   "execution_count": 79,
   "id": "55fa30b7",
   "metadata": {},
   "outputs": [
    {
     "data": {
      "text/plain": [
       "'$$$1'"
      ]
     },
     "execution_count": 79,
     "metadata": {},
     "output_type": "execute_result"
    }
   ],
   "source": [
    "# $로 채울 때\n",
    "\"{0:$>4}\".format(1)"
   ]
  },
  {
   "cell_type": "code",
   "execution_count": 81,
   "id": "d09e9f64",
   "metadata": {},
   "outputs": [
    {
     "data": {
      "text/plain": [
       "'$$$1'"
      ]
     },
     "execution_count": 81,
     "metadata": {},
     "output_type": "execute_result"
    }
   ],
   "source": [
    "f\"{1:$>4}\""
   ]
  },
  {
   "cell_type": "code",
   "execution_count": 82,
   "id": "2ec9425b",
   "metadata": {},
   "outputs": [
    {
     "data": {
      "text/plain": [
       "'1$$$'"
      ]
     },
     "execution_count": 82,
     "metadata": {},
     "output_type": "execute_result"
    }
   ],
   "source": [
    "f\"{1:$<4}\""
   ]
  },
  {
   "cell_type": "code",
   "execution_count": 83,
   "id": "27b4a95d",
   "metadata": {},
   "outputs": [
    {
     "data": {
      "text/plain": [
       "'1   '"
      ]
     },
     "execution_count": 83,
     "metadata": {},
     "output_type": "execute_result"
    }
   ],
   "source": [
    "f\"{1:<4}\""
   ]
  },
  {
   "cell_type": "code",
   "execution_count": 92,
   "id": "1fee96f5",
   "metadata": {},
   "outputs": [],
   "source": [
    "url = \"https://finance.naver.com/sise/sise_trans_style.naver?sosok=\""
   ]
  },
  {
   "cell_type": "code",
   "execution_count": 93,
   "id": "452de141",
   "metadata": {},
   "outputs": [
    {
     "name": "stdout",
     "output_type": "stream",
     "text": [
      "https://finance.naver.com/sise/sise_trans_style.naver?sosok=01\n",
      "https://finance.naver.com/sise/sise_trans_style.naver?sosok=02\n",
      "https://finance.naver.com/sise/sise_trans_style.naver?sosok=03\n",
      "https://finance.naver.com/sise/sise_trans_style.naver?sosok=04\n",
      "https://finance.naver.com/sise/sise_trans_style.naver?sosok=05\n",
      "https://finance.naver.com/sise/sise_trans_style.naver?sosok=06\n",
      "https://finance.naver.com/sise/sise_trans_style.naver?sosok=07\n",
      "https://finance.naver.com/sise/sise_trans_style.naver?sosok=08\n",
      "https://finance.naver.com/sise/sise_trans_style.naver?sosok=09\n",
      "https://finance.naver.com/sise/sise_trans_style.naver?sosok=10\n"
     ]
    }
   ],
   "source": [
    "for i in range(1,11):\n",
    "    print(f\"{url}{i:02d}\")"
   ]
  },
  {
   "cell_type": "code",
   "execution_count": null,
   "id": "d1ec747a",
   "metadata": {},
   "outputs": [],
   "source": []
  }
 ],
 "metadata": {
  "kernelspec": {
   "display_name": "Python 3 (ipykernel)",
   "language": "python",
   "name": "python3"
  },
  "language_info": {
   "codemirror_mode": {
    "name": "ipython",
    "version": 3
   },
   "file_extension": ".py",
   "mimetype": "text/x-python",
   "name": "python",
   "nbconvert_exporter": "python",
   "pygments_lexer": "ipython3",
   "version": "3.9.23"
  }
 },
 "nbformat": 4,
 "nbformat_minor": 5
}
