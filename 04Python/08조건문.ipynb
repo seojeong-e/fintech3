{
 "cells": [
  {
   "cell_type": "markdown",
   "id": "9fc7122c",
   "metadata": {},
   "source": [
    "# if else 조건문 \n",
    "# 1.조건문이란? 특정 조건을 판별해서 작업을 분기시키는 문법 \n",
    "if 조건식:<br>\n",
    "____조건식이 참일 때 실행할 코드<br>\n",
    "else:<br>\n",
    "____조건식이 거짓일 때 실행할 코드"
   ]
  },
  {
   "cell_type": "code",
   "execution_count": 5,
   "id": "da2cce35",
   "metadata": {},
   "outputs": [],
   "source": [
    "x = 12"
   ]
  },
  {
   "cell_type": "code",
   "execution_count": 9,
   "id": "9d6830d2",
   "metadata": {},
   "outputs": [
    {
     "name": "stdout",
     "output_type": "stream",
     "text": [
      "12는, 10이 아닙니다.\n"
     ]
    }
   ],
   "source": [
    "if x == 10:\n",
    "    print(f\"{x}는, 10입니다.\")\n",
    "else:\n",
    "    print(f\"{x}는, 10이 아닙니다.\")"
   ]
  },
  {
   "cell_type": "code",
   "execution_count": 10,
   "id": "a3a07b85",
   "metadata": {},
   "outputs": [
    {
     "name": "stdout",
     "output_type": "stream",
     "text": [
      "12는 3의 배수입니다.\n",
      "12는, 10이 아닙니다.\n"
     ]
    }
   ],
   "source": [
    "if x == 10:\n",
    "    if x %2 == 0:\n",
    "        print(f\"{x}는 짝수이고 10입니다.\")\n",
    "    else:\n",
    "        print(f\"{x}는 홀수이고, 10이 아닙니다.\")\n",
    "else:\n",
    "    if x %3 == 0:\n",
    "        print(f\"{x}는 3의 배수입니다.\")\n",
    "    else:\n",
    "        print(\"f{x}는 3의 배수가 아니고, 10도 아닙니다.\")\n",
    "    print(f\"{x}는, 10이 아닙니다.\")"
   ]
  },
  {
   "cell_type": "code",
   "execution_count": 12,
   "id": "712928cc",
   "metadata": {},
   "outputs": [
    {
     "data": {
      "text/plain": [
       "['파이썬', '조건문', 10, 15.3, True, [1, 2, 3], (4, 5, 6), {'key': 365}]"
      ]
     },
     "execution_count": 12,
     "metadata": {},
     "output_type": "execute_result"
    }
   ],
   "source": [
    "l1 = ['파이썬', '조건문', 10, 15.3, True, [1,2,3], (4,5,6), {\"key\":365}]\n",
    "l1"
   ]
  },
  {
   "cell_type": "code",
   "execution_count": 14,
   "id": "96d9bb1d",
   "metadata": {},
   "outputs": [
    {
     "data": {
      "text/plain": [
       "False"
      ]
     },
     "execution_count": 14,
     "metadata": {},
     "output_type": "execute_result"
    }
   ],
   "source": [
    "10 not in l1 "
   ]
  },
  {
   "cell_type": "code",
   "execution_count": 15,
   "id": "ec52c534",
   "metadata": {},
   "outputs": [
    {
     "name": "stdout",
     "output_type": "stream",
     "text": [
      "l1안에 파이썬이 있습니다.\n"
     ]
    }
   ],
   "source": [
    "if \"파이썬\" in l1:\n",
    "    print(\"l1안에 파이썬이 있습니다.\")\n",
    "else:\n",
    "    print(\"l1안에 파이썬이 없습니다.\")"
   ]
  },
  {
   "cell_type": "markdown",
   "id": "4f86e7d4",
   "metadata": {},
   "source": [
    "* 숫자를 입력받아 홀수인지 짝수인지 판단하는 프로그램\n",
    "  * 숫자를 입력받는다 input()\n",
    "  * 조건문으로 홀수/짝수 판단 % 2 == 0 짝수 1이면 홀수\n",
    "  * 입력한 숫자 {}는 짝수입니다. /홀수입니다."
   ]
  },
  {
   "cell_type": "code",
   "execution_count": 4,
   "id": "617542e3",
   "metadata": {},
   "outputs": [
    {
     "name": "stdout",
     "output_type": "stream",
     "text": [
      "숫자를 입력하세요3\n",
      "3 <class 'int'>\n",
      "입력한 숫자3는 홀수입니다.\n"
     ]
    }
   ],
   "source": [
    "number = int(input(\"숫자를 입력하세요\"))\n",
    "print(number, type(number))\n",
    "if number %2 == 0:\n",
    "    print(f\"입력한 숫자{number}는 짝수입니다.\")\n",
    "else:\n",
    "    print(f\"입력한 숫자{number}는 홀수입니다.\")\n",
    "    \n",
    "# 항상 함수 type 확인하기\n",
    "# or if int(number) %2 == 0:\n",
    "# 처음부터 int 로 형변환 해주는 게 베스트\n",
    "# 조건식에서만 잠깐 바꿨는 지 입력값부터 바꿨는 지 확인"
   ]
  },
  {
   "cell_type": "markdown",
   "id": "fc914133",
   "metadata": {},
   "source": [
    "## 2. 다중 조건문 사용하기 elif\n",
    "if 조건식:<br>\n",
    "____조건이 참일 때 실행할 코드<br>\n",
    "elif 조건식2<br>\n",
    "____조건식 2가 참일 때 실행할 코드<br>\n",
    "elif 조건식3<br>\n",
    "____조건식 3가 참일 때 실행할 코드<br>\n",
    "elif 조건식4<br>\n",
    "____조건식 4가 참일 때 실행할 코드<br>\n",
    "elif 조건식5<br>\n",
    "____조건식 5가 참일 때 실행할 코드<br>\n",
    "else: <br>\n",
    "____위의 모든 조건이 다 거짓일 때 실행할 코드"
   ]
  },
  {
   "cell_type": "markdown",
   "id": "15043b59",
   "metadata": {},
   "source": [
    "* 점수를 입력 받아서 81-100 A학점, 61-80 B학점, 41-60 C학점, 21-40 D학점, 0-20 F학점\n",
    "* 0 <= X < 20\n",
    "* 추가: 입력받은 값이 0-100 사이의 숫자인지도 검증"
   ]
  },
  {
   "cell_type": "code",
   "execution_count": 7,
   "id": "536e74b7",
   "metadata": {},
   "outputs": [
    {
     "name": "stdout",
     "output_type": "stream",
     "text": [
      "점수를 입력하세요102\n",
      "숫자를 0-100사이로 입력해 주세요.\n"
     ]
    }
   ],
   "source": [
    "score = int(input(\"점수를 입력하세요\"))\n",
    "#print(score, type(score))\n",
    "if 0 <= score <= 100:\n",
    "    if 80 < score <= 100:\n",
    "        print(f\"{score}는 A학점 입니다.\")\n",
    "    elif 60 < score <= 80:\n",
    "        print(f\"{score}는 B학점 입니다.\")\n",
    "    elif 40 < score <= 60:\n",
    "        print(f\"{score}는 C학점 입니다.\")\n",
    "    elif 20 < score < 40:\n",
    "        print(f\"{score}는 D학점 입니다.\")\n",
    "    elif 0 < score <= 20:\n",
    "        print(f\"{score}는 F학점 입니다.\")\n",
    "else:\n",
    "    print(f\"숫자를 0-100사이로 입력해 주세요.\")"
   ]
  },
  {
   "cell_type": "code",
   "execution_count": 6,
   "id": "094f33d4",
   "metadata": {},
   "outputs": [
    {
     "name": "stdout",
     "output_type": "stream",
     "text": [
      "점수를 입력하세요50\n",
      "50는 C학점 입니다.\n"
     ]
    }
   ],
   "source": [
    "score = int(input(\"점수를 입력하세요\"))\n",
    "#print(score, type(score))\n",
    "if 80 < score <= 100:\n",
    "    print(f\"{score}는 A학점 입니다.\")\n",
    "elif 60 < score <= 80:\n",
    "    print(f\"{score}는 B학점 입니다.\")\n",
    "elif 40 < score <= 60:\n",
    "    print(f\"{score}는 C학점 입니다.\")\n",
    "elif 20 < score < 40:\n",
    "    print(f\"{score}는 D학점 입니다.\")\n",
    "elif 0 < score <= 20:\n",
    "    print(f\"{score}는 F학점 입니다.\")\n",
    "else:\n",
    "    print(f\"숫자를 0-100사이로 입력해 주세요.\")"
   ]
  },
  {
   "cell_type": "markdown",
   "id": "1262ee6d",
   "metadata": {},
   "source": [
    "* 1-50 사이의 숫자를 입력받아서 3의 배수이면 3의 배수입니다. 아니면 3의 배수가 아닙니다.  \n",
    "  * 입력받기 숫자 확인\n",
    "  * 1-50사이의 숫자인가\n",
    "  * 3의 배수인가?\n",
    "  * 출력"
   ]
  },
  {
   "cell_type": "code",
   "execution_count": 22,
   "id": "848a5853",
   "metadata": {},
   "outputs": [
    {
     "name": "stdout",
     "output_type": "stream",
     "text": [
      "정수로 1-50 사이의 숫자를 입력하세요8\n",
      "8은 3의 배수가 아닙니다.\n"
     ]
    }
   ],
   "source": [
    "num = int(input(\"정수로 1-50 사이의 숫자를 입력하세요\"))\n",
    "#print(num, type(num))\n",
    "if 1 <= num <= 50:\n",
    "    if num % 3 == 0:\n",
    "        print(f\"{num}은 3의 배수입니다.\")\n",
    "    elif num % 3 != 0:\n",
    "        print(f\"{num}은 3의 배수가 아닙니다.\")\n",
    "else:\n",
    "    print(\"정수로 1-50 사이의 숫자를 입력하세요\")"
   ]
  },
  {
   "cell_type": "markdown",
   "id": "70706033",
   "metadata": {},
   "source": [
    "## 3. 조건 표현식\n",
    "* python에서 조건식을 1줄로 표기하는 방법\n",
    "* 다중 조건이 아닌 단순 조건을 처리할 때 사용\n",
    "* **참일 때 실행할 코드** if **조건** else **거짓일 때 실행할 코드**"
   ]
  },
  {
   "cell_type": "code",
   "execution_count": 24,
   "id": "68ec1f87",
   "metadata": {},
   "outputs": [
    {
     "name": "stdout",
     "output_type": "stream",
     "text": [
      "숫자를 입력하세요3\n",
      "홀수\n"
     ]
    }
   ],
   "source": [
    "# 일반적인 if else문\n",
    "num = int(input(\"숫자를 입력하세요\"))\n",
    "if num % 2 == 0:\n",
    "    print(\"짝수\")\n",
    "else:\n",
    "    print(\"홀수\")"
   ]
  },
  {
   "cell_type": "code",
   "execution_count": 26,
   "id": "0d1a2c88",
   "metadata": {},
   "outputs": [
    {
     "name": "stdout",
     "output_type": "stream",
     "text": [
      "숫자를 입력하세요6\n",
      "짝수\n"
     ]
    }
   ],
   "source": [
    "# 조건 표현식\n",
    "num = int(input(\"숫자를 입력하세요\"))\n",
    "print(\"짝수\") if num % 2 == 0 else print(\"홀수\")"
   ]
  },
  {
   "cell_type": "code",
   "execution_count": null,
   "id": "1a80e4af",
   "metadata": {},
   "outputs": [],
   "source": []
  },
  {
   "cell_type": "code",
   "execution_count": null,
   "id": "7be70005",
   "metadata": {},
   "outputs": [],
   "source": []
  },
  {
   "cell_type": "code",
   "execution_count": null,
   "id": "a7050179",
   "metadata": {},
   "outputs": [],
   "source": []
  }
 ],
 "metadata": {
  "kernelspec": {
   "display_name": "Python 3 (ipykernel)",
   "language": "python",
   "name": "python3"
  },
  "language_info": {
   "codemirror_mode": {
    "name": "ipython",
    "version": 3
   },
   "file_extension": ".py",
   "mimetype": "text/x-python",
   "name": "python",
   "nbconvert_exporter": "python",
   "pygments_lexer": "ipython3",
   "version": "3.9.23"
  }
 },
 "nbformat": 4,
 "nbformat_minor": 5
}
