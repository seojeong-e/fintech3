{
 "cells": [
  {
   "cell_type": "markdown",
   "id": "0b15b79e",
   "metadata": {},
   "source": [
    "<h1>주피터 노트북 사용법</h1>\n",
    "<ul>\n",
    "    <li>코딩모드</li>\n",
    "    <li>메모모드</li>\n",
    "</ul>"
   ]
  },
  {
   "cell_type": "markdown",
   "id": "a52bc970",
   "metadata": {},
   "source": [
    "# \\#은 h1 태그\n",
    "## \\##는 h2 태그\n",
    "### \\###는 h3 태그"
   ]
  },
  {
   "cell_type": "markdown",
   "id": "13366090",
   "metadata": {},
   "source": [
    "# ul은 \\* 로 표시 하위 항목은 들여쓰기 후 *\n",
    "* 목록\n",
    "  * 세부목록1\n",
    "  * 세부목록2\n",
    "  * 세부목록3"
   ]
  },
  {
   "cell_type": "markdown",
   "id": "b40a339a",
   "metadata": {},
   "source": [
    "# 글씨를 굵게 만들기 \\**내용\\**\n",
    "글씨를 **굵게** 만들어 보아요.\n",
    "# 이탤릭체(기울이기) \\*내용\\*\n",
    "글씨를 *기울여* 보아요."
   ]
  },
  {
   "cell_type": "markdown",
   "id": "e76ef12c",
   "metadata": {},
   "source": [
    "# 링크걸기 [링크이름](링크 주소)\n",
    "\n",
    "[네이버링크](https://www.naver.com)"
   ]
  },
  {
   "cell_type": "markdown",
   "id": "dc298329",
   "metadata": {},
   "source": [
    "# 이미지 넣기 \\![이미지설명\\] (이미지 주소)\n",
    "![루피](https://item.kakaocdn.net/do/a1866850b14ae47d0a2fd61f409dfc057154249a3890514a43687a85e6b6cc82)"
   ]
  },
  {
   "attachments": {
    "%EB%8B%A4%EC%9A%B4%EB%A1%9C%EB%93%9C2.png": {
     "image/png": "[encoded data removed]"
    }
   },
   "cell_type": "markdown",
   "id": "62dbf734",
   "metadata": {},
   "source": [
    "![%EB%8B%A4%EC%9A%B4%EB%A1%9C%EB%93%9C2.png](attachment:%EB%8B%A4%EC%9A%B4%EB%A1%9C%EB%93%9C2.png)"
   ]
  },
  {
   "cell_type": "markdown",
   "id": "101ad901",
   "metadata": {},
   "source": [
    "# 수식넣기 \\\\$\\\\$ 수식코드 \\\\$\\\\$\n",
    "\n",
    "$$ { 1 \\over2} $$\n",
    "$ { 1 \\over2} $"
   ]
  },
  {
   "cell_type": "markdown",
   "id": "fb74960d",
   "metadata": {},
   "source": [
    "# 표 만들기 \\|값\\|의미\\|기본값\\| \\|---\\|---\\|---\\|\n",
    "|값|의미|기본값|\n",
    "|---|:---:|---:| \n",
    "|str|문자형 데이터 타입|str|\n",
    "|int|정수형 데이터 타입|0|\n",
    "|float|실수형 데이터 타입|3.14|"
   ]
  },
  {
   "cell_type": "code",
   "execution_count": null,
   "id": "6daa1f6e",
   "metadata": {},
   "outputs": [],
   "source": [
    "1+1"
   ]
  },
  {
   "cell_type": "code",
   "execution_count": 2,
   "id": "6b4abcb3",
   "metadata": {},
   "outputs": [],
   "source": [
    "a = 10"
   ]
  },
  {
   "cell_type": "code",
   "execution_count": 4,
   "id": "63ee0268",
   "metadata": {},
   "outputs": [
    {
     "name": "stdout",
     "output_type": "stream",
     "text": [
      "10\n"
     ]
    }
   ],
   "source": [
    "print(a)"
   ]
  },
  {
   "cell_type": "code",
   "execution_count": 5,
   "id": "972639d6",
   "metadata": {
    "scrolled": true
   },
   "outputs": [
    {
     "data": {
      "text/plain": [
       "10"
      ]
     },
     "execution_count": 5,
     "metadata": {},
     "output_type": "execute_result"
    }
   ],
   "source": [
    "a"
   ]
  },
  {
   "cell_type": "code",
   "execution_count": 6,
   "id": "0960eccc",
   "metadata": {},
   "outputs": [],
   "source": [
    "b = 20"
   ]
  },
  {
   "cell_type": "code",
   "execution_count": 7,
   "id": "4f0000da",
   "metadata": {},
   "outputs": [
    {
     "name": "stdout",
     "output_type": "stream",
     "text": [
      "30\n"
     ]
    }
   ],
   "source": [
    "print(a+b)"
   ]
  },
  {
   "cell_type": "code",
   "execution_count": 9,
   "id": "9f5629aa",
   "metadata": {},
   "outputs": [],
   "source": [
    "c = 30"
   ]
  },
  {
   "cell_type": "code",
   "execution_count": null,
   "id": "24a883c7",
   "metadata": {},
   "outputs": [],
   "source": []
  },
  {
   "cell_type": "code",
   "execution_count": null,
   "id": "275b1ffa",
   "metadata": {},
   "outputs": [],
   "source": []
  },
  {
   "cell_type": "code",
   "execution_count": null,
   "id": "8c7f964e",
   "metadata": {},
   "outputs": [],
   "source": []
  }
 ],
 "metadata": {
  "kernelspec": {
   "display_name": "Python 3 (ipykernel)",
   "language": "python",
   "name": "python3"
  },
  "language_info": {
   "codemirror_mode": {
    "name": "ipython",
    "version": 3
   },
   "file_extension": ".py",
   "mimetype": "text/x-python",
   "name": "python",
   "nbconvert_exporter": "python",
   "pygments_lexer": "ipython3",
   "version": "3.12.11"
  }
 },
 "nbformat": 4,
 "nbformat_minor": 5
}
