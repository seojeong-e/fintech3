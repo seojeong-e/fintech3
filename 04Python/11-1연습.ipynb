{
 "cells": [
  {
   "cell_type": "code",
   "execution_count": 1,
   "id": "673cf319",
   "metadata": {},
   "outputs": [
    {
     "data": {
      "text/plain": [
       "[{'id': 1,\n",
       "  'name': 'Alice',\n",
       "  'address': {'city': 'Seoul', 'zip': '12345'},\n",
       "  'hobbies': ['reading', 'traveling']},\n",
       " {'id': 2,\n",
       "  'name': 'Bob',\n",
       "  'address': {'city': 'Busan', 'zip': '67890'},\n",
       "  'hobbies': ['gaming']}]"
      ]
     },
     "execution_count": 1,
     "metadata": {},
     "output_type": "execute_result"
    }
   ],
   "source": [
    "[\n",
    "    {\n",
    "        \"id\": 1,\n",
    "        \"name\": \"Alice\",\n",
    "        \"address\": {\"city\": \"Seoul\", \"zip\": \"12345\"},\n",
    "        \"hobbies\": [\"reading\", \"traveling\"]\n",
    "    },\n",
    "    {\n",
    "        \"id\": 2,\n",
    "        \"name\": \"Bob\",\n",
    "        \"address\": {\"city\": \"Busan\", \"zip\": \"67890\"},\n",
    "        \"hobbies\": [\"gaming\"]\n",
    "    }\n",
    "]"
   ]
  },
  {
   "cell_type": "code",
   "execution_count": 2,
   "id": "a8cab895",
   "metadata": {},
   "outputs": [
    {
     "name": "stdout",
     "output_type": "stream",
     "text": [
      "[{'id': 1, 'name': 'Alice', 'address': {'city': 'Seoul', 'zip': '12345'}, 'hobbies': ['reading', 'traveling']}, {'id': 2, 'name': 'Bob', 'address': {'city': 'Busan', 'zip': '67890'}, 'hobbies': ['gaming']}]\n"
     ]
    }
   ],
   "source": [
    "import json\n",
    "\n",
    "json_str = '''\n",
    "[\n",
    "    {\"id\": 1, \"name\": \"Alice\", \"address\": {\"city\": \"Seoul\", \"zip\": \"12345\"}, \"hobbies\": [\"reading\", \"traveling\"]},\n",
    "    {\"id\": 2, \"name\": \"Bob\", \"address\": {\"city\": \"Busan\", \"zip\": \"67890\"}, \"hobbies\": [\"gaming\"]}\n",
    "]\n",
    "'''\n",
    "\n",
    "data = json.loads(json_str)\n",
    "print(data)"
   ]
  },
  {
   "cell_type": "markdown",
   "id": "5096fe40",
   "metadata": {},
   "source": [
    "* 중첩 dict 펼치기"
   ]
  },
  {
   "cell_type": "code",
   "execution_count": 4,
   "id": "a34e629c",
   "metadata": {},
   "outputs": [
    {
     "name": "stdout",
     "output_type": "stream",
     "text": [
      "   id   name               hobbies address.city address.zip\n",
      "0   1  Alice  [reading, traveling]        Seoul       12345\n",
      "1   2    Bob              [gaming]        Busan       67890\n"
     ]
    }
   ],
   "source": [
    "import pandas as pd\n",
    "\n",
    "df = pd.json_normalize(data)\n",
    "print(df)"
   ]
  },
  {
   "cell_type": "markdown",
   "id": "63e6e6fc",
   "metadata": {},
   "source": [
    "* 리스트 분리"
   ]
  },
  {
   "cell_type": "code",
   "execution_count": 5,
   "id": "f6a368b1",
   "metadata": {},
   "outputs": [
    {
     "name": "stdout",
     "output_type": "stream",
     "text": [
      "   id   name    hobbies address.city address.zip\n",
      "0   1  Alice    reading        Seoul       12345\n",
      "0   1  Alice  traveling        Seoul       12345\n",
      "1   2    Bob     gaming        Busan       67890\n"
     ]
    }
   ],
   "source": [
    "import pandas as pd\n",
    "\n",
    "df = pd.json_normalize(data)\n",
    "df = df.explode(\"hobbies\")  # 리스트 → 여러 행으로\n",
    "print(df)"
   ]
  },
  {
   "cell_type": "markdown",
   "id": "671abc00",
   "metadata": {},
   "source": [
    "* csv로 저장"
   ]
  },
  {
   "cell_type": "code",
   "execution_count": 6,
   "id": "34d287de",
   "metadata": {},
   "outputs": [
    {
     "data": {
      "text/html": [
       "<div>\n",
       "<style scoped>\n",
       "    .dataframe tbody tr th:only-of-type {\n",
       "        vertical-align: middle;\n",
       "    }\n",
       "\n",
       "    .dataframe tbody tr th {\n",
       "        vertical-align: top;\n",
       "    }\n",
       "\n",
       "    .dataframe thead th {\n",
       "        text-align: right;\n",
       "    }\n",
       "</style>\n",
       "<table border=\"1\" class=\"dataframe\">\n",
       "  <thead>\n",
       "    <tr style=\"text-align: right;\">\n",
       "      <th></th>\n",
       "      <th>id</th>\n",
       "      <th>name</th>\n",
       "      <th>hobbies</th>\n",
       "      <th>address.city</th>\n",
       "      <th>address.zip</th>\n",
       "    </tr>\n",
       "  </thead>\n",
       "  <tbody>\n",
       "    <tr>\n",
       "      <th>0</th>\n",
       "      <td>1</td>\n",
       "      <td>Alice</td>\n",
       "      <td>reading</td>\n",
       "      <td>Seoul</td>\n",
       "      <td>12345</td>\n",
       "    </tr>\n",
       "    <tr>\n",
       "      <th>0</th>\n",
       "      <td>1</td>\n",
       "      <td>Alice</td>\n",
       "      <td>traveling</td>\n",
       "      <td>Seoul</td>\n",
       "      <td>12345</td>\n",
       "    </tr>\n",
       "    <tr>\n",
       "      <th>1</th>\n",
       "      <td>2</td>\n",
       "      <td>Bob</td>\n",
       "      <td>gaming</td>\n",
       "      <td>Busan</td>\n",
       "      <td>67890</td>\n",
       "    </tr>\n",
       "  </tbody>\n",
       "</table>\n",
       "</div>"
      ],
      "text/plain": [
       "   id   name    hobbies address.city address.zip\n",
       "0   1  Alice    reading        Seoul       12345\n",
       "0   1  Alice  traveling        Seoul       12345\n",
       "1   2    Bob     gaming        Busan       67890"
      ]
     },
     "execution_count": 6,
     "metadata": {},
     "output_type": "execute_result"
    }
   ],
   "source": [
    "df.to_csv(\"result.csv\", index=False, encoding=\"utf-8\")\n",
    "df"
   ]
  },
  {
   "cell_type": "code",
   "execution_count": null,
   "id": "ab89343d",
   "metadata": {},
   "outputs": [],
   "source": []
  },
  {
   "cell_type": "code",
   "execution_count": null,
   "id": "6d83889c",
   "metadata": {},
   "outputs": [],
   "source": []
  },
  {
   "cell_type": "code",
   "execution_count": null,
   "id": "232f23f9",
   "metadata": {},
   "outputs": [],
   "source": []
  },
  {
   "cell_type": "code",
   "execution_count": null,
   "id": "4326d45d",
   "metadata": {},
   "outputs": [],
   "source": []
  },
  {
   "cell_type": "code",
   "execution_count": null,
   "id": "85dfb027",
   "metadata": {},
   "outputs": [],
   "source": []
  },
  {
   "cell_type": "code",
   "execution_count": null,
   "id": "b4a4ca95",
   "metadata": {},
   "outputs": [],
   "source": []
  },
  {
   "cell_type": "code",
   "execution_count": null,
   "id": "2c7322b8",
   "metadata": {},
   "outputs": [],
   "source": []
  },
  {
   "cell_type": "code",
   "execution_count": null,
   "id": "9236533e",
   "metadata": {},
   "outputs": [],
   "source": []
  },
  {
   "cell_type": "code",
   "execution_count": null,
   "id": "2a9a0f0c",
   "metadata": {},
   "outputs": [],
   "source": []
  },
  {
   "cell_type": "code",
   "execution_count": null,
   "id": "edfa2668",
   "metadata": {},
   "outputs": [],
   "source": []
  },
  {
   "cell_type": "code",
   "execution_count": null,
   "id": "9585a635",
   "metadata": {},
   "outputs": [],
   "source": []
  },
  {
   "cell_type": "code",
   "execution_count": null,
   "id": "755cf97a",
   "metadata": {},
   "outputs": [],
   "source": []
  },
  {
   "cell_type": "code",
   "execution_count": null,
   "id": "def46eba",
   "metadata": {},
   "outputs": [],
   "source": []
  },
  {
   "cell_type": "code",
   "execution_count": null,
   "id": "44410a3a",
   "metadata": {},
   "outputs": [],
   "source": []
  },
  {
   "cell_type": "code",
   "execution_count": null,
   "id": "2f008aee",
   "metadata": {},
   "outputs": [],
   "source": []
  },
  {
   "cell_type": "code",
   "execution_count": null,
   "id": "c89f12a9",
   "metadata": {},
   "outputs": [],
   "source": []
  }
 ],
 "metadata": {
  "kernelspec": {
   "display_name": "Python 3 (ipykernel)",
   "language": "python",
   "name": "python3"
  },
  "language_info": {
   "codemirror_mode": {
    "name": "ipython",
    "version": 3
   },
   "file_extension": ".py",
   "mimetype": "text/x-python",
   "name": "python",
   "nbconvert_exporter": "python",
   "pygments_lexer": "ipython3",
   "version": "3.9.23"
  }
 },
 "nbformat": 4,
 "nbformat_minor": 5
}
