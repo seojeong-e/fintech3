{
 "cells": [
  {
   "cell_type": "markdown",
   "id": "c5917f04",
   "metadata": {},
   "source": [
    "# numpy\n",
    "* Nemerical Python 과학적, 산업적 연산을 위한 패키지\n",
    "* 다차원 배열, 행렬 연산에 주로 사용\n",
    "* numpy는 python의 list와 비슷한 자료형\n",
    "* 순서가 있는 자료형\n",
    "* 인덱싱, 슬라이싱 가능\n",
    "* 반복문에 넣어서 한개씩 꺼내는 것도 가능 \n",
    "* 파이썬 list와의 차이점은 자료형이 1개만 들어간다는 점이 다르다. "
   ]
  },
  {
   "cell_type": "markdown",
   "id": "6cc6d280",
   "metadata": {},
   "source": [
    "# 차원\n",
    "* 0차원 = 점 . 스칼라 a = 10\n",
    "* 1차원 = 선 ------- 벡터, 배열, list, tuple\n",
    "  * 벡터(vector): 방향을 가진 데이터 \n",
    "  * 행벡터: 행이 1개인 벡터 [1,2,3,4]\n",
    "  * 열벡터: 열이 1개인 벡터<br> \n",
    "            [[1],<br>\n",
    "             [2],<br>\n",
    "             [3],<br>\n",
    "             [4]]\n",
    "* 2차원 = 면, 가로, 세로, DB테이블, excel의 sheet, 행렬, DataFrame, matrix\n",
    "* 3차원 = 입체, 가로, 세로, 깊이, 정육면체, 주사위\n",
    "* 4차원 = 3차원 요소가 2개 이상 묶여 있는 상태\n",
    "* 5차원 = 4차원 요소가 2개 이상 묶여 있는 상태 "
   ]
  },
  {
   "cell_type": "markdown",
   "id": "775b46dc",
   "metadata": {},
   "source": [
    "* 2차원 데이터가 여러개 묶여있는 게 3차원 \n",
    "* 3차원 // 4차원 "
   ]
  },
  {
   "cell_type": "code",
   "execution_count": 1,
   "id": "4a03e70d",
   "metadata": {},
   "outputs": [],
   "source": [
    "import pandas as pd\n",
    "import numpy as np"
   ]
  },
  {
   "cell_type": "code",
   "execution_count": 2,
   "id": "741c44c8",
   "metadata": {},
   "outputs": [
    {
     "data": {
      "text/plain": [
       "array([1, 2, 3, 4, 5])"
      ]
     },
     "execution_count": 2,
     "metadata": {},
     "output_type": "execute_result"
    }
   ],
   "source": [
    "#numpy의 기본 자료형 nd.array\n",
    "a = np.array([1,2,3,4,5])\n",
    "a"
   ]
  },
  {
   "cell_type": "code",
   "execution_count": 3,
   "id": "5bc8e34e",
   "metadata": {},
   "outputs": [
    {
     "data": {
      "text/plain": [
       "np.int64(1)"
      ]
     },
     "execution_count": 3,
     "metadata": {},
     "output_type": "execute_result"
    }
   ],
   "source": [
    "a[0]"
   ]
  },
  {
   "cell_type": "code",
   "execution_count": 5,
   "id": "90e5d586",
   "metadata": {},
   "outputs": [
    {
     "name": "stdout",
     "output_type": "stream",
     "text": [
      "5\n"
     ]
    }
   ],
   "source": [
    "print(a[-1])"
   ]
  },
  {
   "cell_type": "code",
   "execution_count": 6,
   "id": "a21a5c38",
   "metadata": {},
   "outputs": [
    {
     "name": "stdout",
     "output_type": "stream",
     "text": [
      "[1 2 3]\n"
     ]
    }
   ],
   "source": [
    "print(a[:3])"
   ]
  },
  {
   "cell_type": "markdown",
   "id": "a5890ba1",
   "metadata": {},
   "source": [
    "* 차원을 출력하는 메서드 .ndim\n",
    "* 차원의 형태를 출력하는 메서드 .shape"
   ]
  },
  {
   "cell_type": "code",
   "execution_count": 7,
   "id": "ad2ff0e0",
   "metadata": {},
   "outputs": [],
   "source": [
    "# 스칼라, 0차원,\n",
    "s = 10"
   ]
  },
  {
   "cell_type": "code",
   "execution_count": 8,
   "id": "6d36335f",
   "metadata": {},
   "outputs": [
    {
     "ename": "AttributeError",
     "evalue": "'int' object has no attribute 'ndim'",
     "output_type": "error",
     "traceback": [
      "\u001b[1;31m---------------------------------------------------------------------------\u001b[0m",
      "\u001b[1;31mAttributeError\u001b[0m                            Traceback (most recent call last)",
      "Cell \u001b[1;32mIn[8], line 1\u001b[0m\n\u001b[1;32m----> 1\u001b[0m \u001b[43ms\u001b[49m\u001b[38;5;241;43m.\u001b[39;49m\u001b[43mndim\u001b[49m\n",
      "\u001b[1;31mAttributeError\u001b[0m: 'int' object has no attribute 'ndim'"
     ]
    }
   ],
   "source": [
    "s.ndim"
   ]
  },
  {
   "cell_type": "code",
   "execution_count": 10,
   "id": "092ce6cc",
   "metadata": {},
   "outputs": [
    {
     "data": {
      "text/plain": [
       "1"
      ]
     },
     "execution_count": 10,
     "metadata": {},
     "output_type": "execute_result"
    }
   ],
   "source": [
    "# a는 방향이 없는 벡터이므로 1차원\n",
    "a.ndim"
   ]
  },
  {
   "cell_type": "code",
   "execution_count": 12,
   "id": "dd6efa06",
   "metadata": {},
   "outputs": [
    {
     "data": {
      "text/plain": [
       "(5,)"
      ]
     },
     "execution_count": 12,
     "metadata": {},
     "output_type": "execute_result"
    }
   ],
   "source": [
    "# 데이터가 5개 있는 방향 없는 벡터\n",
    "a.shape"
   ]
  },
  {
   "cell_type": "code",
   "execution_count": 13,
   "id": "9e72bd8f",
   "metadata": {},
   "outputs": [
    {
     "data": {
      "text/plain": [
       "array([[1],\n",
       "       [2],\n",
       "       [3],\n",
       "       [4],\n",
       "       [5]])"
      ]
     },
     "execution_count": 13,
     "metadata": {},
     "output_type": "execute_result"
    }
   ],
   "source": [
    "# 세로로 방향을 가진 열벡터\n",
    "a2 = np.array([[1],[2],[3],[4],[5]])\n",
    "a2"
   ]
  },
  {
   "cell_type": "code",
   "execution_count": 14,
   "id": "354d67eb",
   "metadata": {},
   "outputs": [
    {
     "name": "stdout",
     "output_type": "stream",
     "text": [
      "2\n",
      "(5, 1)\n"
     ]
    }
   ],
   "source": [
    "print(a2.ndim)\n",
    "print(a2.shape)"
   ]
  },
  {
   "cell_type": "code",
   "execution_count": 16,
   "id": "94c910c8",
   "metadata": {},
   "outputs": [
    {
     "name": "stdout",
     "output_type": "stream",
     "text": [
      "2\n",
      "(1, 5)\n"
     ]
    }
   ],
   "source": [
    "# 행벡터 2차원 행이 1개인 벡터 \n",
    "a3 = np.array([[1,2,3,4,5]])\n",
    "print(a3.ndim)\n",
    "print(a3.shape)"
   ]
  },
  {
   "cell_type": "code",
   "execution_count": 18,
   "id": "97ab2ca5",
   "metadata": {},
   "outputs": [
    {
     "data": {
      "text/plain": [
       "array([[ 1,  2,  3,  4,  5],\n",
       "       [ 6,  7,  8,  9, 10]])"
      ]
     },
     "execution_count": 18,
     "metadata": {},
     "output_type": "execute_result"
    }
   ],
   "source": [
    "# 2차원 데이터 matrix, dataframe\n",
    "c = np.array([[1,2,3,4,5],[6,7,8,9,10]])\n",
    "c"
   ]
  },
  {
   "cell_type": "code",
   "execution_count": 19,
   "id": "7a92ab37",
   "metadata": {},
   "outputs": [
    {
     "name": "stdout",
     "output_type": "stream",
     "text": [
      "2\n",
      "(2, 5)\n"
     ]
    }
   ],
   "source": [
    "print(c.ndim)\n",
    "print(c.shape)"
   ]
  },
  {
   "cell_type": "code",
   "execution_count": 22,
   "id": "69d98827",
   "metadata": {},
   "outputs": [
    {
     "data": {
      "text/plain": [
       "array([[[ 1,  2,  3,  4,  5],\n",
       "        [ 6,  7,  8,  9, 10]],\n",
       "\n",
       "       [[ 1,  2,  3,  4,  5],\n",
       "        [ 6,  7,  8,  9, 10]]])"
      ]
     },
     "execution_count": 22,
     "metadata": {},
     "output_type": "execute_result"
    }
   ],
   "source": [
    "# 3차원 데이터\n",
    "d = np.array([[[1,2,3,4,5],[6,7,8,9,10]],[[1,2,3,4,5],[6,7,8,9,10]]])\n",
    "d"
   ]
  },
  {
   "cell_type": "code",
   "execution_count": 21,
   "id": "2a36ceef",
   "metadata": {},
   "outputs": [
    {
     "name": "stdout",
     "output_type": "stream",
     "text": [
      "3\n",
      "(2, 2, 5)\n"
     ]
    }
   ],
   "source": [
    "print(d.ndim)\n",
    "print(d.shape)\n",
    "# 뒤에 있는 게 무조건 행과 열! (2행 5열짜리 2개 있다는 의미)"
   ]
  },
  {
   "cell_type": "code",
   "execution_count": 23,
   "id": "d07af1b6",
   "metadata": {},
   "outputs": [
    {
     "data": {
      "text/plain": [
       "array([[[[ 1,  2,  3,  4,  5],\n",
       "         [ 6,  7,  8,  9, 10]],\n",
       "\n",
       "        [[ 1,  2,  3,  4,  5],\n",
       "         [ 6,  7,  8,  9, 10]],\n",
       "\n",
       "        [[ 1,  2,  3,  4,  5],\n",
       "         [ 6,  7,  8,  9, 10]]],\n",
       "\n",
       "\n",
       "       [[[ 1,  2,  3,  4,  5],\n",
       "         [ 6,  7,  8,  9, 10]],\n",
       "\n",
       "        [[ 1,  2,  3,  4,  5],\n",
       "         [ 6,  7,  8,  9, 10]],\n",
       "\n",
       "        [[ 1,  2,  3,  4,  5],\n",
       "         [ 6,  7,  8,  9, 10]]]])"
      ]
     },
     "execution_count": 23,
     "metadata": {},
     "output_type": "execute_result"
    }
   ],
   "source": [
    "# 4차원 데이터\n",
    "e = np.array([[[[1,2,3,4,5],[6,7,8,9,10]],[[1,2,3,4,5],[6,7,8,9,10]],[[1,2,3,4,5],[6,7,8,9,10]]],[[[1,2,3,4,5],[6,7,8,9,10]],[[1,2,3,4,5],[6,7,8,9,10]],[[1,2,3,4,5],[6,7,8,9,10]]]])\n",
    "e"
   ]
  },
  {
   "cell_type": "code",
   "execution_count": 24,
   "id": "f539cc6c",
   "metadata": {},
   "outputs": [
    {
     "name": "stdout",
     "output_type": "stream",
     "text": [
      "4\n",
      "(2, 3, 2, 5)\n"
     ]
    }
   ],
   "source": [
    "print(e.ndim)\n",
    "print(e.shape)"
   ]
  },
  {
   "cell_type": "code",
   "execution_count": 25,
   "id": "68fd6943",
   "metadata": {},
   "outputs": [
    {
     "data": {
      "text/plain": [
       "array([[[[[ 1,  2,  3,  4,  5],\n",
       "          [ 6,  7,  8,  9, 10]],\n",
       "\n",
       "         [[ 1,  2,  3,  4,  5],\n",
       "          [ 6,  7,  8,  9, 10]],\n",
       "\n",
       "         [[ 1,  2,  3,  4,  5],\n",
       "          [ 6,  7,  8,  9, 10]]],\n",
       "\n",
       "\n",
       "        [[[ 1,  2,  3,  4,  5],\n",
       "          [ 6,  7,  8,  9, 10]],\n",
       "\n",
       "         [[ 1,  2,  3,  4,  5],\n",
       "          [ 6,  7,  8,  9, 10]],\n",
       "\n",
       "         [[ 1,  2,  3,  4,  5],\n",
       "          [ 6,  7,  8,  9, 10]]]],\n",
       "\n",
       "\n",
       "\n",
       "       [[[[ 1,  2,  3,  4,  5],\n",
       "          [ 6,  7,  8,  9, 10]],\n",
       "\n",
       "         [[ 1,  2,  3,  4,  5],\n",
       "          [ 6,  7,  8,  9, 10]],\n",
       "\n",
       "         [[ 1,  2,  3,  4,  5],\n",
       "          [ 6,  7,  8,  9, 10]]],\n",
       "\n",
       "\n",
       "        [[[ 1,  2,  3,  4,  5],\n",
       "          [ 6,  7,  8,  9, 10]],\n",
       "\n",
       "         [[ 1,  2,  3,  4,  5],\n",
       "          [ 6,  7,  8,  9, 10]],\n",
       "\n",
       "         [[ 1,  2,  3,  4,  5],\n",
       "          [ 6,  7,  8,  9, 10]]]]])"
      ]
     },
     "execution_count": 25,
     "metadata": {},
     "output_type": "execute_result"
    }
   ],
   "source": [
    "# 5차원 데이터\n",
    "f = np.array([[[[[1,2,3,4,5],[6,7,8,9,10]],[[1,2,3,4,5],[6,7,8,9,10]],[[1,2,3,4,5],[6,7,8,9,10]]],[[[1,2,3,4,5],[6,7,8,9,10]],[[1,2,3,4,5],[6,7,8,9,10]],[[1,2,3,4,5],[6,7,8,9,10]]]],[[[[1,2,3,4,5],[6,7,8,9,10]],[[1,2,3,4,5],[6,7,8,9,10]],[[1,2,3,4,5],[6,7,8,9,10]]],[[[1,2,3,4,5],[6,7,8,9,10]],[[1,2,3,4,5],[6,7,8,9,10]],[[1,2,3,4,5],[6,7,8,9,10]]]]])\n",
    "f"
   ]
  },
  {
   "cell_type": "code",
   "execution_count": 26,
   "id": "e5678d08",
   "metadata": {},
   "outputs": [
    {
     "name": "stdout",
     "output_type": "stream",
     "text": [
      "5\n",
      "(2, 2, 3, 2, 5)\n"
     ]
    }
   ],
   "source": [
    "print(f.ndim)\n",
    "print(f.shape)"
   ]
  },
  {
   "cell_type": "markdown",
   "id": "98a3ab25",
   "metadata": {},
   "source": [
    "# numpy를 사용하는 이유\n",
    "* 행렬 연산이 쉽고 빠르기 때문"
   ]
  },
  {
   "cell_type": "code",
   "execution_count": 27,
   "id": "f6d0d894",
   "metadata": {},
   "outputs": [
    {
     "name": "stdout",
     "output_type": "stream",
     "text": [
      "15\n"
     ]
    }
   ],
   "source": [
    "# 스칼라 연산\n",
    "a = 10\n",
    "b = 5\n",
    "scalar = a + b\n",
    "print(scalar)"
   ]
  },
  {
   "cell_type": "code",
   "execution_count": 28,
   "id": "774c2c92",
   "metadata": {},
   "outputs": [],
   "source": [
    "# 1차원 벡터 데이터의 연산 \n",
    "b1 = [1,2,3,4,5]"
   ]
  },
  {
   "cell_type": "code",
   "execution_count": 29,
   "id": "e6c139f8",
   "metadata": {},
   "outputs": [
    {
     "data": {
      "text/plain": [
       "[10, 20, 30, 40, 50]"
      ]
     },
     "execution_count": 29,
     "metadata": {},
     "output_type": "execute_result"
    }
   ],
   "source": [
    "# b1의 모든 요소에 10을 곱한 후 다시 리스트로 만드세요\n",
    "result = []\n",
    "for num in b1:\n",
    "    result.append(num*10)\n",
    "result"
   ]
  },
  {
   "cell_type": "code",
   "execution_count": 30,
   "id": "1ba96ca3",
   "metadata": {},
   "outputs": [
    {
     "data": {
      "text/plain": [
       "[10, 20, 30, 40, 50]"
      ]
     },
     "execution_count": 30,
     "metadata": {},
     "output_type": "execute_result"
    }
   ],
   "source": [
    "result2 = [num*10 for num in b1]\n",
    "result2"
   ]
  },
  {
   "cell_type": "code",
   "execution_count": 33,
   "id": "fb66ed0e",
   "metadata": {},
   "outputs": [
    {
     "data": {
      "text/plain": [
       "array([[10],\n",
       "       [20],\n",
       "       [30],\n",
       "       [40],\n",
       "       [50]])"
      ]
     },
     "execution_count": 33,
     "metadata": {},
     "output_type": "execute_result"
    }
   ],
   "source": [
    "a2 * 10"
   ]
  },
  {
   "cell_type": "code",
   "execution_count": 35,
   "id": "e7fdd711",
   "metadata": {
    "scrolled": true
   },
   "outputs": [
    {
     "data": {
      "text/plain": [
       "array([[10, 20, 30, 40, 50]])"
      ]
     },
     "execution_count": 35,
     "metadata": {},
     "output_type": "execute_result"
    }
   ],
   "source": [
    "a3 * 10"
   ]
  },
  {
   "cell_type": "code",
   "execution_count": 42,
   "id": "abb88ca5",
   "metadata": {},
   "outputs": [
    {
     "data": {
      "text/plain": [
       "(2, 5)"
      ]
     },
     "execution_count": 42,
     "metadata": {},
     "output_type": "execute_result"
    }
   ],
   "source": [
    "c.shape"
   ]
  },
  {
   "cell_type": "code",
   "execution_count": 50,
   "id": "1842ea8d",
   "metadata": {},
   "outputs": [
    {
     "data": {
      "text/plain": [
       "[[np.int64(10), np.int64(20), np.int64(30), np.int64(40), np.int64(50)],\n",
       " [np.int64(60), np.int64(70), np.int64(80), np.int64(90), np.int64(100)]]"
      ]
     },
     "execution_count": 50,
     "metadata": {},
     "output_type": "execute_result"
    }
   ],
   "source": [
    "result = []\n",
    "for num1 in c:\n",
    "    temp = []\n",
    "    for num2 in num1:\n",
    "        temp.append(num2*10)\n",
    "    result.append(temp)\n",
    "result"
   ]
  },
  {
   "cell_type": "code",
   "execution_count": 48,
   "id": "29de8ffc",
   "metadata": {},
   "outputs": [
    {
     "data": {
      "text/plain": [
       "(5,)"
      ]
     },
     "execution_count": 48,
     "metadata": {},
     "output_type": "execute_result"
    }
   ],
   "source": [
    "np.array(result).shape"
   ]
  },
  {
   "cell_type": "code",
   "execution_count": 46,
   "id": "e9c368b1",
   "metadata": {},
   "outputs": [
    {
     "data": {
      "text/plain": [
       "array([[ 10,  20,  30,  40,  50],\n",
       "       [ 60,  70,  80,  90, 100]])"
      ]
     },
     "execution_count": 46,
     "metadata": {},
     "output_type": "execute_result"
    }
   ],
   "source": [
    "c * 10"
   ]
  },
  {
   "cell_type": "code",
   "execution_count": 47,
   "id": "029f44c3",
   "metadata": {},
   "outputs": [
    {
     "data": {
      "text/plain": [
       "array([[[ 10,  20,  30,  40,  50],\n",
       "        [ 60,  70,  80,  90, 100]],\n",
       "\n",
       "       [[ 10,  20,  30,  40,  50],\n",
       "        [ 60,  70,  80,  90, 100]]])"
      ]
     },
     "execution_count": 47,
     "metadata": {},
     "output_type": "execute_result"
    }
   ],
   "source": [
    "d * 10"
   ]
  },
  {
   "cell_type": "code",
   "execution_count": 51,
   "id": "5a55c301",
   "metadata": {},
   "outputs": [
    {
     "data": {
      "text/plain": [
       "(2, 2, 5)"
      ]
     },
     "execution_count": 51,
     "metadata": {},
     "output_type": "execute_result"
    }
   ],
   "source": [
    "d.shape"
   ]
  },
  {
   "cell_type": "code",
   "execution_count": null,
   "id": "fb3d4712",
   "metadata": {},
   "outputs": [],
   "source": []
  },
  {
   "cell_type": "code",
   "execution_count": null,
   "id": "d2e46343",
   "metadata": {},
   "outputs": [],
   "source": []
  },
  {
   "cell_type": "code",
   "execution_count": null,
   "id": "453089d5",
   "metadata": {},
   "outputs": [],
   "source": []
  },
  {
   "cell_type": "code",
   "execution_count": null,
   "id": "473e39a3",
   "metadata": {},
   "outputs": [],
   "source": []
  },
  {
   "cell_type": "code",
   "execution_count": null,
   "id": "f4ad2e55",
   "metadata": {},
   "outputs": [],
   "source": []
  },
  {
   "cell_type": "code",
   "execution_count": null,
   "id": "b6d0f481",
   "metadata": {},
   "outputs": [],
   "source": []
  },
  {
   "cell_type": "code",
   "execution_count": null,
   "id": "1055e366",
   "metadata": {},
   "outputs": [],
   "source": []
  },
  {
   "cell_type": "code",
   "execution_count": null,
   "id": "1035696f",
   "metadata": {},
   "outputs": [],
   "source": []
  },
  {
   "cell_type": "code",
   "execution_count": null,
   "id": "4a49c729",
   "metadata": {},
   "outputs": [],
   "source": []
  },
  {
   "cell_type": "code",
   "execution_count": null,
   "id": "19ac42a2",
   "metadata": {},
   "outputs": [],
   "source": []
  },
  {
   "cell_type": "code",
   "execution_count": null,
   "id": "ca21bd8e",
   "metadata": {},
   "outputs": [],
   "source": []
  },
  {
   "cell_type": "code",
   "execution_count": null,
   "id": "245d3b57",
   "metadata": {},
   "outputs": [],
   "source": []
  },
  {
   "cell_type": "code",
   "execution_count": null,
   "id": "2c7a9e0d",
   "metadata": {},
   "outputs": [],
   "source": []
  }
 ],
 "metadata": {
  "kernelspec": {
   "display_name": "Python 3 (ipykernel)",
   "language": "python",
   "name": "python3"
  },
  "language_info": {
   "codemirror_mode": {
    "name": "ipython",
    "version": 3
   },
   "file_extension": ".py",
   "mimetype": "text/x-python",
   "name": "python",
   "nbconvert_exporter": "python",
   "pygments_lexer": "ipython3",
   "version": "3.9.23"
  }
 },
 "nbformat": 4,
 "nbformat_minor": 5
}
