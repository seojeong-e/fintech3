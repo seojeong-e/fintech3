{
 "cells": [
  {
   "cell_type": "code",
   "execution_count": 15,
   "id": "0faa184d",
   "metadata": {},
   "outputs": [],
   "source": [
    "import time\n",
    "import requests\n",
    "import pandas as pd\n",
    "from io import StringIO\n",
    "from datetime import datetime, timedelta\n",
    "from bs4 import BeautifulSoup as bs\n",
    "from sqlalchemy import create_engine, text\n",
    "import pymysql\n",
    "pymysql.install_as_MySQLdb()\n",
    "from dbio import to_db, db_connect"
   ]
  },
  {
   "cell_type": "code",
   "execution_count": 2,
   "id": "261735f4",
   "metadata": {},
   "outputs": [],
   "source": [
    "def new_cols(df):\n",
    "    new_cols = []\n",
    "    for col in df.columns:\n",
    "    #    print(col)\n",
    "        if col[0] == col[1] == col[2]:\n",
    "            new_cols.append(col[0].replace(\" \", \"_\"))\n",
    "    #        print(col[0])\n",
    "        elif col[0] != col[1] != col[2]:\n",
    "            new_cols.append(\"_\".join(col).replace(\" \", \"_\"))\n",
    "        else:\n",
    "            new_cols.append(\"_\".join(col[:2]).replace(\" \", \"_\"))\n",
    "    return new_cols"
   ]
  },
  {
   "cell_type": "markdown",
   "id": "b19285e4",
   "metadata": {},
   "source": [
    "# 날짜 계산해서 하루 전 날짜로 만들기"
   ]
  },
  {
   "cell_type": "code",
   "execution_count": 6,
   "id": "216d6dab",
   "metadata": {},
   "outputs": [
    {
     "data": {
      "text/plain": [
       "datetime.datetime(2025, 10, 22, 13, 9, 5, 563589)"
      ]
     },
     "execution_count": 6,
     "metadata": {},
     "output_type": "execute_result"
    }
   ],
   "source": [
    "datetime.today() - timedelta(days=1)"
   ]
  },
  {
   "cell_type": "code",
   "execution_count": 7,
   "id": "0afcb35f",
   "metadata": {},
   "outputs": [
    {
     "name": "stdout",
     "output_type": "stream",
     "text": [
      "2025-10-22 20251022\n"
     ]
    }
   ],
   "source": [
    "yesterday = datetime.today()- timedelta(days=1)\n",
    "date1 = f\"{yesterday.date()}\"\n",
    "date2 = date1.replace(\"-\", \"\")\n",
    "print(date1, date2)"
   ]
  },
  {
   "cell_type": "code",
   "execution_count": 17,
   "id": "eb980882",
   "metadata": {},
   "outputs": [
    {
     "name": "stdout",
     "output_type": "stream",
     "text": [
      "200\n",
      "ex_rate 데이터베이스 확인/생성 완료\n",
      "2025-10-22 환율 정보가 이미 DB에 있습니다.\n"
     ]
    }
   ],
   "source": [
    "url = \"https://www.kebhana.com/cms/rate/wpfxd651_01i_01.do\"\n",
    "payload = dict(ajax=\"true\",tmpInqStrDt=date1 ,pbldDvCd=3,inqStrDt=date2,inqKindCd=1,requestTarget=\"searchContentDiv\")\n",
    "r = requests.post(url, data=payload)\n",
    "print(r.status_code)\n",
    "df = pd.read_html(StringIO(r.text))\n",
    "df = df[0]\n",
    "df.columns = new_cols(df)\n",
    "df.insert(0, \"날짜\", date1)\n",
    "\n",
    "#DB에 수집하는 날짜의 데이터가 있는지 확인\n",
    "conn = db_connect(\"ex_rate\")\n",
    "try:\n",
    "    conn.execute(text(f\"select * from ex_rate where `날짜`={date1}\"))\n",
    "    print(f\"{date1} 환율 정보가 이미 DB에 있습니다.\")\n",
    "    conn.close()\n",
    "except:\n",
    "    print(f\"{date1} 환율 정보가 DB에 없으므로 수집합니다.\")\n",
    "    to_db(\"ex_rate\", \"ex_rate\", df)\n",
    "    \n"
   ]
  },
  {
   "cell_type": "code",
   "execution_count": null,
   "id": "1dbb46d8",
   "metadata": {},
   "outputs": [],
   "source": []
  },
  {
   "cell_type": "code",
   "execution_count": null,
   "id": "c7db4874",
   "metadata": {},
   "outputs": [],
   "source": []
  },
  {
   "cell_type": "code",
   "execution_count": null,
   "id": "826d67e9",
   "metadata": {},
   "outputs": [],
   "source": []
  },
  {
   "cell_type": "code",
   "execution_count": null,
   "id": "4e42107f",
   "metadata": {},
   "outputs": [],
   "source": []
  },
  {
   "cell_type": "code",
   "execution_count": null,
   "id": "5467d92e",
   "metadata": {},
   "outputs": [],
   "source": []
  },
  {
   "cell_type": "code",
   "execution_count": null,
   "id": "35271cad",
   "metadata": {},
   "outputs": [],
   "source": []
  },
  {
   "cell_type": "code",
   "execution_count": null,
   "id": "f2c2f6f3",
   "metadata": {},
   "outputs": [],
   "source": []
  },
  {
   "cell_type": "code",
   "execution_count": null,
   "id": "6d24a9d4",
   "metadata": {},
   "outputs": [],
   "source": []
  },
  {
   "cell_type": "code",
   "execution_count": null,
   "id": "440e143c",
   "metadata": {},
   "outputs": [],
   "source": []
  },
  {
   "cell_type": "code",
   "execution_count": null,
   "id": "b463592e",
   "metadata": {},
   "outputs": [],
   "source": []
  },
  {
   "cell_type": "code",
   "execution_count": null,
   "id": "01451e12",
   "metadata": {},
   "outputs": [],
   "source": []
  },
  {
   "cell_type": "code",
   "execution_count": null,
   "id": "2aafde6a",
   "metadata": {},
   "outputs": [],
   "source": []
  },
  {
   "cell_type": "code",
   "execution_count": null,
   "id": "42a44865",
   "metadata": {},
   "outputs": [],
   "source": []
  },
  {
   "cell_type": "code",
   "execution_count": null,
   "id": "ad12f992",
   "metadata": {},
   "outputs": [],
   "source": []
  },
  {
   "cell_type": "code",
   "execution_count": null,
   "id": "bf373921",
   "metadata": {},
   "outputs": [],
   "source": []
  },
  {
   "cell_type": "code",
   "execution_count": null,
   "id": "4c082014",
   "metadata": {},
   "outputs": [],
   "source": []
  },
  {
   "cell_type": "code",
   "execution_count": null,
   "id": "6ada3c1e",
   "metadata": {},
   "outputs": [],
   "source": []
  },
  {
   "cell_type": "code",
   "execution_count": null,
   "id": "c8e764c1",
   "metadata": {},
   "outputs": [],
   "source": []
  },
  {
   "cell_type": "code",
   "execution_count": null,
   "id": "25d62d11",
   "metadata": {},
   "outputs": [],
   "source": []
  },
  {
   "cell_type": "code",
   "execution_count": null,
   "id": "a610815e",
   "metadata": {},
   "outputs": [],
   "source": []
  },
  {
   "cell_type": "code",
   "execution_count": null,
   "id": "eb71e277",
   "metadata": {},
   "outputs": [],
   "source": []
  },
  {
   "cell_type": "code",
   "execution_count": null,
   "id": "331ac40a",
   "metadata": {},
   "outputs": [],
   "source": []
  },
  {
   "cell_type": "code",
   "execution_count": null,
   "id": "81596bb2",
   "metadata": {},
   "outputs": [],
   "source": []
  },
  {
   "cell_type": "code",
   "execution_count": null,
   "id": "806e824f",
   "metadata": {},
   "outputs": [],
   "source": []
  },
  {
   "cell_type": "code",
   "execution_count": null,
   "id": "0c324963",
   "metadata": {},
   "outputs": [],
   "source": []
  }
 ],
 "metadata": {
  "kernelspec": {
   "display_name": "Python 3 (ipykernel)",
   "language": "python",
   "name": "python3"
  },
  "language_info": {
   "codemirror_mode": {
    "name": "ipython",
    "version": 3
   },
   "file_extension": ".py",
   "mimetype": "text/x-python",
   "name": "python",
   "nbconvert_exporter": "python",
   "pygments_lexer": "ipython3",
   "version": "3.9.23"
  }
 },
 "nbformat": 4,
 "nbformat_minor": 5
}
